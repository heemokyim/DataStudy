{
 "cells": [
  {
   "cell_type": "code",
   "execution_count": 1,
   "metadata": {},
   "outputs": [],
   "source": [
    "import pandas as pd"
   ]
  },
  {
   "cell_type": "code",
   "execution_count": 2,
   "metadata": {},
   "outputs": [],
   "source": [
    "import seaborn as sns"
   ]
  },
  {
   "cell_type": "code",
   "execution_count": 3,
   "metadata": {
    "scrolled": true
   },
   "outputs": [
    {
     "name": "stdout",
     "output_type": "stream",
     "text": [
      "Collecting pdvega\n",
      "  Downloading https://files.pythonhosted.org/packages/bb/bb/2acbc171c84a7444bef1c0fe0fad1c968e485223375bca2b951624413032/pdvega-0.1.tar.gz (53kB)\n",
      "Requirement already satisfied: pandas in c:\\users\\kyungyk\\anaconda3\\lib\\site-packages (from pdvega) (0.23.0)\n",
      "Collecting vega3 (from pdvega)\n",
      "  Downloading https://files.pythonhosted.org/packages/8d/30/d011df054b12b2658da03f8c5c6cf9e34815935a3046e49ac1174fc43c2c/vega3-0.13.0.tar.gz (1.5MB)\n",
      "Requirement already satisfied: ipython in c:\\users\\kyungyk\\anaconda3\\lib\\site-packages (from pdvega) (6.4.0)\n",
      "Requirement already satisfied: numpy>=1.9.0 in c:\\users\\kyungyk\\anaconda3\\lib\\site-packages (from pandas->pdvega) (1.14.3)\n",
      "Requirement already satisfied: pytz>=2011k in c:\\users\\kyungyk\\anaconda3\\lib\\site-packages (from pandas->pdvega) (2018.4)\n",
      "Requirement already satisfied: python-dateutil>=2.5.0 in c:\\users\\kyungyk\\anaconda3\\lib\\site-packages (from pandas->pdvega) (2.7.3)\n",
      "Requirement already satisfied: backcall in c:\\users\\kyungyk\\anaconda3\\lib\\site-packages (from ipython->pdvega) (0.1.0)\n",
      "Requirement already satisfied: jedi>=0.10 in c:\\users\\kyungyk\\anaconda3\\lib\\site-packages (from ipython->pdvega) (0.12.0)\n",
      "Requirement already satisfied: setuptools>=18.5 in c:\\users\\kyungyk\\anaconda3\\lib\\site-packages (from ipython->pdvega) (39.1.0)\n",
      "Requirement already satisfied: traitlets>=4.2 in c:\\users\\kyungyk\\anaconda3\\lib\\site-packages (from ipython->pdvega) (4.3.2)\n",
      "Requirement already satisfied: simplegeneric>0.8 in c:\\users\\kyungyk\\anaconda3\\lib\\site-packages (from ipython->pdvega) (0.8.1)\n",
      "Requirement already satisfied: pickleshare in c:\\users\\kyungyk\\anaconda3\\lib\\site-packages (from ipython->pdvega) (0.7.4)\n",
      "Requirement already satisfied: pygments in c:\\users\\kyungyk\\anaconda3\\lib\\site-packages (from ipython->pdvega) (2.2.0)\n",
      "Requirement already satisfied: prompt-toolkit<2.0.0,>=1.0.15 in c:\\users\\kyungyk\\anaconda3\\lib\\site-packages (from ipython->pdvega) (1.0.15)\n",
      "Requirement already satisfied: colorama; sys_platform == \"win32\" in c:\\users\\kyungyk\\anaconda3\\lib\\site-packages (from ipython->pdvega) (0.3.9)\n",
      "Requirement already satisfied: decorator in c:\\users\\kyungyk\\anaconda3\\lib\\site-packages (from ipython->pdvega) (4.3.0)\n",
      "Requirement already satisfied: six>=1.5 in c:\\users\\kyungyk\\anaconda3\\lib\\site-packages (from python-dateutil>=2.5.0->pandas->pdvega) (1.11.0)\n",
      "Requirement already satisfied: parso>=0.2.0 in c:\\users\\kyungyk\\anaconda3\\lib\\site-packages (from jedi>=0.10->ipython->pdvega) (0.2.0)\n",
      "Requirement already satisfied: ipython_genutils in c:\\users\\kyungyk\\anaconda3\\lib\\site-packages (from traitlets>=4.2->ipython->pdvega) (0.2.0)\n",
      "Requirement already satisfied: wcwidth in c:\\users\\kyungyk\\anaconda3\\lib\\site-packages (from prompt-toolkit<2.0.0,>=1.0.15->ipython->pdvega) (0.1.7)\n",
      "Building wheels for collected packages: pdvega, vega3\n",
      "  Running setup.py bdist_wheel for pdvega: started\n",
      "  Running setup.py bdist_wheel for pdvega: finished with status 'done'\n",
      "  Stored in directory: C:\\Users\\Kyungyk\\AppData\\Local\\pip\\Cache\\wheels\\64\\67\\6c\\3faafbf516d2bdfab7b3efc6e5db7dcf8dce060ea9da8fbe62\n",
      "  Running setup.py bdist_wheel for vega3: started\n",
      "  Running setup.py bdist_wheel for vega3: finished with status 'done'\n",
      "  Stored in directory: C:\\Users\\Kyungyk\\AppData\\Local\\pip\\Cache\\wheels\\bb\\d1\\fa\\c1f13e071650f6dd9c6b986b7ee4d19dbfc7bc32a902593d39\n",
      "Successfully built pdvega vega3\n",
      "Installing collected packages: vega3, pdvega\n",
      "Successfully installed pdvega-0.1 vega3-0.13.0\n"
     ]
    }
   ],
   "source": [
    "!pip install pdvega"
   ]
  },
  {
   "cell_type": "code",
   "execution_count": 4,
   "metadata": {},
   "outputs": [],
   "source": [
    "import pdvega"
   ]
  },
  {
   "cell_type": "code",
   "execution_count": 8,
   "metadata": {},
   "outputs": [],
   "source": [
    "data1= sns.load_dataset('tips') #이게 안되면 pd.read_csv('https:// 깃허브 주소 ') 이렇게 가져와도됨."
   ]
  },
  {
   "cell_type": "code",
   "execution_count": 9,
   "metadata": {
    "scrolled": true
   },
   "outputs": [
    {
     "name": "stdout",
     "output_type": "stream",
     "text": [
      "<class 'pandas.core.frame.DataFrame'>\n",
      "RangeIndex: 244 entries, 0 to 243\n",
      "Data columns (total 7 columns):\n",
      "total_bill    244 non-null float64\n",
      "tip           244 non-null float64\n",
      "sex           244 non-null category\n",
      "smoker        244 non-null category\n",
      "day           244 non-null category\n",
      "time          244 non-null category\n",
      "size          244 non-null int64\n",
      "dtypes: category(4), float64(2), int64(1)\n",
      "memory usage: 7.2 KB\n"
     ]
    }
   ],
   "source": [
    "data1.info() # data1: seaborn 의 경우 category 로 다 바뀌어있다. 하지만 직접 받아온경우 object 형이다 따라서 astype 으로 바꾼다."
   ]
  },
  {
   "cell_type": "code",
   "execution_count": 12,
   "metadata": {},
   "outputs": [],
   "source": [
    "data2 =  pd.read_csv('tips.csv')"
   ]
  },
  {
   "cell_type": "code",
   "execution_count": 60,
   "metadata": {},
   "outputs": [
    {
     "name": "stderr",
     "output_type": "stream",
     "text": [
      "b'Skipping line 72: expected 1 fields, saw 8\\nSkipping line 123: expected 1 fields, saw 3\\nSkipping line 133: expected 1 fields, saw 3\\nSkipping line 137: expected 1 fields, saw 3\\nSkipping line 142: expected 1 fields, saw 3\\nSkipping line 147: expected 1 fields, saw 3\\nSkipping line 151: expected 1 fields, saw 3\\nSkipping line 171: expected 1 fields, saw 2\\nSkipping line 237: expected 1 fields, saw 3\\nSkipping line 239: expected 1 fields, saw 3\\nSkipping line 385: expected 1 fields, saw 3\\nSkipping line 389: expected 1 fields, saw 3\\nSkipping line 390: expected 1 fields, saw 3\\nSkipping line 486: expected 1 fields, saw 2\\nSkipping line 3038: expected 1 fields, saw 2\\nSkipping line 3039: expected 1 fields, saw 3\\nSkipping line 3040: expected 1 fields, saw 3\\nSkipping line 3041: expected 1 fields, saw 3\\nSkipping line 3042: expected 1 fields, saw 3\\nSkipping line 3043: expected 1 fields, saw 3\\nSkipping line 3050: expected 1 fields, saw 3\\nSkipping line 3051: expected 1 fields, saw 3\\nSkipping line 3052: expected 1 fields, saw 3\\nSkipping line 3053: expected 1 fields, saw 3\\nSkipping line 3054: expected 1 fields, saw 3\\nSkipping line 3055: expected 1 fields, saw 3\\n'\n"
     ]
    }
   ],
   "source": [
    "data3 = pd.read_csv('https://github.com/mwaskom/seaborn-data/blob/master/tips.csv',error_bad_lines=False) #원래 이걸로 되야하는데 안되서 저 주소가서 다운받음 나잘함?헤헤헤호호히힣"
   ]
  },
  {
   "cell_type": "code",
   "execution_count": 61,
   "metadata": {},
   "outputs": [
    {
     "name": "stdout",
     "output_type": "stream",
     "text": [
      "<class 'pandas.core.frame.DataFrame'>\n",
      "RangeIndex: 2904 entries, 0 to 2903\n",
      "Data columns (total 1 columns):\n",
      "<!DOCTYPE html>    2904 non-null object\n",
      "dtypes: object(1)\n",
      "memory usage: 22.8+ KB\n"
     ]
    }
   ],
   "source": [
    "data3.info()"
   ]
  },
  {
   "cell_type": "code",
   "execution_count": 13,
   "metadata": {},
   "outputs": [
    {
     "name": "stdout",
     "output_type": "stream",
     "text": [
      "<class 'pandas.core.frame.DataFrame'>\n",
      "RangeIndex: 244 entries, 0 to 243\n",
      "Data columns (total 7 columns):\n",
      "total_bill    244 non-null float64\n",
      "tip           244 non-null float64\n",
      "sex           244 non-null object\n",
      "smoker        244 non-null object\n",
      "day           244 non-null object\n",
      "time          244 non-null object\n",
      "size          244 non-null int64\n",
      "dtypes: float64(2), int64(1), object(4)\n",
      "memory usage: 13.4+ KB\n"
     ]
    }
   ],
   "source": [
    "data2.info() "
   ]
  },
  {
   "cell_type": "code",
   "execution_count": 16,
   "metadata": {},
   "outputs": [],
   "source": [
    "data2.sex = data2.sex.astype('category')"
   ]
  },
  {
   "cell_type": "code",
   "execution_count": 17,
   "metadata": {},
   "outputs": [
    {
     "name": "stdout",
     "output_type": "stream",
     "text": [
      "<class 'pandas.core.frame.DataFrame'>\n",
      "RangeIndex: 244 entries, 0 to 243\n",
      "Data columns (total 7 columns):\n",
      "total_bill    244 non-null float64\n",
      "tip           244 non-null float64\n",
      "sex           244 non-null category\n",
      "smoker        244 non-null object\n",
      "day           244 non-null object\n",
      "time          244 non-null object\n",
      "size          244 non-null int64\n",
      "dtypes: category(1), float64(2), int64(1), object(3)\n",
      "memory usage: 11.8+ KB\n"
     ]
    }
   ],
   "source": [
    "data2.info()"
   ]
  },
  {
   "cell_type": "code",
   "execution_count": 24,
   "metadata": {},
   "outputs": [],
   "source": [
    "data2.sex = data2.sex.astype('category')\n",
    "data2.smoker = data2.smoker.astype('category')\n",
    "data2.day = data2.day.astype('category')\n",
    "data2.time = data2.time.astype('category')"
   ]
  },
  {
   "cell_type": "code",
   "execution_count": 25,
   "metadata": {},
   "outputs": [
    {
     "name": "stdout",
     "output_type": "stream",
     "text": [
      "<class 'pandas.core.frame.DataFrame'>\n",
      "RangeIndex: 244 entries, 0 to 243\n",
      "Data columns (total 7 columns):\n",
      "total_bill    244 non-null float64\n",
      "tip           244 non-null float64\n",
      "sex           244 non-null category\n",
      "smoker        244 non-null category\n",
      "day           244 non-null category\n",
      "time          244 non-null category\n",
      "size          244 non-null int64\n",
      "dtypes: category(4), float64(2), int64(1)\n",
      "memory usage: 7.2 KB\n"
     ]
    }
   ],
   "source": [
    "data2.info() #object 를 category 로 다바꿔줌 cat.함수 적용을위해서 str. 과 비슷함"
   ]
  },
  {
   "cell_type": "markdown",
   "metadata": {},
   "source": [
    "# 담배피는사람 or 담배안피는사람이 팁을 많이 줄까? 이것을 알아보자"
   ]
  },
  {
   "cell_type": "code",
   "execution_count": 28,
   "metadata": {},
   "outputs": [
    {
     "data": {
      "text/html": [
       "<div>\n",
       "<style scoped>\n",
       "    .dataframe tbody tr th:only-of-type {\n",
       "        vertical-align: middle;\n",
       "    }\n",
       "\n",
       "    .dataframe tbody tr th {\n",
       "        vertical-align: top;\n",
       "    }\n",
       "\n",
       "    .dataframe thead th {\n",
       "        text-align: right;\n",
       "    }\n",
       "</style>\n",
       "<table border=\"1\" class=\"dataframe\">\n",
       "  <thead>\n",
       "    <tr style=\"text-align: right;\">\n",
       "      <th></th>\n",
       "      <th>total_bill</th>\n",
       "      <th>tip</th>\n",
       "      <th>size</th>\n",
       "    </tr>\n",
       "    <tr>\n",
       "      <th>smoker</th>\n",
       "      <th></th>\n",
       "      <th></th>\n",
       "      <th></th>\n",
       "    </tr>\n",
       "  </thead>\n",
       "  <tbody>\n",
       "    <tr>\n",
       "      <th>No</th>\n",
       "      <td>19.188278</td>\n",
       "      <td>2.991854</td>\n",
       "      <td>2.668874</td>\n",
       "    </tr>\n",
       "    <tr>\n",
       "      <th>Yes</th>\n",
       "      <td>20.756344</td>\n",
       "      <td>3.008710</td>\n",
       "      <td>2.408602</td>\n",
       "    </tr>\n",
       "  </tbody>\n",
       "</table>\n",
       "</div>"
      ],
      "text/plain": [
       "        total_bill       tip      size\n",
       "smoker                                \n",
       "No       19.188278  2.991854  2.668874\n",
       "Yes      20.756344  3.008710  2.408602"
      ]
     },
     "execution_count": 28,
     "metadata": {},
     "output_type": "execute_result"
    }
   ],
   "source": [
    "data2.groupby('smoker').mean()"
   ]
  },
  {
   "cell_type": "code",
   "execution_count": 29,
   "metadata": {},
   "outputs": [],
   "source": [
    "#data2.groupby('smoker').mean() 이게 데이터 테이블이니까 .tip 하면 시리즈로 나온다"
   ]
  },
  {
   "cell_type": "code",
   "execution_count": 30,
   "metadata": {},
   "outputs": [
    {
     "data": {
      "text/plain": [
       "smoker\n",
       "No     2.991854\n",
       "Yes    3.008710\n",
       "Name: tip, dtype: float64"
      ]
     },
     "execution_count": 30,
     "metadata": {},
     "output_type": "execute_result"
    }
   ],
   "source": [
    "data2.groupby('smoker').mean().tip"
   ]
  },
  {
   "cell_type": "code",
   "execution_count": 39,
   "metadata": {},
   "outputs": [
    {
     "data": {
      "text/html": [
       "<div>\n",
       "<style scoped>\n",
       "    .dataframe tbody tr th:only-of-type {\n",
       "        vertical-align: middle;\n",
       "    }\n",
       "\n",
       "    .dataframe tbody tr th {\n",
       "        vertical-align: top;\n",
       "    }\n",
       "\n",
       "    .dataframe thead th {\n",
       "        text-align: right;\n",
       "    }\n",
       "</style>\n",
       "<table border=\"1\" class=\"dataframe\">\n",
       "  <thead>\n",
       "    <tr style=\"text-align: right;\">\n",
       "      <th></th>\n",
       "      <th></th>\n",
       "      <th>total_bill</th>\n",
       "      <th>tip</th>\n",
       "      <th>size</th>\n",
       "    </tr>\n",
       "    <tr>\n",
       "      <th>smoker</th>\n",
       "      <th>sex</th>\n",
       "      <th></th>\n",
       "      <th></th>\n",
       "      <th></th>\n",
       "    </tr>\n",
       "  </thead>\n",
       "  <tbody>\n",
       "    <tr>\n",
       "      <th rowspan=\"2\" valign=\"top\">No</th>\n",
       "      <th>Female</th>\n",
       "      <td>18.105185</td>\n",
       "      <td>2.773519</td>\n",
       "      <td>2.592593</td>\n",
       "    </tr>\n",
       "    <tr>\n",
       "      <th>Male</th>\n",
       "      <td>19.791237</td>\n",
       "      <td>3.113402</td>\n",
       "      <td>2.711340</td>\n",
       "    </tr>\n",
       "    <tr>\n",
       "      <th rowspan=\"2\" valign=\"top\">Yes</th>\n",
       "      <th>Female</th>\n",
       "      <td>17.977879</td>\n",
       "      <td>2.931515</td>\n",
       "      <td>2.242424</td>\n",
       "    </tr>\n",
       "    <tr>\n",
       "      <th>Male</th>\n",
       "      <td>22.284500</td>\n",
       "      <td>3.051167</td>\n",
       "      <td>2.500000</td>\n",
       "    </tr>\n",
       "  </tbody>\n",
       "</table>\n",
       "</div>"
      ],
      "text/plain": [
       "               total_bill       tip      size\n",
       "smoker sex                                   \n",
       "No     Female   18.105185  2.773519  2.592593\n",
       "       Male     19.791237  3.113402  2.711340\n",
       "Yes    Female   17.977879  2.931515  2.242424\n",
       "       Male     22.284500  3.051167  2.500000"
      ]
     },
     "execution_count": 39,
     "metadata": {},
     "output_type": "execute_result"
    }
   ],
   "source": [
    "data2.groupby(['smoker','sex']).mean()"
   ]
  },
  {
   "cell_type": "markdown",
   "metadata": {},
   "source": [
    "# 다시보니까 담배 안피는 남자가 많이주네 , 분석의 범위 따라서 의미가 다르게 나옴 >> 통계값으로 장난친다."
   ]
  },
  {
   "cell_type": "code",
   "execution_count": 40,
   "metadata": {},
   "outputs": [],
   "source": [
    "#범위를 어디로 잡는가 인가 중요하다 , group by 썻으니까 pivot_table 써보자"
   ]
  },
  {
   "cell_type": "code",
   "execution_count": 46,
   "metadata": {},
   "outputs": [
    {
     "data": {
      "text/html": [
       "<div>\n",
       "<style scoped>\n",
       "    .dataframe tbody tr th:only-of-type {\n",
       "        vertical-align: middle;\n",
       "    }\n",
       "\n",
       "    .dataframe tbody tr th {\n",
       "        vertical-align: top;\n",
       "    }\n",
       "\n",
       "    .dataframe thead th {\n",
       "        text-align: right;\n",
       "    }\n",
       "</style>\n",
       "<table border=\"1\" class=\"dataframe\">\n",
       "  <thead>\n",
       "    <tr style=\"text-align: right;\">\n",
       "      <th></th>\n",
       "      <th>tip</th>\n",
       "    </tr>\n",
       "    <tr>\n",
       "      <th>smoker</th>\n",
       "      <th></th>\n",
       "    </tr>\n",
       "  </thead>\n",
       "  <tbody>\n",
       "    <tr>\n",
       "      <th>No</th>\n",
       "      <td>2.991854</td>\n",
       "    </tr>\n",
       "    <tr>\n",
       "      <th>Yes</th>\n",
       "      <td>3.008710</td>\n",
       "    </tr>\n",
       "  </tbody>\n",
       "</table>\n",
       "</div>"
      ],
      "text/plain": [
       "             tip\n",
       "smoker          \n",
       "No      2.991854\n",
       "Yes     3.008710"
      ]
     },
     "execution_count": 46,
     "metadata": {},
     "output_type": "execute_result"
    }
   ],
   "source": [
    "pd.pivot_table(data2,values='tip',index=\"smoker\") # pd.pivot_table()의경우 첫번쨰 인자가 데이터프레임\n",
    "#데이터 프레임.pivot_table() 쓰면 인자가 달라짐. "
   ]
  },
  {
   "cell_type": "code",
   "execution_count": 48,
   "metadata": {},
   "outputs": [
    {
     "data": {
      "text/html": [
       "<div>\n",
       "<style scoped>\n",
       "    .dataframe tbody tr th:only-of-type {\n",
       "        vertical-align: middle;\n",
       "    }\n",
       "\n",
       "    .dataframe tbody tr th {\n",
       "        vertical-align: top;\n",
       "    }\n",
       "\n",
       "    .dataframe thead th {\n",
       "        text-align: right;\n",
       "    }\n",
       "</style>\n",
       "<table border=\"1\" class=\"dataframe\">\n",
       "  <thead>\n",
       "    <tr style=\"text-align: right;\">\n",
       "      <th></th>\n",
       "      <th></th>\n",
       "      <th>tip</th>\n",
       "    </tr>\n",
       "    <tr>\n",
       "      <th>smoker</th>\n",
       "      <th>sex</th>\n",
       "      <th></th>\n",
       "    </tr>\n",
       "  </thead>\n",
       "  <tbody>\n",
       "    <tr>\n",
       "      <th rowspan=\"2\" valign=\"top\">No</th>\n",
       "      <th>Female</th>\n",
       "      <td>2.773519</td>\n",
       "    </tr>\n",
       "    <tr>\n",
       "      <th>Male</th>\n",
       "      <td>3.113402</td>\n",
       "    </tr>\n",
       "    <tr>\n",
       "      <th rowspan=\"2\" valign=\"top\">Yes</th>\n",
       "      <th>Female</th>\n",
       "      <td>2.931515</td>\n",
       "    </tr>\n",
       "    <tr>\n",
       "      <th>Male</th>\n",
       "      <td>3.051167</td>\n",
       "    </tr>\n",
       "  </tbody>\n",
       "</table>\n",
       "</div>"
      ],
      "text/plain": [
       "                    tip\n",
       "smoker sex             \n",
       "No     Female  2.773519\n",
       "       Male    3.113402\n",
       "Yes    Female  2.931515\n",
       "       Male    3.051167"
      ]
     },
     "execution_count": 48,
     "metadata": {},
     "output_type": "execute_result"
    }
   ],
   "source": [
    "# 성별까지하고싶으면\n",
    "pd.pivot_table(data2,values='tip',index=[\"smoker\",'sex']) # pd.pivot_table()의경우 첫번쨰 인자가 데이터프레임\n",
    "#데이터 프레임.pivot_table() 쓰면 인자가 달라짐. "
   ]
  },
  {
   "cell_type": "code",
   "execution_count": 50,
   "metadata": {},
   "outputs": [],
   "source": [
    "# values :  어떤값 보고싶다? tip 값, 어떤기준으로 smoker과 성별 , pivot table 은 엑셀에 익숙한사람들이 쓴다. group by 는 이해가 잘안되서"
   ]
  },
  {
   "cell_type": "code",
   "execution_count": 52,
   "metadata": {},
   "outputs": [],
   "source": [
    "graph  = pd.pivot_table(data2,values='tip',index=\"sex\") "
   ]
  },
  {
   "cell_type": "code",
   "execution_count": 54,
   "metadata": {},
   "outputs": [
    {
     "data": {
      "text/plain": [
       "<matplotlib.axes._subplots.AxesSubplot at 0x1a16c0f6128>"
      ]
     },
     "execution_count": 54,
     "metadata": {},
     "output_type": "execute_result"
    },
    {
     "data": {
      "image/png": "[encoded data removed]",
      "text/plain": [
       "<Figure size 432x288 with 1 Axes>"
      ]
     },
     "metadata": {},
     "output_type": "display_data"
    }
   ],
   "source": [
    "graph.plot(kind='barh')\n",
    "#graph.plot.barh() #같은방식"
   ]
  },
  {
   "cell_type": "code",
   "execution_count": 58,
   "metadata": {},
   "outputs": [
    {
     "data": {
      "text/plain": [
       "<matplotlib.axes._subplots.AxesSubplot at 0x1a16c1e01d0>"
      ]
     },
     "execution_count": 58,
     "metadata": {},
     "output_type": "execute_result"
    },
    {
     "data": {
      "image/png": "[encoded data removed]",
      "text/plain": [
       "<Figure size 432x288 with 1 Axes>"
      ]
     },
     "metadata": {},
     "output_type": "display_data"
    }
   ],
   "source": [
    "graph.plot.bar()"
   ]
  },
  {
   "cell_type": "code",
   "execution_count": 62,
   "metadata": {},
   "outputs": [],
   "source": [
    "import matplotlib.pyplot as plt"
   ]
  },
  {
   "cell_type": "code",
   "execution_count": 63,
   "metadata": {},
   "outputs": [
    {
     "data": {
      "text/plain": [
       "['bmh',\n",
       " 'classic',\n",
       " 'dark_background',\n",
       " 'fast',\n",
       " 'fivethirtyeight',\n",
       " 'ggplot',\n",
       " 'grayscale',\n",
       " 'seaborn-bright',\n",
       " 'seaborn-colorblind',\n",
       " 'seaborn-dark-palette',\n",
       " 'seaborn-dark',\n",
       " 'seaborn-darkgrid',\n",
       " 'seaborn-deep',\n",
       " 'seaborn-muted',\n",
       " 'seaborn-notebook',\n",
       " 'seaborn-paper',\n",
       " 'seaborn-pastel',\n",
       " 'seaborn-poster',\n",
       " 'seaborn-talk',\n",
       " 'seaborn-ticks',\n",
       " 'seaborn-white',\n",
       " 'seaborn-whitegrid',\n",
       " 'seaborn',\n",
       " 'Solarize_Light2',\n",
       " 'tableau-colorblind10',\n",
       " '_classic_test']"
      ]
     },
     "execution_count": 63,
     "metadata": {},
     "output_type": "execute_result"
    }
   ],
   "source": [
    "plt.style.available #이용할 수 있는 스타일"
   ]
  },
  {
   "cell_type": "code",
   "execution_count": 76,
   "metadata": {},
   "outputs": [],
   "source": [
    "plt.style.use(\"ggplot\") # ggplot 하고 스타일이 비슷하게 나온다 ."
   ]
  },
  {
   "cell_type": "code",
   "execution_count": 77,
   "metadata": {},
   "outputs": [
    {
     "data": {
      "text/plain": [
       "<matplotlib.axes._subplots.AxesSubplot at 0x1a16c46df98>"
      ]
     },
     "execution_count": 77,
     "metadata": {},
     "output_type": "execute_result"
    },
    {
     "data": {
      "image/png": "[encoded data removed]",
      "text/plain": [
       "<Figure size 576x396 with 1 Axes>"
      ]
     },
     "metadata": {},
     "output_type": "display_data"
    }
   ],
   "source": [
    "graph.plot.bar()"
   ]
  },
  {
   "cell_type": "code",
   "execution_count": 67,
   "metadata": {},
   "outputs": [],
   "source": [
    "# visualization 에서 내가 좋아하는 스타일 찾는것. 세련된 색감 ggplot,  ggplot 으로 그린줄안다  ,실제로 ggplot 쓴건아닌데"
   ]
  },
  {
   "cell_type": "code",
   "execution_count": 78,
   "metadata": {},
   "outputs": [],
   "source": [
    "%matplotlib notebook #허접한 인터렉티브 기능이 추가됨."
   ]
  },
  {
   "cell_type": "code",
   "execution_count": 79,
   "metadata": {},
   "outputs": [
    {
     "data": {
      "application/javascript": [
       "/* Put everything inside the global mpl namespace */\n",
       "window.mpl = {};\n",
       "\n",
       "\n",
       "mpl.get_websocket_type = function() {\n",
       "    if (typeof(WebSocket) !== 'undefined') {\n",
       "        return WebSocket;\n",
       "    } else if (typeof(MozWebSocket) !== 'undefined') {\n",
       "        return MozWebSocket;\n",
       "    } else {\n",
       "        alert('Your browser does not have WebSocket support.' +\n",
       "              'Please try Chrome, Safari or Firefox ≥ 6. ' +\n",
       "              'Firefox 4 and 5 are also supported but you ' +\n",
       "              'have to enable WebSockets in about:config.');\n",
       "    };\n",
       "}\n",
       "\n",
       "mpl.figure = function(figure_id, websocket, ondownload, parent_element) {\n",
       "    this.id = figure_id;\n",
       "\n",
       "    this.ws = websocket;\n",
       "\n",
       "    this.supports_binary = (this.ws.binaryType != undefined);\n",
       "\n",
       "    if (!this.supports_binary) {\n",
       "        var warnings = document.getElementById(\"mpl-warnings\");\n",
       "        if (warnings) {\n",
       "            warnings.style.display = 'block';\n",
       "            warnings.textContent = (\n",
       "                \"This browser does not support binary websocket messages. \" +\n",
       "                    \"Performance may be slow.\");\n",
       "        }\n",
       "    }\n",
       "\n",
       "    this.imageObj = new Image();\n",
       "\n",
       "    this.context = undefined;\n",
       "    this.message = undefined;\n",
       "    this.canvas = undefined;\n",
       "    this.rubberband_canvas = undefined;\n",
       "    this.rubberband_context = undefined;\n",
       "    this.format_dropdown = undefined;\n",
       "\n",
       "    this.image_mode = 'full';\n",
       "\n",
       "    this.root = $('<div/>');\n",
       "    this._root_extra_style(this.root)\n",
       "    this.root.attr('style', 'display: inline-block');\n",
       "\n",
       "    $(parent_element).append(this.root);\n",
       "\n",
       "    this._init_header(this);\n",
       "    this._init_canvas(this);\n",
       "    this._init_toolbar(this);\n",
       "\n",
       "    var fig = this;\n",
       "\n",
       "    this.waiting = false;\n",
       "\n",
       "    this.ws.onopen =  function () {\n",
       "            fig.send_message(\"supports_binary\", {value: fig.supports_binary});\n",
       "            fig.send_message(\"send_image_mode\", {});\n",
       "            if (mpl.ratio != 1) {\n",
       "                fig.send_message(\"set_dpi_ratio\", {'dpi_ratio': mpl.ratio});\n",
       "            }\n",
       "            fig.send_message(\"refresh\", {});\n",
       "        }\n",
       "\n",
       "    this.imageObj.onload = function() {\n",
       "            if (fig.image_mode == 'full') {\n",
       "                // Full images could contain transparency (where diff images\n",
       "                // almost always do), so we need to clear the canvas so that\n",
       "                // there is no ghosting.\n",
       "                fig.context.clearRect(0, 0, fig.canvas.width, fig.canvas.height);\n",
       "            }\n",
       "            fig.context.drawImage(fig.imageObj, 0, 0);\n",
       "        };\n",
       "\n",
       "    this.imageObj.onunload = function() {\n",
       "        fig.ws.close();\n",
       "    }\n",
       "\n",
       "    this.ws.onmessage = this._make_on_message_function(this);\n",
       "\n",
       "    this.ondownload = ondownload;\n",
       "}\n",
       "\n",
       "mpl.figure.prototype._init_header = function() {\n",
       "    var titlebar = $(\n",
       "        '<div class=\"ui-dialog-titlebar ui-widget-header ui-corner-all ' +\n",
       "        'ui-helper-clearfix\"/>');\n",
       "    var titletext = $(\n",
       "        '<div class=\"ui-dialog-title\" style=\"width: 100%; ' +\n",
       "        'text-align: center; padding: 3px;\"/>');\n",
       "    titlebar.append(titletext)\n",
       "    this.root.append(titlebar);\n",
       "    this.header = titletext[0];\n",
       "}\n",
       "\n",
       "\n",
       "\n",
       "mpl.figure.prototype._canvas_extra_style = function(canvas_div) {\n",
       "\n",
       "}\n",
       "\n",
       "\n",
       "mpl.figure.prototype._root_extra_style = function(canvas_div) {\n",
       "\n",
       "}\n",
       "\n",
       "mpl.figure.prototype._init_canvas = function() {\n",
       "    var fig = this;\n",
       "\n",
       "    var canvas_div = $('<div/>');\n",
       "\n",
       "    canvas_div.attr('style', 'position: relative; clear: both; outline: 0');\n",
       "\n",
       "    function canvas_keyboard_event(event) {\n",
       "        return fig.key_event(event, event['data']);\n",
       "    }\n",
       "\n",
       "    canvas_div.keydown('key_press', canvas_keyboard_event);\n",
       "    canvas_div.keyup('key_release', canvas_keyboard_event);\n",
       "    this.canvas_div = canvas_div\n",
       "    this._canvas_extra_style(canvas_div)\n",
       "    this.root.append(canvas_div);\n",
       "\n",
       "    var canvas = $('<canvas/>');\n",
       "    canvas.addClass('mpl-canvas');\n",
       "    canvas.attr('style', \"left: 0; top: 0; z-index: 0; outline: 0\")\n",
       "\n",
       "    this.canvas = canvas[0];\n",
       "    this.context = canvas[0].getContext(\"2d\");\n",
       "\n",
       "    var backingStore = this.context.backingStorePixelRatio ||\n",
       "\tthis.context.webkitBackingStorePixelRatio ||\n",
       "\tthis.context.mozBackingStorePixelRatio ||\n",
       "\tthis.context.msBackingStorePixelRatio ||\n",
       "\tthis.context.oBackingStorePixelRatio ||\n",
       "\tthis.context.backingStorePixelRatio || 1;\n",
       "\n",
       "    mpl.ratio = (window.devicePixelRatio || 1) / backingStore;\n",
       "\n",
       "    var rubberband = $('<canvas/>');\n",
       "    rubberband.attr('style', \"position: absolute; left: 0; top: 0; z-index: 1;\")\n",
       "\n",
       "    var pass_mouse_events = true;\n",
       "\n",
       "    canvas_div.resizable({\n",
       "        start: function(event, ui) {\n",
       "            pass_mouse_events = false;\n",
       "        },\n",
       "        resize: function(event, ui) {\n",
       "            fig.request_resize(ui.size.width, ui.size.height);\n",
       "        },\n",
       "        stop: function(event, ui) {\n",
       "            pass_mouse_events = true;\n",
       "            fig.request_resize(ui.size.width, ui.size.height);\n",
       "        },\n",
       "    });\n",
       "\n",
       "    function mouse_event_fn(event) {\n",
       "        if (pass_mouse_events)\n",
       "            return fig.mouse_event(event, event['data']);\n",
       "    }\n",
       "\n",
       "    rubberband.mousedown('button_press', mouse_event_fn);\n",
       "    rubberband.mouseup('button_release', mouse_event_fn);\n",
       "    // Throttle sequential mouse events to 1 every 20ms.\n",
       "    rubberband.mousemove('motion_notify', mouse_event_fn);\n",
       "\n",
       "    rubberband.mouseenter('figure_enter', mouse_event_fn);\n",
       "    rubberband.mouseleave('figure_leave', mouse_event_fn);\n",
       "\n",
       "    canvas_div.on(\"wheel\", function (event) {\n",
       "        event = event.originalEvent;\n",
       "        event['data'] = 'scroll'\n",
       "        if (event.deltaY < 0) {\n",
       "            event.step = 1;\n",
       "        } else {\n",
       "            event.step = -1;\n",
       "        }\n",
       "        mouse_event_fn(event);\n",
       "    });\n",
       "\n",
       "    canvas_div.append(canvas);\n",
       "    canvas_div.append(rubberband);\n",
       "\n",
       "    this.rubberband = rubberband;\n",
       "    this.rubberband_canvas = rubberband[0];\n",
       "    this.rubberband_context = rubberband[0].getContext(\"2d\");\n",
       "    this.rubberband_context.strokeStyle = \"#000000\";\n",
       "\n",
       "    this._resize_canvas = function(width, height) {\n",
       "        // Keep the size of the canvas, canvas container, and rubber band\n",
       "        // canvas in synch.\n",
       "        canvas_div.css('width', width)\n",
       "        canvas_div.css('height', height)\n",
       "\n",
       "        canvas.attr('width', width * mpl.ratio);\n",
       "        canvas.attr('height', height * mpl.ratio);\n",
       "        canvas.attr('style', 'width: ' + width + 'px; height: ' + height + 'px;');\n",
       "\n",
       "        rubberband.attr('width', width);\n",
       "        rubberband.attr('height', height);\n",
       "    }\n",
       "\n",
       "    // Set the figure to an initial 600x600px, this will subsequently be updated\n",
       "    // upon first draw.\n",
       "    this._resize_canvas(600, 600);\n",
       "\n",
       "    // Disable right mouse context menu.\n",
       "    $(this.rubberband_canvas).bind(\"contextmenu\",function(e){\n",
       "        return false;\n",
       "    });\n",
       "\n",
       "    function set_focus () {\n",
       "        canvas.focus();\n",
       "        canvas_div.focus();\n",
       "    }\n",
       "\n",
       "    window.setTimeout(set_focus, 100);\n",
       "}\n",
       "\n",
       "mpl.figure.prototype._init_toolbar = function() {\n",
       "    var fig = this;\n",
       "\n",
       "    var nav_element = $('<div/>')\n",
       "    nav_element.attr('style', 'width: 100%');\n",
       "    this.root.append(nav_element);\n",
       "\n",
       "    // Define a callback function for later on.\n",
       "    function toolbar_event(event) {\n",
       "        return fig.toolbar_button_onclick(event['data']);\n",
       "    }\n",
       "    function toolbar_mouse_event(event) {\n",
       "        return fig.toolbar_button_onmouseover(event['data']);\n",
       "    }\n",
       "\n",
       "    for(var toolbar_ind in mpl.toolbar_items) {\n",
       "        var name = mpl.toolbar_items[toolbar_ind][0];\n",
       "        var tooltip = mpl.toolbar_items[toolbar_ind][1];\n",
       "        var image = mpl.toolbar_items[toolbar_ind][2];\n",
       "        var method_name = mpl.toolbar_items[toolbar_ind][3];\n",
       "\n",
       "        if (!name) {\n",
       "            // put a spacer in here.\n",
       "            continue;\n",
       "        }\n",
       "        var button = $('<button/>');\n",
       "        button.addClass('ui-button ui-widget ui-state-default ui-corner-all ' +\n",
       "                        'ui-button-icon-only');\n",
       "        button.attr('role', 'button');\n",
       "        button.attr('aria-disabled', 'false');\n",
       "        button.click(method_name, toolbar_event);\n",
       "        button.mouseover(tooltip, toolbar_mouse_event);\n",
       "\n",
       "        var icon_img = $('<span/>');\n",
       "        icon_img.addClass('ui-button-icon-primary ui-icon');\n",
       "        icon_img.addClass(image);\n",
       "        icon_img.addClass('ui-corner-all');\n",
       "\n",
       "        var tooltip_span = $('<span/>');\n",
       "        tooltip_span.addClass('ui-button-text');\n",
       "        tooltip_span.html(tooltip);\n",
       "\n",
       "        button.append(icon_img);\n",
       "        button.append(tooltip_span);\n",
       "\n",
       "        nav_element.append(button);\n",
       "    }\n",
       "\n",
       "    var fmt_picker_span = $('<span/>');\n",
       "\n",
       "    var fmt_picker = $('<select/>');\n",
       "    fmt_picker.addClass('mpl-toolbar-option ui-widget ui-widget-content');\n",
       "    fmt_picker_span.append(fmt_picker);\n",
       "    nav_element.append(fmt_picker_span);\n",
       "    this.format_dropdown = fmt_picker[0];\n",
       "\n",
       "    for (var ind in mpl.extensions) {\n",
       "        var fmt = mpl.extensions[ind];\n",
       "        var option = $(\n",
       "            '<option/>', {selected: fmt === mpl.default_extension}).html(fmt);\n",
       "        fmt_picker.append(option)\n",
       "    }\n",
       "\n",
       "    // Add hover states to the ui-buttons\n",
       "    $( \".ui-button\" ).hover(\n",
       "        function() { $(this).addClass(\"ui-state-hover\");},\n",
       "        function() { $(this).removeClass(\"ui-state-hover\");}\n",
       "    );\n",
       "\n",
       "    var status_bar = $('<span class=\"mpl-message\"/>');\n",
       "    nav_element.append(status_bar);\n",
       "    this.message = status_bar[0];\n",
       "}\n",
       "\n",
       "mpl.figure.prototype.request_resize = function(x_pixels, y_pixels) {\n",
       "    // Request matplotlib to resize the figure. Matplotlib will then trigger a resize in the client,\n",
       "    // which will in turn request a refresh of the image.\n",
       "    this.send_message('resize', {'width': x_pixels, 'height': y_pixels});\n",
       "}\n",
       "\n",
       "mpl.figure.prototype.send_message = function(type, properties) {\n",
       "    properties['type'] = type;\n",
       "    properties['figure_id'] = this.id;\n",
       "    this.ws.send(JSON.stringify(properties));\n",
       "}\n",
       "\n",
       "mpl.figure.prototype.send_draw_message = function() {\n",
       "    if (!this.waiting) {\n",
       "        this.waiting = true;\n",
       "        this.ws.send(JSON.stringify({type: \"draw\", figure_id: this.id}));\n",
       "    }\n",
       "}\n",
       "\n",
       "\n",
       "mpl.figure.prototype.handle_save = function(fig, msg) {\n",
       "    var format_dropdown = fig.format_dropdown;\n",
       "    var format = format_dropdown.options[format_dropdown.selectedIndex].value;\n",
       "    fig.ondownload(fig, format);\n",
       "}\n",
       "\n",
       "\n",
       "mpl.figure.prototype.handle_resize = function(fig, msg) {\n",
       "    var size = msg['size'];\n",
       "    if (size[0] != fig.canvas.width || size[1] != fig.canvas.height) {\n",
       "        fig._resize_canvas(size[0], size[1]);\n",
       "        fig.send_message(\"refresh\", {});\n",
       "    };\n",
       "}\n",
       "\n",
       "mpl.figure.prototype.handle_rubberband = function(fig, msg) {\n",
       "    var x0 = msg['x0'] / mpl.ratio;\n",
       "    var y0 = (fig.canvas.height - msg['y0']) / mpl.ratio;\n",
       "    var x1 = msg['x1'] / mpl.ratio;\n",
       "    var y1 = (fig.canvas.height - msg['y1']) / mpl.ratio;\n",
       "    x0 = Math.floor(x0) + 0.5;\n",
       "    y0 = Math.floor(y0) + 0.5;\n",
       "    x1 = Math.floor(x1) + 0.5;\n",
       "    y1 = Math.floor(y1) + 0.5;\n",
       "    var min_x = Math.min(x0, x1);\n",
       "    var min_y = Math.min(y0, y1);\n",
       "    var width = Math.abs(x1 - x0);\n",
       "    var height = Math.abs(y1 - y0);\n",
       "\n",
       "    fig.rubberband_context.clearRect(\n",
       "        0, 0, fig.canvas.width, fig.canvas.height);\n",
       "\n",
       "    fig.rubberband_context.strokeRect(min_x, min_y, width, height);\n",
       "}\n",
       "\n",
       "mpl.figure.prototype.handle_figure_label = function(fig, msg) {\n",
       "    // Updates the figure title.\n",
       "    fig.header.textContent = msg['label'];\n",
       "}\n",
       "\n",
       "mpl.figure.prototype.handle_cursor = function(fig, msg) {\n",
       "    var cursor = msg['cursor'];\n",
       "    switch(cursor)\n",
       "    {\n",
       "    case 0:\n",
       "        cursor = 'pointer';\n",
       "        break;\n",
       "    case 1:\n",
       "        cursor = 'default';\n",
       "        break;\n",
       "    case 2:\n",
       "        cursor = 'crosshair';\n",
       "        break;\n",
       "    case 3:\n",
       "        cursor = 'move';\n",
       "        break;\n",
       "    }\n",
       "    fig.rubberband_canvas.style.cursor = cursor;\n",
       "}\n",
       "\n",
       "mpl.figure.prototype.handle_message = function(fig, msg) {\n",
       "    fig.message.textContent = msg['message'];\n",
       "}\n",
       "\n",
       "mpl.figure.prototype.handle_draw = function(fig, msg) {\n",
       "    // Request the server to send over a new figure.\n",
       "    fig.send_draw_message();\n",
       "}\n",
       "\n",
       "mpl.figure.prototype.handle_image_mode = function(fig, msg) {\n",
       "    fig.image_mode = msg['mode'];\n",
       "}\n",
       "\n",
       "mpl.figure.prototype.updated_canvas_event = function() {\n",
       "    // Called whenever the canvas gets updated.\n",
       "    this.send_message(\"ack\", {});\n",
       "}\n",
       "\n",
       "// A function to construct a web socket function for onmessage handling.\n",
       "// Called in the figure constructor.\n",
       "mpl.figure.prototype._make_on_message_function = function(fig) {\n",
       "    return function socket_on_message(evt) {\n",
       "        if (evt.data instanceof Blob) {\n",
       "            /* FIXME: We get \"Resource interpreted as Image but\n",
       "             * transferred with MIME type text/plain:\" errors on\n",
       "             * Chrome.  But how to set the MIME type?  It doesn't seem\n",
       "             * to be part of the websocket stream */\n",
       "            evt.data.type = \"image/png\";\n",
       "\n",
       "            /* Free the memory for the previous frames */\n",
       "            if (fig.imageObj.src) {\n",
       "                (window.URL || window.webkitURL).revokeObjectURL(\n",
       "                    fig.imageObj.src);\n",
       "            }\n",
       "\n",
       "            fig.imageObj.src = (window.URL || window.webkitURL).createObjectURL(\n",
       "                evt.data);\n",
       "            fig.updated_canvas_event();\n",
       "            fig.waiting = false;\n",
       "            return;\n",
       "        }\n",
       "        else if (typeof evt.data === 'string' && evt.data.slice(0, 21) == \"data:image/png;base64\") {\n",
       "            fig.imageObj.src = evt.data;\n",
       "            fig.updated_canvas_event();\n",
       "            fig.waiting = false;\n",
       "            return;\n",
       "        }\n",
       "\n",
       "        var msg = JSON.parse(evt.data);\n",
       "        var msg_type = msg['type'];\n",
       "\n",
       "        // Call the  \"handle_{type}\" callback, which takes\n",
       "        // the figure and JSON message as its only arguments.\n",
       "        try {\n",
       "            var callback = fig[\"handle_\" + msg_type];\n",
       "        } catch (e) {\n",
       "            console.log(\"No handler for the '\" + msg_type + \"' message type: \", msg);\n",
       "            return;\n",
       "        }\n",
       "\n",
       "        if (callback) {\n",
       "            try {\n",
       "                // console.log(\"Handling '\" + msg_type + \"' message: \", msg);\n",
       "                callback(fig, msg);\n",
       "            } catch (e) {\n",
       "                console.log(\"Exception inside the 'handler_\" + msg_type + \"' callback:\", e, e.stack, msg);\n",
       "            }\n",
       "        }\n",
       "    };\n",
       "}\n",
       "\n",
       "// from http://stackoverflow.com/questions/1114465/getting-mouse-location-in-canvas\n",
       "mpl.findpos = function(e) {\n",
       "    //this section is from http://www.quirksmode.org/js/events_properties.html\n",
       "    var targ;\n",
       "    if (!e)\n",
       "        e = window.event;\n",
       "    if (e.target)\n",
       "        targ = e.target;\n",
       "    else if (e.srcElement)\n",
       "        targ = e.srcElement;\n",
       "    if (targ.nodeType == 3) // defeat Safari bug\n",
       "        targ = targ.parentNode;\n",
       "\n",
       "    // jQuery normalizes the pageX and pageY\n",
       "    // pageX,Y are the mouse positions relative to the document\n",
       "    // offset() returns the position of the element relative to the document\n",
       "    var x = e.pageX - $(targ).offset().left;\n",
       "    var y = e.pageY - $(targ).offset().top;\n",
       "\n",
       "    return {\"x\": x, \"y\": y};\n",
       "};\n",
       "\n",
       "/*\n",
       " * return a copy of an object with only non-object keys\n",
       " * we need this to avoid circular references\n",
       " * http://stackoverflow.com/a/24161582/3208463\n",
       " */\n",
       "function simpleKeys (original) {\n",
       "  return Object.keys(original).reduce(function (obj, key) {\n",
       "    if (typeof original[key] !== 'object')\n",
       "        obj[key] = original[key]\n",
       "    return obj;\n",
       "  }, {});\n",
       "}\n",
       "\n",
       "mpl.figure.prototype.mouse_event = function(event, name) {\n",
       "    var canvas_pos = mpl.findpos(event)\n",
       "\n",
       "    if (name === 'button_press')\n",
       "    {\n",
       "        this.canvas.focus();\n",
       "        this.canvas_div.focus();\n",
       "    }\n",
       "\n",
       "    var x = canvas_pos.x * mpl.ratio;\n",
       "    var y = canvas_pos.y * mpl.ratio;\n",
       "\n",
       "    this.send_message(name, {x: x, y: y, button: event.button,\n",
       "                             step: event.step,\n",
       "                             guiEvent: simpleKeys(event)});\n",
       "\n",
       "    /* This prevents the web browser from automatically changing to\n",
       "     * the text insertion cursor when the button is pressed.  We want\n",
       "     * to control all of the cursor setting manually through the\n",
       "     * 'cursor' event from matplotlib */\n",
       "    event.preventDefault();\n",
       "    return false;\n",
       "}\n",
       "\n",
       "mpl.figure.prototype._key_event_extra = function(event, name) {\n",
       "    // Handle any extra behaviour associated with a key event\n",
       "}\n",
       "\n",
       "mpl.figure.prototype.key_event = function(event, name) {\n",
       "\n",
       "    // Prevent repeat events\n",
       "    if (name == 'key_press')\n",
       "    {\n",
       "        if (event.which === this._key)\n",
       "            return;\n",
       "        else\n",
       "            this._key = event.which;\n",
       "    }\n",
       "    if (name == 'key_release')\n",
       "        this._key = null;\n",
       "\n",
       "    var value = '';\n",
       "    if (event.ctrlKey && event.which != 17)\n",
       "        value += \"ctrl+\";\n",
       "    if (event.altKey && event.which != 18)\n",
       "        value += \"alt+\";\n",
       "    if (event.shiftKey && event.which != 16)\n",
       "        value += \"shift+\";\n",
       "\n",
       "    value += 'k';\n",
       "    value += event.which.toString();\n",
       "\n",
       "    this._key_event_extra(event, name);\n",
       "\n",
       "    this.send_message(name, {key: value,\n",
       "                             guiEvent: simpleKeys(event)});\n",
       "    return false;\n",
       "}\n",
       "\n",
       "mpl.figure.prototype.toolbar_button_onclick = function(name) {\n",
       "    if (name == 'download') {\n",
       "        this.handle_save(this, null);\n",
       "    } else {\n",
       "        this.send_message(\"toolbar_button\", {name: name});\n",
       "    }\n",
       "};\n",
       "\n",
       "mpl.figure.prototype.toolbar_button_onmouseover = function(tooltip) {\n",
       "    this.message.textContent = tooltip;\n",
       "};\n",
       "mpl.toolbar_items = [[\"Home\", \"Reset original view\", \"fa fa-home icon-home\", \"home\"], [\"Back\", \"Back to  previous view\", \"fa fa-arrow-left icon-arrow-left\", \"back\"], [\"Forward\", \"Forward to next view\", \"fa fa-arrow-right icon-arrow-right\", \"forward\"], [\"\", \"\", \"\", \"\"], [\"Pan\", \"Pan axes with left mouse, zoom with right\", \"fa fa-arrows icon-move\", \"pan\"], [\"Zoom\", \"Zoom to rectangle\", \"fa fa-square-o icon-check-empty\", \"zoom\"], [\"\", \"\", \"\", \"\"], [\"Download\", \"Download plot\", \"fa fa-floppy-o icon-save\", \"download\"]];\n",
       "\n",
       "mpl.extensions = [\"eps\", \"jpeg\", \"pdf\", \"png\", \"ps\", \"raw\", \"svg\", \"tif\"];\n",
       "\n",
       "mpl.default_extension = \"png\";var comm_websocket_adapter = function(comm) {\n",
       "    // Create a \"websocket\"-like object which calls the given IPython comm\n",
       "    // object with the appropriate methods. Currently this is a non binary\n",
       "    // socket, so there is still some room for performance tuning.\n",
       "    var ws = {};\n",
       "\n",
       "    ws.close = function() {\n",
       "        comm.close()\n",
       "    };\n",
       "    ws.send = function(m) {\n",
       "        //console.log('sending', m);\n",
       "        comm.send(m);\n",
       "    };\n",
       "    // Register the callback with on_msg.\n",
       "    comm.on_msg(function(msg) {\n",
       "        //console.log('receiving', msg['content']['data'], msg);\n",
       "        // Pass the mpl event to the overridden (by mpl) onmessage function.\n",
       "        ws.onmessage(msg['content']['data'])\n",
       "    });\n",
       "    return ws;\n",
       "}\n",
       "\n",
       "mpl.mpl_figure_comm = function(comm, msg) {\n",
       "    // This is the function which gets called when the mpl process\n",
       "    // starts-up an IPython Comm through the \"matplotlib\" channel.\n",
       "\n",
       "    var id = msg.content.data.id;\n",
       "    // Get hold of the div created by the display call when the Comm\n",
       "    // socket was opened in Python.\n",
       "    var element = $(\"#\" + id);\n",
       "    var ws_proxy = comm_websocket_adapter(comm)\n",
       "\n",
       "    function ondownload(figure, format) {\n",
       "        window.open(figure.imageObj.src);\n",
       "    }\n",
       "\n",
       "    var fig = new mpl.figure(id, ws_proxy,\n",
       "                           ondownload,\n",
       "                           element.get(0));\n",
       "\n",
       "    // Call onopen now - mpl needs it, as it is assuming we've passed it a real\n",
       "    // web socket which is closed, not our websocket->open comm proxy.\n",
       "    ws_proxy.onopen();\n",
       "\n",
       "    fig.parent_element = element.get(0);\n",
       "    fig.cell_info = mpl.find_output_cell(\"<div id='\" + id + \"'></div>\");\n",
       "    if (!fig.cell_info) {\n",
       "        console.error(\"Failed to find cell for figure\", id, fig);\n",
       "        return;\n",
       "    }\n",
       "\n",
       "    var output_index = fig.cell_info[2]\n",
       "    var cell = fig.cell_info[0];\n",
       "\n",
       "};\n",
       "\n",
       "mpl.figure.prototype.handle_close = function(fig, msg) {\n",
       "    var width = fig.canvas.width/mpl.ratio\n",
       "    fig.root.unbind('remove')\n",
       "\n",
       "    // Update the output cell to use the data from the current canvas.\n",
       "    fig.push_to_output();\n",
       "    var dataURL = fig.canvas.toDataURL();\n",
       "    // Re-enable the keyboard manager in IPython - without this line, in FF,\n",
       "    // the notebook keyboard shortcuts fail.\n",
       "    IPython.keyboard_manager.enable()\n",
       "    $(fig.parent_element).html('<img src=\"' + dataURL + '\" width=\"' + width + '\">');\n",
       "    fig.close_ws(fig, msg);\n",
       "}\n",
       "\n",
       "mpl.figure.prototype.close_ws = function(fig, msg){\n",
       "    fig.send_message('closing', msg);\n",
       "    // fig.ws.close()\n",
       "}\n",
       "\n",
       "mpl.figure.prototype.push_to_output = function(remove_interactive) {\n",
       "    // Turn the data on the canvas into data in the output cell.\n",
       "    var width = this.canvas.width/mpl.ratio\n",
       "    var dataURL = this.canvas.toDataURL();\n",
       "    this.cell_info[1]['text/html'] = '<img src=\"' + dataURL + '\" width=\"' + width + '\">';\n",
       "}\n",
       "\n",
       "mpl.figure.prototype.updated_canvas_event = function() {\n",
       "    // Tell IPython that the notebook contents must change.\n",
       "    IPython.notebook.set_dirty(true);\n",
       "    this.send_message(\"ack\", {});\n",
       "    var fig = this;\n",
       "    // Wait a second, then push the new image to the DOM so\n",
       "    // that it is saved nicely (might be nice to debounce this).\n",
       "    setTimeout(function () { fig.push_to_output() }, 1000);\n",
       "}\n",
       "\n",
       "mpl.figure.prototype._init_toolbar = function() {\n",
       "    var fig = this;\n",
       "\n",
       "    var nav_element = $('<div/>')\n",
       "    nav_element.attr('style', 'width: 100%');\n",
       "    this.root.append(nav_element);\n",
       "\n",
       "    // Define a callback function for later on.\n",
       "    function toolbar_event(event) {\n",
       "        return fig.toolbar_button_onclick(event['data']);\n",
       "    }\n",
       "    function toolbar_mouse_event(event) {\n",
       "        return fig.toolbar_button_onmouseover(event['data']);\n",
       "    }\n",
       "\n",
       "    for(var toolbar_ind in mpl.toolbar_items){\n",
       "        var name = mpl.toolbar_items[toolbar_ind][0];\n",
       "        var tooltip = mpl.toolbar_items[toolbar_ind][1];\n",
       "        var image = mpl.toolbar_items[toolbar_ind][2];\n",
       "        var method_name = mpl.toolbar_items[toolbar_ind][3];\n",
       "\n",
       "        if (!name) { continue; };\n",
       "\n",
       "        var button = $('<button class=\"btn btn-default\" href=\"#\" title=\"' + name + '\"><i class=\"fa ' + image + ' fa-lg\"></i></button>');\n",
       "        button.click(method_name, toolbar_event);\n",
       "        button.mouseover(tooltip, toolbar_mouse_event);\n",
       "        nav_element.append(button);\n",
       "    }\n",
       "\n",
       "    // Add the status bar.\n",
       "    var status_bar = $('<span class=\"mpl-message\" style=\"text-align:right; float: right;\"/>');\n",
       "    nav_element.append(status_bar);\n",
       "    this.message = status_bar[0];\n",
       "\n",
       "    // Add the close button to the window.\n",
       "    var buttongrp = $('<div class=\"btn-group inline pull-right\"></div>');\n",
       "    var button = $('<button class=\"btn btn-mini btn-primary\" href=\"#\" title=\"Stop Interaction\"><i class=\"fa fa-power-off icon-remove icon-large\"></i></button>');\n",
       "    button.click(function (evt) { fig.handle_close(fig, {}); } );\n",
       "    button.mouseover('Stop Interaction', toolbar_mouse_event);\n",
       "    buttongrp.append(button);\n",
       "    var titlebar = this.root.find($('.ui-dialog-titlebar'));\n",
       "    titlebar.prepend(buttongrp);\n",
       "}\n",
       "\n",
       "mpl.figure.prototype._root_extra_style = function(el){\n",
       "    var fig = this\n",
       "    el.on(\"remove\", function(){\n",
       "\tfig.close_ws(fig, {});\n",
       "    });\n",
       "}\n",
       "\n",
       "mpl.figure.prototype._canvas_extra_style = function(el){\n",
       "    // this is important to make the div 'focusable\n",
       "    el.attr('tabindex', 0)\n",
       "    // reach out to IPython and tell the keyboard manager to turn it's self\n",
       "    // off when our div gets focus\n",
       "\n",
       "    // location in version 3\n",
       "    if (IPython.notebook.keyboard_manager) {\n",
       "        IPython.notebook.keyboard_manager.register_events(el);\n",
       "    }\n",
       "    else {\n",
       "        // location in version 2\n",
       "        IPython.keyboard_manager.register_events(el);\n",
       "    }\n",
       "\n",
       "}\n",
       "\n",
       "mpl.figure.prototype._key_event_extra = function(event, name) {\n",
       "    var manager = IPython.notebook.keyboard_manager;\n",
       "    if (!manager)\n",
       "        manager = IPython.keyboard_manager;\n",
       "\n",
       "    // Check for shift+enter\n",
       "    if (event.shiftKey && event.which == 13) {\n",
       "        this.canvas_div.blur();\n",
       "        event.shiftKey = false;\n",
       "        // Send a \"J\" for go to next cell\n",
       "        event.which = 74;\n",
       "        event.keyCode = 74;\n",
       "        manager.command_mode();\n",
       "        manager.handle_keydown(event);\n",
       "    }\n",
       "}\n",
       "\n",
       "mpl.figure.prototype.handle_save = function(fig, msg) {\n",
       "    fig.ondownload(fig, null);\n",
       "}\n",
       "\n",
       "\n",
       "mpl.find_output_cell = function(html_output) {\n",
       "    // Return the cell and output element which can be found *uniquely* in the notebook.\n",
       "    // Note - this is a bit hacky, but it is done because the \"notebook_saving.Notebook\"\n",
       "    // IPython event is triggered only after the cells have been serialised, which for\n",
       "    // our purposes (turning an active figure into a static one), is too late.\n",
       "    var cells = IPython.notebook.get_cells();\n",
       "    var ncells = cells.length;\n",
       "    for (var i=0; i<ncells; i++) {\n",
       "        var cell = cells[i];\n",
       "        if (cell.cell_type === 'code'){\n",
       "            for (var j=0; j<cell.output_area.outputs.length; j++) {\n",
       "                var data = cell.output_area.outputs[j];\n",
       "                if (data.data) {\n",
       "                    // IPython >= 3 moved mimebundle to data attribute of output\n",
       "                    data = data.data;\n",
       "                }\n",
       "                if (data['text/html'] == html_output) {\n",
       "                    return [cell, data, j];\n",
       "                }\n",
       "            }\n",
       "        }\n",
       "    }\n",
       "}\n",
       "\n",
       "// Register the function which deals with the matplotlib target/channel.\n",
       "// The kernel may be null if the page has been refreshed.\n",
       "if (IPython.notebook.kernel != null) {\n",
       "    IPython.notebook.kernel.comm_manager.register_target('matplotlib', mpl.mpl_figure_comm);\n",
       "}\n"
      ],
      "text/plain": [
       "<IPython.core.display.Javascript object>"
      ]
     },
     "metadata": {},
     "output_type": "display_data"
    },
    {
     "data": {
      "text/html": [
       "<img src=\"data:image/png;base64,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\" width=\"640\">"
      ],
      "text/plain": [
       "<IPython.core.display.HTML object>"
      ]
     },
     "metadata": {},
     "output_type": "display_data"
    },
    {
     "data": {
      "text/plain": [
       "<matplotlib.axes._subplots.AxesSubplot at 0x1a16c4e5eb8>"
      ]
     },
     "execution_count": 79,
     "metadata": {},
     "output_type": "execute_result"
    }
   ],
   "source": [
    "graph.plot.bar()"
   ]
  },
  {
   "cell_type": "code",
   "execution_count": 80,
   "metadata": {},
   "outputs": [],
   "source": [
    "%matplotlib inline #인터렉티브 기능 사라짐.끄기"
   ]
  },
  {
   "cell_type": "code",
   "execution_count": 81,
   "metadata": {},
   "outputs": [
    {
     "data": {
      "text/html": [
       "<div class=\"vega-embed\" id=\"0646f631-6aeb-4526-9128-8219d409800c\"></div>\n",
       "\n",
       "<style>\n",
       ".vega-embed .vega-actions > a {\n",
       "    transition: opacity 200ms ease-in;\n",
       "    opacity: 0.3;\n",
       "    margin-right: 0.6em;\n",
       "    color: #444;\n",
       "    text-decoration: none;\n",
       "}\n",
       "\n",
       ".vega-embed .vega-actions > a:hover {\n",
       "    color: #000;\n",
       "    text-decoration: underline;\n",
       "}\n",
       "\n",
       ".vega-embed:hover .vega-actions > a {\n",
       "    opacity: 1;\n",
       "    transition: 0s;\n",
       "}\n",
       "\n",
       ".vega-embed .error p {\n",
       "    color: firebrick;\n",
       "    font-size: 1.2em;\n",
       "}\n",
       "</style>\n"
      ]
     },
     "metadata": {
      "jupyter-vega3": "#0646f631-6aeb-4526-9128-8219d409800c"
     },
     "output_type": "display_data"
    },
    {
     "data": {
      "application/javascript": [
       "var spec = {\"mark\": \"bar\", \"encoding\": {\"x\": {\"field\": \"sex\", \"type\": \"nominal\"}, \"y\": {\"field\": \"value\", \"type\": \"quantitative\", \"stack\": null}, \"color\": {\"field\": \"variable\", \"type\": \"nominal\"}}, \"$schema\": \"https://vega.github.io/schema/vega-lite/v2.json\", \"width\": 450, \"height\": 300, \"selection\": {\"grid\": {\"type\": \"interval\", \"bind\": \"scales\"}}, \"data\": {\"values\": [{\"sex\": \"Female\", \"variable\": \"tip\", \"value\": 2.833448275862069}, {\"sex\": \"Male\", \"variable\": \"tip\", \"value\": 3.0896178343949052}]}};\n",
       "var opt = {};\n",
       "var selector = \"#0646f631-6aeb-4526-9128-8219d409800c\";\n",
       "var type = \"vega-lite\";\n",
       "\n",
       "var output_area = this;\n",
       "\n",
       "require(['nbextensions/jupyter-vega3/index'], function(vega) {\n",
       "  vega.render(selector, spec, type, opt, output_area);\n",
       "}, function (err) {\n",
       "  if (err.requireType !== 'scripterror') {\n",
       "    throw(err);\n",
       "  }\n",
       "});\n"
      ]
     },
     "metadata": {
      "jupyter-vega3": "#0646f631-6aeb-4526-9128-8219d409800c"
     },
     "output_type": "display_data"
    },
    {
     "data": {
      "image/png": "[encoded data removed]"
     },
     "metadata": {
      "jupyter-vega3": "#0646f631-6aeb-4526-9128-8219d409800c"
     },
     "output_type": "display_data"
    }
   ],
   "source": [
    "graph.vgplot.bar() # vega 는 또다른 아름다움. 약간 미묘함 그냥 판다스 쓰는사람거의없다 성의없어보여서 ,두세줄만 고쳐도되는데 ."
   ]
  },
  {
   "cell_type": "code",
   "execution_count": 82,
   "metadata": {},
   "outputs": [],
   "source": [
    "#파이썬에서 막강하다,\n",
    "# pdvega는 파이썬의 plot 에서 vgplot 을 대체해서 모양을 바꿔준다. \n"
   ]
  },
  {
   "cell_type": "code",
   "execution_count": 83,
   "metadata": {},
   "outputs": [
    {
     "data": {
      "text/plain": [
       "<matplotlib.axes._subplots.AxesSubplot at 0x1a16c530e80>"
      ]
     },
     "execution_count": 83,
     "metadata": {},
     "output_type": "execute_result"
    },
    {
     "data": {
      "image/png": "[encoded data removed]",
      "text/plain": [
       "<Figure size 432x288 with 1 Axes>"
      ]
     },
     "metadata": {},
     "output_type": "display_data"
    }
   ],
   "source": [
    "sns.barplot(graph)"
   ]
  },
  {
   "cell_type": "code",
   "execution_count": 84,
   "metadata": {},
   "outputs": [],
   "source": [
    "# 통계값이 추가됨 - 검정 -> 오차범위"
   ]
  },
  {
   "cell_type": "markdown",
   "metadata": {},
   "source": [
    "seaborn 도 matplot 의 기본이 기때문에 ggplot 의 테마가 적용되었다?"
   ]
  },
  {
   "cell_type": "code",
   "execution_count": 85,
   "metadata": {},
   "outputs": [
    {
     "data": {
      "text/html": [
       "<div>\n",
       "<style scoped>\n",
       "    .dataframe tbody tr th:only-of-type {\n",
       "        vertical-align: middle;\n",
       "    }\n",
       "\n",
       "    .dataframe tbody tr th {\n",
       "        vertical-align: top;\n",
       "    }\n",
       "\n",
       "    .dataframe thead th {\n",
       "        text-align: right;\n",
       "    }\n",
       "</style>\n",
       "<table border=\"1\" class=\"dataframe\">\n",
       "  <thead>\n",
       "    <tr style=\"text-align: right;\">\n",
       "      <th></th>\n",
       "      <th>tip</th>\n",
       "    </tr>\n",
       "    <tr>\n",
       "      <th>sex</th>\n",
       "      <th></th>\n",
       "    </tr>\n",
       "  </thead>\n",
       "  <tbody>\n",
       "    <tr>\n",
       "      <th>Female</th>\n",
       "      <td>2.833448</td>\n",
       "    </tr>\n",
       "    <tr>\n",
       "      <th>Male</th>\n",
       "      <td>3.089618</td>\n",
       "    </tr>\n",
       "  </tbody>\n",
       "</table>\n",
       "</div>"
      ],
      "text/plain": [
       "             tip\n",
       "sex             \n",
       "Female  2.833448\n",
       "Male    3.089618"
      ]
     },
     "execution_count": 85,
     "metadata": {},
     "output_type": "execute_result"
    }
   ],
   "source": [
    "graph #1차원."
   ]
  },
  {
   "cell_type": "code",
   "execution_count": 88,
   "metadata": {},
   "outputs": [
    {
     "data": {
      "text/plain": [
       "<matplotlib.axes._subplots.AxesSubplot at 0x1a16cb5f860>"
      ]
     },
     "execution_count": 88,
     "metadata": {},
     "output_type": "execute_result"
    },
    {
     "data": {
      "image/png": "[encoded data removed]",
      "text/plain": [
       "<Figure size 432x288 with 1 Axes>"
      ]
     },
     "metadata": {},
     "output_type": "display_data"
    }
   ],
   "source": [
    "sns.barplot(graph,orient='v') #인터렉티브 안된다 ."
   ]
  },
  {
   "cell_type": "code",
   "execution_count": 89,
   "metadata": {},
   "outputs": [
    {
     "data": {
      "text/html": [
       "<div>\n",
       "<style scoped>\n",
       "    .dataframe tbody tr th:only-of-type {\n",
       "        vertical-align: middle;\n",
       "    }\n",
       "\n",
       "    .dataframe tbody tr th {\n",
       "        vertical-align: top;\n",
       "    }\n",
       "\n",
       "    .dataframe thead th {\n",
       "        text-align: right;\n",
       "    }\n",
       "</style>\n",
       "<table border=\"1\" class=\"dataframe\">\n",
       "  <thead>\n",
       "    <tr style=\"text-align: right;\">\n",
       "      <th>sex</th>\n",
       "      <th>Female</th>\n",
       "      <th>Male</th>\n",
       "    </tr>\n",
       "  </thead>\n",
       "  <tbody>\n",
       "    <tr>\n",
       "      <th>tip</th>\n",
       "      <td>2.833448</td>\n",
       "      <td>3.089618</td>\n",
       "    </tr>\n",
       "  </tbody>\n",
       "</table>\n",
       "</div>"
      ],
      "text/plain": [
       "sex    Female      Male\n",
       "tip  2.833448  3.089618"
      ]
     },
     "execution_count": 89,
     "metadata": {},
     "output_type": "execute_result"
    }
   ],
   "source": [
    "graph.T #transpose"
   ]
  },
  {
   "cell_type": "markdown",
   "metadata": {},
   "source": [
    "1차원이라서 Transpose 해도 쓸모가 없다.  >> 이해안됨"
   ]
  },
  {
   "cell_type": "markdown",
   "metadata": {},
   "source": [
    "------------------------------------------"
   ]
  },
  {
   "cell_type": "markdown",
   "metadata": {},
   "source": [
    "# 요일별 팁을 어떻게 줄까 그래프그리기"
   ]
  },
  {
   "cell_type": "code",
   "execution_count": 97,
   "metadata": {
    "scrolled": true
   },
   "outputs": [
    {
     "data": {
      "text/plain": [
       "day\n",
       "Fri     2.734737\n",
       "Sat     2.993103\n",
       "Sun     3.255132\n",
       "Thur    2.771452\n",
       "Name: tip, dtype: float64"
      ]
     },
     "execution_count": 97,
     "metadata": {},
     "output_type": "execute_result"
    }
   ],
   "source": [
    "data2.groupby('day').tip.mean()"
   ]
  },
  {
   "cell_type": "code",
   "execution_count": 98,
   "metadata": {},
   "outputs": [],
   "source": [
    "graph  = pd.pivot_table(data2,values='tip',index=\"day\") "
   ]
  },
  {
   "cell_type": "code",
   "execution_count": 100,
   "metadata": {},
   "outputs": [
    {
     "data": {
      "text/plain": [
       "<matplotlib.axes._subplots.AxesSubplot at 0x1a16cba65c0>"
      ]
     },
     "execution_count": 100,
     "metadata": {},
     "output_type": "execute_result"
    },
    {
     "data": {
      "image/png": "[encoded data removed]",
      "text/plain": [
       "<Figure size 432x288 with 1 Axes>"
      ]
     },
     "metadata": {},
     "output_type": "display_data"
    }
   ],
   "source": [
    "graph.plot.bar()"
   ]
  },
  {
   "cell_type": "code",
   "execution_count": 101,
   "metadata": {},
   "outputs": [],
   "source": [
    "iris = sns.load_dataset('iris')"
   ]
  },
  {
   "cell_type": "code",
   "execution_count": 102,
   "metadata": {},
   "outputs": [
    {
     "data": {
      "text/html": [
       "<div>\n",
       "<style scoped>\n",
       "    .dataframe tbody tr th:only-of-type {\n",
       "        vertical-align: middle;\n",
       "    }\n",
       "\n",
       "    .dataframe tbody tr th {\n",
       "        vertical-align: top;\n",
       "    }\n",
       "\n",
       "    .dataframe thead th {\n",
       "        text-align: right;\n",
       "    }\n",
       "</style>\n",
       "<table border=\"1\" class=\"dataframe\">\n",
       "  <thead>\n",
       "    <tr style=\"text-align: right;\">\n",
       "      <th></th>\n",
       "      <th>sepal_length</th>\n",
       "      <th>sepal_width</th>\n",
       "      <th>petal_length</th>\n",
       "      <th>petal_width</th>\n",
       "    </tr>\n",
       "  </thead>\n",
       "  <tbody>\n",
       "    <tr>\n",
       "      <th>count</th>\n",
       "      <td>150.000000</td>\n",
       "      <td>150.000000</td>\n",
       "      <td>150.000000</td>\n",
       "      <td>150.000000</td>\n",
       "    </tr>\n",
       "    <tr>\n",
       "      <th>mean</th>\n",
       "      <td>5.843333</td>\n",
       "      <td>3.057333</td>\n",
       "      <td>3.758000</td>\n",
       "      <td>1.199333</td>\n",
       "    </tr>\n",
       "    <tr>\n",
       "      <th>std</th>\n",
       "      <td>0.828066</td>\n",
       "      <td>0.435866</td>\n",
       "      <td>1.765298</td>\n",
       "      <td>0.762238</td>\n",
       "    </tr>\n",
       "    <tr>\n",
       "      <th>min</th>\n",
       "      <td>4.300000</td>\n",
       "      <td>2.000000</td>\n",
       "      <td>1.000000</td>\n",
       "      <td>0.100000</td>\n",
       "    </tr>\n",
       "    <tr>\n",
       "      <th>25%</th>\n",
       "      <td>5.100000</td>\n",
       "      <td>2.800000</td>\n",
       "      <td>1.600000</td>\n",
       "      <td>0.300000</td>\n",
       "    </tr>\n",
       "    <tr>\n",
       "      <th>50%</th>\n",
       "      <td>5.800000</td>\n",
       "      <td>3.000000</td>\n",
       "      <td>4.350000</td>\n",
       "      <td>1.300000</td>\n",
       "    </tr>\n",
       "    <tr>\n",
       "      <th>75%</th>\n",
       "      <td>6.400000</td>\n",
       "      <td>3.300000</td>\n",
       "      <td>5.100000</td>\n",
       "      <td>1.800000</td>\n",
       "    </tr>\n",
       "    <tr>\n",
       "      <th>max</th>\n",
       "      <td>7.900000</td>\n",
       "      <td>4.400000</td>\n",
       "      <td>6.900000</td>\n",
       "      <td>2.500000</td>\n",
       "    </tr>\n",
       "  </tbody>\n",
       "</table>\n",
       "</div>"
      ],
      "text/plain": [
       "       sepal_length  sepal_width  petal_length  petal_width\n",
       "count    150.000000   150.000000    150.000000   150.000000\n",
       "mean       5.843333     3.057333      3.758000     1.199333\n",
       "std        0.828066     0.435866      1.765298     0.762238\n",
       "min        4.300000     2.000000      1.000000     0.100000\n",
       "25%        5.100000     2.800000      1.600000     0.300000\n",
       "50%        5.800000     3.000000      4.350000     1.300000\n",
       "75%        6.400000     3.300000      5.100000     1.800000\n",
       "max        7.900000     4.400000      6.900000     2.500000"
      ]
     },
     "execution_count": 102,
     "metadata": {},
     "output_type": "execute_result"
    }
   ],
   "source": [
    "iris.describe()"
   ]
  },
  {
   "cell_type": "code",
   "execution_count": 103,
   "metadata": {},
   "outputs": [
    {
     "data": {
      "text/html": [
       "<div>\n",
       "<style scoped>\n",
       "    .dataframe tbody tr th:only-of-type {\n",
       "        vertical-align: middle;\n",
       "    }\n",
       "\n",
       "    .dataframe tbody tr th {\n",
       "        vertical-align: top;\n",
       "    }\n",
       "\n",
       "    .dataframe thead th {\n",
       "        text-align: right;\n",
       "    }\n",
       "</style>\n",
       "<table border=\"1\" class=\"dataframe\">\n",
       "  <thead>\n",
       "    <tr style=\"text-align: right;\">\n",
       "      <th></th>\n",
       "      <th>sepal_length</th>\n",
       "      <th>sepal_width</th>\n",
       "      <th>petal_length</th>\n",
       "      <th>petal_width</th>\n",
       "    </tr>\n",
       "  </thead>\n",
       "  <tbody>\n",
       "    <tr>\n",
       "      <th>sepal_length</th>\n",
       "      <td>1.000000</td>\n",
       "      <td>-0.117570</td>\n",
       "      <td>0.871754</td>\n",
       "      <td>0.817941</td>\n",
       "    </tr>\n",
       "    <tr>\n",
       "      <th>sepal_width</th>\n",
       "      <td>-0.117570</td>\n",
       "      <td>1.000000</td>\n",
       "      <td>-0.428440</td>\n",
       "      <td>-0.366126</td>\n",
       "    </tr>\n",
       "    <tr>\n",
       "      <th>petal_length</th>\n",
       "      <td>0.871754</td>\n",
       "      <td>-0.428440</td>\n",
       "      <td>1.000000</td>\n",
       "      <td>0.962865</td>\n",
       "    </tr>\n",
       "    <tr>\n",
       "      <th>petal_width</th>\n",
       "      <td>0.817941</td>\n",
       "      <td>-0.366126</td>\n",
       "      <td>0.962865</td>\n",
       "      <td>1.000000</td>\n",
       "    </tr>\n",
       "  </tbody>\n",
       "</table>\n",
       "</div>"
      ],
      "text/plain": [
       "              sepal_length  sepal_width  petal_length  petal_width\n",
       "sepal_length      1.000000    -0.117570      0.871754     0.817941\n",
       "sepal_width      -0.117570     1.000000     -0.428440    -0.366126\n",
       "petal_length      0.871754    -0.428440      1.000000     0.962865\n",
       "petal_width       0.817941    -0.366126      0.962865     1.000000"
      ]
     },
     "execution_count": 103,
     "metadata": {},
     "output_type": "execute_result"
    }
   ],
   "source": [
    "iris.corr()"
   ]
  },
  {
   "cell_type": "code",
   "execution_count": 106,
   "metadata": {},
   "outputs": [
    {
     "name": "stdout",
     "output_type": "stream",
     "text": [
      "<class 'pandas.core.frame.DataFrame'>\n",
      "RangeIndex: 150 entries, 0 to 149\n",
      "Data columns (total 5 columns):\n",
      "sepal_length    150 non-null float64\n",
      "sepal_width     150 non-null float64\n",
      "petal_length    150 non-null float64\n",
      "petal_width     150 non-null float64\n",
      "species         150 non-null object\n",
      "dtypes: float64(4), object(1)\n",
      "memory usage: 5.9+ KB\n"
     ]
    }
   ],
   "source": [
    "iris.info()"
   ]
  },
  {
   "cell_type": "code",
   "execution_count": 108,
   "metadata": {},
   "outputs": [
    {
     "data": {
      "text/plain": [
       "<seaborn.axisgrid.PairGrid at 0x1a16e4326d8>"
      ]
     },
     "execution_count": 108,
     "metadata": {},
     "output_type": "execute_result"
    },
    {
     "data": {
      "image/png": "[encoded data removed]",
      "text/plain": [
       "<Figure size 799.125x720 with 20 Axes>"
      ]
     },
     "metadata": {},
     "output_type": "display_data"
    }
   ],
   "source": [
    "#상간관꼐를 볼떄 \n",
    "sns.pairplot(iris,hue=\"species\")"
   ]
  },
  {
   "cell_type": "markdown",
   "metadata": {},
   "source": [
    "통계치 봤을때 두개의 상간계수를 보았다.  어느게 더 우아한가? hue =species 하니까 종류별로 색깔이 다 나온다\n",
    "\n",
    "matplotlib을 \n",
    "빠르게 그릴수있다 : pandas  \n",
    "    빠르며 통계값쓴다 : seaborn. \n",
    "        ggplot: 은 R 에서 배웠다\n",
    "    인터렉티브 기능이없다.따라서 웹시스템에서 이쁘게 보이려면 plotlib, bokeh ,vega \n",
    "    vega는 pdvega 이상 쓸필요없다 vega 문법이 또 따로 있으니까 .\n",
    "    https://bokeh.pydata.org/en/latest/\n",
    "    \n",
    "    visualizaiton 은 이뻐야한다 . \n",
    "    gallery , 웹기반. \n",
    "    flask , bokeh 하고 연결해서 , 최종적으로 만들것은 그래프와 이런것을 ,옵션해서 입력받는다 결과를 딱 보여준다 . \n",
    "    첫번째 표를 보여주고 , 그래프 탭마다 딱 보여주면 발표할때\n",
    "    bokeh 를 만들것이다.\n",
    "    "
   ]
  },
  {
   "cell_type": "code",
   "execution_count": null,
   "metadata": {},
   "outputs": [],
   "source": []
  }
 ],
 "metadata": {
  "kernelspec": {
   "display_name": "Python 3",
   "language": "python",
   "name": "python3"
  },
  "language_info": {
   "codemirror_mode": {
    "name": "ipython",
    "version": 3
   },
   "file_extension": ".py",
   "mimetype": "text/x-python",
   "name": "python",
   "nbconvert_exporter": "python",
   "pygments_lexer": "ipython3",
   "version": "3.6.5"
  }
 },
 "nbformat": 4,
 "nbformat_minor": 2
}
