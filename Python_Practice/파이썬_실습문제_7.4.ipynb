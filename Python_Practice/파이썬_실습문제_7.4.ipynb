{
 "cells": [
  {
   "cell_type": "markdown",
   "metadata": {},
   "source": [
    "61번 문제"
   ]
  },
  {
   "cell_type": "code",
   "execution_count": 1,
   "metadata": {},
   "outputs": [
    {
     "name": "stdout",
     "output_type": "stream",
     "text": [
      "input numbers5\n",
      "input numbers4\n",
      "input numbers3\n",
      "input numbers0\n",
      "End input without last input : 0\n",
      "4.0\n"
     ]
    }
   ],
   "source": [
    "number_list=[]\n",
    "cnt = 0\n",
    "while True:\n",
    "    number = int(input(\"input numbers\"))\n",
    "   \n",
    "    \n",
    "    if number == 0:\n",
    "        if cnt == 0 : \n",
    "            print(\"Error!! 0 is assigned as first value\")\n",
    "        else :\n",
    "            print(\"End input without last input : 0\")\n",
    "        break\n",
    "    number_list.append(number)\n",
    "    cnt +=1\n",
    "try:\n",
    "    average= sum(number_list)/cnt\n",
    "    print(average)\n",
    "except:\n",
    "    print(\"\")\n"
   ]
  },
  {
   "cell_type": "markdown",
   "metadata": {},
   "source": [
    "\n",
    "63번 문제 "
   ]
  },
  {
   "cell_type": "code",
   "execution_count": 2,
   "metadata": {},
   "outputs": [
    {
     "name": "stdout",
     "output_type": "stream",
     "text": [
      "섭씨\t 화씨\n",
      "0 \t 32.0\n",
      "10 \t 50.0\n",
      "20 \t 68.0\n",
      "30 \t 86.0\n",
      "40 \t 104.0\n",
      "50 \t 122.0\n",
      "60 \t 140.0\n",
      "70 \t 158.0\n",
      "80 \t 176.0\n",
      "90 \t 194.0\n",
      "100 \t 212.0\n"
     ]
    }
   ],
   "source": [
    "print(\"섭씨\\t 화씨\")\n",
    "for i in range(0,101, 10):\n",
    "    print( i, \"\\t\", i*1.8+32)\n"
   ]
  },
  {
   "cell_type": "markdown",
   "metadata": {},
   "source": [
    "66번 문제\n"
   ]
  },
  {
   "cell_type": "code",
   "execution_count": 3,
   "metadata": {},
   "outputs": [
    {
     "name": "stdout",
     "output_type": "stream",
     "text": [
      "Grade? A+\n",
      "Grade? A\n",
      "Grade? A+\n",
      "Grade? A\n",
      "Grade? \n",
      "4.0\n"
     ]
    }
   ],
   "source": [
    "def evaluate(x):\n",
    "    sum=0\n",
    "    if len(x) ==2: #글자가 두개일때\n",
    "        sum+=69-ord(x[0])\n",
    "        if x[1]==\"+\":\n",
    "            sum+=0.3\n",
    "        else:\n",
    "            sum-=0.3\n",
    "    else:# 글자가 하나일때\n",
    "        sum+=69-ord(x[0])\n",
    "    if sum>4:\n",
    "        sum=4\n",
    "    return sum\n",
    "\n",
    "cnt=0\n",
    "total_sum=0\n",
    "while True:\n",
    "    \n",
    "    input_s = input(\"Grade? \")\n",
    "    if input_s is \"\":\n",
    "        break\n",
    "    total_sum+=evaluate(input_s)\n",
    "    cnt+=1\n",
    "    \n",
    "avg=total_sum/cnt\n",
    "print(avg)\n"
   ]
  },
  {
   "cell_type": "markdown",
   "metadata": {},
   "source": [
    "67번 문제"
   ]
  },
  {
   "cell_type": "code",
   "execution_count": 4,
   "metadata": {},
   "outputs": [
    {
     "name": "stdout",
     "output_type": "stream",
     "text": [
      "2\n",
      "5\n",
      "14\n",
      "69\n",
      "34\n",
      "\n",
      "program ended\n"
     ]
    },
    {
     "data": {
      "text/plain": [
       "'$78.00'"
      ]
     },
     "execution_count": 4,
     "metadata": {},
     "output_type": "execute_result"
    }
   ],
   "source": [
    "from math import pi\n",
    "peoples=[]\n",
    "sum=0\n",
    "while True:\n",
    "    \n",
    "    inpu = input()\n",
    "    \n",
    "    if inpu is not \"\":\n",
    "        inpu = int(inpu)\n",
    "        peoples.append(inpu)\n",
    "        continue\n",
    "    else:\n",
    "        print(\"program ended\")\n",
    "        break\n",
    "\n",
    "        \n",
    "for i in range(len(peoples)):\n",
    "    if peoples[i]<3:\n",
    "        sum+=0\n",
    "    elif 2<peoples[i]<13:\n",
    "        sum+=14\n",
    "    elif peoples[i]>64:\n",
    "        sum+=18\n",
    "    else:\n",
    "        sum+=23\n",
    "\n",
    "\"$\"+'{0:.2f}'.format(sum)"
   ]
  },
  {
   "cell_type": "markdown",
   "metadata": {},
   "source": [
    "72번 문제"
   ]
  },
  {
   "cell_type": "code",
   "execution_count": 5,
   "metadata": {},
   "outputs": [
    {
     "name": "stdout",
     "output_type": "stream",
     "text": [
      "입력: racecar\n",
      "yes it is palindrome\n"
     ]
    }
   ],
   "source": [
    "input_str = input(\"입력: \")\n",
    "input_list = list(input_str)\n",
    "str_1 = input_str\n",
    "list_1 = list(str_1)\n",
    "list_2 = list_1.copy()\n",
    "list_1.reverse()\n",
    "if list_1 == list_2:\n",
    "    print(\"yes it is palindrome\")\n",
    "else:\n",
    "    print(\"not a palindrome\")"
   ]
  },
  {
   "cell_type": "markdown",
   "metadata": {},
   "source": [
    "74번문제"
   ]
  },
  {
   "cell_type": "code",
   "execution_count": 6,
   "metadata": {},
   "outputs": [
    {
     "name": "stdout",
     "output_type": "stream",
     "text": [
      " \t1\t2\t3\t4\t5\t6\t7\t8\t9\t10\t\n",
      "\n",
      "1\t1\t2\t3\t4\t5\t6\t7\t8\t9\t10\t\n",
      "\n",
      "2\t2\t4\t6\t8\t10\t12\t14\t16\t18\t20\t\n",
      "\n",
      "3\t3\t6\t9\t12\t15\t18\t21\t24\t27\t30\t\n",
      "\n",
      "4\t4\t8\t12\t16\t20\t24\t28\t32\t36\t40\t\n",
      "\n",
      "5\t5\t10\t15\t20\t25\t30\t35\t40\t45\t50\t\n",
      "\n",
      "6\t6\t12\t18\t24\t30\t36\t42\t48\t54\t60\t\n",
      "\n",
      "7\t7\t14\t21\t28\t35\t42\t49\t56\t63\t70\t\n",
      "\n",
      "8\t8\t16\t24\t32\t40\t48\t56\t64\t72\t80\t\n",
      "\n",
      "9\t9\t18\t27\t36\t45\t54\t63\t72\t81\t90\t\n",
      "\n",
      "10\t10\t20\t30\t40\t50\t60\t70\t80\t90\t100\t\n",
      "\n"
     ]
    }
   ],
   "source": [
    "\n",
    "for i in range(0,11):\n",
    "    for j in range(1,11):\n",
    "        if j == 1:\n",
    "            if i == 0: \n",
    "                print(\" \\t\", end=\"\")\n",
    "            else:\n",
    "                print(\"%d\\t\"%i, end=\"\")\n",
    "        if i == 0:\n",
    "            print(\"%d\\t\"%j, end=\"\")\n",
    "        else:\n",
    "            print(\"%d\\t\"%(i*j), end=\"\")\n",
    "    print(\"\\n\")"
   ]
  },
  {
   "cell_type": "markdown",
   "metadata": {},
   "source": [
    "75번 문제"
   ]
  },
  {
   "cell_type": "code",
   "execution_count": 16,
   "metadata": {},
   "outputs": [
    {
     "name": "stdout",
     "output_type": "stream",
     "text": [
      "8 과 12 의 최대공약수는:  4\n"
     ]
    }
   ],
   "source": [
    "n = 8\n",
    "m =12\n",
    "d = n if n <m else m\n",
    "\n",
    "while (n%d != 0) or (m%d !=0):\n",
    "    d-=1\n",
    "if(d<0):\n",
    "    print(\"no COMMON divisor\")\n",
    "else:\n",
    "    print(n,\"과\",m,\"의\",\"최대공약수는: \", d)"
   ]
  },
  {
   "cell_type": "markdown",
   "metadata": {},
   "source": [
    "77번 문제"
   ]
  },
  {
   "cell_type": "code",
   "execution_count": 8,
   "metadata": {},
   "outputs": [
    {
     "name": "stdout",
     "output_type": "stream",
     "text": [
      "10110\n",
      "\n",
      "22\n"
     ]
    }
   ],
   "source": [
    "inpu_str=\"\"\n",
    "while True:\n",
    "    inpu = input()\n",
    "    if inpu is \"\":\n",
    "        break\n",
    "    inpu_str+=inpu\n",
    "my_sum=0\n",
    "for i,v in enumerate(inpu_str):\n",
    "    star =len(inpu_str)-i-1\n",
    "    my_sum+=int(v)*(2**star)\n",
    "print(my_sum)\n"
   ]
  },
  {
   "cell_type": "markdown",
   "metadata": {},
   "source": [
    "78번 문제"
   ]
  },
  {
   "cell_type": "code",
   "execution_count": 9,
   "metadata": {},
   "outputs": [
    {
     "name": "stdout",
     "output_type": "stream",
     "text": [
      "[1, 0, 0, 1, 0]\n"
     ]
    }
   ],
   "source": [
    "remainder_list=[]\n",
    "q=18\n",
    "\n",
    "while q != 0 :\n",
    "    r=q%2\n",
    "    q=q//2 \n",
    "    remainder_list.append(r)\n",
    "    \n",
    "remainder_list.append(0)\n",
    "remainder_list.reverse()\n",
    "\n",
    "if remainder_list[0] == 0:\n",
    "    remainder_list=remainder_list[1:]\n",
    "print(remainder_list)\n",
    "\n",
    "\n"
   ]
  },
  {
   "cell_type": "code",
   "execution_count": null,
   "metadata": {},
   "outputs": [],
   "source": []
  }
 ],
 "metadata": {
  "kernelspec": {
   "display_name": "Python 3",
   "language": "python",
   "name": "python3"
  },
  "language_info": {
   "codemirror_mode": {
    "name": "ipython",
    "version": 3
   },
   "file_extension": ".py",
   "mimetype": "text/x-python",
   "name": "python",
   "nbconvert_exporter": "python",
   "pygments_lexer": "ipython3",
   "version": "3.6.5"
  }
 },
 "nbformat": 4,
 "nbformat_minor": 2
}
