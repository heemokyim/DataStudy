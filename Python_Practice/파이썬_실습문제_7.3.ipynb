{
 "cells": [
  {
   "cell_type": "markdown",
   "metadata": {},
   "source": [
    "105번"
   ]
  },
  {
   "cell_type": "code",
   "execution_count": 1,
   "metadata": {
    "scrolled": true
   },
   "outputs": [
    {
     "name": "stdout",
     "output_type": "stream",
     "text": [
      "숫자입력: 2\n",
      "숫자입력: 3\n",
      "숫자입력: 4\n",
      "숫자입력: 1\n",
      "숫자입력: 0\n",
      "1\n",
      "4\n",
      "3\n",
      "2\n"
     ]
    }
   ],
   "source": [
    "number=0\n",
    "num_list=[]\n",
    "while True : \n",
    "    number = int(input(\"숫자입력: \"))\n",
    "    if number is 0:\n",
    "        break\n",
    "    else:\n",
    "        num_list.append(number)\n",
    "num_list.reverse()\n",
    "\n",
    "for i in range(len(num_list)):\n",
    "    print(num_list[i])\n"
   ]
  },
  {
   "cell_type": "markdown",
   "metadata": {},
   "source": [
    "107번"
   ]
  },
  {
   "cell_type": "code",
   "execution_count": 2,
   "metadata": {},
   "outputs": [
    {
     "name": "stdout",
     "output_type": "stream",
     "text": [
      "문자열 입력하시오first\n",
      "문자열 입력하시오second\n",
      "문자열 입력하시오first\n",
      "문자열 입력하시오third\n",
      "문자열 입력하시오second\n",
      "문자열 입력하시오\n",
      "first\n",
      "second\n",
      "third\n"
     ]
    }
   ],
   "source": [
    "words_list=[]\n",
    "printed_list = []\n",
    "while True : \n",
    "    str = input(\"문자열 입력하시오\")\n",
    "    \n",
    "    if (str is ''):\n",
    "        break\n",
    "    else:\n",
    "        words_list.append(str)\n",
    "#print 부분\n",
    "\n",
    "for i in range(len(words_list)):\n",
    "    if not words_list[i] in printed_list:\n",
    "        print(words_list[i])\n",
    "        printed_list.append(words_list[i])\n"
   ]
  },
  {
   "cell_type": "markdown",
   "metadata": {},
   "source": [
    "108\n"
   ]
  },
  {
   "cell_type": "code",
   "execution_count": 3,
   "metadata": {},
   "outputs": [
    {
     "name": "stdout",
     "output_type": "stream",
     "text": [
      "숫자입력: 3\n",
      "숫자입력: -4\n",
      "숫자입력: 1\n",
      "숫자입력: 0\n",
      "숫자입력: -1\n",
      "숫자입력: 0\n",
      "숫자입력: -2\n",
      "숫자입력: \n",
      "-4\n",
      "-1\n",
      "-2\n",
      "0\n",
      "0\n",
      "3\n",
      "1\n"
     ]
    }
   ],
   "source": [
    "input_list=[]\n",
    "nega_list=[]\n",
    "posi_list=[]\n",
    "zero_list=[]\n",
    "all_list=[]\n",
    "while True : \n",
    "    number = input(\"숫자입력: \")\n",
    "    if number is '':\n",
    "        break\n",
    "    else:\n",
    "        real_number = int(number)\n",
    "        if real_number<0:\n",
    "            nega_list.append(real_number)\n",
    "        elif real_number is 0:\n",
    "            zero_list.append(real_number)\n",
    "        else:\n",
    "            posi_list.append(real_number)\n",
    "all_list = nega_list+zero_list+posi_list\n",
    "\n",
    "for i in range(len(all_list)):\n",
    "    print(all_list[i])\n"
   ]
  },
  {
   "cell_type": "markdown",
   "metadata": {},
   "source": [
    "110번"
   ]
  },
  {
   "cell_type": "code",
   "execution_count": 4,
   "metadata": {},
   "outputs": [
    {
     "name": "stdout",
     "output_type": "stream",
     "text": [
      "6\n",
      "28\n",
      "496\n",
      "8128\n"
     ]
    }
   ],
   "source": [
    "\n",
    "def perfect_number(x):\n",
    "    my_list= []\n",
    "    for i in range(1,x-1):\n",
    "        if x%i is 0 :\n",
    "            my_list.append(i)\n",
    "    if sum(my_list)==x:\n",
    "        return True\n",
    "    else:\n",
    "        return False\n",
    "        \n",
    "def main():\n",
    "    for i in range(1,10000):\n",
    "        if perfect_number(i):\n",
    "            print(i)\n",
    "\n",
    "if __name__=='__main__':\n",
    "    main()\n"
   ]
  },
  {
   "cell_type": "markdown",
   "metadata": {},
   "source": [
    "113번"
   ]
  },
  {
   "cell_type": "code",
   "execution_count": 2,
   "metadata": {},
   "outputs": [
    {
     "data": {
      "text/plain": [
       "'apple, orange, mango and podo'"
      ]
     },
     "execution_count": 2,
     "metadata": {},
     "output_type": "execute_result"
    }
   ],
   "source": [
    "\n",
    "fruits = [ \"apple\",\"orange\",\"mango\",\"podo\"]\n",
    "\n",
    "def sent_maker(x):\n",
    "    if(len(x)==1):\n",
    "        return fruits[0]\n",
    "    list_1=x[:-1]\n",
    "    str1 = \", \".join(list_1)\n",
    "    str2 = str1 +\" and \"+x[-1]\n",
    "    return str2\n",
    "    \n",
    "sent_maker(fruits)"
   ]
  },
  {
   "cell_type": "markdown",
   "metadata": {},
   "source": [
    "114번"
   ]
  },
  {
   "cell_type": "code",
   "execution_count": 5,
   "metadata": {},
   "outputs": [
    {
     "name": "stdout",
     "output_type": "stream",
     "text": [
      "[2, 10, 10, 21, 23, 28]\n"
     ]
    }
   ],
   "source": [
    "import random\n",
    "numbers =  list(range(1,46))\n",
    "win_number = []\n",
    "for i in range(6):\n",
    "    selected_number = random.choice(numbers)\n",
    "    win_number.append(selected_number) \n",
    "    numbers.pop(selected_number)\n",
    "win_number.sort()\n",
    "print(win_number)\n"
   ]
  },
  {
   "cell_type": "markdown",
   "metadata": {},
   "source": [
    "다시 풀었습니다."
   ]
  },
  {
   "cell_type": "code",
   "execution_count": 4,
   "metadata": {},
   "outputs": [
    {
     "name": "stdout",
     "output_type": "stream",
     "text": [
      "[3, 9, 20, 30, 39, 49]\n"
     ]
    }
   ],
   "source": [
    "import random\n",
    "rand = random.Random()\n",
    "ball_num = 0\n",
    "lotto_list=[]\n",
    "while ball_num < 6:\n",
    "    new_ball = rand.randint(1,49)\n",
    "    \n",
    "    try:\n",
    "        lotto_list.index(new_ball) #있는지 없는지 비교하고 ,없으면 except 에가서 append 한다.\n",
    "    except:\n",
    "        lotto_list.append(new_ball)\n",
    "        ball_num+=1\n",
    "    lotto_list.sort()\n",
    "print(lotto_list)"
   ]
  },
  {
   "cell_type": "code",
   "execution_count": null,
   "metadata": {},
   "outputs": [],
   "source": []
  }
 ],
 "metadata": {
  "kernelspec": {
   "display_name": "Python 3",
   "language": "python",
   "name": "python3"
  },
  "language_info": {
   "codemirror_mode": {
    "name": "ipython",
    "version": 3
   },
   "file_extension": ".py",
   "mimetype": "text/x-python",
   "name": "python",
   "nbconvert_exporter": "python",
   "pygments_lexer": "ipython3",
   "version": "3.6.5"
  }
 },
 "nbformat": 4,
 "nbformat_minor": 2
}
