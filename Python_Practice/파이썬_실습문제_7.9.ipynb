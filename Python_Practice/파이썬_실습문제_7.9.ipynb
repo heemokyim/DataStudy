{
 "cells": [
  {
   "cell_type": "markdown",
   "metadata": {},
   "source": [
    "## 문제 129번"
   ]
  },
  {
   "cell_type": "code",
   "execution_count": 54,
   "metadata": {},
   "outputs": [],
   "source": [
    "from random import *\n",
    "def rolling_dice():\n",
    "    \n",
    "\n",
    "    rand = Random();\n",
    "    dice_list = [1,2,3,4,5,6] \n",
    "    expected = [\"2.78\",\"5.56\",\"8.33\",\"11.11\",\"13.89\",\"16.67\",\"13.89\",\"11.11\",\"8.33\",\"5.56\",\"2.78\"]\n",
    "    chance = [0 for i in range(11)]\n",
    "    for i in range(1000):\n",
    "        total = 0\n",
    "        a = rand.choice(dice_list)\n",
    "        b = rand.choice(dice_list)\n",
    "        total = a+b\n",
    "        chance[total-2] = chance[total-2] + 1 \n",
    "    c_chance = [i/10 for i in chance]\n",
    "    print(\"Total\\tSimulated\\tExpected\")\n",
    "    for i in range(len(c_chance)):\n",
    "        print(i+2,\"\\t\",c_chance[i],\"\\t\\t\",expected[i])\n",
    "\n",
    "        "
   ]
  },
  {
   "cell_type": "code",
   "execution_count": 55,
   "metadata": {},
   "outputs": [
    {
     "name": "stdout",
     "output_type": "stream",
     "text": [
      "Total\tSimulated\tExpected\n",
      "2 \t 2.9 \t\t 2.78\n",
      "3 \t 3.8 \t\t 5.56\n",
      "4 \t 9.0 \t\t 8.33\n",
      "5 \t 9.7 \t\t 11.11\n",
      "6 \t 13.6 \t\t 13.89\n",
      "7 \t 17.2 \t\t 16.67\n",
      "8 \t 14.9 \t\t 13.89\n",
      "9 \t 12.9 \t\t 11.11\n",
      "10 \t 8.9 \t\t 8.33\n",
      "11 \t 4.8 \t\t 5.56\n",
      "12 \t 2.3 \t\t 2.78\n"
     ]
    }
   ],
   "source": [
    "rolling_dice()"
   ]
  },
  {
   "cell_type": "markdown",
   "metadata": {},
   "source": [
    "## 문제 130번"
   ]
  },
  {
   "cell_type": "code",
   "execution_count": 137,
   "metadata": {},
   "outputs": [],
   "source": [
    "keys = [['.',',','?','!',':'],[\"A\",\"B\",\"C\"],[\"D\",\"E\",\"F\"],['G','H',\"I\"],['J','K',\"L\"],[\"M\",\"N\",\"O\"],[\"P\",\"Q\",\"R\",\"S\"],[\"T\",\"U\",\"V\"],[\"W\",\"X\",\"Y\",\"Z\"],[\" \"]]"
   ]
  },
  {
   "cell_type": "code",
   "execution_count": 138,
   "metadata": {},
   "outputs": [],
   "source": [
    "def phone_ex(x):\n",
    "     for i,v in enumerate(keys):\n",
    "        if (x) in v:\n",
    "            print(str(i+1)*(v.index(x)+1),end=\"\")\n",
    "        "
   ]
  },
  {
   "cell_type": "code",
   "execution_count": 139,
   "metadata": {},
   "outputs": [
    {
     "name": "stdout",
     "output_type": "stream",
     "text": [
      "input : Hello, World!\n",
      "44335555556661110966677755531111"
     ]
    }
   ],
   "source": [
    "my_str = input(\"input : \")   #이것을 더 깔끔하게 할 수있을까\n",
    "my_str = my_str.upper()\n",
    "for t in range(len(my_str)):\n",
    "    phone_ex(my_str[t])"
   ]
  },
  {
   "cell_type": "markdown",
   "metadata": {},
   "source": [
    "## 문제 131번"
   ]
  },
  {
   "cell_type": "code",
   "execution_count": 181,
   "metadata": {},
   "outputs": [
    {
     "name": "stdout",
     "output_type": "stream",
     "text": [
      "input : Hello, World!\n",
      "......-...-..---.-----.-..-..-.."
     ]
    }
   ],
   "source": [
    "text_dict = {\"A\":\".-\", \"B\":\"-...\", \"C\":\"-.-.\", \"D\":\"-..\", \"E\":\".\", \"F\":\"..-.\", \"G\":\"--.\", \"H\":\"....\", \"I\":\"..\", \"J\":\".---\",\"K\":\"-.-\",\"L\":\".-..\", \"M\":\"--\",\"N\":\"-.\",\"O\":\"---\", \"P\":\".--.\",\"Q\":\"--.-\", \"R\":\".-.\", \"S\":\"...\", \"T\":\"-\", \"U\":\"..-\", \"V\":\"...-\", \"W\":\".--\", \"X\":\"-..-\",\"Y\":\"-.--\",\"Z\":\"--..\", \"0\":\"-----\", \"1\":\"..---\", \"2\":\"...--\", \"3\":\"...--\", \"4\":\"....-\", \"5\":\".....\", \"6\":\"-....\", \"7\":\"--...\",\"8\":\"---..\",\"9\":\"----.\",\" \":\"\",\",\":\"\",\"!\":\"\"}\n",
    "my_str = input(\"input : \")\n",
    "my_str = my_str.upper()\n",
    "for t in range(len(my_str)):\n",
    "    print(text_dict[my_str[t]],end=\"\")"
   ]
  },
  {
   "cell_type": "markdown",
   "metadata": {},
   "source": [
    "## 문제 132번"
   ]
  },
  {
   "cell_type": "code",
   "execution_count": 182,
   "metadata": {},
   "outputs": [
    {
     "name": "stdout",
     "output_type": "stream",
     "text": [
      "Input Codes: X0A 1B2\n",
      "Nunavut or Northwest Territories\n",
      "rural\n"
     ]
    }
   ],
   "source": [
    "text_dic = {\"A\":\"Newfoundland\", \"B\":\"Nova Scotia\", \"C\":\"Prince Edward Island\", \"E\":\"New Brunswick\", \"G\":\"Quebec\", \"H\":\"Quebec\", \"J\":\"Quebec\",\"K\":\"Ontario\",\"L\":\"Ontario\", \"M\":\"Ontario\",\"N\":\"Ontario\",\"P\":\"Ontario\" ,\"R\":\"Manitoba\", \"S\":\"Saskatchewan\", \"T\":\"Alberta\", \"V\":\"British Columbia\", \"X\":\"Nunavut or Northwest Territories\",\"Y\":\"Yukon\"}\n",
    "num_dic = {\"0\" : \"rural\"}\n",
    "# 1,3,5 는 문자 , 2,4,6 은 숫자. 구는 첫번쨰 캐릭터로 알수있다. 여기없는것은 not valid\n",
    "# 두번쨰 캐릭터는 rural or urban   0 : rural, 다른건 : urban\n",
    "# 세번째\n",
    "postal =  input(\"Input Codes: \")\n",
    "postal= postal[:2]+postal[4:]\n",
    "postal\n",
    "try:\n",
    "    print(text_dic[postal[0]])\n",
    "    if postal[1]==\"0\":\n",
    "        print(\"rural\")\n",
    "    else:\n",
    "        print(\"urban\")\n",
    "    \n",
    "    \n",
    "except:\n",
    "    print(\"Invalid Input\")"
   ]
  }
 ],
 "metadata": {
  "kernelspec": {
   "display_name": "Python 3",
   "language": "python",
   "name": "python3"
  },
  "language_info": {
   "codemirror_mode": {
    "name": "ipython",
    "version": 3
   },
   "file_extension": ".py",
   "mimetype": "text/x-python",
   "name": "python",
   "nbconvert_exporter": "python",
   "pygments_lexer": "ipython3",
   "version": "3.6.5"
  }
 },
 "nbformat": 4,
 "nbformat_minor": 2
}
