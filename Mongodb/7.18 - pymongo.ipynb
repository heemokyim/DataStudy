{
 "cells": [
  {
   "cell_type": "code",
   "execution_count": 1,
   "metadata": {},
   "outputs": [],
   "source": [
    "from pymongo import MongoClient"
   ]
  },
  {
   "cell_type": "code",
   "execution_count": 2,
   "metadata": {},
   "outputs": [],
   "source": [
    "client =  MongoClient('127.0.0.1')"
   ]
  },
  {
   "cell_type": "code",
   "execution_count": 3,
   "metadata": {},
   "outputs": [
    {
     "data": {
      "text/plain": [
       "'localhost'"
      ]
     },
     "execution_count": 3,
     "metadata": {},
     "output_type": "execute_result"
    }
   ],
   "source": [
    "client.HOST"
   ]
  },
  {
   "cell_type": "code",
   "execution_count": 4,
   "metadata": {},
   "outputs": [
    {
     "data": {
      "text/plain": [
       "27017"
      ]
     },
     "execution_count": 4,
     "metadata": {},
     "output_type": "execute_result"
    }
   ],
   "source": [
    "client.PORT"
   ]
  },
  {
   "cell_type": "code",
   "execution_count": 5,
   "metadata": {},
   "outputs": [
    {
     "data": {
      "text/plain": [
       "{'version': '4.0.0',\n",
       " 'gitVersion': '3b07af3d4f471ae89e8186d33bbb1d5259597d51',\n",
       " 'targetMinOS': 'Windows 7/Windows Server 2008 R2',\n",
       " 'modules': [],\n",
       " 'allocator': 'tcmalloc',\n",
       " 'javascriptEngine': 'mozjs',\n",
       " 'sysInfo': 'deprecated',\n",
       " 'versionArray': [4, 0, 0, 0],\n",
       " 'openssl': {'running': 'Windows SChannel'},\n",
       " 'buildEnvironment': {'distmod': '2008plus-ssl',\n",
       "  'distarch': 'x86_64',\n",
       "  'cc': 'cl: Microsoft (R) C/C++ Optimizing Compiler Version 19.00.24223 for x64',\n",
       "  'ccflags': '/nologo /EHsc /W3 /wd4355 /wd4800 /wd4267 /wd4244 /wd4290 /wd4068 /wd4351 /wd4373 /we4013 /we4099 /we4930 /WX /errorReport:none /MD /O2 /Oy- /bigobj /utf-8 /Zc:rvalueCast /Zc:strictStrings /volatile:iso /Gw /Gy /Zc:inline',\n",
       "  'cxx': 'cl: Microsoft (R) C/C++ Optimizing Compiler Version 19.00.24223 for x64',\n",
       "  'cxxflags': '/TP',\n",
       "  'linkflags': '/nologo /DEBUG /INCREMENTAL:NO /LARGEADDRESSAWARE /OPT:REF',\n",
       "  'target_arch': 'x86_64',\n",
       "  'target_os': 'windows'},\n",
       " 'bits': 64,\n",
       " 'debug': False,\n",
       " 'maxBsonObjectSize': 16777216,\n",
       " 'storageEngines': ['devnull', 'ephemeralForTest', 'mmapv1', 'wiredTiger'],\n",
       " 'ok': 1.0}"
      ]
     },
     "execution_count": 5,
     "metadata": {},
     "output_type": "execute_result"
    }
   ],
   "source": [
    "client.server_info()"
   ]
  },
  {
   "cell_type": "code",
   "execution_count": 7,
   "metadata": {},
   "outputs": [
    {
     "data": {
      "text/plain": [
       "<pymongo.command_cursor.CommandCursor at 0x16a85511518>"
      ]
     },
     "execution_count": 7,
     "metadata": {},
     "output_type": "execute_result"
    }
   ],
   "source": [
    "list_db = client.list_databases()\n",
    "list_db"
   ]
  },
  {
   "cell_type": "code",
   "execution_count": 8,
   "metadata": {},
   "outputs": [],
   "source": [
    "#커서니까 iterable 적용하자 , cursor 는 두번 호출해보면 그값이 안나온다  "
   ]
  },
  {
   "cell_type": "code",
   "execution_count": 9,
   "metadata": {},
   "outputs": [
    {
     "data": {
      "text/plain": [
       "<pymongo.command_cursor.CommandCursor at 0x16a85511518>"
      ]
     },
     "execution_count": 9,
     "metadata": {},
     "output_type": "execute_result"
    }
   ],
   "source": [
    "list_db.__iter__()"
   ]
  },
  {
   "cell_type": "code",
   "execution_count": 10,
   "metadata": {},
   "outputs": [
    {
     "name": "stdout",
     "output_type": "stream",
     "text": [
      "{'name': 'admin', 'sizeOnDisk': 163840.0, 'empty': False}\n",
      "<class 'dict'>\n",
      "{'name': 'config', 'sizeOnDisk': 49152.0, 'empty': False}\n",
      "<class 'dict'>\n",
      "{'name': 'local', 'sizeOnDisk': 73728.0, 'empty': False}\n",
      "<class 'dict'>\n",
      "{'name': 'newDB', 'sizeOnDisk': 8192.0, 'empty': False}\n",
      "<class 'dict'>\n",
      "{'name': 'sns', 'sizeOnDisk': 188416.0, 'empty': False}\n",
      "<class 'dict'>\n",
      "{'name': 'test', 'sizeOnDisk': 598016.0, 'empty': False}\n",
      "<class 'dict'>\n"
     ]
    }
   ],
   "source": [
    "for i in list_db:\n",
    "    print(i)\n",
    "    print(type(i))"
   ]
  },
  {
   "cell_type": "code",
   "execution_count": 11,
   "metadata": {},
   "outputs": [],
   "source": [
    "admin = client.get_database('admin')"
   ]
  },
  {
   "cell_type": "code",
   "execution_count": 14,
   "metadata": {},
   "outputs": [
    {
     "data": {
      "text/plain": [
       "['system.users', 'system.version']"
      ]
     },
     "execution_count": 14,
     "metadata": {},
     "output_type": "execute_result"
    }
   ],
   "source": [
    "admin.list_collection_names() "
   ]
  },
  {
   "cell_type": "code",
   "execution_count": 21,
   "metadata": {},
   "outputs": [],
   "source": [
    "#어드민에서 기본적으로 생성되어있는것은 , 시스템.user 랑 .system.version 임"
   ]
  },
  {
   "cell_type": "code",
   "execution_count": 24,
   "metadata": {},
   "outputs": [],
   "source": [
    "test2 = client.get_database('test2')  # get_Database를 통해서 접근 or 없으면 생성이된다."
   ]
  },
  {
   "cell_type": "code",
   "execution_count": 25,
   "metadata": {
    "scrolled": true
   },
   "outputs": [
    {
     "data": {
      "text/plain": [
       "Database(MongoClient(host=['127.0.0.1:27017'], document_class=dict, tz_aware=False, connect=True), 'test2')"
      ]
     },
     "execution_count": 25,
     "metadata": {},
     "output_type": "execute_result"
    }
   ],
   "source": [
    "test2"
   ]
  },
  {
   "cell_type": "code",
   "execution_count": 36,
   "metadata": {},
   "outputs": [],
   "source": [
    "test = client['test'] #이렇게도 접근가능 기존 db"
   ]
  },
  {
   "cell_type": "code",
   "execution_count": 37,
   "metadata": {},
   "outputs": [
    {
     "data": {
      "text/plain": [
       "Database(MongoClient(host=['127.0.0.1:27017'], document_class=dict, tz_aware=False, connect=True), 'test')"
      ]
     },
     "execution_count": 37,
     "metadata": {},
     "output_type": "execute_result"
    }
   ],
   "source": [
    "test #현재는 test db 를 사용중 ."
   ]
  },
  {
   "cell_type": "code",
   "execution_count": 54,
   "metadata": {},
   "outputs": [],
   "source": [
    "item= test.get_collection('item')"
   ]
  },
  {
   "cell_type": "code",
   "execution_count": 55,
   "metadata": {},
   "outputs": [
    {
     "data": {
      "text/plain": [
       "Collection(Database(MongoClient(host=['127.0.0.1:27017'], document_class=dict, tz_aware=False, connect=True), 'test'), 'item')"
      ]
     },
     "execution_count": 55,
     "metadata": {},
     "output_type": "execute_result"
    }
   ],
   "source": [
    "test['item'] # 이렇게 접근 할수도있고. "
   ]
  },
  {
   "cell_type": "code",
   "execution_count": 38,
   "metadata": {},
   "outputs": [
    {
     "data": {
      "text/plain": [
       "Collection(Database(MongoClient(host=['127.0.0.1:27017'], document_class=dict, tz_aware=False, connect=True), 'test'), 'item')"
      ]
     },
     "execution_count": 38,
     "metadata": {},
     "output_type": "execute_result"
    }
   ],
   "source": [
    "item"
   ]
  },
  {
   "cell_type": "code",
   "execution_count": 39,
   "metadata": {},
   "outputs": [],
   "source": [
    "#item.insert_one({name:price~~a})\n",
    "#item.insert_many "
   ]
  },
  {
   "cell_type": "code",
   "execution_count": 67,
   "metadata": {},
   "outputs": [],
   "source": [
    "newitem = {\n",
    "            'name':'item1',\n",
    "           'price':10000,\n",
    "           'ratio':4.5\n",
    "          } #파이몽고에서는 key 값 모두 스트링처리 : 이유 파이썬에서는 dict형의 키값이 str 이니까\n"
   ]
  },
  {
   "cell_type": "code",
   "execution_count": 68,
   "metadata": {},
   "outputs": [
    {
     "data": {
      "text/plain": [
       "<pymongo.results.InsertOneResult at 0x16a855419c8>"
      ]
     },
     "execution_count": 68,
     "metadata": {},
     "output_type": "execute_result"
    }
   ],
   "source": [
    "item.insert_one(newitem)"
   ]
  },
  {
   "cell_type": "code",
   "execution_count": 79,
   "metadata": {},
   "outputs": [],
   "source": [
    "result = item.find({})"
   ]
  },
  {
   "cell_type": "code",
   "execution_count": 80,
   "metadata": {},
   "outputs": [
    {
     "data": {
      "text/plain": [
       "<pymongo.cursor.Cursor at 0x16a85ba0ac8>"
      ]
     },
     "execution_count": 80,
     "metadata": {},
     "output_type": "execute_result"
    }
   ],
   "source": [
    "result"
   ]
  },
  {
   "cell_type": "markdown",
   "metadata": {},
   "source": [
    "커서 니까 , 직접볼수있는게 아니라 , 볼수있는 위치를 알아낸것.  그래서 그위치로 직접가서 확인해야함\n",
    "이럴땐 list를 사용하거나 , for문돌려서봐야함"
   ]
  },
  {
   "cell_type": "code",
   "execution_count": 81,
   "metadata": {},
   "outputs": [],
   "source": [
    "i = list(result)"
   ]
  },
  {
   "cell_type": "code",
   "execution_count": 82,
   "metadata": {},
   "outputs": [
    {
     "data": {
      "text/plain": [
       "[{'_id': ObjectId('5b4eaaca33d665230005f5ea'),\n",
       "  'name': 'item1',\n",
       "  'price': 10000,\n",
       "  'ratio': 4.5},\n",
       " {'_id': ObjectId('5b4eaad233d665230005f5eb'),\n",
       "  'name': 'item1',\n",
       "  'price': 10000,\n",
       "  'ratio': 4.5},\n",
       " {'_id': ObjectId('5b4eaadb33d665230005f5ec'),\n",
       "  'name': 'item1',\n",
       "  'price': 10000,\n",
       "  'ratio': 4.5}]"
      ]
     },
     "execution_count": 82,
     "metadata": {},
     "output_type": "execute_result"
    }
   ],
   "source": [
    "i"
   ]
  },
  {
   "cell_type": "code",
   "execution_count": 84,
   "metadata": {},
   "outputs": [
    {
     "data": {
      "text/plain": [
       "int"
      ]
     },
     "execution_count": 84,
     "metadata": {},
     "output_type": "execute_result"
    }
   ],
   "source": [
    "type(i[0]['price'])"
   ]
  },
  {
   "cell_type": "markdown",
   "metadata": {},
   "source": [
    "차이점 : \n",
    "pymongo는 int 형이네?\n",
    "쉘에서 만들었을 때는 double 형으로 default 인데 ,"
   ]
  },
  {
   "cell_type": "markdown",
   "metadata": {},
   "source": [
    "##  대기오염 정보를 mongodb 에 넣어보자"
   ]
  },
  {
   "cell_type": "code",
   "execution_count": 157,
   "metadata": {},
   "outputs": [],
   "source": [
    "import urllib.request\n",
    "import requests"
   ]
  },
  {
   "cell_type": "code",
   "execution_count": 161,
   "metadata": {},
   "outputs": [],
   "source": [
    "import json"
   ]
  },
  {
   "cell_type": "code",
   "execution_count": 162,
   "metadata": {},
   "outputs": [],
   "source": [
    "#resp = requests.get(\"http://openapi.airkorea.or.kr/openapi/services/rest/ArpltnInforInqireSvc/getMsrstnAcctoRltmMesureDnsty?serviceKey=DG70F1Dk%2FIJUVnoayuaFbCRKoAhow9pKpax5ofLJmBQG0EOMeos%2B1BiHE%2BE2zdrhQI%2BoiCdWNXHWLLoFzf0uPA%3D%3D&numOfRows=10&pageSize=10&pageNo=1&startPage=1&stationName=%EC%A2%85%EB%A1%9C%EA%B5%AC&dataTerm=DAILY&ver=1.3\")"
   ]
  },
  {
   "cell_type": "code",
   "execution_count": 167,
   "metadata": {},
   "outputs": [],
   "source": [
    "resp = urllib.request.urlopen(\"http://openapi.airkorea.or.kr/openapi/services/rest/ArpltnInforInqireSvc/getMsrstnAcctoRltmMesureDnsty?serviceKey=DG70F1Dk%2FIJUVnoayuaFbCRKoAhow9pKpax5ofLJmBQG0EOMeos%2B1BiHE%2BE2zdrhQI%2BoiCdWNXHWLLoFzf0uPA%3D%3D&numOfRows=10&pageSize=10&pageNo=1&startPage=1&stationName=%EC%A2%85%EB%A1%9C%EA%B5%AC&dataTerm=DAILY&ver=1.3&_returnType=json\")"
   ]
  },
  {
   "cell_type": "code",
   "execution_count": 168,
   "metadata": {},
   "outputs": [],
   "source": [
    "std = resp.read()"
   ]
  },
  {
   "cell_type": "code",
   "execution_count": 169,
   "metadata": {},
   "outputs": [
    {
     "data": {
      "text/plain": [
       "b'{\"list\":[{\"_returnType\":\"json\",\"coGrade\":\"1\",\"coValue\":\"0.4\",\"dataTerm\":\"\",\"dataTime\":\"2018-07-18 12:00\",\"khaiGrade\":\"2\",\"khaiValue\":\"77\",\"mangName\":\"\\xeb\\x8f\\x84\\xec\\x8b\\x9c\\xeb\\x8c\\x80\\xea\\xb8\\xb0\",\"no2Grade\":\"1\",\"no2Value\":\"0.029\",\"numOfRows\":\"10\",\"o3Grade\":\"1\",\"o3Value\":\"0.022\",\"pageNo\":\"1\",\"pm10Grade\":\"2\",\"pm10Grade1h\":\"2\",\"pm10Value\":\"32\",\"pm10Value24\":\"32\",\"pm25Grade\":\"2\",\"pm25Grade1h\":\"2\",\"pm25Value\":\"27\",\"pm25Value24\":\"26\",\"resultCode\":\"\",\"resultMsg\":\"\",\"rnum\":0,\"serviceKey\":\"\",\"sidoName\":\"\",\"so2Grade\":\"1\",\"so2Value\":\"0.004\",\"stationCode\":\"\",\"stationName\":\"\",\"totalCount\":\"\",\"ver\":\"\"},{\"_returnType\":\"json\",\"coGrade\":\"1\",\"coValue\":\"0.4\",\"dataTerm\":\"\",\"dataTime\":\"2018-07-18 11:00\",\"khaiGrade\":\"2\",\"khaiValue\":\"77\",\"mangName\":\"\\xeb\\x8f\\x84\\xec\\x8b\\x9c\\xeb\\x8c\\x80\\xea\\xb8\\xb0\",\"no2Grade\":\"2\",\"no2Value\":\"0.033\",\"numOfRows\":\"10\",\"o3Grade\":\"1\",\"o3Value\":\"0.013\",\"pageNo\":\"1\",\"pm10Grade\":\"2\",\"pm10Grade1h\":\"2\",\"pm10Value\":\"37\",\"pm10Value24\":\"31\",\"pm25Grade\":\"2\",\"pm25Grade1h\":\"2\",\"pm25Value\":\"30\",\"pm25Value24\":\"26\",\"resultCode\":\"\",\"resultMsg\":\"\",\"rnum\":0,\"serviceKey\":\"\",\"sidoName\":\"\",\"so2Grade\":\"1\",\"so2Value\":\"0.004\",\"stationCode\":\"\",\"stationName\":\"\",\"totalCount\":\"\",\"ver\":\"\"},{\"_returnType\":\"json\",\"coGrade\":\"1\",\"coValue\":\"0.5\",\"dataTerm\":\"\",\"dataTime\":\"2018-07-18 10:00\",\"khaiGrade\":\"2\",\"khaiValue\":\"77\",\"mangName\":\"\\xeb\\x8f\\x84\\xec\\x8b\\x9c\\xeb\\x8c\\x80\\xea\\xb8\\xb0\",\"no2Grade\":\"2\",\"no2Value\":\"0.037\",\"numOfRows\":\"10\",\"o3Grade\":\"1\",\"o3Value\":\"0.011\",\"pageNo\":\"1\",\"pm10Grade\":\"1\",\"pm10Grade1h\":\"2\",\"pm10Value\":\"35\",\"pm10Value24\":\"30\",\"pm25Grade\":\"2\",\"pm25Grade1h\":\"2\",\"pm25Value\":\"28\",\"pm25Value24\":\"26\",\"resultCode\":\"\",\"resultMsg\":\"\",\"rnum\":0,\"serviceKey\":\"\",\"sidoName\":\"\",\"so2Grade\":\"1\",\"so2Value\":\"0.004\",\"stationCode\":\"\",\"stationName\":\"\",\"totalCount\":\"\",\"ver\":\"\"},{\"_returnType\":\"json\",\"coGrade\":\"1\",\"coValue\":\"0.4\",\"dataTerm\":\"\",\"dataTime\":\"2018-07-18 09:00\",\"khaiGrade\":\"2\",\"khaiValue\":\"77\",\"mangName\":\"\\xeb\\x8f\\x84\\xec\\x8b\\x9c\\xeb\\x8c\\x80\\xea\\xb8\\xb0\",\"no2Grade\":\"1\",\"no2Value\":\"0.029\",\"numOfRows\":\"10\",\"o3Grade\":\"1\",\"o3Value\":\"0.009\",\"pageNo\":\"1\",\"pm10Grade\":\"1\",\"pm10Grade1h\":\"2\",\"pm10Value\":\"31\",\"pm10Value24\":\"28\",\"pm25Grade\":\"2\",\"pm25Grade1h\":\"2\",\"pm25Value\":\"31\",\"pm25Value24\":\"26\",\"resultCode\":\"\",\"resultMsg\":\"\",\"rnum\":0,\"serviceKey\":\"\",\"sidoName\":\"\",\"so2Grade\":\"1\",\"so2Value\":\"0.004\",\"stationCode\":\"\",\"stationName\":\"\",\"totalCount\":\"\",\"ver\":\"\"},{\"_returnType\":\"json\",\"coGrade\":\"1\",\"coValue\":\"0.5\",\"dataTerm\":\"\",\"dataTime\":\"2018-07-18 08:00\",\"khaiGrade\":\"2\",\"khaiValue\":\"77\",\"mangName\":\"\\xeb\\x8f\\x84\\xec\\x8b\\x9c\\xeb\\x8c\\x80\\xea\\xb8\\xb0\",\"no2Grade\":\"1\",\"no2Value\":\"0.021\",\"numOfRows\":\"10\",\"o3Grade\":\"1\",\"o3Value\":\"0.005\",\"pageNo\":\"1\",\"pm10Grade\":\"1\",\"pm10Grade1h\":\"1\",\"pm10Value\":\"26\",\"pm10Value24\":\"28\",\"pm25Grade\":\"2\",\"pm25Grade1h\":\"2\",\"pm25Value\":\"23\",\"pm25Value24\":\"26\",\"resultCode\":\"\",\"resultMsg\":\"\",\"rnum\":0,\"serviceKey\":\"\",\"sidoName\":\"\",\"so2Grade\":\"1\",\"so2Value\":\"0.003\",\"stationCode\":\"\",\"stationName\":\"\",\"totalCount\":\"\",\"ver\":\"\"},{\"_returnType\":\"json\",\"coGrade\":\"1\",\"coValue\":\"0.4\",\"dataTerm\":\"\",\"dataTime\":\"2018-07-18 07:00\",\"khaiGrade\":\"2\",\"khaiValue\":\"77\",\"mangName\":\"\\xeb\\x8f\\x84\\xec\\x8b\\x9c\\xeb\\x8c\\x80\\xea\\xb8\\xb0\",\"no2Grade\":\"1\",\"no2Value\":\"0.016\",\"numOfRows\":\"10\",\"o3Grade\":\"1\",\"o3Value\":\"0.003\",\"pageNo\":\"1\",\"pm10Grade\":\"1\",\"pm10Grade1h\":\"1\",\"pm10Value\":\"29\",\"pm10Value24\":\"28\",\"pm25Grade\":\"2\",\"pm25Grade1h\":\"2\",\"pm25Value\":\"29\",\"pm25Value24\":\"26\",\"resultCode\":\"\",\"resultMsg\":\"\",\"rnum\":0,\"serviceKey\":\"\",\"sidoName\":\"\",\"so2Grade\":\"1\",\"so2Value\":\"0.003\",\"stationCode\":\"\",\"stationName\":\"\",\"totalCount\":\"\",\"ver\":\"\"},{\"_returnType\":\"json\",\"coGrade\":\"1\",\"coValue\":\"0.3\",\"dataTerm\":\"\",\"dataTime\":\"2018-07-18 06:00\",\"khaiGrade\":\"2\",\"khaiValue\":\"77\",\"mangName\":\"\\xeb\\x8f\\x84\\xec\\x8b\\x9c\\xeb\\x8c\\x80\\xea\\xb8\\xb0\",\"no2Grade\":\"1\",\"no2Value\":\"0.015\",\"numOfRows\":\"10\",\"o3Grade\":\"1\",\"o3Value\":\"0.002\",\"pageNo\":\"1\",\"pm10Grade\":\"1\",\"pm10Grade1h\":\"1\",\"pm10Value\":\"26\",\"pm10Value24\":\"28\",\"pm25Grade\":\"2\",\"pm25Grade1h\":\"2\",\"pm25Value\":\"25\",\"pm25Value24\":\"26\",\"resultCode\":\"\",\"resultMsg\":\"\",\"rnum\":0,\"serviceKey\":\"\",\"sidoName\":\"\",\"so2Grade\":\"1\",\"so2Value\":\"0.003\",\"stationCode\":\"\",\"stationName\":\"\",\"totalCount\":\"\",\"ver\":\"\"},{\"_returnType\":\"json\",\"coGrade\":\"1\",\"coValue\":\"0.4\",\"dataTerm\":\"\",\"dataTime\":\"2018-07-18 05:00\",\"khaiGrade\":\"2\",\"khaiValue\":\"77\",\"mangName\":\"\\xeb\\x8f\\x84\\xec\\x8b\\x9c\\xeb\\x8c\\x80\\xea\\xb8\\xb0\",\"no2Grade\":\"1\",\"no2Value\":\"0.015\",\"numOfRows\":\"10\",\"o3Grade\":\"1\",\"o3Value\":\"0.002\",\"pageNo\":\"1\",\"pm10Grade\":\"1\",\"pm10Grade1h\":\"\",\"pm10Value\":\"-\",\"pm10Value24\":\"28\",\"pm25Grade\":\"2\",\"pm25Grade1h\":\"2\",\"pm25Value\":\"30\",\"pm25Value24\":\"26\",\"resultCode\":\"\",\"resultMsg\":\"\",\"rnum\":0,\"serviceKey\":\"\",\"sidoName\":\"\",\"so2Grade\":\"1\",\"so2Value\":\"0.004\",\"stationCode\":\"\",\"stationName\":\"\",\"totalCount\":\"\",\"ver\":\"\"},{\"_returnType\":\"json\",\"coGrade\":\"1\",\"coValue\":\"0.2\",\"dataTerm\":\"\",\"dataTime\":\"2018-07-18 04:00\",\"khaiGrade\":\"2\",\"khaiValue\":\"79\",\"mangName\":\"\\xeb\\x8f\\x84\\xec\\x8b\\x9c\\xeb\\x8c\\x80\\xea\\xb8\\xb0\",\"no2Grade\":\"1\",\"no2Value\":\"0.015\",\"numOfRows\":\"10\",\"o3Grade\":\"1\",\"o3Value\":\"0.002\",\"pageNo\":\"1\",\"pm10Grade\":\"1\",\"pm10Grade1h\":\"1\",\"pm10Value\":\"28\",\"pm10Value24\":\"29\",\"pm25Grade\":\"2\",\"pm25Grade1h\":\"2\",\"pm25Value\":\"26\",\"pm25Value24\":\"27\",\"resultCode\":\"\",\"resultMsg\":\"\",\"rnum\":0,\"serviceKey\":\"\",\"sidoName\":\"\",\"so2Grade\":\"1\",\"so2Value\":\"0.004\",\"stationCode\":\"\",\"stationName\":\"\",\"totalCount\":\"\",\"ver\":\"\"},{\"_returnType\":\"json\",\"coGrade\":\"1\",\"coValue\":\"0.3\",\"dataTerm\":\"\",\"dataTime\":\"2018-07-18 03:00\",\"khaiGrade\":\"2\",\"khaiValue\":\"79\",\"mangName\":\"\\xeb\\x8f\\x84\\xec\\x8b\\x9c\\xeb\\x8c\\x80\\xea\\xb8\\xb0\",\"no2Grade\":\"1\",\"no2Value\":\"0.015\",\"numOfRows\":\"10\",\"o3Grade\":\"1\",\"o3Value\":\"0.003\",\"pageNo\":\"1\",\"pm10Grade\":\"1\",\"pm10Grade1h\":\"1\",\"pm10Value\":\"29\",\"pm10Value24\":\"30\",\"pm25Grade\":\"2\",\"pm25Grade1h\":\"2\",\"pm25Value\":\"29\",\"pm25Value24\":\"27\",\"resultCode\":\"\",\"resultMsg\":\"\",\"rnum\":0,\"serviceKey\":\"\",\"sidoName\":\"\",\"so2Grade\":\"1\",\"so2Value\":\"0.003\",\"stationCode\":\"\",\"stationName\":\"\",\"totalCount\":\"\",\"ver\":\"\"}],\"parm\":{\"_returnType\":\"json\",\"coGrade\":\"\",\"coValue\":\"\",\"dataTerm\":\"DAILY\",\"dataTime\":\"\",\"khaiGrade\":\"\",\"khaiValue\":\"\",\"mangName\":\"\",\"no2Grade\":\"\",\"no2Value\":\"\",\"numOfRows\":\"10\",\"o3Grade\":\"\",\"o3Value\":\"\",\"pageNo\":\"1\",\"pm10Grade\":\"\",\"pm10Grade1h\":\"\",\"pm10Value\":\"\",\"pm10Value24\":\"\",\"pm25Grade\":\"\",\"pm25Grade1h\":\"\",\"pm25Value\":\"\",\"pm25Value24\":\"\",\"resultCode\":\"\",\"resultMsg\":\"\",\"rnum\":0,\"serviceKey\":\"DG70F1Dk/IJUVnoayuaFbCRKoAhow9pKpax5ofLJmBQG0EOMeos+1BiHE+E2zdrhQI+oiCdWNXHWLLoFzf0uPA==\",\"sidoName\":\"\",\"so2Grade\":\"\",\"so2Value\":\"\",\"stationCode\":\"\",\"stationName\":\"\\xec\\xa2\\x85\\xeb\\xa1\\x9c\\xea\\xb5\\xac\",\"totalCount\":\"\",\"ver\":\"1.3\"},\"ArpltnInforInqireSvcVo\":{\"_returnType\":\"json\",\"coGrade\":\"\",\"coValue\":\"\",\"dataTerm\":\"DAILY\",\"dataTime\":\"\",\"khaiGrade\":\"\",\"khaiValue\":\"\",\"mangName\":\"\",\"no2Grade\":\"\",\"no2Value\":\"\",\"numOfRows\":\"10\",\"o3Grade\":\"\",\"o3Value\":\"\",\"pageNo\":\"1\",\"pm10Grade\":\"\",\"pm10Grade1h\":\"\",\"pm10Value\":\"\",\"pm10Value24\":\"\",\"pm25Grade\":\"\",\"pm25Grade1h\":\"\",\"pm25Value\":\"\",\"pm25Value24\":\"\",\"resultCode\":\"\",\"resultMsg\":\"\",\"rnum\":0,\"serviceKey\":\"DG70F1Dk/IJUVnoayuaFbCRKoAhow9pKpax5ofLJmBQG0EOMeos+1BiHE+E2zdrhQI+oiCdWNXHWLLoFzf0uPA==\",\"sidoName\":\"\",\"so2Grade\":\"\",\"so2Value\":\"\",\"stationCode\":\"\",\"stationName\":\"\\xec\\xa2\\x85\\xeb\\xa1\\x9c\\xea\\xb5\\xac\",\"totalCount\":\"\",\"ver\":\"1.3\"},\"totalCount\":23}'"
      ]
     },
     "execution_count": 169,
     "metadata": {},
     "output_type": "execute_result"
    }
   ],
   "source": [
    "std"
   ]
  },
  {
   "cell_type": "code",
   "execution_count": 173,
   "metadata": {},
   "outputs": [],
   "source": [
    "#resStr = resp.read()\n",
    "resStr = std.decode('utf-8')"
   ]
  },
  {
   "cell_type": "code",
   "execution_count": 175,
   "metadata": {},
   "outputs": [
    {
     "data": {
      "text/plain": [
       "str"
      ]
     },
     "execution_count": 175,
     "metadata": {},
     "output_type": "execute_result"
    }
   ],
   "source": [
    "type(resStr)"
   ]
  },
  {
   "cell_type": "code",
   "execution_count": 176,
   "metadata": {
    "scrolled": true
   },
   "outputs": [],
   "source": [
    "resObj=json.loads(resStr)"
   ]
  },
  {
   "cell_type": "code",
   "execution_count": 177,
   "metadata": {
    "scrolled": true
   },
   "outputs": [
    {
     "data": {
      "text/plain": [
       "dict"
      ]
     },
     "execution_count": 177,
     "metadata": {},
     "output_type": "execute_result"
    }
   ],
   "source": [
    "type(resObj)"
   ]
  },
  {
   "cell_type": "code",
   "execution_count": 179,
   "metadata": {},
   "outputs": [
    {
     "data": {
      "text/plain": [
       "{'list': [{'_returnType': 'json',\n",
       "   'coGrade': '1',\n",
       "   'coValue': '0.4',\n",
       "   'dataTerm': '',\n",
       "   'dataTime': '2018-07-18 12:00',\n",
       "   'khaiGrade': '2',\n",
       "   'khaiValue': '77',\n",
       "   'mangName': '도시대기',\n",
       "   'no2Grade': '1',\n",
       "   'no2Value': '0.029',\n",
       "   'numOfRows': '10',\n",
       "   'o3Grade': '1',\n",
       "   'o3Value': '0.022',\n",
       "   'pageNo': '1',\n",
       "   'pm10Grade': '2',\n",
       "   'pm10Grade1h': '2',\n",
       "   'pm10Value': '32',\n",
       "   'pm10Value24': '32',\n",
       "   'pm25Grade': '2',\n",
       "   'pm25Grade1h': '2',\n",
       "   'pm25Value': '27',\n",
       "   'pm25Value24': '26',\n",
       "   'resultCode': '',\n",
       "   'resultMsg': '',\n",
       "   'rnum': 0,\n",
       "   'serviceKey': '',\n",
       "   'sidoName': '',\n",
       "   'so2Grade': '1',\n",
       "   'so2Value': '0.004',\n",
       "   'stationCode': '',\n",
       "   'stationName': '',\n",
       "   'totalCount': '',\n",
       "   'ver': ''},\n",
       "  {'_returnType': 'json',\n",
       "   'coGrade': '1',\n",
       "   'coValue': '0.4',\n",
       "   'dataTerm': '',\n",
       "   'dataTime': '2018-07-18 11:00',\n",
       "   'khaiGrade': '2',\n",
       "   'khaiValue': '77',\n",
       "   'mangName': '도시대기',\n",
       "   'no2Grade': '2',\n",
       "   'no2Value': '0.033',\n",
       "   'numOfRows': '10',\n",
       "   'o3Grade': '1',\n",
       "   'o3Value': '0.013',\n",
       "   'pageNo': '1',\n",
       "   'pm10Grade': '2',\n",
       "   'pm10Grade1h': '2',\n",
       "   'pm10Value': '37',\n",
       "   'pm10Value24': '31',\n",
       "   'pm25Grade': '2',\n",
       "   'pm25Grade1h': '2',\n",
       "   'pm25Value': '30',\n",
       "   'pm25Value24': '26',\n",
       "   'resultCode': '',\n",
       "   'resultMsg': '',\n",
       "   'rnum': 0,\n",
       "   'serviceKey': '',\n",
       "   'sidoName': '',\n",
       "   'so2Grade': '1',\n",
       "   'so2Value': '0.004',\n",
       "   'stationCode': '',\n",
       "   'stationName': '',\n",
       "   'totalCount': '',\n",
       "   'ver': ''},\n",
       "  {'_returnType': 'json',\n",
       "   'coGrade': '1',\n",
       "   'coValue': '0.5',\n",
       "   'dataTerm': '',\n",
       "   'dataTime': '2018-07-18 10:00',\n",
       "   'khaiGrade': '2',\n",
       "   'khaiValue': '77',\n",
       "   'mangName': '도시대기',\n",
       "   'no2Grade': '2',\n",
       "   'no2Value': '0.037',\n",
       "   'numOfRows': '10',\n",
       "   'o3Grade': '1',\n",
       "   'o3Value': '0.011',\n",
       "   'pageNo': '1',\n",
       "   'pm10Grade': '1',\n",
       "   'pm10Grade1h': '2',\n",
       "   'pm10Value': '35',\n",
       "   'pm10Value24': '30',\n",
       "   'pm25Grade': '2',\n",
       "   'pm25Grade1h': '2',\n",
       "   'pm25Value': '28',\n",
       "   'pm25Value24': '26',\n",
       "   'resultCode': '',\n",
       "   'resultMsg': '',\n",
       "   'rnum': 0,\n",
       "   'serviceKey': '',\n",
       "   'sidoName': '',\n",
       "   'so2Grade': '1',\n",
       "   'so2Value': '0.004',\n",
       "   'stationCode': '',\n",
       "   'stationName': '',\n",
       "   'totalCount': '',\n",
       "   'ver': ''},\n",
       "  {'_returnType': 'json',\n",
       "   'coGrade': '1',\n",
       "   'coValue': '0.4',\n",
       "   'dataTerm': '',\n",
       "   'dataTime': '2018-07-18 09:00',\n",
       "   'khaiGrade': '2',\n",
       "   'khaiValue': '77',\n",
       "   'mangName': '도시대기',\n",
       "   'no2Grade': '1',\n",
       "   'no2Value': '0.029',\n",
       "   'numOfRows': '10',\n",
       "   'o3Grade': '1',\n",
       "   'o3Value': '0.009',\n",
       "   'pageNo': '1',\n",
       "   'pm10Grade': '1',\n",
       "   'pm10Grade1h': '2',\n",
       "   'pm10Value': '31',\n",
       "   'pm10Value24': '28',\n",
       "   'pm25Grade': '2',\n",
       "   'pm25Grade1h': '2',\n",
       "   'pm25Value': '31',\n",
       "   'pm25Value24': '26',\n",
       "   'resultCode': '',\n",
       "   'resultMsg': '',\n",
       "   'rnum': 0,\n",
       "   'serviceKey': '',\n",
       "   'sidoName': '',\n",
       "   'so2Grade': '1',\n",
       "   'so2Value': '0.004',\n",
       "   'stationCode': '',\n",
       "   'stationName': '',\n",
       "   'totalCount': '',\n",
       "   'ver': ''},\n",
       "  {'_returnType': 'json',\n",
       "   'coGrade': '1',\n",
       "   'coValue': '0.5',\n",
       "   'dataTerm': '',\n",
       "   'dataTime': '2018-07-18 08:00',\n",
       "   'khaiGrade': '2',\n",
       "   'khaiValue': '77',\n",
       "   'mangName': '도시대기',\n",
       "   'no2Grade': '1',\n",
       "   'no2Value': '0.021',\n",
       "   'numOfRows': '10',\n",
       "   'o3Grade': '1',\n",
       "   'o3Value': '0.005',\n",
       "   'pageNo': '1',\n",
       "   'pm10Grade': '1',\n",
       "   'pm10Grade1h': '1',\n",
       "   'pm10Value': '26',\n",
       "   'pm10Value24': '28',\n",
       "   'pm25Grade': '2',\n",
       "   'pm25Grade1h': '2',\n",
       "   'pm25Value': '23',\n",
       "   'pm25Value24': '26',\n",
       "   'resultCode': '',\n",
       "   'resultMsg': '',\n",
       "   'rnum': 0,\n",
       "   'serviceKey': '',\n",
       "   'sidoName': '',\n",
       "   'so2Grade': '1',\n",
       "   'so2Value': '0.003',\n",
       "   'stationCode': '',\n",
       "   'stationName': '',\n",
       "   'totalCount': '',\n",
       "   'ver': ''},\n",
       "  {'_returnType': 'json',\n",
       "   'coGrade': '1',\n",
       "   'coValue': '0.4',\n",
       "   'dataTerm': '',\n",
       "   'dataTime': '2018-07-18 07:00',\n",
       "   'khaiGrade': '2',\n",
       "   'khaiValue': '77',\n",
       "   'mangName': '도시대기',\n",
       "   'no2Grade': '1',\n",
       "   'no2Value': '0.016',\n",
       "   'numOfRows': '10',\n",
       "   'o3Grade': '1',\n",
       "   'o3Value': '0.003',\n",
       "   'pageNo': '1',\n",
       "   'pm10Grade': '1',\n",
       "   'pm10Grade1h': '1',\n",
       "   'pm10Value': '29',\n",
       "   'pm10Value24': '28',\n",
       "   'pm25Grade': '2',\n",
       "   'pm25Grade1h': '2',\n",
       "   'pm25Value': '29',\n",
       "   'pm25Value24': '26',\n",
       "   'resultCode': '',\n",
       "   'resultMsg': '',\n",
       "   'rnum': 0,\n",
       "   'serviceKey': '',\n",
       "   'sidoName': '',\n",
       "   'so2Grade': '1',\n",
       "   'so2Value': '0.003',\n",
       "   'stationCode': '',\n",
       "   'stationName': '',\n",
       "   'totalCount': '',\n",
       "   'ver': ''},\n",
       "  {'_returnType': 'json',\n",
       "   'coGrade': '1',\n",
       "   'coValue': '0.3',\n",
       "   'dataTerm': '',\n",
       "   'dataTime': '2018-07-18 06:00',\n",
       "   'khaiGrade': '2',\n",
       "   'khaiValue': '77',\n",
       "   'mangName': '도시대기',\n",
       "   'no2Grade': '1',\n",
       "   'no2Value': '0.015',\n",
       "   'numOfRows': '10',\n",
       "   'o3Grade': '1',\n",
       "   'o3Value': '0.002',\n",
       "   'pageNo': '1',\n",
       "   'pm10Grade': '1',\n",
       "   'pm10Grade1h': '1',\n",
       "   'pm10Value': '26',\n",
       "   'pm10Value24': '28',\n",
       "   'pm25Grade': '2',\n",
       "   'pm25Grade1h': '2',\n",
       "   'pm25Value': '25',\n",
       "   'pm25Value24': '26',\n",
       "   'resultCode': '',\n",
       "   'resultMsg': '',\n",
       "   'rnum': 0,\n",
       "   'serviceKey': '',\n",
       "   'sidoName': '',\n",
       "   'so2Grade': '1',\n",
       "   'so2Value': '0.003',\n",
       "   'stationCode': '',\n",
       "   'stationName': '',\n",
       "   'totalCount': '',\n",
       "   'ver': ''},\n",
       "  {'_returnType': 'json',\n",
       "   'coGrade': '1',\n",
       "   'coValue': '0.4',\n",
       "   'dataTerm': '',\n",
       "   'dataTime': '2018-07-18 05:00',\n",
       "   'khaiGrade': '2',\n",
       "   'khaiValue': '77',\n",
       "   'mangName': '도시대기',\n",
       "   'no2Grade': '1',\n",
       "   'no2Value': '0.015',\n",
       "   'numOfRows': '10',\n",
       "   'o3Grade': '1',\n",
       "   'o3Value': '0.002',\n",
       "   'pageNo': '1',\n",
       "   'pm10Grade': '1',\n",
       "   'pm10Grade1h': '',\n",
       "   'pm10Value': '-',\n",
       "   'pm10Value24': '28',\n",
       "   'pm25Grade': '2',\n",
       "   'pm25Grade1h': '2',\n",
       "   'pm25Value': '30',\n",
       "   'pm25Value24': '26',\n",
       "   'resultCode': '',\n",
       "   'resultMsg': '',\n",
       "   'rnum': 0,\n",
       "   'serviceKey': '',\n",
       "   'sidoName': '',\n",
       "   'so2Grade': '1',\n",
       "   'so2Value': '0.004',\n",
       "   'stationCode': '',\n",
       "   'stationName': '',\n",
       "   'totalCount': '',\n",
       "   'ver': ''},\n",
       "  {'_returnType': 'json',\n",
       "   'coGrade': '1',\n",
       "   'coValue': '0.2',\n",
       "   'dataTerm': '',\n",
       "   'dataTime': '2018-07-18 04:00',\n",
       "   'khaiGrade': '2',\n",
       "   'khaiValue': '79',\n",
       "   'mangName': '도시대기',\n",
       "   'no2Grade': '1',\n",
       "   'no2Value': '0.015',\n",
       "   'numOfRows': '10',\n",
       "   'o3Grade': '1',\n",
       "   'o3Value': '0.002',\n",
       "   'pageNo': '1',\n",
       "   'pm10Grade': '1',\n",
       "   'pm10Grade1h': '1',\n",
       "   'pm10Value': '28',\n",
       "   'pm10Value24': '29',\n",
       "   'pm25Grade': '2',\n",
       "   'pm25Grade1h': '2',\n",
       "   'pm25Value': '26',\n",
       "   'pm25Value24': '27',\n",
       "   'resultCode': '',\n",
       "   'resultMsg': '',\n",
       "   'rnum': 0,\n",
       "   'serviceKey': '',\n",
       "   'sidoName': '',\n",
       "   'so2Grade': '1',\n",
       "   'so2Value': '0.004',\n",
       "   'stationCode': '',\n",
       "   'stationName': '',\n",
       "   'totalCount': '',\n",
       "   'ver': ''},\n",
       "  {'_returnType': 'json',\n",
       "   'coGrade': '1',\n",
       "   'coValue': '0.3',\n",
       "   'dataTerm': '',\n",
       "   'dataTime': '2018-07-18 03:00',\n",
       "   'khaiGrade': '2',\n",
       "   'khaiValue': '79',\n",
       "   'mangName': '도시대기',\n",
       "   'no2Grade': '1',\n",
       "   'no2Value': '0.015',\n",
       "   'numOfRows': '10',\n",
       "   'o3Grade': '1',\n",
       "   'o3Value': '0.003',\n",
       "   'pageNo': '1',\n",
       "   'pm10Grade': '1',\n",
       "   'pm10Grade1h': '1',\n",
       "   'pm10Value': '29',\n",
       "   'pm10Value24': '30',\n",
       "   'pm25Grade': '2',\n",
       "   'pm25Grade1h': '2',\n",
       "   'pm25Value': '29',\n",
       "   'pm25Value24': '27',\n",
       "   'resultCode': '',\n",
       "   'resultMsg': '',\n",
       "   'rnum': 0,\n",
       "   'serviceKey': '',\n",
       "   'sidoName': '',\n",
       "   'so2Grade': '1',\n",
       "   'so2Value': '0.003',\n",
       "   'stationCode': '',\n",
       "   'stationName': '',\n",
       "   'totalCount': '',\n",
       "   'ver': ''}],\n",
       " 'parm': {'_returnType': 'json',\n",
       "  'coGrade': '',\n",
       "  'coValue': '',\n",
       "  'dataTerm': 'DAILY',\n",
       "  'dataTime': '',\n",
       "  'khaiGrade': '',\n",
       "  'khaiValue': '',\n",
       "  'mangName': '',\n",
       "  'no2Grade': '',\n",
       "  'no2Value': '',\n",
       "  'numOfRows': '10',\n",
       "  'o3Grade': '',\n",
       "  'o3Value': '',\n",
       "  'pageNo': '1',\n",
       "  'pm10Grade': '',\n",
       "  'pm10Grade1h': '',\n",
       "  'pm10Value': '',\n",
       "  'pm10Value24': '',\n",
       "  'pm25Grade': '',\n",
       "  'pm25Grade1h': '',\n",
       "  'pm25Value': '',\n",
       "  'pm25Value24': '',\n",
       "  'resultCode': '',\n",
       "  'resultMsg': '',\n",
       "  'rnum': 0,\n",
       "  'serviceKey': 'DG70F1Dk/IJUVnoayuaFbCRKoAhow9pKpax5ofLJmBQG0EOMeos+1BiHE+E2zdrhQI+oiCdWNXHWLLoFzf0uPA==',\n",
       "  'sidoName': '',\n",
       "  'so2Grade': '',\n",
       "  'so2Value': '',\n",
       "  'stationCode': '',\n",
       "  'stationName': '종로구',\n",
       "  'totalCount': '',\n",
       "  'ver': '1.3'},\n",
       " 'ArpltnInforInqireSvcVo': {'_returnType': 'json',\n",
       "  'coGrade': '',\n",
       "  'coValue': '',\n",
       "  'dataTerm': 'DAILY',\n",
       "  'dataTime': '',\n",
       "  'khaiGrade': '',\n",
       "  'khaiValue': '',\n",
       "  'mangName': '',\n",
       "  'no2Grade': '',\n",
       "  'no2Value': '',\n",
       "  'numOfRows': '10',\n",
       "  'o3Grade': '',\n",
       "  'o3Value': '',\n",
       "  'pageNo': '1',\n",
       "  'pm10Grade': '',\n",
       "  'pm10Grade1h': '',\n",
       "  'pm10Value': '',\n",
       "  'pm10Value24': '',\n",
       "  'pm25Grade': '',\n",
       "  'pm25Grade1h': '',\n",
       "  'pm25Value': '',\n",
       "  'pm25Value24': '',\n",
       "  'resultCode': '',\n",
       "  'resultMsg': '',\n",
       "  'rnum': 0,\n",
       "  'serviceKey': 'DG70F1Dk/IJUVnoayuaFbCRKoAhow9pKpax5ofLJmBQG0EOMeos+1BiHE+E2zdrhQI+oiCdWNXHWLLoFzf0uPA==',\n",
       "  'sidoName': '',\n",
       "  'so2Grade': '',\n",
       "  'so2Value': '',\n",
       "  'stationCode': '',\n",
       "  'stationName': '종로구',\n",
       "  'totalCount': '',\n",
       "  'ver': '1.3'},\n",
       " 'totalCount': 23}"
      ]
     },
     "execution_count": 179,
     "metadata": {},
     "output_type": "execute_result"
    }
   ],
   "source": [
    "resObj"
   ]
  },
  {
   "cell_type": "markdown",
   "metadata": {},
   "source": [
    "dict 안에 list 가 들어있다. 실제 넣어줘야하는것은 . "
   ]
  },
  {
   "cell_type": "code",
   "execution_count": 180,
   "metadata": {},
   "outputs": [
    {
     "data": {
      "text/plain": [
       "[{'_returnType': 'json',\n",
       "  'coGrade': '1',\n",
       "  'coValue': '0.4',\n",
       "  'dataTerm': '',\n",
       "  'dataTime': '2018-07-18 12:00',\n",
       "  'khaiGrade': '2',\n",
       "  'khaiValue': '77',\n",
       "  'mangName': '도시대기',\n",
       "  'no2Grade': '1',\n",
       "  'no2Value': '0.029',\n",
       "  'numOfRows': '10',\n",
       "  'o3Grade': '1',\n",
       "  'o3Value': '0.022',\n",
       "  'pageNo': '1',\n",
       "  'pm10Grade': '2',\n",
       "  'pm10Grade1h': '2',\n",
       "  'pm10Value': '32',\n",
       "  'pm10Value24': '32',\n",
       "  'pm25Grade': '2',\n",
       "  'pm25Grade1h': '2',\n",
       "  'pm25Value': '27',\n",
       "  'pm25Value24': '26',\n",
       "  'resultCode': '',\n",
       "  'resultMsg': '',\n",
       "  'rnum': 0,\n",
       "  'serviceKey': '',\n",
       "  'sidoName': '',\n",
       "  'so2Grade': '1',\n",
       "  'so2Value': '0.004',\n",
       "  'stationCode': '',\n",
       "  'stationName': '',\n",
       "  'totalCount': '',\n",
       "  'ver': ''},\n",
       " {'_returnType': 'json',\n",
       "  'coGrade': '1',\n",
       "  'coValue': '0.4',\n",
       "  'dataTerm': '',\n",
       "  'dataTime': '2018-07-18 11:00',\n",
       "  'khaiGrade': '2',\n",
       "  'khaiValue': '77',\n",
       "  'mangName': '도시대기',\n",
       "  'no2Grade': '2',\n",
       "  'no2Value': '0.033',\n",
       "  'numOfRows': '10',\n",
       "  'o3Grade': '1',\n",
       "  'o3Value': '0.013',\n",
       "  'pageNo': '1',\n",
       "  'pm10Grade': '2',\n",
       "  'pm10Grade1h': '2',\n",
       "  'pm10Value': '37',\n",
       "  'pm10Value24': '31',\n",
       "  'pm25Grade': '2',\n",
       "  'pm25Grade1h': '2',\n",
       "  'pm25Value': '30',\n",
       "  'pm25Value24': '26',\n",
       "  'resultCode': '',\n",
       "  'resultMsg': '',\n",
       "  'rnum': 0,\n",
       "  'serviceKey': '',\n",
       "  'sidoName': '',\n",
       "  'so2Grade': '1',\n",
       "  'so2Value': '0.004',\n",
       "  'stationCode': '',\n",
       "  'stationName': '',\n",
       "  'totalCount': '',\n",
       "  'ver': ''},\n",
       " {'_returnType': 'json',\n",
       "  'coGrade': '1',\n",
       "  'coValue': '0.5',\n",
       "  'dataTerm': '',\n",
       "  'dataTime': '2018-07-18 10:00',\n",
       "  'khaiGrade': '2',\n",
       "  'khaiValue': '77',\n",
       "  'mangName': '도시대기',\n",
       "  'no2Grade': '2',\n",
       "  'no2Value': '0.037',\n",
       "  'numOfRows': '10',\n",
       "  'o3Grade': '1',\n",
       "  'o3Value': '0.011',\n",
       "  'pageNo': '1',\n",
       "  'pm10Grade': '1',\n",
       "  'pm10Grade1h': '2',\n",
       "  'pm10Value': '35',\n",
       "  'pm10Value24': '30',\n",
       "  'pm25Grade': '2',\n",
       "  'pm25Grade1h': '2',\n",
       "  'pm25Value': '28',\n",
       "  'pm25Value24': '26',\n",
       "  'resultCode': '',\n",
       "  'resultMsg': '',\n",
       "  'rnum': 0,\n",
       "  'serviceKey': '',\n",
       "  'sidoName': '',\n",
       "  'so2Grade': '1',\n",
       "  'so2Value': '0.004',\n",
       "  'stationCode': '',\n",
       "  'stationName': '',\n",
       "  'totalCount': '',\n",
       "  'ver': ''},\n",
       " {'_returnType': 'json',\n",
       "  'coGrade': '1',\n",
       "  'coValue': '0.4',\n",
       "  'dataTerm': '',\n",
       "  'dataTime': '2018-07-18 09:00',\n",
       "  'khaiGrade': '2',\n",
       "  'khaiValue': '77',\n",
       "  'mangName': '도시대기',\n",
       "  'no2Grade': '1',\n",
       "  'no2Value': '0.029',\n",
       "  'numOfRows': '10',\n",
       "  'o3Grade': '1',\n",
       "  'o3Value': '0.009',\n",
       "  'pageNo': '1',\n",
       "  'pm10Grade': '1',\n",
       "  'pm10Grade1h': '2',\n",
       "  'pm10Value': '31',\n",
       "  'pm10Value24': '28',\n",
       "  'pm25Grade': '2',\n",
       "  'pm25Grade1h': '2',\n",
       "  'pm25Value': '31',\n",
       "  'pm25Value24': '26',\n",
       "  'resultCode': '',\n",
       "  'resultMsg': '',\n",
       "  'rnum': 0,\n",
       "  'serviceKey': '',\n",
       "  'sidoName': '',\n",
       "  'so2Grade': '1',\n",
       "  'so2Value': '0.004',\n",
       "  'stationCode': '',\n",
       "  'stationName': '',\n",
       "  'totalCount': '',\n",
       "  'ver': ''},\n",
       " {'_returnType': 'json',\n",
       "  'coGrade': '1',\n",
       "  'coValue': '0.5',\n",
       "  'dataTerm': '',\n",
       "  'dataTime': '2018-07-18 08:00',\n",
       "  'khaiGrade': '2',\n",
       "  'khaiValue': '77',\n",
       "  'mangName': '도시대기',\n",
       "  'no2Grade': '1',\n",
       "  'no2Value': '0.021',\n",
       "  'numOfRows': '10',\n",
       "  'o3Grade': '1',\n",
       "  'o3Value': '0.005',\n",
       "  'pageNo': '1',\n",
       "  'pm10Grade': '1',\n",
       "  'pm10Grade1h': '1',\n",
       "  'pm10Value': '26',\n",
       "  'pm10Value24': '28',\n",
       "  'pm25Grade': '2',\n",
       "  'pm25Grade1h': '2',\n",
       "  'pm25Value': '23',\n",
       "  'pm25Value24': '26',\n",
       "  'resultCode': '',\n",
       "  'resultMsg': '',\n",
       "  'rnum': 0,\n",
       "  'serviceKey': '',\n",
       "  'sidoName': '',\n",
       "  'so2Grade': '1',\n",
       "  'so2Value': '0.003',\n",
       "  'stationCode': '',\n",
       "  'stationName': '',\n",
       "  'totalCount': '',\n",
       "  'ver': ''},\n",
       " {'_returnType': 'json',\n",
       "  'coGrade': '1',\n",
       "  'coValue': '0.4',\n",
       "  'dataTerm': '',\n",
       "  'dataTime': '2018-07-18 07:00',\n",
       "  'khaiGrade': '2',\n",
       "  'khaiValue': '77',\n",
       "  'mangName': '도시대기',\n",
       "  'no2Grade': '1',\n",
       "  'no2Value': '0.016',\n",
       "  'numOfRows': '10',\n",
       "  'o3Grade': '1',\n",
       "  'o3Value': '0.003',\n",
       "  'pageNo': '1',\n",
       "  'pm10Grade': '1',\n",
       "  'pm10Grade1h': '1',\n",
       "  'pm10Value': '29',\n",
       "  'pm10Value24': '28',\n",
       "  'pm25Grade': '2',\n",
       "  'pm25Grade1h': '2',\n",
       "  'pm25Value': '29',\n",
       "  'pm25Value24': '26',\n",
       "  'resultCode': '',\n",
       "  'resultMsg': '',\n",
       "  'rnum': 0,\n",
       "  'serviceKey': '',\n",
       "  'sidoName': '',\n",
       "  'so2Grade': '1',\n",
       "  'so2Value': '0.003',\n",
       "  'stationCode': '',\n",
       "  'stationName': '',\n",
       "  'totalCount': '',\n",
       "  'ver': ''},\n",
       " {'_returnType': 'json',\n",
       "  'coGrade': '1',\n",
       "  'coValue': '0.3',\n",
       "  'dataTerm': '',\n",
       "  'dataTime': '2018-07-18 06:00',\n",
       "  'khaiGrade': '2',\n",
       "  'khaiValue': '77',\n",
       "  'mangName': '도시대기',\n",
       "  'no2Grade': '1',\n",
       "  'no2Value': '0.015',\n",
       "  'numOfRows': '10',\n",
       "  'o3Grade': '1',\n",
       "  'o3Value': '0.002',\n",
       "  'pageNo': '1',\n",
       "  'pm10Grade': '1',\n",
       "  'pm10Grade1h': '1',\n",
       "  'pm10Value': '26',\n",
       "  'pm10Value24': '28',\n",
       "  'pm25Grade': '2',\n",
       "  'pm25Grade1h': '2',\n",
       "  'pm25Value': '25',\n",
       "  'pm25Value24': '26',\n",
       "  'resultCode': '',\n",
       "  'resultMsg': '',\n",
       "  'rnum': 0,\n",
       "  'serviceKey': '',\n",
       "  'sidoName': '',\n",
       "  'so2Grade': '1',\n",
       "  'so2Value': '0.003',\n",
       "  'stationCode': '',\n",
       "  'stationName': '',\n",
       "  'totalCount': '',\n",
       "  'ver': ''},\n",
       " {'_returnType': 'json',\n",
       "  'coGrade': '1',\n",
       "  'coValue': '0.4',\n",
       "  'dataTerm': '',\n",
       "  'dataTime': '2018-07-18 05:00',\n",
       "  'khaiGrade': '2',\n",
       "  'khaiValue': '77',\n",
       "  'mangName': '도시대기',\n",
       "  'no2Grade': '1',\n",
       "  'no2Value': '0.015',\n",
       "  'numOfRows': '10',\n",
       "  'o3Grade': '1',\n",
       "  'o3Value': '0.002',\n",
       "  'pageNo': '1',\n",
       "  'pm10Grade': '1',\n",
       "  'pm10Grade1h': '',\n",
       "  'pm10Value': '-',\n",
       "  'pm10Value24': '28',\n",
       "  'pm25Grade': '2',\n",
       "  'pm25Grade1h': '2',\n",
       "  'pm25Value': '30',\n",
       "  'pm25Value24': '26',\n",
       "  'resultCode': '',\n",
       "  'resultMsg': '',\n",
       "  'rnum': 0,\n",
       "  'serviceKey': '',\n",
       "  'sidoName': '',\n",
       "  'so2Grade': '1',\n",
       "  'so2Value': '0.004',\n",
       "  'stationCode': '',\n",
       "  'stationName': '',\n",
       "  'totalCount': '',\n",
       "  'ver': ''},\n",
       " {'_returnType': 'json',\n",
       "  'coGrade': '1',\n",
       "  'coValue': '0.2',\n",
       "  'dataTerm': '',\n",
       "  'dataTime': '2018-07-18 04:00',\n",
       "  'khaiGrade': '2',\n",
       "  'khaiValue': '79',\n",
       "  'mangName': '도시대기',\n",
       "  'no2Grade': '1',\n",
       "  'no2Value': '0.015',\n",
       "  'numOfRows': '10',\n",
       "  'o3Grade': '1',\n",
       "  'o3Value': '0.002',\n",
       "  'pageNo': '1',\n",
       "  'pm10Grade': '1',\n",
       "  'pm10Grade1h': '1',\n",
       "  'pm10Value': '28',\n",
       "  'pm10Value24': '29',\n",
       "  'pm25Grade': '2',\n",
       "  'pm25Grade1h': '2',\n",
       "  'pm25Value': '26',\n",
       "  'pm25Value24': '27',\n",
       "  'resultCode': '',\n",
       "  'resultMsg': '',\n",
       "  'rnum': 0,\n",
       "  'serviceKey': '',\n",
       "  'sidoName': '',\n",
       "  'so2Grade': '1',\n",
       "  'so2Value': '0.004',\n",
       "  'stationCode': '',\n",
       "  'stationName': '',\n",
       "  'totalCount': '',\n",
       "  'ver': ''},\n",
       " {'_returnType': 'json',\n",
       "  'coGrade': '1',\n",
       "  'coValue': '0.3',\n",
       "  'dataTerm': '',\n",
       "  'dataTime': '2018-07-18 03:00',\n",
       "  'khaiGrade': '2',\n",
       "  'khaiValue': '79',\n",
       "  'mangName': '도시대기',\n",
       "  'no2Grade': '1',\n",
       "  'no2Value': '0.015',\n",
       "  'numOfRows': '10',\n",
       "  'o3Grade': '1',\n",
       "  'o3Value': '0.003',\n",
       "  'pageNo': '1',\n",
       "  'pm10Grade': '1',\n",
       "  'pm10Grade1h': '1',\n",
       "  'pm10Value': '29',\n",
       "  'pm10Value24': '30',\n",
       "  'pm25Grade': '2',\n",
       "  'pm25Grade1h': '2',\n",
       "  'pm25Value': '29',\n",
       "  'pm25Value24': '27',\n",
       "  'resultCode': '',\n",
       "  'resultMsg': '',\n",
       "  'rnum': 0,\n",
       "  'serviceKey': '',\n",
       "  'sidoName': '',\n",
       "  'so2Grade': '1',\n",
       "  'so2Value': '0.003',\n",
       "  'stationCode': '',\n",
       "  'stationName': '',\n",
       "  'totalCount': '',\n",
       "  'ver': ''}]"
      ]
     },
     "execution_count": 180,
     "metadata": {},
     "output_type": "execute_result"
    }
   ],
   "source": [
    "resObj['list']"
   ]
  },
  {
   "cell_type": "markdown",
   "metadata": {},
   "source": [
    "json -  > dict 로 바꿔서 데이터베이스에 입력함. "
   ]
  },
  {
   "cell_type": "code",
   "execution_count": 181,
   "metadata": {},
   "outputs": [
    {
     "data": {
      "text/plain": [
       "<pymongo.results.InsertManyResult at 0x16a87254b08>"
      ]
     },
     "execution_count": 181,
     "metadata": {},
     "output_type": "execute_result"
    }
   ],
   "source": [
    "client.air.info.insert_many(resObj['list']) # info 라는 새로운 컬렉션이 만들어짐 "
   ]
  },
  {
   "cell_type": "code",
   "execution_count": 182,
   "metadata": {},
   "outputs": [],
   "source": [
    "result =  client.air.info.find({})"
   ]
  },
  {
   "cell_type": "code",
   "execution_count": 183,
   "metadata": {},
   "outputs": [],
   "source": [
    "from pprint import pprint"
   ]
  },
  {
   "cell_type": "code",
   "execution_count": 184,
   "metadata": {},
   "outputs": [
    {
     "name": "stdout",
     "output_type": "stream",
     "text": [
      "{'_id': ObjectId('5b4ec86133d665230005f5ed'),\n",
      " '_returnType': 'json',\n",
      " 'coGrade': '1',\n",
      " 'coValue': '0.4',\n",
      " 'dataTerm': '',\n",
      " 'dataTime': '2018-07-18 12:00',\n",
      " 'khaiGrade': '2',\n",
      " 'khaiValue': '77',\n",
      " 'mangName': '도시대기',\n",
      " 'no2Grade': '1',\n",
      " 'no2Value': '0.029',\n",
      " 'numOfRows': '10',\n",
      " 'o3Grade': '1',\n",
      " 'o3Value': '0.022',\n",
      " 'pageNo': '1',\n",
      " 'pm10Grade': '2',\n",
      " 'pm10Grade1h': '2',\n",
      " 'pm10Value': '32',\n",
      " 'pm10Value24': '32',\n",
      " 'pm25Grade': '2',\n",
      " 'pm25Grade1h': '2',\n",
      " 'pm25Value': '27',\n",
      " 'pm25Value24': '26',\n",
      " 'resultCode': '',\n",
      " 'resultMsg': '',\n",
      " 'rnum': 0,\n",
      " 'serviceKey': '',\n",
      " 'sidoName': '',\n",
      " 'so2Grade': '1',\n",
      " 'so2Value': '0.004',\n",
      " 'stationCode': '',\n",
      " 'stationName': '',\n",
      " 'totalCount': '',\n",
      " 'ver': ''}\n",
      "{'_id': ObjectId('5b4ec86133d665230005f5ee'),\n",
      " '_returnType': 'json',\n",
      " 'coGrade': '1',\n",
      " 'coValue': '0.4',\n",
      " 'dataTerm': '',\n",
      " 'dataTime': '2018-07-18 11:00',\n",
      " 'khaiGrade': '2',\n",
      " 'khaiValue': '77',\n",
      " 'mangName': '도시대기',\n",
      " 'no2Grade': '2',\n",
      " 'no2Value': '0.033',\n",
      " 'numOfRows': '10',\n",
      " 'o3Grade': '1',\n",
      " 'o3Value': '0.013',\n",
      " 'pageNo': '1',\n",
      " 'pm10Grade': '2',\n",
      " 'pm10Grade1h': '2',\n",
      " 'pm10Value': '37',\n",
      " 'pm10Value24': '31',\n",
      " 'pm25Grade': '2',\n",
      " 'pm25Grade1h': '2',\n",
      " 'pm25Value': '30',\n",
      " 'pm25Value24': '26',\n",
      " 'resultCode': '',\n",
      " 'resultMsg': '',\n",
      " 'rnum': 0,\n",
      " 'serviceKey': '',\n",
      " 'sidoName': '',\n",
      " 'so2Grade': '1',\n",
      " 'so2Value': '0.004',\n",
      " 'stationCode': '',\n",
      " 'stationName': '',\n",
      " 'totalCount': '',\n",
      " 'ver': ''}\n",
      "{'_id': ObjectId('5b4ec86133d665230005f5ef'),\n",
      " '_returnType': 'json',\n",
      " 'coGrade': '1',\n",
      " 'coValue': '0.5',\n",
      " 'dataTerm': '',\n",
      " 'dataTime': '2018-07-18 10:00',\n",
      " 'khaiGrade': '2',\n",
      " 'khaiValue': '77',\n",
      " 'mangName': '도시대기',\n",
      " 'no2Grade': '2',\n",
      " 'no2Value': '0.037',\n",
      " 'numOfRows': '10',\n",
      " 'o3Grade': '1',\n",
      " 'o3Value': '0.011',\n",
      " 'pageNo': '1',\n",
      " 'pm10Grade': '1',\n",
      " 'pm10Grade1h': '2',\n",
      " 'pm10Value': '35',\n",
      " 'pm10Value24': '30',\n",
      " 'pm25Grade': '2',\n",
      " 'pm25Grade1h': '2',\n",
      " 'pm25Value': '28',\n",
      " 'pm25Value24': '26',\n",
      " 'resultCode': '',\n",
      " 'resultMsg': '',\n",
      " 'rnum': 0,\n",
      " 'serviceKey': '',\n",
      " 'sidoName': '',\n",
      " 'so2Grade': '1',\n",
      " 'so2Value': '0.004',\n",
      " 'stationCode': '',\n",
      " 'stationName': '',\n",
      " 'totalCount': '',\n",
      " 'ver': ''}\n",
      "{'_id': ObjectId('5b4ec86133d665230005f5f0'),\n",
      " '_returnType': 'json',\n",
      " 'coGrade': '1',\n",
      " 'coValue': '0.4',\n",
      " 'dataTerm': '',\n",
      " 'dataTime': '2018-07-18 09:00',\n",
      " 'khaiGrade': '2',\n",
      " 'khaiValue': '77',\n",
      " 'mangName': '도시대기',\n",
      " 'no2Grade': '1',\n",
      " 'no2Value': '0.029',\n",
      " 'numOfRows': '10',\n",
      " 'o3Grade': '1',\n",
      " 'o3Value': '0.009',\n",
      " 'pageNo': '1',\n",
      " 'pm10Grade': '1',\n",
      " 'pm10Grade1h': '2',\n",
      " 'pm10Value': '31',\n",
      " 'pm10Value24': '28',\n",
      " 'pm25Grade': '2',\n",
      " 'pm25Grade1h': '2',\n",
      " 'pm25Value': '31',\n",
      " 'pm25Value24': '26',\n",
      " 'resultCode': '',\n",
      " 'resultMsg': '',\n",
      " 'rnum': 0,\n",
      " 'serviceKey': '',\n",
      " 'sidoName': '',\n",
      " 'so2Grade': '1',\n",
      " 'so2Value': '0.004',\n",
      " 'stationCode': '',\n",
      " 'stationName': '',\n",
      " 'totalCount': '',\n",
      " 'ver': ''}\n",
      "{'_id': ObjectId('5b4ec86133d665230005f5f1'),\n",
      " '_returnType': 'json',\n",
      " 'coGrade': '1',\n",
      " 'coValue': '0.5',\n",
      " 'dataTerm': '',\n",
      " 'dataTime': '2018-07-18 08:00',\n",
      " 'khaiGrade': '2',\n",
      " 'khaiValue': '77',\n",
      " 'mangName': '도시대기',\n",
      " 'no2Grade': '1',\n",
      " 'no2Value': '0.021',\n",
      " 'numOfRows': '10',\n",
      " 'o3Grade': '1',\n",
      " 'o3Value': '0.005',\n",
      " 'pageNo': '1',\n",
      " 'pm10Grade': '1',\n",
      " 'pm10Grade1h': '1',\n",
      " 'pm10Value': '26',\n",
      " 'pm10Value24': '28',\n",
      " 'pm25Grade': '2',\n",
      " 'pm25Grade1h': '2',\n",
      " 'pm25Value': '23',\n",
      " 'pm25Value24': '26',\n",
      " 'resultCode': '',\n",
      " 'resultMsg': '',\n",
      " 'rnum': 0,\n",
      " 'serviceKey': '',\n",
      " 'sidoName': '',\n",
      " 'so2Grade': '1',\n",
      " 'so2Value': '0.003',\n",
      " 'stationCode': '',\n",
      " 'stationName': '',\n",
      " 'totalCount': '',\n",
      " 'ver': ''}\n",
      "{'_id': ObjectId('5b4ec86133d665230005f5f2'),\n",
      " '_returnType': 'json',\n",
      " 'coGrade': '1',\n",
      " 'coValue': '0.4',\n",
      " 'dataTerm': '',\n",
      " 'dataTime': '2018-07-18 07:00',\n",
      " 'khaiGrade': '2',\n",
      " 'khaiValue': '77',\n",
      " 'mangName': '도시대기',\n",
      " 'no2Grade': '1',\n",
      " 'no2Value': '0.016',\n",
      " 'numOfRows': '10',\n",
      " 'o3Grade': '1',\n",
      " 'o3Value': '0.003',\n",
      " 'pageNo': '1',\n",
      " 'pm10Grade': '1',\n",
      " 'pm10Grade1h': '1',\n",
      " 'pm10Value': '29',\n",
      " 'pm10Value24': '28',\n",
      " 'pm25Grade': '2',\n",
      " 'pm25Grade1h': '2',\n",
      " 'pm25Value': '29',\n",
      " 'pm25Value24': '26',\n",
      " 'resultCode': '',\n",
      " 'resultMsg': '',\n",
      " 'rnum': 0,\n",
      " 'serviceKey': '',\n",
      " 'sidoName': '',\n",
      " 'so2Grade': '1',\n",
      " 'so2Value': '0.003',\n",
      " 'stationCode': '',\n",
      " 'stationName': '',\n",
      " 'totalCount': '',\n",
      " 'ver': ''}\n",
      "{'_id': ObjectId('5b4ec86133d665230005f5f3'),\n",
      " '_returnType': 'json',\n",
      " 'coGrade': '1',\n",
      " 'coValue': '0.3',\n",
      " 'dataTerm': '',\n",
      " 'dataTime': '2018-07-18 06:00',\n",
      " 'khaiGrade': '2',\n",
      " 'khaiValue': '77',\n",
      " 'mangName': '도시대기',\n",
      " 'no2Grade': '1',\n",
      " 'no2Value': '0.015',\n",
      " 'numOfRows': '10',\n",
      " 'o3Grade': '1',\n",
      " 'o3Value': '0.002',\n",
      " 'pageNo': '1',\n",
      " 'pm10Grade': '1',\n",
      " 'pm10Grade1h': '1',\n",
      " 'pm10Value': '26',\n",
      " 'pm10Value24': '28',\n",
      " 'pm25Grade': '2',\n",
      " 'pm25Grade1h': '2',\n",
      " 'pm25Value': '25',\n",
      " 'pm25Value24': '26',\n",
      " 'resultCode': '',\n",
      " 'resultMsg': '',\n",
      " 'rnum': 0,\n",
      " 'serviceKey': '',\n",
      " 'sidoName': '',\n",
      " 'so2Grade': '1',\n",
      " 'so2Value': '0.003',\n",
      " 'stationCode': '',\n",
      " 'stationName': '',\n",
      " 'totalCount': '',\n",
      " 'ver': ''}\n",
      "{'_id': ObjectId('5b4ec86133d665230005f5f4'),\n",
      " '_returnType': 'json',\n",
      " 'coGrade': '1',\n",
      " 'coValue': '0.4',\n",
      " 'dataTerm': '',\n",
      " 'dataTime': '2018-07-18 05:00',\n",
      " 'khaiGrade': '2',\n",
      " 'khaiValue': '77',\n",
      " 'mangName': '도시대기',\n",
      " 'no2Grade': '1',\n",
      " 'no2Value': '0.015',\n",
      " 'numOfRows': '10',\n",
      " 'o3Grade': '1',\n",
      " 'o3Value': '0.002',\n",
      " 'pageNo': '1',\n",
      " 'pm10Grade': '1',\n",
      " 'pm10Grade1h': '',\n",
      " 'pm10Value': '-',\n",
      " 'pm10Value24': '28',\n",
      " 'pm25Grade': '2',\n",
      " 'pm25Grade1h': '2',\n",
      " 'pm25Value': '30',\n",
      " 'pm25Value24': '26',\n",
      " 'resultCode': '',\n",
      " 'resultMsg': '',\n",
      " 'rnum': 0,\n",
      " 'serviceKey': '',\n",
      " 'sidoName': '',\n",
      " 'so2Grade': '1',\n",
      " 'so2Value': '0.004',\n",
      " 'stationCode': '',\n",
      " 'stationName': '',\n",
      " 'totalCount': '',\n",
      " 'ver': ''}\n",
      "{'_id': ObjectId('5b4ec86133d665230005f5f5'),\n",
      " '_returnType': 'json',\n",
      " 'coGrade': '1',\n",
      " 'coValue': '0.2',\n",
      " 'dataTerm': '',\n",
      " 'dataTime': '2018-07-18 04:00',\n",
      " 'khaiGrade': '2',\n",
      " 'khaiValue': '79',\n",
      " 'mangName': '도시대기',\n",
      " 'no2Grade': '1',\n",
      " 'no2Value': '0.015',\n",
      " 'numOfRows': '10',\n",
      " 'o3Grade': '1',\n",
      " 'o3Value': '0.002',\n",
      " 'pageNo': '1',\n",
      " 'pm10Grade': '1',\n",
      " 'pm10Grade1h': '1',\n",
      " 'pm10Value': '28',\n",
      " 'pm10Value24': '29',\n",
      " 'pm25Grade': '2',\n",
      " 'pm25Grade1h': '2',\n",
      " 'pm25Value': '26',\n",
      " 'pm25Value24': '27',\n",
      " 'resultCode': '',\n",
      " 'resultMsg': '',\n",
      " 'rnum': 0,\n",
      " 'serviceKey': '',\n",
      " 'sidoName': '',\n",
      " 'so2Grade': '1',\n",
      " 'so2Value': '0.004',\n",
      " 'stationCode': '',\n",
      " 'stationName': '',\n",
      " 'totalCount': '',\n",
      " 'ver': ''}\n",
      "{'_id': ObjectId('5b4ec86133d665230005f5f6'),\n",
      " '_returnType': 'json',\n",
      " 'coGrade': '1',\n",
      " 'coValue': '0.3',\n",
      " 'dataTerm': '',\n",
      " 'dataTime': '2018-07-18 03:00',\n",
      " 'khaiGrade': '2',\n",
      " 'khaiValue': '79',\n",
      " 'mangName': '도시대기',\n",
      " 'no2Grade': '1',\n",
      " 'no2Value': '0.015',\n",
      " 'numOfRows': '10',\n",
      " 'o3Grade': '1',\n",
      " 'o3Value': '0.003',\n",
      " 'pageNo': '1',\n",
      " 'pm10Grade': '1',\n",
      " 'pm10Grade1h': '1',\n",
      " 'pm10Value': '29',\n",
      " 'pm10Value24': '30',\n",
      " 'pm25Grade': '2',\n",
      " 'pm25Grade1h': '2',\n",
      " 'pm25Value': '29',\n",
      " 'pm25Value24': '27',\n",
      " 'resultCode': '',\n",
      " 'resultMsg': '',\n",
      " 'rnum': 0,\n",
      " 'serviceKey': '',\n",
      " 'sidoName': '',\n",
      " 'so2Grade': '1',\n",
      " 'so2Value': '0.003',\n",
      " 'stationCode': '',\n",
      " 'stationName': '',\n",
      " 'totalCount': '',\n",
      " 'ver': ''}\n"
     ]
    }
   ],
   "source": [
    "for i in result:\n",
    "    pprint(i) #pprint가 이쁘게나온다."
   ]
  },
  {
   "cell_type": "code",
   "execution_count": null,
   "metadata": {},
   "outputs": [],
   "source": []
  }
 ],
 "metadata": {
  "kernelspec": {
   "display_name": "Python 3",
   "language": "python",
   "name": "python3"
  },
  "language_info": {
   "codemirror_mode": {
    "name": "ipython",
    "version": 3
   },
   "file_extension": ".py",
   "mimetype": "text/x-python",
   "name": "python",
   "nbconvert_exporter": "python",
   "pygments_lexer": "ipython3",
   "version": "3.6.5"
  }
 },
 "nbformat": 4,
 "nbformat_minor": 2
}
