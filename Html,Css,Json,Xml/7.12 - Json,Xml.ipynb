{
 "cells": [
  {
   "cell_type": "markdown",
   "metadata": {},
   "source": [
    "# JSON, XML"
   ]
  },
  {
   "cell_type": "markdown",
   "metadata": {},
   "source": [
    "## Json"
   ]
  },
  {
   "cell_type": "code",
   "execution_count": 1,
   "metadata": {},
   "outputs": [
    {
     "name": "stdout",
     "output_type": "stream",
     "text": [
      "Overwriting test3.html\n"
     ]
    }
   ],
   "source": [
    "%%writefile test3.html\n",
    "\n",
    "<!doctype html>\n",
    "<html lang=\"ko\">\n",
    "    <head>\n",
    "        <style>\n",
    "            * {margin: 0; padding: 0;}\n",
    "            main {width: 800px; margin:0 auto;}\n",
    "            header, footer {background-color: #f1f1f1; text-align:center;}\n",
    "            header > h1, footer > h1 {padding: 20px 20px 20px 20px;}\n",
    "            nav {overflow: hidden; background-color: #333;}\n",
    "            nav li {float:left; display: block; padding:14px 16px;color:#f2f2f2; text-align:center; } \n",
    "            nav li:hover {background-color: #ddd; color:black;}\n",
    "            main > section {float: left; width: 70%;}\n",
    "            main > aside {float: right; width: 240px;}\n",
    "            main > section, main > aside {background-color:#aaa; margin-top: 20px; padding: 10px;}\n",
    "            article, section {background-color: white; padding: 20px; margin: 20px;}\n",
    "            article > section {background-color: #aaa;}\n",
    "            section > p {border: 1px solid #000;}\n",
    "            .clearfix {clear: both; content:\"\"}\n",
    "        </style>\n",
    "        <script>\n",
    "            var  car = {\n",
    "                \"make\" : \"volkswagen\",\n",
    "                \"year\" : 2013,\n",
    "                \"car\" :\n",
    "                {\n",
    "                    \"name\" : \"abc\",\n",
    "                    \"aaaa\" : \"bddr\",\n",
    "                }\n",
    "            };\n",
    "            car.list = [\"a\", \"b\"];\n",
    "            console.log(car)\n",
    "        </script>\n",
    "        # padding: 20; = padding: (북)20px (동)20px (남)20px (서)20px;\n",
    "        # background-color: #333 = #333333\n",
    "        #floating option을 통해서 nav의 li를 왼쪽으로 붙여버림.\n",
    "    </head>\n",
    "    <body>\n",
    "        <main>\n",
    "            <header>\n",
    "                <h1>header</h1>\n",
    "            </header>\n",
    "            <nav>\n",
    "                <ul>\n",
    "                    <li>Home</li>\n",
    "                    <li>News</li>\n",
    "                    <li>Contact</li>\n",
    "                    <li>About</li>\n",
    "                </ul>\n",
    "            </nav>\n",
    "            <aside>\n",
    "                <section>\n",
    "                    <h1>Advertisement</h1>\n",
    "                    <p>Content</p>\n",
    "                </section>\n",
    "                <section>\n",
    "                    <h1>Advertisement</h1>\n",
    "                    <p>Content</p>\n",
    "                </section>\n",
    "            </aside>\n",
    "            <section>\n",
    "                <article>\n",
    "                    <h1>Title</h1>\n",
    "                    <p>Content</p>\n",
    "                </article>\n",
    "                <article>\n",
    "                    <h1>Title</h1>\n",
    "                    <section>\n",
    "                        <h1>Sub Title1</h1>\n",
    "                        <p>Content</p>\n",
    "                    </section>\n",
    "                    <section>\n",
    "                        <h1>Sub Title2</h1>\n",
    "                        <p>Content</p>\n",
    "                    </section>\n",
    "                </article>\n",
    "            </section>\n",
    "            <footer class=\"clearfix\">\n",
    "                <h1>Footer</h1>\n",
    "            </footer>\n",
    "        </main> #header, section, aside, footer는 모두 블락 요소이다.\n",
    "    </body>\n",
    "</html>"
   ]
  },
  {
   "cell_type": "code",
   "execution_count": 2,
   "metadata": {},
   "outputs": [],
   "source": [
    "import json"
   ]
  },
  {
   "cell_type": "code",
   "execution_count": 3,
   "metadata": {},
   "outputs": [
    {
     "data": {
      "text/plain": [
       "['JSONDecodeError',\n",
       " 'JSONDecoder',\n",
       " 'JSONEncoder',\n",
       " '__all__',\n",
       " '__author__',\n",
       " '__builtins__',\n",
       " '__cached__',\n",
       " '__doc__',\n",
       " '__file__',\n",
       " '__loader__',\n",
       " '__name__',\n",
       " '__package__',\n",
       " '__path__',\n",
       " '__spec__',\n",
       " '__version__',\n",
       " '_default_decoder',\n",
       " '_default_encoder',\n",
       " 'codecs',\n",
       " 'decoder',\n",
       " 'detect_encoding',\n",
       " 'dump',\n",
       " 'dumps',\n",
       " 'encoder',\n",
       " 'load',\n",
       " 'loads',\n",
       " 'scanner']"
      ]
     },
     "execution_count": 3,
     "metadata": {},
     "output_type": "execute_result"
    }
   ],
   "source": [
    "dir(json) #인코딩 시 : dump(파일에서 가져올때), dumps(파일 포인터 없음. 메모리에서 갖고 올 때) 디코딩 시 : load, loads"
   ]
  },
  {
   "cell_type": "code",
   "execution_count": 4,
   "metadata": {},
   "outputs": [],
   "source": [
    "name = (\"kim\", \"lee\", \"park\")"
   ]
  },
  {
   "cell_type": "code",
   "execution_count": 5,
   "metadata": {},
   "outputs": [
    {
     "data": {
      "text/plain": [
       "tuple"
      ]
     },
     "execution_count": 5,
     "metadata": {},
     "output_type": "execute_result"
    }
   ],
   "source": [
    "type(name)"
   ]
  },
  {
   "cell_type": "code",
   "execution_count": 6,
   "metadata": {},
   "outputs": [],
   "source": [
    "age = [28 , 32, 25]"
   ]
  },
  {
   "cell_type": "code",
   "execution_count": 7,
   "metadata": {},
   "outputs": [
    {
     "data": {
      "text/plain": [
       "list"
      ]
     },
     "execution_count": 7,
     "metadata": {},
     "output_type": "execute_result"
    }
   ],
   "source": [
    "type(age)"
   ]
  },
  {
   "cell_type": "code",
   "execution_count": 8,
   "metadata": {},
   "outputs": [],
   "source": [
    "person = {\"name\":\"Kim\" ,\"age\":28, \"car\":False}"
   ]
  },
  {
   "cell_type": "code",
   "execution_count": 9,
   "metadata": {},
   "outputs": [
    {
     "data": {
      "text/plain": [
       "dict"
      ]
     },
     "execution_count": 9,
     "metadata": {},
     "output_type": "execute_result"
    }
   ],
   "source": [
    "type(person)"
   ]
  },
  {
   "cell_type": "code",
   "execution_count": 10,
   "metadata": {},
   "outputs": [],
   "source": [
    "nameStr = json.dumps(name)"
   ]
  },
  {
   "cell_type": "code",
   "execution_count": 11,
   "metadata": {},
   "outputs": [
    {
     "data": {
      "text/plain": [
       "'[\"kim\", \"lee\", \"park\"]'"
      ]
     },
     "execution_count": 11,
     "metadata": {},
     "output_type": "execute_result"
    }
   ],
   "source": [
    "nameStr"
   ]
  },
  {
   "cell_type": "code",
   "execution_count": 12,
   "metadata": {},
   "outputs": [],
   "source": [
    "personStr = json.dumps(person, indent=\"    \")"
   ]
  },
  {
   "cell_type": "code",
   "execution_count": 13,
   "metadata": {},
   "outputs": [
    {
     "name": "stdout",
     "output_type": "stream",
     "text": [
      "{\n",
      "    \"name\": \"Kim\",\n",
      "    \"age\": 28,\n",
      "    \"car\": false\n",
      "}\n"
     ]
    }
   ],
   "source": [
    "print(personStr)"
   ]
  },
  {
   "cell_type": "code",
   "execution_count": 14,
   "metadata": {},
   "outputs": [
    {
     "data": {
      "text/plain": [
       "str"
      ]
     },
     "execution_count": 14,
     "metadata": {},
     "output_type": "execute_result"
    }
   ],
   "source": [
    "type(personStr) #jsondp dump된 것들은 String형이다!!!"
   ]
  },
  {
   "cell_type": "code",
   "execution_count": 15,
   "metadata": {},
   "outputs": [],
   "source": [
    "korean = (\"김\", \"이\", \"박\")"
   ]
  },
  {
   "cell_type": "code",
   "execution_count": 16,
   "metadata": {},
   "outputs": [],
   "source": [
    "koreanStr = json.dumps(korean)"
   ]
  },
  {
   "cell_type": "code",
   "execution_count": 17,
   "metadata": {
    "scrolled": true
   },
   "outputs": [
    {
     "name": "stdout",
     "output_type": "stream",
     "text": [
      "[\"\\uae40\", \"\\uc774\", \"\\ubc15\"]\n"
     ]
    }
   ],
   "source": [
    "print(koreanStr) #한글은 유니코드 형태로 출력이 된다."
   ]
  },
  {
   "cell_type": "code",
   "execution_count": 18,
   "metadata": {},
   "outputs": [],
   "source": [
    "koreanStr = json.dumps(korean, ensure_ascii=False) #한글 해석하기 위해 옵션을 줌."
   ]
  },
  {
   "cell_type": "code",
   "execution_count": 19,
   "metadata": {
    "scrolled": true
   },
   "outputs": [
    {
     "name": "stdout",
     "output_type": "stream",
     "text": [
      "[\"김\", \"이\", \"박\"]\n"
     ]
    }
   ],
   "source": [
    "print(koreanStr) #그래서 한글 출력됨. "
   ]
  },
  {
   "cell_type": "code",
   "execution_count": 20,
   "metadata": {},
   "outputs": [],
   "source": [
    "personObj = json.loads(personStr) #객체 말고 String타입형으로 넣어주면 객체 타입으로 만들어 준다."
   ]
  },
  {
   "cell_type": "code",
   "execution_count": 21,
   "metadata": {},
   "outputs": [
    {
     "data": {
      "text/plain": [
       "dict"
      ]
     },
     "execution_count": 21,
     "metadata": {},
     "output_type": "execute_result"
    }
   ],
   "source": [
    "type(personObj)"
   ]
  },
  {
   "cell_type": "code",
   "execution_count": 22,
   "metadata": {},
   "outputs": [
    {
     "data": {
      "text/plain": [
       "{'name': 'Kim', 'age': 28, 'car': False}"
      ]
     },
     "execution_count": 22,
     "metadata": {},
     "output_type": "execute_result"
    }
   ],
   "source": [
    "personObj # dictionary형태로 출력됨."
   ]
  },
  {
   "cell_type": "code",
   "execution_count": 23,
   "metadata": {},
   "outputs": [
    {
     "data": {
      "text/plain": [
       "'Kim'"
      ]
     },
     "execution_count": 23,
     "metadata": {},
     "output_type": "execute_result"
    }
   ],
   "source": [
    "personObj[\"name\"]"
   ]
  },
  {
   "cell_type": "code",
   "execution_count": 27,
   "metadata": {},
   "outputs": [
    {
     "data": {
      "text/plain": [
       "True"
      ]
     },
     "execution_count": 27,
     "metadata": {},
     "output_type": "execute_result"
    }
   ],
   "source": [
    "person == personObj"
   ]
  },
  {
   "cell_type": "code",
   "execution_count": 28,
   "metadata": {},
   "outputs": [],
   "source": [
    "personObj[\"car\"] = [\"레이\", \"모닝\"]"
   ]
  },
  {
   "cell_type": "code",
   "execution_count": 29,
   "metadata": {},
   "outputs": [
    {
     "data": {
      "text/plain": [
       "{'name': 'Kim', 'age': 28, 'car': ['레이', '모닝']}"
      ]
     },
     "execution_count": 29,
     "metadata": {},
     "output_type": "execute_result"
    }
   ],
   "source": [
    "personObj"
   ]
  },
  {
   "cell_type": "code",
   "execution_count": 30,
   "metadata": {},
   "outputs": [],
   "source": [
    "with open(\"test.json\", \"w\") as fp: #파일에 덤프해서 저장\n",
    "    json.dump(personObj, fp)"
   ]
  },
  {
   "cell_type": "code",
   "execution_count": 31,
   "metadata": {},
   "outputs": [],
   "source": [
    "with open(\"test.json\", \"r\") as fp: #파일에서 데이터 불러옴.\n",
    "    loadObj = json.load(fp)"
   ]
  },
  {
   "cell_type": "code",
   "execution_count": 32,
   "metadata": {},
   "outputs": [
    {
     "data": {
      "text/plain": [
       "{'name': 'Kim', 'age': 28, 'car': ['레이', '모닝']}"
      ]
     },
     "execution_count": 32,
     "metadata": {},
     "output_type": "execute_result"
    }
   ],
   "source": [
    "loadObj  #데이터가 잘 로딩 되었음을 확인할 수 있다."
   ]
  },
  {
   "cell_type": "code",
   "execution_count": 33,
   "metadata": {},
   "outputs": [
    {
     "data": {
      "text/plain": [
       "True"
      ]
     },
     "execution_count": 33,
     "metadata": {},
     "output_type": "execute_result"
    }
   ],
   "source": [
    "personObj == loadObj #json (dict) type으로 로딩됨."
   ]
  },
  {
   "cell_type": "markdown",
   "metadata": {},
   "source": [
    "실제 웹에 request를 받아서 데이터를 가져올 것이다."
   ]
  },
  {
   "cell_type": "code",
   "execution_count": 34,
   "metadata": {},
   "outputs": [],
   "source": [
    "import urllib.request"
   ]
  },
  {
   "cell_type": "code",
   "execution_count": 35,
   "metadata": {},
   "outputs": [],
   "source": [
    "resp = urllib.request.urlopen(\"https://jsonplaceholder.typicode.com/posts/1\") \n",
    "#해당 주소의 json을 불러옴"
   ]
  },
  {
   "cell_type": "code",
   "execution_count": 36,
   "metadata": {},
   "outputs": [],
   "source": [
    "text = resp.read() #개행문자 포함해서 byte단위로 다 받아옴. -> pythom Object로 만들것임."
   ]
  },
  {
   "cell_type": "code",
   "execution_count": 37,
   "metadata": {},
   "outputs": [
    {
     "data": {
      "text/plain": [
       "bytes"
      ]
     },
     "execution_count": 37,
     "metadata": {},
     "output_type": "execute_result"
    }
   ],
   "source": [
    "type(text)"
   ]
  },
  {
   "cell_type": "code",
   "execution_count": 38,
   "metadata": {},
   "outputs": [],
   "source": [
    "textStr = text.decode(\"utf-8\") #String형으로 변환 (UTF-8)"
   ]
  },
  {
   "cell_type": "code",
   "execution_count": 39,
   "metadata": {},
   "outputs": [
    {
     "data": {
      "text/plain": [
       "str"
      ]
     },
     "execution_count": 39,
     "metadata": {},
     "output_type": "execute_result"
    }
   ],
   "source": [
    "type(textStr)"
   ]
  },
  {
   "cell_type": "code",
   "execution_count": 40,
   "metadata": {},
   "outputs": [],
   "source": [
    "respObj = json.loads(textStr)"
   ]
  },
  {
   "cell_type": "code",
   "execution_count": 41,
   "metadata": {
    "scrolled": true
   },
   "outputs": [
    {
     "name": "stdout",
     "output_type": "stream",
     "text": [
      "{'userId': 1, 'id': 1, 'title': 'sunt aut facere repellat provident occaecati excepturi optio reprehenderit', 'body': 'quia et suscipit\\nsuscipit recusandae consequuntur expedita et cum\\nreprehenderit molestiae ut ut quas totam\\nnostrum rerum est autem sunt rem eveniet architecto'}\n"
     ]
    }
   ],
   "source": [
    "print(respObj)"
   ]
  },
  {
   "cell_type": "code",
   "execution_count": 42,
   "metadata": {},
   "outputs": [
    {
     "data": {
      "text/plain": [
       "dict"
      ]
     },
     "execution_count": 42,
     "metadata": {},
     "output_type": "execute_result"
    }
   ],
   "source": [
    "type(respObj)"
   ]
  },
  {
   "cell_type": "code",
   "execution_count": 43,
   "metadata": {},
   "outputs": [
    {
     "data": {
      "text/plain": [
       "'sunt aut facere repellat provident occaecati excepturi optio reprehenderit'"
      ]
     },
     "execution_count": 43,
     "metadata": {},
     "output_type": "execute_result"
    }
   ],
   "source": [
    "respObj[\"title\"] #dictionary형태로 title에 대해서 접근 가능"
   ]
  },
  {
   "cell_type": "code",
   "execution_count": 46,
   "metadata": {},
   "outputs": [
    {
     "name": "stdout",
     "output_type": "stream",
     "text": [
      "userId 1\n",
      "<class 'int'>\n",
      "id 1\n",
      "<class 'int'>\n",
      "title sunt aut facere repellat provident occaecati excepturi optio reprehenderit\n",
      "<class 'str'>\n",
      "body quia et suscipit\n",
      "suscipit recusandae consequuntur expedita et cum\n",
      "reprehenderit molestiae ut ut quas totam\n",
      "nostrum rerum est autem sunt rem eveniet architecto\n",
      "<class 'str'>\n"
     ]
    }
   ],
   "source": [
    "for (k,v) in respObj.items(): #key, value값 다 출력\n",
    "    print(k, v)\n",
    "    print(type(v))"
   ]
  },
  {
   "cell_type": "code",
   "execution_count": 47,
   "metadata": {},
   "outputs": [
    {
     "data": {
      "text/plain": [
       "'http://openapi.airkorea.or.kr/openapi/services/rest/ArpltnInforInqireSvc/getCtprvnRltmMesureDnsty?\\n    serviceKey=DG70F1Dk%2FIJUVnoayuaFbCRKoAhow9pKpax5ofLJmBQG0EOMeos%2B1BiHE%2BE2zdrhQI%2BoiCdWNXHWLLoFzf0uPA%3D%3D\\n    &numOfRows=10\\n    &pageSize=10\\n    &pageNo=1\\n    &startPage=1\\n    &sidoName=%EB%8C%80%EA%B5%AC\\n    &ver=1.3\\n    &_returnType=json'"
      ]
     },
     "execution_count": 47,
     "metadata": {},
     "output_type": "execute_result"
    }
   ],
   "source": [
    "'''http://openapi.airkorea.or.kr/openapi/services/rest/ArpltnInforInqireSvc/getCtprvnRltmMesureDnsty?\n",
    "    serviceKey=DG70F1Dk%2FIJUVnoayuaFbCRKoAhow9pKpax5ofLJmBQG0EOMeos%2B1BiHE%2BE2zdrhQI%2BoiCdWNXHWLLoFzf0uPA%3D%3D\n",
    "    &numOfRows=10\n",
    "    &pageSize=10\n",
    "    &pageNo=1\n",
    "    &startPage=1\n",
    "    &sidoName=%EB%8C%80%EA%B5%AC\n",
    "    &ver=1.3\n",
    "    &_returnType=json'''"
   ]
  },
  {
   "cell_type": "code",
   "execution_count": 48,
   "metadata": {},
   "outputs": [],
   "source": [
    "params = {\n",
    "        \"serviceKey\" : \"DG70F1Dk%2FIJUVnoayuaFbCRKoAhow9pKpax5ofLJmBQG0EOMeos%2B1BiHE%2BE2zdrhQI%2BoiCdWNXHWLLoFzf0uPA%3D%3D\",\n",
    "        \"numOfRows\":10,\n",
    "        \"pageNo\":1,\n",
    "        \"sidoName\":None,\n",
    "        \"searchCondition\":\"DAILY\",\n",
    "        \"ver\":\"1.3\",\n",
    "        \"_returnType\":\"json\"\n",
    "}"
   ]
  },
  {
   "cell_type": "code",
   "execution_count": 51,
   "metadata": {},
   "outputs": [
    {
     "data": {
      "text/plain": [
       "{'serviceKey': 'DG70F1Dk%2FIJUVnoayuaFbCRKoAhow9pKpax5ofLJmBQG0EOMeos%2B1BiHE%2BE2zdrhQI%2BoiCdWNXHWLLoFzf0uPA%3D%3D',\n",
       " 'numOfRows': 10,\n",
       " 'pageNo': 1,\n",
       " 'sidoName': '대구',\n",
       " 'searchCondition': 'DAILY',\n",
       " 'ver': '1.3',\n",
       " '_returnType': 'json'}"
      ]
     },
     "execution_count": 51,
     "metadata": {},
     "output_type": "execute_result"
    }
   ],
   "source": [
    "params"
   ]
  },
  {
   "cell_type": "code",
   "execution_count": 50,
   "metadata": {},
   "outputs": [],
   "source": [
    "params[\"sidoName\"]=\"대구\"\n",
    "#서울, 부산, 대구, 인천, 광주 ....."
   ]
  },
  {
   "cell_type": "code",
   "execution_count": 52,
   "metadata": {},
   "outputs": [],
   "source": [
    "#url = \"http://openapi.airkorea.or.kr/openapi/services/rest/ArpltnInforInqireSvc/getCtprvnRltmMesureDnsty\"\n",
    "url = \"http://openapi.airkorea.or.kr/openapi/services/rest/ArpltnInforInqireSvc/getCtprvnMesureSidoLIst\"\n"
   ]
  },
  {
   "cell_type": "code",
   "execution_count": 54,
   "metadata": {},
   "outputs": [],
   "source": [
    "from urllib import parse"
   ]
  },
  {
   "cell_type": "code",
   "execution_count": 55,
   "metadata": {},
   "outputs": [],
   "source": [
    "params[\"serviceKey\"] = urllib.parse.unquote(params[\"serviceKey\"]) #service Key 자체는 원래 byte타입이다.\n",
    "#byte형을 string형으로 다시 변환해줌 -> 추후에 param전체를 byte형으로 encoding해줄 때 서비스키가 변하지 않도록 하기 위해."
   ]
  },
  {
   "cell_type": "code",
   "execution_count": 56,
   "metadata": {},
   "outputs": [
    {
     "data": {
      "text/plain": [
       "{'serviceKey': 'DG70F1Dk/IJUVnoayuaFbCRKoAhow9pKpax5ofLJmBQG0EOMeos+1BiHE+E2zdrhQI+oiCdWNXHWLLoFzf0uPA==',\n",
       " 'numOfRows': 10,\n",
       " 'pageNo': 1,\n",
       " 'sidoName': '대구',\n",
       " 'searchCondition': 'DAILY',\n",
       " 'ver': '1.3',\n",
       " '_returnType': 'json'}"
      ]
     },
     "execution_count": 56,
     "metadata": {},
     "output_type": "execute_result"
    }
   ],
   "source": [
    "params"
   ]
  },
  {
   "cell_type": "code",
   "execution_count": 57,
   "metadata": {},
   "outputs": [],
   "source": [
    "paramUrl = parse.urlencode(params)"
   ]
  },
  {
   "cell_type": "code",
   "execution_count": 58,
   "metadata": {},
   "outputs": [
    {
     "data": {
      "text/plain": [
       "'serviceKey=DG70F1Dk%2FIJUVnoayuaFbCRKoAhow9pKpax5ofLJmBQG0EOMeos%2B1BiHE%2BE2zdrhQI%2BoiCdWNXHWLLoFzf0uPA%3D%3D&numOfRows=10&pageNo=1&sidoName=%EB%8C%80%EA%B5%AC&searchCondition=DAILY&ver=1.3&_returnType=json'"
      ]
     },
     "execution_count": 58,
     "metadata": {},
     "output_type": "execute_result"
    }
   ],
   "source": [
    "paramUrl"
   ]
  },
  {
   "cell_type": "code",
   "execution_count": 59,
   "metadata": {},
   "outputs": [
    {
     "data": {
      "text/plain": [
       "str"
      ]
     },
     "execution_count": 59,
     "metadata": {},
     "output_type": "execute_result"
    }
   ],
   "source": [
    "type(paramUrl) #string타입이다. -> 하지만 인터넷에서 주고받을 때는 byte타입이 필요함."
   ]
  },
  {
   "cell_type": "code",
   "execution_count": 60,
   "metadata": {},
   "outputs": [],
   "source": [
    "paramBytes = paramUrl.encode(\"utf-8\") #byte타입으로 타입 변환 해줌."
   ]
  },
  {
   "cell_type": "code",
   "execution_count": 61,
   "metadata": {},
   "outputs": [
    {
     "data": {
      "text/plain": [
       "bytes"
      ]
     },
     "execution_count": 61,
     "metadata": {},
     "output_type": "execute_result"
    }
   ],
   "source": [
    "type(paramBytes)"
   ]
  },
  {
   "cell_type": "code",
   "execution_count": 62,
   "metadata": {},
   "outputs": [
    {
     "name": "stdout",
     "output_type": "stream",
     "text": [
      "b'serviceKey=DG70F1Dk%2FIJUVnoayuaFbCRKoAhow9pKpax5ofLJmBQG0EOMeos%2B1BiHE%2BE2zdrhQI%2BoiCdWNXHWLLoFzf0uPA%3D%3D&numOfRows=10&pageNo=1&sidoName=%EB%8C%80%EA%B5%AC&searchCondition=DAILY&ver=1.3&_returnType=json'\n"
     ]
    }
   ],
   "source": [
    "print(paramBytes)"
   ]
  },
  {
   "cell_type": "code",
   "execution_count": 63,
   "metadata": {},
   "outputs": [],
   "source": [
    "req =  urllib.request.Request(url, data = paramBytes)"
   ]
  },
  {
   "cell_type": "code",
   "execution_count": 64,
   "metadata": {},
   "outputs": [],
   "source": [
    "res = urllib.request.urlopen(req)"
   ]
  },
  {
   "cell_type": "code",
   "execution_count": 65,
   "metadata": {},
   "outputs": [],
   "source": [
    "result = res.read()"
   ]
  },
  {
   "cell_type": "code",
   "execution_count": 66,
   "metadata": {},
   "outputs": [
    {
     "data": {
      "text/plain": [
       "b'{\"list\":[{\"_returnType\":\"json\",\"cityName\":\"\\xeb\\x82\\xa8\\xea\\xb5\\xac\",\"cityNameEng\":\"Nam-gu\",\"coValue\":\"0.1\",\"dataGubun\":\"\",\"dataTime\":\"2018-07-14 12:00\",\"districtCode\":\"053\",\"districtNumSeq\":\"001\",\"itemCode\":\"\",\"khaiValue\":\"\",\"no2Value\":\"0.004\",\"numOfRows\":\"10\",\"o3Value\":\"0.053\",\"pageNo\":\"1\",\"pm10Value\":\"18\",\"pm25Value\":\"9\",\"resultCode\":\"\",\"resultMsg\":\"\",\"searchCondition\":\"\",\"serviceKey\":\"\",\"sidoName\":\"\\xeb\\x8c\\x80\\xea\\xb5\\xac\",\"so2Value\":\"0.002\",\"totalCount\":\"\"},{\"_returnType\":\"json\",\"cityName\":\"\\xeb\\x8b\\xac\\xec\\x84\\x9c\\xea\\xb5\\xac\",\"cityNameEng\":\"Dalseo-gu\",\"coValue\":\"0.3\",\"dataGubun\":\"\",\"dataTime\":\"2018-07-14 12:00\",\"districtCode\":\"053\",\"districtNumSeq\":\"002\",\"itemCode\":\"\",\"khaiValue\":\"\",\"no2Value\":\"0.010\",\"numOfRows\":\"10\",\"o3Value\":\"0.045\",\"pageNo\":\"1\",\"pm10Value\":\"28\",\"pm25Value\":\"18\",\"resultCode\":\"\",\"resultMsg\":\"\",\"searchCondition\":\"\",\"serviceKey\":\"\",\"sidoName\":\"\\xeb\\x8c\\x80\\xea\\xb5\\xac\",\"so2Value\":\"0.002\",\"totalCount\":\"\"},{\"_returnType\":\"json\",\"cityName\":\"\\xeb\\x8b\\xac\\xec\\x84\\xb1\\xea\\xb5\\xb0\",\"cityNameEng\":\"Dalseong-gun\",\"coValue\":\"0.1\",\"dataGubun\":\"\",\"dataTime\":\"2018-07-14 12:00\",\"districtCode\":\"053\",\"districtNumSeq\":\"003\",\"itemCode\":\"\",\"khaiValue\":\"\",\"no2Value\":\"0.007\",\"numOfRows\":\"10\",\"o3Value\":\"0.051\",\"pageNo\":\"1\",\"pm10Value\":\"21\",\"pm25Value\":\"13\",\"resultCode\":\"\",\"resultMsg\":\"\",\"searchCondition\":\"\",\"serviceKey\":\"\",\"sidoName\":\"\\xeb\\x8c\\x80\\xea\\xb5\\xac\",\"so2Value\":\"0.001\",\"totalCount\":\"\"},{\"_returnType\":\"json\",\"cityName\":\"\\xeb\\x8f\\x99\\xea\\xb5\\xac\",\"cityNameEng\":\"Dong-gu\",\"coValue\":\"0.3\",\"dataGubun\":\"\",\"dataTime\":\"2018-07-14 12:00\",\"districtCode\":\"053\",\"districtNumSeq\":\"004\",\"itemCode\":\"\",\"khaiValue\":\"\",\"no2Value\":\"0.004\",\"numOfRows\":\"10\",\"o3Value\":\"0.043\",\"pageNo\":\"1\",\"pm10Value\":\"19\",\"pm25Value\":\"9\",\"resultCode\":\"\",\"resultMsg\":\"\",\"searchCondition\":\"\",\"serviceKey\":\"\",\"sidoName\":\"\\xeb\\x8c\\x80\\xea\\xb5\\xac\",\"so2Value\":\"0.002\",\"totalCount\":\"\"},{\"_returnType\":\"json\",\"cityName\":\"\\xeb\\xb6\\x81\\xea\\xb5\\xac\",\"cityNameEng\":\"Buk-gu\",\"coValue\":\"0.2\",\"dataGubun\":\"\",\"dataTime\":\"2018-07-14 12:00\",\"districtCode\":\"053\",\"districtNumSeq\":\"005\",\"itemCode\":\"\",\"khaiValue\":\"\",\"no2Value\":\"0.005\",\"numOfRows\":\"10\",\"o3Value\":\"0.035\",\"pageNo\":\"1\",\"pm10Value\":\"17\",\"pm25Value\":\"10\",\"resultCode\":\"\",\"resultMsg\":\"\",\"searchCondition\":\"\",\"serviceKey\":\"\",\"sidoName\":\"\\xeb\\x8c\\x80\\xea\\xb5\\xac\",\"so2Value\":\"0.002\",\"totalCount\":\"\"},{\"_returnType\":\"json\",\"cityName\":\"\\xec\\x84\\x9c\\xea\\xb5\\xac\",\"cityNameEng\":\"Seo-gu\",\"coValue\":\"0.1\",\"dataGubun\":\"\",\"dataTime\":\"2018-07-14 12:00\",\"districtCode\":\"053\",\"districtNumSeq\":\"006\",\"itemCode\":\"\",\"khaiValue\":\"\",\"no2Value\":\"0.007\",\"numOfRows\":\"10\",\"o3Value\":\"0.042\",\"pageNo\":\"1\",\"pm10Value\":\"21\",\"pm25Value\":\"10\",\"resultCode\":\"\",\"resultMsg\":\"\",\"searchCondition\":\"\",\"serviceKey\":\"\",\"sidoName\":\"\\xeb\\x8c\\x80\\xea\\xb5\\xac\",\"so2Value\":\"0.002\",\"totalCount\":\"\"},{\"_returnType\":\"json\",\"cityName\":\"\\xec\\x88\\x98\\xec\\x84\\xb1\\xea\\xb5\\xac\",\"cityNameEng\":\"Suseong-gu\",\"coValue\":\"0.3\",\"dataGubun\":\"\",\"dataTime\":\"2018-07-14 12:00\",\"districtCode\":\"053\",\"districtNumSeq\":\"007\",\"itemCode\":\"\",\"khaiValue\":\"\",\"no2Value\":\"0.007\",\"numOfRows\":\"10\",\"o3Value\":\"0.048\",\"pageNo\":\"1\",\"pm10Value\":\"22\",\"pm25Value\":\"9\",\"resultCode\":\"\",\"resultMsg\":\"\",\"searchCondition\":\"\",\"serviceKey\":\"\",\"sidoName\":\"\\xeb\\x8c\\x80\\xea\\xb5\\xac\",\"so2Value\":\"0.002\",\"totalCount\":\"\"},{\"_returnType\":\"json\",\"cityName\":\"\\xec\\xa4\\x91\\xea\\xb5\\xac\",\"cityNameEng\":\"Jung-gu\",\"coValue\":\"0.1\",\"dataGubun\":\"\",\"dataTime\":\"2018-07-14 12:00\",\"districtCode\":\"053\",\"districtNumSeq\":\"008\",\"itemCode\":\"\",\"khaiValue\":\"\",\"no2Value\":\"0.007\",\"numOfRows\":\"10\",\"o3Value\":\"0.038\",\"pageNo\":\"1\",\"pm10Value\":\"17\",\"pm25Value\":\"12\",\"resultCode\":\"\",\"resultMsg\":\"\",\"searchCondition\":\"\",\"serviceKey\":\"\",\"sidoName\":\"\\xeb\\x8c\\x80\\xea\\xb5\\xac\",\"so2Value\":\"0.001\",\"totalCount\":\"\"},{\"_returnType\":\"json\",\"cityName\":\"\\xeb\\x82\\xa8\\xea\\xb5\\xac\",\"cityNameEng\":\"Nam-gu\",\"coValue\":\"0.1\",\"dataGubun\":\"\",\"dataTime\":\"2018-07-14 11:00\",\"districtCode\":\"053\",\"districtNumSeq\":\"001\",\"itemCode\":\"\",\"khaiValue\":\"\",\"no2Value\":\"0.004\",\"numOfRows\":\"10\",\"o3Value\":\"0.043\",\"pageNo\":\"1\",\"pm10Value\":\"17\",\"pm25Value\":\"11\",\"resultCode\":\"\",\"resultMsg\":\"\",\"searchCondition\":\"\",\"serviceKey\":\"\",\"sidoName\":\"\\xeb\\x8c\\x80\\xea\\xb5\\xac\",\"so2Value\":\"0.002\",\"totalCount\":\"\"},{\"_returnType\":\"json\",\"cityName\":\"\\xeb\\x8b\\xac\\xec\\x84\\x9c\\xea\\xb5\\xac\",\"cityNameEng\":\"Dalseo-gu\",\"coValue\":\"0.3\",\"dataGubun\":\"\",\"dataTime\":\"2018-07-14 11:00\",\"districtCode\":\"053\",\"districtNumSeq\":\"002\",\"itemCode\":\"\",\"khaiValue\":\"\",\"no2Value\":\"0.011\",\"numOfRows\":\"10\",\"o3Value\":\"0.037\",\"pageNo\":\"1\",\"pm10Value\":\"26\",\"pm25Value\":\"13\",\"resultCode\":\"\",\"resultMsg\":\"\",\"searchCondition\":\"\",\"serviceKey\":\"\",\"sidoName\":\"\\xeb\\x8c\\x80\\xea\\xb5\\xac\",\"so2Value\":\"0.002\",\"totalCount\":\"\"}],\"parm\":{\"_returnType\":\"json\",\"cityName\":\"\",\"cityNameEng\":\"\",\"coValue\":\"\",\"dataGubun\":\"\",\"dataTime\":\"\",\"districtCode\":\"\",\"districtNumSeq\":\"\",\"itemCode\":\"\",\"khaiValue\":\"\",\"no2Value\":\"\",\"numOfRows\":\"10\",\"o3Value\":\"\",\"pageNo\":\"1\",\"pm10Value\":\"\",\"pm25Value\":\"\",\"resultCode\":\"\",\"resultMsg\":\"\",\"searchCondition\":\"DAILY\",\"serviceKey\":\"DG70F1Dk/IJUVnoayuaFbCRKoAhow9pKpax5ofLJmBQG0EOMeos+1BiHE+E2zdrhQI+oiCdWNXHWLLoFzf0uPA==\",\"sidoName\":\"\\xeb\\x8c\\x80\\xea\\xb5\\xac\",\"so2Value\":\"\",\"totalCount\":\"\"},\"CtprvnMesureLIstVo2\":{\"_returnType\":\"json\",\"cityName\":\"\",\"cityNameEng\":\"\",\"coValue\":\"\",\"dataGubun\":\"\",\"dataTime\":\"\",\"districtCode\":\"\",\"districtNumSeq\":\"\",\"itemCode\":\"\",\"khaiValue\":\"\",\"no2Value\":\"\",\"numOfRows\":\"10\",\"o3Value\":\"\",\"pageNo\":\"1\",\"pm10Value\":\"\",\"pm25Value\":\"\",\"resultCode\":\"\",\"resultMsg\":\"\",\"searchCondition\":\"DAILY\",\"serviceKey\":\"DG70F1Dk/IJUVnoayuaFbCRKoAhow9pKpax5ofLJmBQG0EOMeos+1BiHE+E2zdrhQI+oiCdWNXHWLLoFzf0uPA==\",\"sidoName\":\"\\xeb\\x8c\\x80\\xea\\xb5\\xac\",\"so2Value\":\"\",\"totalCount\":\"\"},\"totalCount\":200}'"
      ]
     },
     "execution_count": 66,
     "metadata": {},
     "output_type": "execute_result"
    }
   ],
   "source": [
    "result #현재 서비스키의 경우 원래 byte형인데 byte타입으로 형변환 해주면서 달라지기 때문에 byte형으로 encoding전에 string형으로 다시 바꿔줌\n",
    "# 변환 전 : DG70F1Dk%2FIJUVnoayuaFbCRKoAhow9pKpax5ofLJmBQG0EOMeos%2B1BiHE%2BE2zdrhQI%2BoiCdWNXHWLLoFzf0uPA%3D%3D\n",
    "# 변환 후 : DG70F1Dk%252FIJUVnoayuaFbCRKoAhow9pKpax5ofLJmBQG0EOMeos%252B1BiHE%252BE2zdrhQI%252BoiCdWNXHWLLoFzf0uPA%253D%253D"
   ]
  },
  {
   "cell_type": "code",
   "execution_count": 67,
   "metadata": {},
   "outputs": [
    {
     "data": {
      "text/plain": [
       "bytes"
      ]
     },
     "execution_count": 67,
     "metadata": {},
     "output_type": "execute_result"
    }
   ],
   "source": [
    "type(result)"
   ]
  },
  {
   "cell_type": "code",
   "execution_count": 68,
   "metadata": {},
   "outputs": [],
   "source": [
    "resultStr = result.decode(\"utf-8\") # byte타입 객체를 String형으로 디코딩해줌."
   ]
  },
  {
   "cell_type": "code",
   "execution_count": 69,
   "metadata": {},
   "outputs": [
    {
     "data": {
      "text/plain": [
       "str"
      ]
     },
     "execution_count": 69,
     "metadata": {},
     "output_type": "execute_result"
    }
   ],
   "source": [
    "type(resultStr)"
   ]
  },
  {
   "cell_type": "code",
   "execution_count": 70,
   "metadata": {
    "scrolled": true
   },
   "outputs": [
    {
     "data": {
      "text/plain": [
       "'{\"list\":[{\"_returnType\":\"json\",\"cityName\":\"남구\",\"cityNameEng\":\"Nam-gu\",\"coValue\":\"0.1\",\"dataGubun\":\"\",\"dataTime\":\"2018-07-14 12:00\",\"districtCode\":\"053\",\"districtNumSeq\":\"001\",\"itemCode\":\"\",\"khaiValue\":\"\",\"no2Value\":\"0.004\",\"numOfRows\":\"10\",\"o3Value\":\"0.053\",\"pageNo\":\"1\",\"pm10Value\":\"18\",\"pm25Value\":\"9\",\"resultCode\":\"\",\"resultMsg\":\"\",\"searchCondition\":\"\",\"serviceKey\":\"\",\"sidoName\":\"대구\",\"so2Value\":\"0.002\",\"totalCount\":\"\"},{\"_returnType\":\"json\",\"cityName\":\"달서구\",\"cityNameEng\":\"Dalseo-gu\",\"coValue\":\"0.3\",\"dataGubun\":\"\",\"dataTime\":\"2018-07-14 12:00\",\"districtCode\":\"053\",\"districtNumSeq\":\"002\",\"itemCode\":\"\",\"khaiValue\":\"\",\"no2Value\":\"0.010\",\"numOfRows\":\"10\",\"o3Value\":\"0.045\",\"pageNo\":\"1\",\"pm10Value\":\"28\",\"pm25Value\":\"18\",\"resultCode\":\"\",\"resultMsg\":\"\",\"searchCondition\":\"\",\"serviceKey\":\"\",\"sidoName\":\"대구\",\"so2Value\":\"0.002\",\"totalCount\":\"\"},{\"_returnType\":\"json\",\"cityName\":\"달성군\",\"cityNameEng\":\"Dalseong-gun\",\"coValue\":\"0.1\",\"dataGubun\":\"\",\"dataTime\":\"2018-07-14 12:00\",\"districtCode\":\"053\",\"districtNumSeq\":\"003\",\"itemCode\":\"\",\"khaiValue\":\"\",\"no2Value\":\"0.007\",\"numOfRows\":\"10\",\"o3Value\":\"0.051\",\"pageNo\":\"1\",\"pm10Value\":\"21\",\"pm25Value\":\"13\",\"resultCode\":\"\",\"resultMsg\":\"\",\"searchCondition\":\"\",\"serviceKey\":\"\",\"sidoName\":\"대구\",\"so2Value\":\"0.001\",\"totalCount\":\"\"},{\"_returnType\":\"json\",\"cityName\":\"동구\",\"cityNameEng\":\"Dong-gu\",\"coValue\":\"0.3\",\"dataGubun\":\"\",\"dataTime\":\"2018-07-14 12:00\",\"districtCode\":\"053\",\"districtNumSeq\":\"004\",\"itemCode\":\"\",\"khaiValue\":\"\",\"no2Value\":\"0.004\",\"numOfRows\":\"10\",\"o3Value\":\"0.043\",\"pageNo\":\"1\",\"pm10Value\":\"19\",\"pm25Value\":\"9\",\"resultCode\":\"\",\"resultMsg\":\"\",\"searchCondition\":\"\",\"serviceKey\":\"\",\"sidoName\":\"대구\",\"so2Value\":\"0.002\",\"totalCount\":\"\"},{\"_returnType\":\"json\",\"cityName\":\"북구\",\"cityNameEng\":\"Buk-gu\",\"coValue\":\"0.2\",\"dataGubun\":\"\",\"dataTime\":\"2018-07-14 12:00\",\"districtCode\":\"053\",\"districtNumSeq\":\"005\",\"itemCode\":\"\",\"khaiValue\":\"\",\"no2Value\":\"0.005\",\"numOfRows\":\"10\",\"o3Value\":\"0.035\",\"pageNo\":\"1\",\"pm10Value\":\"17\",\"pm25Value\":\"10\",\"resultCode\":\"\",\"resultMsg\":\"\",\"searchCondition\":\"\",\"serviceKey\":\"\",\"sidoName\":\"대구\",\"so2Value\":\"0.002\",\"totalCount\":\"\"},{\"_returnType\":\"json\",\"cityName\":\"서구\",\"cityNameEng\":\"Seo-gu\",\"coValue\":\"0.1\",\"dataGubun\":\"\",\"dataTime\":\"2018-07-14 12:00\",\"districtCode\":\"053\",\"districtNumSeq\":\"006\",\"itemCode\":\"\",\"khaiValue\":\"\",\"no2Value\":\"0.007\",\"numOfRows\":\"10\",\"o3Value\":\"0.042\",\"pageNo\":\"1\",\"pm10Value\":\"21\",\"pm25Value\":\"10\",\"resultCode\":\"\",\"resultMsg\":\"\",\"searchCondition\":\"\",\"serviceKey\":\"\",\"sidoName\":\"대구\",\"so2Value\":\"0.002\",\"totalCount\":\"\"},{\"_returnType\":\"json\",\"cityName\":\"수성구\",\"cityNameEng\":\"Suseong-gu\",\"coValue\":\"0.3\",\"dataGubun\":\"\",\"dataTime\":\"2018-07-14 12:00\",\"districtCode\":\"053\",\"districtNumSeq\":\"007\",\"itemCode\":\"\",\"khaiValue\":\"\",\"no2Value\":\"0.007\",\"numOfRows\":\"10\",\"o3Value\":\"0.048\",\"pageNo\":\"1\",\"pm10Value\":\"22\",\"pm25Value\":\"9\",\"resultCode\":\"\",\"resultMsg\":\"\",\"searchCondition\":\"\",\"serviceKey\":\"\",\"sidoName\":\"대구\",\"so2Value\":\"0.002\",\"totalCount\":\"\"},{\"_returnType\":\"json\",\"cityName\":\"중구\",\"cityNameEng\":\"Jung-gu\",\"coValue\":\"0.1\",\"dataGubun\":\"\",\"dataTime\":\"2018-07-14 12:00\",\"districtCode\":\"053\",\"districtNumSeq\":\"008\",\"itemCode\":\"\",\"khaiValue\":\"\",\"no2Value\":\"0.007\",\"numOfRows\":\"10\",\"o3Value\":\"0.038\",\"pageNo\":\"1\",\"pm10Value\":\"17\",\"pm25Value\":\"12\",\"resultCode\":\"\",\"resultMsg\":\"\",\"searchCondition\":\"\",\"serviceKey\":\"\",\"sidoName\":\"대구\",\"so2Value\":\"0.001\",\"totalCount\":\"\"},{\"_returnType\":\"json\",\"cityName\":\"남구\",\"cityNameEng\":\"Nam-gu\",\"coValue\":\"0.1\",\"dataGubun\":\"\",\"dataTime\":\"2018-07-14 11:00\",\"districtCode\":\"053\",\"districtNumSeq\":\"001\",\"itemCode\":\"\",\"khaiValue\":\"\",\"no2Value\":\"0.004\",\"numOfRows\":\"10\",\"o3Value\":\"0.043\",\"pageNo\":\"1\",\"pm10Value\":\"17\",\"pm25Value\":\"11\",\"resultCode\":\"\",\"resultMsg\":\"\",\"searchCondition\":\"\",\"serviceKey\":\"\",\"sidoName\":\"대구\",\"so2Value\":\"0.002\",\"totalCount\":\"\"},{\"_returnType\":\"json\",\"cityName\":\"달서구\",\"cityNameEng\":\"Dalseo-gu\",\"coValue\":\"0.3\",\"dataGubun\":\"\",\"dataTime\":\"2018-07-14 11:00\",\"districtCode\":\"053\",\"districtNumSeq\":\"002\",\"itemCode\":\"\",\"khaiValue\":\"\",\"no2Value\":\"0.011\",\"numOfRows\":\"10\",\"o3Value\":\"0.037\",\"pageNo\":\"1\",\"pm10Value\":\"26\",\"pm25Value\":\"13\",\"resultCode\":\"\",\"resultMsg\":\"\",\"searchCondition\":\"\",\"serviceKey\":\"\",\"sidoName\":\"대구\",\"so2Value\":\"0.002\",\"totalCount\":\"\"}],\"parm\":{\"_returnType\":\"json\",\"cityName\":\"\",\"cityNameEng\":\"\",\"coValue\":\"\",\"dataGubun\":\"\",\"dataTime\":\"\",\"districtCode\":\"\",\"districtNumSeq\":\"\",\"itemCode\":\"\",\"khaiValue\":\"\",\"no2Value\":\"\",\"numOfRows\":\"10\",\"o3Value\":\"\",\"pageNo\":\"1\",\"pm10Value\":\"\",\"pm25Value\":\"\",\"resultCode\":\"\",\"resultMsg\":\"\",\"searchCondition\":\"DAILY\",\"serviceKey\":\"DG70F1Dk/IJUVnoayuaFbCRKoAhow9pKpax5ofLJmBQG0EOMeos+1BiHE+E2zdrhQI+oiCdWNXHWLLoFzf0uPA==\",\"sidoName\":\"대구\",\"so2Value\":\"\",\"totalCount\":\"\"},\"CtprvnMesureLIstVo2\":{\"_returnType\":\"json\",\"cityName\":\"\",\"cityNameEng\":\"\",\"coValue\":\"\",\"dataGubun\":\"\",\"dataTime\":\"\",\"districtCode\":\"\",\"districtNumSeq\":\"\",\"itemCode\":\"\",\"khaiValue\":\"\",\"no2Value\":\"\",\"numOfRows\":\"10\",\"o3Value\":\"\",\"pageNo\":\"1\",\"pm10Value\":\"\",\"pm25Value\":\"\",\"resultCode\":\"\",\"resultMsg\":\"\",\"searchCondition\":\"DAILY\",\"serviceKey\":\"DG70F1Dk/IJUVnoayuaFbCRKoAhow9pKpax5ofLJmBQG0EOMeos+1BiHE+E2zdrhQI+oiCdWNXHWLLoFzf0uPA==\",\"sidoName\":\"대구\",\"so2Value\":\"\",\"totalCount\":\"\"},\"totalCount\":200}'"
      ]
     },
     "execution_count": 70,
     "metadata": {},
     "output_type": "execute_result"
    }
   ],
   "source": [
    "resultStr"
   ]
  },
  {
   "cell_type": "code",
   "execution_count": 71,
   "metadata": {},
   "outputs": [],
   "source": [
    "resultObj = json.loads(resultStr) #메모리에서 json불러와준다. json내용을 python의 dict구조로 리턴해줌."
   ]
  },
  {
   "cell_type": "code",
   "execution_count": 72,
   "metadata": {},
   "outputs": [
    {
     "data": {
      "text/plain": [
       "[{'_returnType': 'json',\n",
       "  'cityName': '남구',\n",
       "  'cityNameEng': 'Nam-gu',\n",
       "  'coValue': '0.1',\n",
       "  'dataGubun': '',\n",
       "  'dataTime': '2018-07-14 12:00',\n",
       "  'districtCode': '053',\n",
       "  'districtNumSeq': '001',\n",
       "  'itemCode': '',\n",
       "  'khaiValue': '',\n",
       "  'no2Value': '0.004',\n",
       "  'numOfRows': '10',\n",
       "  'o3Value': '0.053',\n",
       "  'pageNo': '1',\n",
       "  'pm10Value': '18',\n",
       "  'pm25Value': '9',\n",
       "  'resultCode': '',\n",
       "  'resultMsg': '',\n",
       "  'searchCondition': '',\n",
       "  'serviceKey': '',\n",
       "  'sidoName': '대구',\n",
       "  'so2Value': '0.002',\n",
       "  'totalCount': ''},\n",
       " {'_returnType': 'json',\n",
       "  'cityName': '달서구',\n",
       "  'cityNameEng': 'Dalseo-gu',\n",
       "  'coValue': '0.3',\n",
       "  'dataGubun': '',\n",
       "  'dataTime': '2018-07-14 12:00',\n",
       "  'districtCode': '053',\n",
       "  'districtNumSeq': '002',\n",
       "  'itemCode': '',\n",
       "  'khaiValue': '',\n",
       "  'no2Value': '0.010',\n",
       "  'numOfRows': '10',\n",
       "  'o3Value': '0.045',\n",
       "  'pageNo': '1',\n",
       "  'pm10Value': '28',\n",
       "  'pm25Value': '18',\n",
       "  'resultCode': '',\n",
       "  'resultMsg': '',\n",
       "  'searchCondition': '',\n",
       "  'serviceKey': '',\n",
       "  'sidoName': '대구',\n",
       "  'so2Value': '0.002',\n",
       "  'totalCount': ''},\n",
       " {'_returnType': 'json',\n",
       "  'cityName': '달성군',\n",
       "  'cityNameEng': 'Dalseong-gun',\n",
       "  'coValue': '0.1',\n",
       "  'dataGubun': '',\n",
       "  'dataTime': '2018-07-14 12:00',\n",
       "  'districtCode': '053',\n",
       "  'districtNumSeq': '003',\n",
       "  'itemCode': '',\n",
       "  'khaiValue': '',\n",
       "  'no2Value': '0.007',\n",
       "  'numOfRows': '10',\n",
       "  'o3Value': '0.051',\n",
       "  'pageNo': '1',\n",
       "  'pm10Value': '21',\n",
       "  'pm25Value': '13',\n",
       "  'resultCode': '',\n",
       "  'resultMsg': '',\n",
       "  'searchCondition': '',\n",
       "  'serviceKey': '',\n",
       "  'sidoName': '대구',\n",
       "  'so2Value': '0.001',\n",
       "  'totalCount': ''},\n",
       " {'_returnType': 'json',\n",
       "  'cityName': '동구',\n",
       "  'cityNameEng': 'Dong-gu',\n",
       "  'coValue': '0.3',\n",
       "  'dataGubun': '',\n",
       "  'dataTime': '2018-07-14 12:00',\n",
       "  'districtCode': '053',\n",
       "  'districtNumSeq': '004',\n",
       "  'itemCode': '',\n",
       "  'khaiValue': '',\n",
       "  'no2Value': '0.004',\n",
       "  'numOfRows': '10',\n",
       "  'o3Value': '0.043',\n",
       "  'pageNo': '1',\n",
       "  'pm10Value': '19',\n",
       "  'pm25Value': '9',\n",
       "  'resultCode': '',\n",
       "  'resultMsg': '',\n",
       "  'searchCondition': '',\n",
       "  'serviceKey': '',\n",
       "  'sidoName': '대구',\n",
       "  'so2Value': '0.002',\n",
       "  'totalCount': ''},\n",
       " {'_returnType': 'json',\n",
       "  'cityName': '북구',\n",
       "  'cityNameEng': 'Buk-gu',\n",
       "  'coValue': '0.2',\n",
       "  'dataGubun': '',\n",
       "  'dataTime': '2018-07-14 12:00',\n",
       "  'districtCode': '053',\n",
       "  'districtNumSeq': '005',\n",
       "  'itemCode': '',\n",
       "  'khaiValue': '',\n",
       "  'no2Value': '0.005',\n",
       "  'numOfRows': '10',\n",
       "  'o3Value': '0.035',\n",
       "  'pageNo': '1',\n",
       "  'pm10Value': '17',\n",
       "  'pm25Value': '10',\n",
       "  'resultCode': '',\n",
       "  'resultMsg': '',\n",
       "  'searchCondition': '',\n",
       "  'serviceKey': '',\n",
       "  'sidoName': '대구',\n",
       "  'so2Value': '0.002',\n",
       "  'totalCount': ''},\n",
       " {'_returnType': 'json',\n",
       "  'cityName': '서구',\n",
       "  'cityNameEng': 'Seo-gu',\n",
       "  'coValue': '0.1',\n",
       "  'dataGubun': '',\n",
       "  'dataTime': '2018-07-14 12:00',\n",
       "  'districtCode': '053',\n",
       "  'districtNumSeq': '006',\n",
       "  'itemCode': '',\n",
       "  'khaiValue': '',\n",
       "  'no2Value': '0.007',\n",
       "  'numOfRows': '10',\n",
       "  'o3Value': '0.042',\n",
       "  'pageNo': '1',\n",
       "  'pm10Value': '21',\n",
       "  'pm25Value': '10',\n",
       "  'resultCode': '',\n",
       "  'resultMsg': '',\n",
       "  'searchCondition': '',\n",
       "  'serviceKey': '',\n",
       "  'sidoName': '대구',\n",
       "  'so2Value': '0.002',\n",
       "  'totalCount': ''},\n",
       " {'_returnType': 'json',\n",
       "  'cityName': '수성구',\n",
       "  'cityNameEng': 'Suseong-gu',\n",
       "  'coValue': '0.3',\n",
       "  'dataGubun': '',\n",
       "  'dataTime': '2018-07-14 12:00',\n",
       "  'districtCode': '053',\n",
       "  'districtNumSeq': '007',\n",
       "  'itemCode': '',\n",
       "  'khaiValue': '',\n",
       "  'no2Value': '0.007',\n",
       "  'numOfRows': '10',\n",
       "  'o3Value': '0.048',\n",
       "  'pageNo': '1',\n",
       "  'pm10Value': '22',\n",
       "  'pm25Value': '9',\n",
       "  'resultCode': '',\n",
       "  'resultMsg': '',\n",
       "  'searchCondition': '',\n",
       "  'serviceKey': '',\n",
       "  'sidoName': '대구',\n",
       "  'so2Value': '0.002',\n",
       "  'totalCount': ''},\n",
       " {'_returnType': 'json',\n",
       "  'cityName': '중구',\n",
       "  'cityNameEng': 'Jung-gu',\n",
       "  'coValue': '0.1',\n",
       "  'dataGubun': '',\n",
       "  'dataTime': '2018-07-14 12:00',\n",
       "  'districtCode': '053',\n",
       "  'districtNumSeq': '008',\n",
       "  'itemCode': '',\n",
       "  'khaiValue': '',\n",
       "  'no2Value': '0.007',\n",
       "  'numOfRows': '10',\n",
       "  'o3Value': '0.038',\n",
       "  'pageNo': '1',\n",
       "  'pm10Value': '17',\n",
       "  'pm25Value': '12',\n",
       "  'resultCode': '',\n",
       "  'resultMsg': '',\n",
       "  'searchCondition': '',\n",
       "  'serviceKey': '',\n",
       "  'sidoName': '대구',\n",
       "  'so2Value': '0.001',\n",
       "  'totalCount': ''},\n",
       " {'_returnType': 'json',\n",
       "  'cityName': '남구',\n",
       "  'cityNameEng': 'Nam-gu',\n",
       "  'coValue': '0.1',\n",
       "  'dataGubun': '',\n",
       "  'dataTime': '2018-07-14 11:00',\n",
       "  'districtCode': '053',\n",
       "  'districtNumSeq': '001',\n",
       "  'itemCode': '',\n",
       "  'khaiValue': '',\n",
       "  'no2Value': '0.004',\n",
       "  'numOfRows': '10',\n",
       "  'o3Value': '0.043',\n",
       "  'pageNo': '1',\n",
       "  'pm10Value': '17',\n",
       "  'pm25Value': '11',\n",
       "  'resultCode': '',\n",
       "  'resultMsg': '',\n",
       "  'searchCondition': '',\n",
       "  'serviceKey': '',\n",
       "  'sidoName': '대구',\n",
       "  'so2Value': '0.002',\n",
       "  'totalCount': ''},\n",
       " {'_returnType': 'json',\n",
       "  'cityName': '달서구',\n",
       "  'cityNameEng': 'Dalseo-gu',\n",
       "  'coValue': '0.3',\n",
       "  'dataGubun': '',\n",
       "  'dataTime': '2018-07-14 11:00',\n",
       "  'districtCode': '053',\n",
       "  'districtNumSeq': '002',\n",
       "  'itemCode': '',\n",
       "  'khaiValue': '',\n",
       "  'no2Value': '0.011',\n",
       "  'numOfRows': '10',\n",
       "  'o3Value': '0.037',\n",
       "  'pageNo': '1',\n",
       "  'pm10Value': '26',\n",
       "  'pm25Value': '13',\n",
       "  'resultCode': '',\n",
       "  'resultMsg': '',\n",
       "  'searchCondition': '',\n",
       "  'serviceKey': '',\n",
       "  'sidoName': '대구',\n",
       "  'so2Value': '0.002',\n",
       "  'totalCount': ''}]"
      ]
     },
     "execution_count": 72,
     "metadata": {},
     "output_type": "execute_result"
    }
   ],
   "source": [
    "resultObj[\"list\"]"
   ]
  },
  {
   "cell_type": "code",
   "execution_count": 73,
   "metadata": {
    "scrolled": true
   },
   "outputs": [
    {
     "name": "stdout",
     "output_type": "stream",
     "text": [
      "list [{'_returnType': 'json', 'cityName': '남구', 'cityNameEng': 'Nam-gu', 'coValue': '0.1', 'dataGubun': '', 'dataTime': '2018-07-14 12:00', 'districtCode': '053', 'districtNumSeq': '001', 'itemCode': '', 'khaiValue': '', 'no2Value': '0.004', 'numOfRows': '10', 'o3Value': '0.053', 'pageNo': '1', 'pm10Value': '18', 'pm25Value': '9', 'resultCode': '', 'resultMsg': '', 'searchCondition': '', 'serviceKey': '', 'sidoName': '대구', 'so2Value': '0.002', 'totalCount': ''}, {'_returnType': 'json', 'cityName': '달서구', 'cityNameEng': 'Dalseo-gu', 'coValue': '0.3', 'dataGubun': '', 'dataTime': '2018-07-14 12:00', 'districtCode': '053', 'districtNumSeq': '002', 'itemCode': '', 'khaiValue': '', 'no2Value': '0.010', 'numOfRows': '10', 'o3Value': '0.045', 'pageNo': '1', 'pm10Value': '28', 'pm25Value': '18', 'resultCode': '', 'resultMsg': '', 'searchCondition': '', 'serviceKey': '', 'sidoName': '대구', 'so2Value': '0.002', 'totalCount': ''}, {'_returnType': 'json', 'cityName': '달성군', 'cityNameEng': 'Dalseong-gun', 'coValue': '0.1', 'dataGubun': '', 'dataTime': '2018-07-14 12:00', 'districtCode': '053', 'districtNumSeq': '003', 'itemCode': '', 'khaiValue': '', 'no2Value': '0.007', 'numOfRows': '10', 'o3Value': '0.051', 'pageNo': '1', 'pm10Value': '21', 'pm25Value': '13', 'resultCode': '', 'resultMsg': '', 'searchCondition': '', 'serviceKey': '', 'sidoName': '대구', 'so2Value': '0.001', 'totalCount': ''}, {'_returnType': 'json', 'cityName': '동구', 'cityNameEng': 'Dong-gu', 'coValue': '0.3', 'dataGubun': '', 'dataTime': '2018-07-14 12:00', 'districtCode': '053', 'districtNumSeq': '004', 'itemCode': '', 'khaiValue': '', 'no2Value': '0.004', 'numOfRows': '10', 'o3Value': '0.043', 'pageNo': '1', 'pm10Value': '19', 'pm25Value': '9', 'resultCode': '', 'resultMsg': '', 'searchCondition': '', 'serviceKey': '', 'sidoName': '대구', 'so2Value': '0.002', 'totalCount': ''}, {'_returnType': 'json', 'cityName': '북구', 'cityNameEng': 'Buk-gu', 'coValue': '0.2', 'dataGubun': '', 'dataTime': '2018-07-14 12:00', 'districtCode': '053', 'districtNumSeq': '005', 'itemCode': '', 'khaiValue': '', 'no2Value': '0.005', 'numOfRows': '10', 'o3Value': '0.035', 'pageNo': '1', 'pm10Value': '17', 'pm25Value': '10', 'resultCode': '', 'resultMsg': '', 'searchCondition': '', 'serviceKey': '', 'sidoName': '대구', 'so2Value': '0.002', 'totalCount': ''}, {'_returnType': 'json', 'cityName': '서구', 'cityNameEng': 'Seo-gu', 'coValue': '0.1', 'dataGubun': '', 'dataTime': '2018-07-14 12:00', 'districtCode': '053', 'districtNumSeq': '006', 'itemCode': '', 'khaiValue': '', 'no2Value': '0.007', 'numOfRows': '10', 'o3Value': '0.042', 'pageNo': '1', 'pm10Value': '21', 'pm25Value': '10', 'resultCode': '', 'resultMsg': '', 'searchCondition': '', 'serviceKey': '', 'sidoName': '대구', 'so2Value': '0.002', 'totalCount': ''}, {'_returnType': 'json', 'cityName': '수성구', 'cityNameEng': 'Suseong-gu', 'coValue': '0.3', 'dataGubun': '', 'dataTime': '2018-07-14 12:00', 'districtCode': '053', 'districtNumSeq': '007', 'itemCode': '', 'khaiValue': '', 'no2Value': '0.007', 'numOfRows': '10', 'o3Value': '0.048', 'pageNo': '1', 'pm10Value': '22', 'pm25Value': '9', 'resultCode': '', 'resultMsg': '', 'searchCondition': '', 'serviceKey': '', 'sidoName': '대구', 'so2Value': '0.002', 'totalCount': ''}, {'_returnType': 'json', 'cityName': '중구', 'cityNameEng': 'Jung-gu', 'coValue': '0.1', 'dataGubun': '', 'dataTime': '2018-07-14 12:00', 'districtCode': '053', 'districtNumSeq': '008', 'itemCode': '', 'khaiValue': '', 'no2Value': '0.007', 'numOfRows': '10', 'o3Value': '0.038', 'pageNo': '1', 'pm10Value': '17', 'pm25Value': '12', 'resultCode': '', 'resultMsg': '', 'searchCondition': '', 'serviceKey': '', 'sidoName': '대구', 'so2Value': '0.001', 'totalCount': ''}, {'_returnType': 'json', 'cityName': '남구', 'cityNameEng': 'Nam-gu', 'coValue': '0.1', 'dataGubun': '', 'dataTime': '2018-07-14 11:00', 'districtCode': '053', 'districtNumSeq': '001', 'itemCode': '', 'khaiValue': '', 'no2Value': '0.004', 'numOfRows': '10', 'o3Value': '0.043', 'pageNo': '1', 'pm10Value': '17', 'pm25Value': '11', 'resultCode': '', 'resultMsg': '', 'searchCondition': '', 'serviceKey': '', 'sidoName': '대구', 'so2Value': '0.002', 'totalCount': ''}, {'_returnType': 'json', 'cityName': '달서구', 'cityNameEng': 'Dalseo-gu', 'coValue': '0.3', 'dataGubun': '', 'dataTime': '2018-07-14 11:00', 'districtCode': '053', 'districtNumSeq': '002', 'itemCode': '', 'khaiValue': '', 'no2Value': '0.011', 'numOfRows': '10', 'o3Value': '0.037', 'pageNo': '1', 'pm10Value': '26', 'pm25Value': '13', 'resultCode': '', 'resultMsg': '', 'searchCondition': '', 'serviceKey': '', 'sidoName': '대구', 'so2Value': '0.002', 'totalCount': ''}]\n",
      "parm {'_returnType': 'json', 'cityName': '', 'cityNameEng': '', 'coValue': '', 'dataGubun': '', 'dataTime': '', 'districtCode': '', 'districtNumSeq': '', 'itemCode': '', 'khaiValue': '', 'no2Value': '', 'numOfRows': '10', 'o3Value': '', 'pageNo': '1', 'pm10Value': '', 'pm25Value': '', 'resultCode': '', 'resultMsg': '', 'searchCondition': 'DAILY', 'serviceKey': 'DG70F1Dk/IJUVnoayuaFbCRKoAhow9pKpax5ofLJmBQG0EOMeos+1BiHE+E2zdrhQI+oiCdWNXHWLLoFzf0uPA==', 'sidoName': '대구', 'so2Value': '', 'totalCount': ''}\n",
      "CtprvnMesureLIstVo2 {'_returnType': 'json', 'cityName': '', 'cityNameEng': '', 'coValue': '', 'dataGubun': '', 'dataTime': '', 'districtCode': '', 'districtNumSeq': '', 'itemCode': '', 'khaiValue': '', 'no2Value': '', 'numOfRows': '10', 'o3Value': '', 'pageNo': '1', 'pm10Value': '', 'pm25Value': '', 'resultCode': '', 'resultMsg': '', 'searchCondition': 'DAILY', 'serviceKey': 'DG70F1Dk/IJUVnoayuaFbCRKoAhow9pKpax5ofLJmBQG0EOMeos+1BiHE+E2zdrhQI+oiCdWNXHWLLoFzf0uPA==', 'sidoName': '대구', 'so2Value': '', 'totalCount': ''}\n",
      "totalCount 200\n"
     ]
    }
   ],
   "source": [
    "for (k,v) in resultObj.items(): #dict의 key. value값을 다 출력해줌.\n",
    "    print(k,v)"
   ]
  },
  {
   "cell_type": "markdown",
   "metadata": {},
   "source": [
    "## XML"
   ]
  },
  {
   "cell_type": "code",
   "execution_count": 74,
   "metadata": {},
   "outputs": [],
   "source": [
    "from lxml import etree"
   ]
  },
  {
   "cell_type": "code",
   "execution_count": 75,
   "metadata": {},
   "outputs": [
    {
     "data": {
      "text/plain": [
       "['AncestorsIterator',\n",
       " 'AttributeBasedElementClassLookup',\n",
       " 'C14NError',\n",
       " 'CDATA',\n",
       " 'Comment',\n",
       " 'CommentBase',\n",
       " 'CustomElementClassLookup',\n",
       " 'DEBUG',\n",
       " 'DTD',\n",
       " 'DTDError',\n",
       " 'DTDParseError',\n",
       " 'DTDValidateError',\n",
       " 'DocInfo',\n",
       " 'DocumentInvalid',\n",
       " 'ETCompatXMLParser',\n",
       " 'ETXPath',\n",
       " 'Element',\n",
       " 'ElementBase',\n",
       " 'ElementChildIterator',\n",
       " 'ElementClassLookup',\n",
       " 'ElementDefaultClassLookup',\n",
       " 'ElementDepthFirstIterator',\n",
       " 'ElementNamespaceClassLookup',\n",
       " 'ElementTextIterator',\n",
       " 'ElementTree',\n",
       " 'Entity',\n",
       " 'EntityBase',\n",
       " 'Error',\n",
       " 'ErrorDomains',\n",
       " 'ErrorLevels',\n",
       " 'ErrorTypes',\n",
       " 'Extension',\n",
       " 'FallbackElementClassLookup',\n",
       " 'FunctionNamespace',\n",
       " 'HTML',\n",
       " 'HTMLParser',\n",
       " 'HTMLPullParser',\n",
       " 'LIBXML_COMPILED_VERSION',\n",
       " 'LIBXML_VERSION',\n",
       " 'LIBXSLT_COMPILED_VERSION',\n",
       " 'LIBXSLT_VERSION',\n",
       " 'LXML_VERSION',\n",
       " 'LxmlError',\n",
       " 'LxmlRegistryError',\n",
       " 'LxmlSyntaxError',\n",
       " 'NamespaceRegistryError',\n",
       " 'PI',\n",
       " 'PIBase',\n",
       " 'ParseError',\n",
       " 'ParserBasedElementClassLookup',\n",
       " 'ParserError',\n",
       " 'ProcessingInstruction',\n",
       " 'PyErrorLog',\n",
       " 'PythonElementClassLookup',\n",
       " 'QName',\n",
       " 'RelaxNG',\n",
       " 'RelaxNGError',\n",
       " 'RelaxNGErrorTypes',\n",
       " 'RelaxNGParseError',\n",
       " 'RelaxNGValidateError',\n",
       " 'Resolver',\n",
       " 'Schematron',\n",
       " 'SchematronError',\n",
       " 'SchematronParseError',\n",
       " 'SchematronValidateError',\n",
       " 'SerialisationError',\n",
       " 'SiblingsIterator',\n",
       " 'SubElement',\n",
       " 'TreeBuilder',\n",
       " 'XInclude',\n",
       " 'XIncludeError',\n",
       " 'XML',\n",
       " 'XMLDTDID',\n",
       " 'XMLID',\n",
       " 'XMLParser',\n",
       " 'XMLPullParser',\n",
       " 'XMLSchema',\n",
       " 'XMLSchemaError',\n",
       " 'XMLSchemaParseError',\n",
       " 'XMLSchemaValidateError',\n",
       " 'XMLSyntaxError',\n",
       " 'XMLTreeBuilder',\n",
       " 'XPath',\n",
       " 'XPathDocumentEvaluator',\n",
       " 'XPathElementEvaluator',\n",
       " 'XPathError',\n",
       " 'XPathEvalError',\n",
       " 'XPathEvaluator',\n",
       " 'XPathFunctionError',\n",
       " 'XPathResultError',\n",
       " 'XPathSyntaxError',\n",
       " 'XSLT',\n",
       " 'XSLTAccessControl',\n",
       " 'XSLTApplyError',\n",
       " 'XSLTError',\n",
       " 'XSLTExtension',\n",
       " 'XSLTExtensionError',\n",
       " 'XSLTParseError',\n",
       " 'XSLTSaveError',\n",
       " '_Attrib',\n",
       " '_BaseErrorLog',\n",
       " '_Comment',\n",
       " '_Document',\n",
       " '_DomainErrorLog',\n",
       " '_Element',\n",
       " '_ElementIterator',\n",
       " '_ElementMatchIterator',\n",
       " '_ElementStringResult',\n",
       " '_ElementTagMatcher',\n",
       " '_ElementTree',\n",
       " '_ElementUnicodeResult',\n",
       " '_Entity',\n",
       " '_ErrorLog',\n",
       " '_FeedParser',\n",
       " '_IDDict',\n",
       " '_ListErrorLog',\n",
       " '_LogEntry',\n",
       " '_ProcessingInstruction',\n",
       " '_RotatingErrorLog',\n",
       " '_SaxParserTarget',\n",
       " '_TargetParserResult',\n",
       " '_Validator',\n",
       " '_XPathEvaluatorBase',\n",
       " '_XSLTProcessingInstruction',\n",
       " '_XSLTResultTree',\n",
       " '__all__',\n",
       " '__builtins__',\n",
       " '__doc__',\n",
       " '__docformat__',\n",
       " '__file__',\n",
       " '__loader__',\n",
       " '__name__',\n",
       " '__package__',\n",
       " '__pyx_capi__',\n",
       " '__spec__',\n",
       " '__test__',\n",
       " '__version__',\n",
       " 'adopt_external_document',\n",
       " 'cleanup_namespaces',\n",
       " 'clear_error_log',\n",
       " 'dump',\n",
       " 'fromstring',\n",
       " 'fromstringlist',\n",
       " 'get_default_parser',\n",
       " 'htmlfile',\n",
       " 'iselement',\n",
       " 'iterparse',\n",
       " 'iterwalk',\n",
       " 'memory_debugger',\n",
       " 'parse',\n",
       " 'parseid',\n",
       " 'register_namespace',\n",
       " 'set_default_parser',\n",
       " 'set_element_class_lookup',\n",
       " 'strip_attributes',\n",
       " 'strip_elements',\n",
       " 'strip_tags',\n",
       " 'tostring',\n",
       " 'tostringlist',\n",
       " 'tounicode',\n",
       " 'use_global_python_log',\n",
       " 'xmlfile']"
      ]
     },
     "execution_count": 75,
     "metadata": {},
     "output_type": "execute_result"
    }
   ],
   "source": [
    "dir(etree) #Element관련부분, SubElement 관련부분들을 쓸 것이다."
   ]
  },
  {
   "cell_type": "code",
   "execution_count": 76,
   "metadata": {},
   "outputs": [],
   "source": [
    "bookstore = etree.Element(\"bookstore\") #bookstore 노드를 만듬 루트노드만듬."
   ]
  },
  {
   "cell_type": "code",
   "execution_count": 77,
   "metadata": {},
   "outputs": [],
   "source": [
    "book1 =  etree.SubElement(bookstore, \"book\") #bookstore에 대한 서브노드 book을 만듬 자식노드 2개 ."
   ]
  },
  {
   "cell_type": "code",
   "execution_count": 78,
   "metadata": {},
   "outputs": [],
   "source": [
    "book2 =  etree.SubElement(bookstore, \"book\", attrib={\"category\": \"children\"}) # "
   ]
  },
  {
   "cell_type": "code",
   "execution_count": 79,
   "metadata": {},
   "outputs": [],
   "source": [
    "book1.attrib[\"category\"]=\"cooking\""
   ]
  },
  {
   "cell_type": "code",
   "execution_count": 80,
   "metadata": {},
   "outputs": [
    {
     "name": "stdout",
     "output_type": "stream",
     "text": [
      "<Element bookstore at 0x1b2c6d319c8>\n"
     ]
    }
   ],
   "source": [
    "print(bookstore)"
   ]
  },
  {
   "cell_type": "code",
   "execution_count": 81,
   "metadata": {},
   "outputs": [
    {
     "name": "stdout",
     "output_type": "stream",
     "text": [
      "<bookstore>\n",
      "  <book category=\"cooking\"/>\n",
      "  <book category=\"children\"/>\n",
      "</bookstore>\n"
     ]
    }
   ],
   "source": [
    "etree.dump(bookstore) #표준출력 dump"
   ]
  },
  {
   "cell_type": "code",
   "execution_count": 82,
   "metadata": {},
   "outputs": [
    {
     "data": {
      "text/plain": [
       "<Element title at 0x1b2c6c85e48>"
      ]
     },
     "execution_count": 82,
     "metadata": {},
     "output_type": "execute_result"
    }
   ],
   "source": [
    "etree.Element(\"title\")"
   ]
  },
  {
   "cell_type": "code",
   "execution_count": 83,
   "metadata": {},
   "outputs": [],
   "source": [
    "title1 = etree .Element(\"title\") #노드니까. "
   ]
  },
  {
   "cell_type": "code",
   "execution_count": 84,
   "metadata": {},
   "outputs": [],
   "source": [
    "title1.text = \"Harry Potter\""
   ]
  },
  {
   "cell_type": "code",
   "execution_count": 85,
   "metadata": {},
   "outputs": [],
   "source": [
    "title1.attrib[\"lang\"] = \"en\""
   ]
  },
  {
   "cell_type": "code",
   "execution_count": 86,
   "metadata": {},
   "outputs": [
    {
     "name": "stdout",
     "output_type": "stream",
     "text": [
      "<title lang=\"en\">Harry Potter</title>\n"
     ]
    }
   ],
   "source": [
    "etree.dump(title1)"
   ]
  },
  {
   "cell_type": "code",
   "execution_count": 87,
   "metadata": {},
   "outputs": [],
   "source": [
    "# 그냥 엘리먼트로 만들었다. 이제 붙일것."
   ]
  },
  {
   "cell_type": "code",
   "execution_count": 88,
   "metadata": {},
   "outputs": [],
   "source": [
    "book2.append(title1)"
   ]
  },
  {
   "cell_type": "code",
   "execution_count": 89,
   "metadata": {},
   "outputs": [
    {
     "name": "stdout",
     "output_type": "stream",
     "text": [
      "<bookstore>\n",
      "  <book category=\"cooking\"/>\n",
      "  <book category=\"children\">\n",
      "    <title lang=\"en\">Harry Potter</title>\n",
      "  </book>\n",
      "</bookstore>\n"
     ]
    }
   ],
   "source": [
    "etree.dump(bookstore)"
   ]
  },
  {
   "cell_type": "code",
   "execution_count": 90,
   "metadata": {},
   "outputs": [
    {
     "data": {
      "text/plain": [
       "<Element title at 0x1b2c6d47f08>"
      ]
     },
     "execution_count": 90,
     "metadata": {},
     "output_type": "execute_result"
    }
   ],
   "source": [
    "#태그를 하나 더만들어서 book1 에다가 붙인다\n",
    "etree.SubElement(book1,\"title\",attrib ={\"lang\":title1.get(\"lang\")}) #title 1에서 lang 을 가져올것이다그래서 en 이라는 똑같은값을 가져옴 "
   ]
  },
  {
   "cell_type": "code",
   "execution_count": 99,
   "metadata": {
    "scrolled": true
   },
   "outputs": [
    {
     "name": "stdout",
     "output_type": "stream",
     "text": [
      "<bookstore>\n",
      "  <book category=\"cooking\">\n",
      "    <title lang=\"en\"/>\n",
      "  </book>\n",
      "  <book category=\"children\">\n",
      "    <title lang=\"en\">Harry Potter</title>\n",
      "  </book>\n",
      "</bookstore>\n"
     ]
    }
   ],
   "source": [
    "etree.dump(bookstore)"
   ]
  },
  {
   "cell_type": "markdown",
   "metadata": {},
   "source": [
    "title1.get 여기서 shift tab 하면 키값을 요구한다"
   ]
  },
  {
   "cell_type": "code",
   "execution_count": 100,
   "metadata": {},
   "outputs": [
    {
     "data": {
      "text/plain": [
       "lxml.etree._Element"
      ]
     },
     "execution_count": 100,
     "metadata": {},
     "output_type": "execute_result"
    }
   ],
   "source": [
    "type(bookstore)"
   ]
  },
  {
   "cell_type": "code",
   "execution_count": 92,
   "metadata": {},
   "outputs": [],
   "source": [
    "xmlByte =  etree.tostring(bookstore) #byte를 string 으로 바꾼다음에"
   ]
  },
  {
   "cell_type": "code",
   "execution_count": 101,
   "metadata": {},
   "outputs": [
    {
     "data": {
      "text/plain": [
       "bytes"
      ]
     },
     "execution_count": 101,
     "metadata": {},
     "output_type": "execute_result"
    }
   ],
   "source": [
    "type(xmlByte)"
   ]
  },
  {
   "cell_type": "code",
   "execution_count": 102,
   "metadata": {},
   "outputs": [
    {
     "name": "stdout",
     "output_type": "stream",
     "text": [
      "b'<bookstore><book category=\"cooking\"><title lang=\"en\"/></book><book category=\"children\"><title lang=\"en\">Harry Potter</title></book></bookstore>'\n"
     ]
    }
   ],
   "source": [
    "print(xmlByte) "
   ]
  },
  {
   "cell_type": "markdown",
   "metadata": {},
   "source": [
    "앞에 xml에 안붙어있어서 , 이대로 보내면 오류난다"
   ]
  },
  {
   "cell_type": "markdown",
   "metadata": {},
   "source": [
    "따라서 바꿀때 옵션을 줘서 바꿔야한다"
   ]
  },
  {
   "cell_type": "code",
   "execution_count": 103,
   "metadata": {},
   "outputs": [],
   "source": [
    "xmlByte =  etree.tostring(bookstore,xml_declaration=True) #byte를 string 으로 바꾼다음에"
   ]
  },
  {
   "cell_type": "code",
   "execution_count": 104,
   "metadata": {},
   "outputs": [
    {
     "name": "stdout",
     "output_type": "stream",
     "text": [
      "b'<?xml version=\\'1.0\\' encoding=\\'ASCII\\'?>\\n<bookstore><book category=\"cooking\"><title lang=\"en\"/></book><book category=\"children\"><title lang=\"en\">Harry Potter</title></book></bookstore>'\n"
     ]
    }
   ],
   "source": [
    "print(xmlByte)"
   ]
  },
  {
   "cell_type": "markdown",
   "metadata": {},
   "source": [
    "ASCII 입니다, xml 로 되어있어요 라고한다. "
   ]
  },
  {
   "cell_type": "code",
   "execution_count": 105,
   "metadata": {},
   "outputs": [],
   "source": [
    "xmlByte =  etree.tostring(bookstore,encoding =\"utf-8\",xml_declaration=True) #아스키가 싫다면 인코딩옵션 주면된다 .utf-8 로"
   ]
  },
  {
   "cell_type": "code",
   "execution_count": 106,
   "metadata": {},
   "outputs": [
    {
     "data": {
      "text/plain": [
       "bytes"
      ]
     },
     "execution_count": 106,
     "metadata": {},
     "output_type": "execute_result"
    }
   ],
   "source": [
    "type(xmlByte)"
   ]
  },
  {
   "cell_type": "code",
   "execution_count": 107,
   "metadata": {},
   "outputs": [
    {
     "name": "stdout",
     "output_type": "stream",
     "text": [
      "b'<?xml version=\\'1.0\\' encoding=\\'utf-8\\'?>\\n<bookstore><book category=\"cooking\"><title lang=\"en\"/></book><book category=\"children\"><title lang=\"en\">Harry Potter</title></book></bookstore>'\n"
     ]
    }
   ],
   "source": [
    "print(xmlByte)"
   ]
  },
  {
   "cell_type": "markdown",
   "metadata": {},
   "source": [
    "바이트로 바꼇는데 .나중에 string 으로 읽을때 utf-8로 읽으라고 명시한다."
   ]
  },
  {
   "cell_type": "markdown",
   "metadata": {},
   "source": [
    "공공데이터로부터 byte로 된것을 받았을때,  역변환을 하기위해서는 ..."
   ]
  },
  {
   "cell_type": "code",
   "execution_count": 108,
   "metadata": {},
   "outputs": [],
   "source": [
    "temp = etree.fromstring(xmlByte)  #string 으로 부터 역으로 xml 트리 구조로 만들어낸다 .  xmlbyte는 byte형태니까 ,decode 해줘야한다. "
   ]
  },
  {
   "cell_type": "code",
   "execution_count": 109,
   "metadata": {},
   "outputs": [
    {
     "name": "stdout",
     "output_type": "stream",
     "text": [
      "<bookstore>\n",
      "  <book category=\"cooking\">\n",
      "    <title lang=\"en\"/>\n",
      "  </book>\n",
      "  <book category=\"children\">\n",
      "    <title lang=\"en\">Harry Potter</title>\n",
      "  </book>\n",
      "</bookstore>\n"
     ]
    }
   ],
   "source": [
    "etree.dump(temp) # temp는 xml object 형이다. "
   ]
  },
  {
   "cell_type": "code",
   "execution_count": 110,
   "metadata": {},
   "outputs": [],
   "source": [
    "#파싱을 하기위해서는 돔트리형태로 만들어야한다, object를 돔트리로 가져와야한다. "
   ]
  },
  {
   "cell_type": "code",
   "execution_count": 111,
   "metadata": {},
   "outputs": [],
   "source": [
    "tree  = etree.ElementTree(temp)"
   ]
  },
  {
   "cell_type": "code",
   "execution_count": 112,
   "metadata": {},
   "outputs": [
    {
     "data": {
      "text/plain": [
       "lxml.etree._ElementTree"
      ]
     },
     "execution_count": 112,
     "metadata": {},
     "output_type": "execute_result"
    }
   ],
   "source": [
    "type(tree)"
   ]
  },
  {
   "cell_type": "code",
   "execution_count": 113,
   "metadata": {},
   "outputs": [],
   "source": [
    "root = tree.getroot() #루트 노드를 찾아야한다"
   ]
  },
  {
   "cell_type": "code",
   "execution_count": 114,
   "metadata": {},
   "outputs": [
    {
     "data": {
      "text/plain": [
       "'bookstore'"
      ]
     },
     "execution_count": 114,
     "metadata": {},
     "output_type": "execute_result"
    }
   ],
   "source": [
    "root.tag"
   ]
  },
  {
   "cell_type": "code",
   "execution_count": 115,
   "metadata": {
    "scrolled": true
   },
   "outputs": [
    {
     "name": "stdout",
     "output_type": "stream",
     "text": [
      "<bookstore>\n",
      "  <book category=\"cooking\">\n",
      "    <title lang=\"en\"/>\n",
      "  </book>\n",
      "  <book category=\"children\">\n",
      "    <title lang=\"en\">Harry Potter</title>\n",
      "  </book>\n",
      "</bookstore>\n"
     ]
    }
   ],
   "source": [
    "etree.dump(temp)"
   ]
  },
  {
   "cell_type": "markdown",
   "metadata": {},
   "source": [
    "doc info 를 통해서 , 알아낼수있다.\n",
    "\n"
   ]
  },
  {
   "cell_type": "code",
   "execution_count": null,
   "metadata": {},
   "outputs": [],
   "source": [
    "tree.docinfo.xml_version"
   ]
  },
  {
   "cell_type": "code",
   "execution_count": null,
   "metadata": {},
   "outputs": [],
   "source": [
    "tree.docinfo.encoding"
   ]
  },
  {
   "cell_type": "markdown",
   "metadata": {},
   "source": [
    "글자가 깨지면 , 다시 변환할때 , character set 에다가 utf-8 을 쓸수도있따. 인코딩정보 "
   ]
  },
  {
   "cell_type": "code",
   "execution_count": null,
   "metadata": {},
   "outputs": [],
   "source": [
    "print(root.getparent())"
   ]
  },
  {
   "cell_type": "code",
   "execution_count": null,
   "metadata": {},
   "outputs": [],
   "source": [
    "children=root.getchildren()"
   ]
  },
  {
   "cell_type": "code",
   "execution_count": null,
   "metadata": {},
   "outputs": [],
   "source": [
    "len(children)"
   ]
  },
  {
   "cell_type": "code",
   "execution_count": null,
   "metadata": {},
   "outputs": [],
   "source": [
    "for child in children:\n",
    "    print(child.tag,child.get(\"category\"))"
   ]
  },
  {
   "cell_type": "markdown",
   "metadata": {},
   "source": [
    "## 다시 공공데이터를 앞에서는 json , 이제는 xml 로 뽑는것"
   ]
  },
  {
   "cell_type": "code",
   "execution_count": null,
   "metadata": {},
   "outputs": [],
   "source": [
    "apiEle = etree.fromstring(result)"
   ]
  },
  {
   "cell_type": "code",
   "execution_count": null,
   "metadata": {},
   "outputs": [],
   "source": [
    "apiTree = etree.ElementTree(apiEle)"
   ]
  },
  {
   "cell_type": "code",
   "execution_count": null,
   "metadata": {},
   "outputs": [],
   "source": [
    "type(apiTree)"
   ]
  },
  {
   "cell_type": "code",
   "execution_count": null,
   "metadata": {},
   "outputs": [],
   "source": [
    "rootNode= apiTree.getroot() #이때부터 트리니까 , root 뽑고."
   ]
  },
  {
   "cell_type": "code",
   "execution_count": null,
   "metadata": {},
   "outputs": [],
   "source": [
    "print(rootNode.tag)"
   ]
  },
  {
   "cell_type": "code",
   "execution_count": null,
   "metadata": {},
   "outputs": [],
   "source": [
    "nodeList = rootNode.findall(\".//pm10Value\") #xPath를 쓰면된다. .// : 현재있는 것의 아래의 모든것으로부터 자료를 찾는다 . 리스트형 반환"
   ]
  },
  {
   "cell_type": "markdown",
   "metadata": {},
   "source": [
    ".//pm10Value : xpath 다"
   ]
  },
  {
   "cell_type": "code",
   "execution_count": null,
   "metadata": {},
   "outputs": [],
   "source": [
    "len(nodeList)"
   ]
  },
  {
   "cell_type": "code",
   "execution_count": null,
   "metadata": {},
   "outputs": [],
   "source": [
    "for row in nodeList:\n",
    "    print(row.getparent())\n",
    "    print(row.tag,row.text)"
   ]
  },
  {
   "cell_type": "markdown",
   "metadata": {},
   "source": [
    "이방식이 파싱할때 json 보다는 훨씬 편한 방식으로 찾을수있다."
   ]
  },
  {
   "cell_type": "code",
   "execution_count": 249,
   "metadata": {},
   "outputs": [
    {
     "name": "stdout",
     "output_type": "stream",
     "text": [
      "['1', '0', '1', '0', '1', '0']\n"
     ]
    }
   ],
   "source": [
    "\n",
    "resi=[]\n",
    "N=42\n",
    "while N!=0 :\n",
    "    res = N%2\n",
    "    resi.append(str(res))\n",
    "    N = N//2 \n",
    "resi.reverse()\n",
    "print(resi)\n",
    "#for i in range\n",
    "strt=\"\""
   ]
  },
  {
   "cell_type": "code",
   "execution_count": 250,
   "metadata": {
    "scrolled": true
   },
   "outputs": [],
   "source": [
    "str_m = \"\".join(resi)"
   ]
  },
  {
   "cell_type": "code",
   "execution_count": 251,
   "metadata": {},
   "outputs": [],
   "source": [
    "lili = str_m.split('1')"
   ]
  },
  {
   "cell_type": "code",
   "execution_count": 252,
   "metadata": {},
   "outputs": [
    {
     "data": {
      "text/plain": [
       "['', '0', '0', '0']"
      ]
     },
     "execution_count": 252,
     "metadata": {},
     "output_type": "execute_result"
    }
   ],
   "source": [
    "lili"
   ]
  },
  {
   "cell_type": "code",
   "execution_count": 259,
   "metadata": {},
   "outputs": [
    {
     "name": "stdout",
     "output_type": "stream",
     "text": [
      "1\n"
     ]
    }
   ],
   "source": [
    "maxd = 0\n",
    "temp = [0]\n",
    "for i in range(len(lili)):\n",
    "    if maxd<=len(lili[i]):\n",
    "        temp.append(len(lili[i]))\n",
    "        maxd=len(lili[i])\n",
    "print(maxd)"
   ]
  },
  {
   "cell_type": "code",
   "execution_count": 260,
   "metadata": {},
   "outputs": [],
   "source": [
    "temp.sort()"
   ]
  },
  {
   "cell_type": "code",
   "execution_count": 261,
   "metadata": {},
   "outputs": [
    {
     "data": {
      "text/plain": [
       "[0, 0, 1, 1, 1]"
      ]
     },
     "execution_count": 261,
     "metadata": {},
     "output_type": "execute_result"
    }
   ],
   "source": [
    "temp"
   ]
  },
  {
   "cell_type": "code",
   "execution_count": 262,
   "metadata": {},
   "outputs": [
    {
     "name": "stdout",
     "output_type": "stream",
     "text": [
      "1\n",
      "[0, 0, 1, 1, 1]\n"
     ]
    }
   ],
   "source": [
    "if len(lili[-1]) == maxd:\n",
    "    print(temp[-2])\n",
    "else:\n",
    "    print(maxd)\n",
    "    \n",
    "print(temp)"
   ]
  },
  {
   "cell_type": "markdown",
   "metadata": {},
   "source": [
    "results = [int(i) for i in resi]"
   ]
  },
  {
   "cell_type": "markdown",
   "metadata": {},
   "source": [
    "results"
   ]
  },
  {
   "cell_type": "code",
   "execution_count": 288,
   "metadata": {},
   "outputs": [],
   "source": [
    "a= 0 "
   ]
  },
  {
   "cell_type": "code",
   "execution_count": 293,
   "metadata": {},
   "outputs": [],
   "source": [
    "a+=1"
   ]
  },
  {
   "cell_type": "code",
   "execution_count": 294,
   "metadata": {},
   "outputs": [
    {
     "data": {
      "text/plain": [
       "3"
      ]
     },
     "execution_count": 294,
     "metadata": {},
     "output_type": "execute_result"
    }
   ],
   "source": [
    "a"
   ]
  },
  {
   "cell_type": "code",
   "execution_count": null,
   "metadata": {},
   "outputs": [],
   "source": []
  }
 ],
 "metadata": {
  "kernelspec": {
   "display_name": "Python 3",
   "language": "python",
   "name": "python3"
  },
  "language_info": {
   "codemirror_mode": {
    "name": "ipython",
    "version": 3
   },
   "file_extension": ".py",
   "mimetype": "text/x-python",
   "name": "python",
   "nbconvert_exporter": "python",
   "pygments_lexer": "ipython3",
   "version": "3.6.5"
  }
 },
 "nbformat": 4,
 "nbformat_minor": 2
}
