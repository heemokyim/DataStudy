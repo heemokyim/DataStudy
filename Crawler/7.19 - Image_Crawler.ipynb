{
 "cells": [
  {
   "cell_type": "markdown",
   "metadata": {},
   "source": [
    "이미지 크롤링하기"
   ]
  },
  {
   "cell_type": "code",
   "execution_count": 1,
   "metadata": {
    "scrolled": false
   },
   "outputs": [
    {
     "ename": "IndexError",
     "evalue": "list index out of range",
     "output_type": "error",
     "traceback": [
      "\u001b[1;31m---------------------------------------------------------------------------\u001b[0m",
      "\u001b[1;31mIndexError\u001b[0m                                Traceback (most recent call last)",
      "\u001b[1;32m<ipython-input-1-ec445e59a747>\u001b[0m in \u001b[0;36m<module>\u001b[1;34m()\u001b[0m\n\u001b[0;32m     28\u001b[0m \u001b[1;32mwhile\u001b[0m\u001b[1;33m(\u001b[0m\u001b[0msrc\u001b[0m \u001b[1;33m==\u001b[0m \u001b[1;32mNone\u001b[0m\u001b[1;33m)\u001b[0m\u001b[1;33m:\u001b[0m\u001b[1;33m\u001b[0m\u001b[0m\n\u001b[0;32m     29\u001b[0m     \u001b[0mnum_pick\u001b[0m \u001b[1;33m=\u001b[0m \u001b[0mrandom\u001b[0m\u001b[1;33m.\u001b[0m\u001b[0mrandint\u001b[0m\u001b[1;33m(\u001b[0m\u001b[1;36m0\u001b[0m\u001b[1;33m,\u001b[0m\u001b[1;36m100\u001b[0m\u001b[1;33m)\u001b[0m \u001b[1;31m# 상위 100개 중에서 랜덤으로 가져오기 위함\u001b[0m\u001b[1;33m\u001b[0m\u001b[0m\n\u001b[1;32m---> 30\u001b[1;33m     \u001b[0mtemp\u001b[0m \u001b[1;33m=\u001b[0m \u001b[0mdriver\u001b[0m\u001b[1;33m.\u001b[0m\u001b[0mfind_elements_by_css_selector\u001b[0m\u001b[1;33m(\u001b[0m\u001b[1;34m\".rg_ic.rg_i\"\u001b[0m\u001b[1;33m)\u001b[0m\u001b[1;33m[\u001b[0m\u001b[0mnum_pick\u001b[0m\u001b[1;33m]\u001b[0m\u001b[1;33m\u001b[0m\u001b[0m\n\u001b[0m\u001b[0;32m     31\u001b[0m     \u001b[1;31m#구글 이미지 검색 결과 중에서 상위 30개 중에 랜덤으로 이미지의 source들고옴\u001b[0m\u001b[1;33m\u001b[0m\u001b[1;33m\u001b[0m\u001b[0m\n\u001b[0;32m     32\u001b[0m     \u001b[0msrc\u001b[0m \u001b[1;33m=\u001b[0m \u001b[0mtemp\u001b[0m\u001b[1;33m.\u001b[0m\u001b[0mget_attribute\u001b[0m\u001b[1;33m(\u001b[0m\u001b[1;34m'src'\u001b[0m\u001b[1;33m)\u001b[0m\u001b[1;33m\u001b[0m\u001b[0m\n",
      "\u001b[1;31mIndexError\u001b[0m: list index out of range"
     ]
    }
   ],
   "source": [
    "from bs4 import BeautifulSoup\n",
    "from selenium import webdriver\n",
    "from selenium.common.exceptions import NoSuchElementException\n",
    "import random\n",
    "import urllib.request\n",
    "import base64\n",
    "\n",
    "\n",
    "driver = webdriver.Chrome(\"D:/chromedriver\")\n",
    "driver.get(\"https://www.google.com/\")\n",
    "driver.implicitly_wait(1)\n",
    "\n",
    "driver.find_element_by_css_selector(\"#lst-ib.gsfi\").send_keys(\"오승환\")\n",
    "\n",
    "try:\n",
    "    driver.find_elements_by_css_selector(\"input.lsb\")[0].click()\n",
    "except:\n",
    "    driver.find_element_by_name(\"btnK\").click()\n",
    "    \n",
    "btnList = driver.find_elements_by_css_selector(\"div#hdtb-msb-vis div a.q.qs\")\n",
    "for i in btnList:\n",
    "    if i.text == \"이미지\":\n",
    "        i.click()\n",
    "        break\n",
    "\n",
    "src = None\n",
    "num_pick = 0\n",
    "while(src == None):\n",
    "    num_pick = random.randint(0,100) # 상위 100개 중에서 랜덤으로 가져오기 위함\n",
    "    temp = driver.find_elements_by_css_selector(\".rg_ic.rg_i\")[num_pick]\n",
    "    #구글 이미지 검색 결과 중에서 상위 30개 중에 랜덤으로 이미지의 source들고옴\n",
    "    src = temp.get_attribute('src')\n",
    "src = str(src)\n",
    "print(src)\n",
    "urllib.request.urlretrieve(src, 'D:/Program Files/MongoDB/Server/4.0/bin/image.jpg') #이미지 저장\n",
    "\n",
    "# 이미지 저장 후 mongofiles -d HomeworkDB put image.jpg 를 통해서\n",
    "# HomeworkDB에 image.jpg를 GridFS를 통해서 저장한다.\n",
    "# 16MB가 넘어가는 파일은 BLOB형식으로도 못넣기 때문에 GridFS를 통해서 저장한다.\n",
    "# 그리고 mongoDB를 열어서 HomeworkDB에서\n",
    "# show collections를 하면 fs.chunks와 fs.files가 추가되었음을 알 수 있다.\n",
    "# db.fs.files.find()를 하면 저장된 이미지 파일에 대한 정보를 알 수 있다.\n",
    "\n"
   ]
  },
  {
   "cell_type": "code",
   "execution_count": 8,
   "metadata": {},
   "outputs": [
    {
     "data": {
      "text/html": [
       "<img src = \"https://encrypted-tbn0.gstatic.com/images?q=tbn:ANd9GcQr_t49swJtpm4JnTwt_O3yVSg3dhGzXWDNVaXFT3v92hdDM_chZg\">"
      ],
      "text/plain": [
       "<IPython.core.display.HTML object>"
      ]
     },
     "metadata": {},
     "output_type": "display_data"
    }
   ],
   "source": [
    "%%html\n",
    "<img src = \"https://encrypted-tbn0.gstatic.com/images?q=tbn:ANd9GcQr_t49swJtpm4JnTwt_O3yVSg3dhGzXWDNVaXFT3v92hdDM_chZg\">"
   ]
  },
  {
   "cell_type": "code",
   "execution_count": null,
   "metadata": {
    "collapsed": true
   },
   "outputs": [],
   "source": []
  }
 ],
 "metadata": {
  "kernelspec": {
   "display_name": "Python 3",
   "language": "python",
   "name": "python3"
  },
  "language_info": {
   "codemirror_mode": {
    "name": "ipython",
    "version": 3
   },
   "file_extension": ".py",
   "mimetype": "text/x-python",
   "name": "python",
   "nbconvert_exporter": "python",
   "pygments_lexer": "ipython3",
   "version": "3.6.5"
  }
 },
 "nbformat": 4,
 "nbformat_minor": 2
}
