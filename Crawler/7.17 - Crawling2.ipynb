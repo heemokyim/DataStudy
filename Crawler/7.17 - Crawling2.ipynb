{
 "cells": [
  {
   "cell_type": "code",
   "execution_count": 37,
   "metadata": {},
   "outputs": [],
   "source": [
    "import requests # 이제부터 이것만쓸것\n",
    "from bs4 import BeautifulSoup"
   ]
  },
  {
   "cell_type": "code",
   "execution_count": 42,
   "metadata": {},
   "outputs": [],
   "source": [
    "headers = {\n",
    "    \"user-agent\":\"Mozilla/5.0 (Windows NT 10.0; Win64; x64) AppleWebKit/537.36 (KHTML, like Gecko) Chrome/67.0.3396.99 Safari/537.36\" #header 정보가없으면 bot 이라고 걸러내는경우가있엇음\n",
    "}\n",
    "params = {\n",
    "    \"q\":\"한글\"\n",
    "}\n",
    "\n",
    "url = \"https://www.google.co.kr/search\"\n",
    "    \n",
    "    #한글로쓴것을 바이너리로바뀌어서 get 에 쿼리로 들어감. \n",
    "    "
   ]
  },
  {
   "cell_type": "code",
   "execution_count": 43,
   "metadata": {},
   "outputs": [],
   "source": [
    "html = requests.get(url, params=params, headers=headers) "
   ]
  },
  {
   "cell_type": "code",
   "execution_count": 16,
   "metadata": {},
   "outputs": [],
   "source": [
    "#bs4 로 돔트리를 해석한다. "
   ]
  },
  {
   "cell_type": "code",
   "execution_count": 44,
   "metadata": {},
   "outputs": [],
   "source": [
    "headers = {\n",
    "    \"user-agent\" : \"Mozilla/5.0 (Windows NT 10.0; Win64; x64) AppleWebKit/537.36 (KHTML, like Gecko) Chrome/67.0.3396.99 Safari/537.36\"\n",
    "}\n",
    "\n",
    "params = {\n",
    "    \"q\":\"한글\"\n",
    "}\n",
    "\n",
    "url = \"https://www.google.co.kr/search\"\n",
    "# https://www.google.co.kr/search?\n",
    "#     q=%EC%B6%94%EC%8B%A0%EC%88%98\n",
    "#     &oq=%EC%B6%94%EC%8B%A0%EC%88%98\n",
    "#     &aqs=chrome..69i57j0j69i60j69i61l2j0.10751j0j7\n",
    "#     &sourceid=chrome\n",
    "#     &ie=UTF-8"
   ]
  },
  {
   "cell_type": "code",
   "execution_count": 45,
   "metadata": {},
   "outputs": [],
   "source": [
    "html = requests.get(url, params=params, headers=headers) \n",
    "#해당 헤더, 파라미터와 url에 대한 request"
   ]
  },
  {
   "cell_type": "code",
   "execution_count": 46,
   "metadata": {},
   "outputs": [
    {
     "data": {
      "text/plain": [
       "'UTF-8'"
      ]
     },
     "execution_count": 46,
     "metadata": {},
     "output_type": "execute_result"
    }
   ],
   "source": [
    "html.encoding"
   ]
  },
  {
   "cell_type": "code",
   "execution_count": 47,
   "metadata": {},
   "outputs": [],
   "source": [
    "dom = BeautifulSoup(html.text,\"lxml\")"
   ]
  },
  {
   "cell_type": "code",
   "execution_count": 48,
   "metadata": {},
   "outputs": [
    {
     "data": {
      "text/plain": [
       "bs4.BeautifulSoup"
      ]
     },
     "execution_count": 48,
     "metadata": {},
     "output_type": "execute_result"
    }
   ],
   "source": [
    "type(dom) #이게 bs4 최상위에 있는 객체노드"
   ]
  },
  {
   "cell_type": "code",
   "execution_count": 49,
   "metadata": {},
   "outputs": [
    {
     "data": {
      "text/plain": [
       "[<a href=\"/search?q=%ED%95%9C%EA%B8%80&amp;gbv=1&amp;sei=QUZNW_DVE9Tp-QaV-oOgCA\">여기</a>,\n",
       " <a aria-expanded=\"false\" class=\"gb_b gb_dc\" data-ogsr-alt=\"\" href=\"https://www.google.co.kr/intl/ko/options/\" role=\"button\" tabindex=\"0\" title=\"Google 앱\"></a>,\n",
       " <a class=\"gb_5f gb_Aa gb_Eb\" href=\"https://accounts.google.com/ServiceLogin?hl=ko&amp;passive=true&amp;continue=https://www.google.co.kr/search%3Fq%3D%25ED%2595%259C%25EA%25B8%2580\" id=\"gb_70\" target=\"_top\">로그인</a>,\n",
       " <a data-hveid=\"3\" href=\"https://www.google.co.kr/webhp?hl=ko&amp;sa=X&amp;ved=0ahUKEwiw-ojq_aTcAhXUdN4KHRX9AIQQPAgD\" id=\"logo\" title=\"Google 홈페이지로 이동\"><img alt=\"Google\" height=\"44\" src=\"/images/branding/googlelogo/2x/googlelogo_color_120x44dp.png\" width=\"120\"/></a>,\n",
       " <a href=\"//support.google.com/websearch/answer/186645?hl=ko\">자세히 알아보기</a>,\n",
       " <a class=\"duf3 aciXEb\" data-async-trigger=\"duf3-46\" data-ved=\"0ahUKEwiw-ojq_aTcAhXUdN4KHRX9AIQQtw8IBQ\" href=\"#\" id=\"sbfblt\" jsaction=\"async.u\">부적절한 예상 검색어 신고</a>,\n",
       " <a class=\"q qs\" href=\"/search?q=%ED%95%9C%EA%B8%80&amp;source=lnms&amp;tbm=isch&amp;sa=X&amp;ved=0ahUKEwiw-ojq_aTcAhXUdN4KHRX9AIQQ_AUICigB\">이미지</a>,\n",
       " <a class=\"q qs\" href=\"/search?q=%ED%95%9C%EA%B8%80&amp;source=lnms&amp;tbm=vid&amp;sa=X&amp;ved=0ahUKEwiw-ojq_aTcAhXUdN4KHRX9AIQQ_AUICygC\">동영상</a>,\n",
       " <a class=\"q qs\" href=\"/search?q=%ED%95%9C%EA%B8%80&amp;source=lnms&amp;tbm=nws&amp;sa=X&amp;ved=0ahUKEwiw-ojq_aTcAhXUdN4KHRX9AIQQ_AUIDCgD\">뉴스</a>,\n",
       " <a class=\"q qs\" href=\"/search?q=%ED%95%9C%EA%B8%80&amp;source=lnms&amp;tbm=bks&amp;sa=X&amp;ved=0ahUKEwiw-ojq_aTcAhXUdN4KHRX9AIQQ_AUIDSgE\">도서</a>,\n",
       " <a aria-haspopup=\"true\" class=\"Cq34nf hdtb-dd-b\" jsaction=\"BVg1Q\" jsname=\"LgbsSe\" role=\"button\" tabindex=\"0\">더보기</a>,\n",
       " <a class=\"f9UGee q qs\" href=\"https://maps.google.co.kr/maps?q=%ED%95%9C%EA%B8%80&amp;um=1&amp;ie=UTF-8&amp;sa=X&amp;ved=0ahUKEwiw-ojq_aTcAhXUdN4KHRX9AIQQ_AUIDygA\" jsaction=\"mouseover:sbHm2b\" role=\"menuitem\" tabindex=\"-1\">지도</a>,\n",
       " <a class=\"f9UGee q qs\" href=\"/search?q=%ED%95%9C%EA%B8%80&amp;source=lnms&amp;tbm=fin&amp;sa=X&amp;ved=0ahUKEwiw-ojq_aTcAhXUdN4KHRX9AIQQ_AUIECgB\" jsaction=\"mouseover:sbHm2b\" role=\"menuitem\" tabindex=\"-1\">금융</a>,\n",
       " <a aria-haspopup=\"true\" class=\"Cq34nf hdtb-dd-b\" href=\"/preferences\" id=\"abar_button_opt\" jsaction=\"BVg1Q\" jsname=\"LgbsSe\" role=\"button\" tabindex=\"0\">설정</a>,\n",
       " <a class=\"f9UGee\" data-ved=\"0ahUKEwiw-ojq_aTcAhXUdN4KHRX9AIQQo_oBCBI\" href=\"/preferences?hl=ko&amp;prev=https://www.google.co.kr/search?q%3D%25ED%2595%259C%25EA%25B8%2580\" jsaction=\"mouseover:sbHm2b\" role=\"menuitem\" tabindex=\"-1\">검색 환경설정</a>,\n",
       " <a class=\"f9UGee\" data-ved=\"0ahUKEwiw-ojq_aTcAhXUdN4KHRX9AIQQo_oBCBM\" href=\"/preferences?hl=ko&amp;prev=https://www.google.co.kr/search?q%3D%25ED%2595%259C%25EA%25B8%2580#languages\" jsaction=\"mouseover:sbHm2b\" role=\"menuitem\" tabindex=\"-1\"><span>언어</span><span style=\"margin-left:3px\"> (Languages)</span></a>,\n",
       " <a class=\"f9UGee\" data-ved=\"0ahUKEwiw-ojq_aTcAhXUdN4KHRX9AIQQo_oBCBQ\" href=\"/setprefs?safeui=on&amp;sig=0_iahWayuJ224lS2YLj0hTQyKXbRQ%3D&amp;prev=https://www.google.co.kr/search?q%3D%25ED%2595%259C%25EA%25B8%2580\" id=\"safesearch\" jsaction=\"mouseover:sbHm2b;m.cbbl\" role=\"menuitem\" tabindex=\"-1\"><div>세이프서치 사용 설정</div></a>,\n",
       " <a class=\"f9UGee\" data-ved=\"0ahUKEwiw-ojq_aTcAhXUdN4KHRX9AIQQo_oBCBU\" href=\"/advanced_search?q=%ED%95%9C%EA%B8%80&amp;hl=ko\" jsaction=\"mouseover:sbHm2b\" role=\"menuitem\" tabindex=\"-1\">고급검색</a>,\n",
       " <a class=\"f9UGee\" data-ved=\"0ahUKEwiw-ojq_aTcAhXUdN4KHRX9AIQQo_oBCBY\" href=\"/history/optout?hl=ko\" jsaction=\"mouseover:sbHm2b\" role=\"menuitem\" tabindex=\"-1\">기록</a>,\n",
       " <a class=\"f9UGee\" data-ved=\"0ahUKEwiw-ojq_aTcAhXUdN4KHRX9AIQQo_oBCBc\" href=\"//support.google.com/websearch/?source=g&amp;hl=ko\" jsaction=\"mouseover:sbHm2b\" role=\"menuitem\" tabindex=\"-1\">검색 도움말</a>,\n",
       " <a class=\"hdtb-tl\" data-ved=\"0ahUKEwiw-ojq_aTcAhXUdN4KHRX9AIQQ2x8IGA\" id=\"hdtb-tls\" role=\"button\" style=\"display:\" tabindex=\"0\">도구</a>,\n",
       " <a class=\"spell\" id=\"srfl\"></a>,\n",
       " <a class=\"spell_orig\" id=\"sifl\"></a>,\n",
       " <a href=\"http://www.hancom.com/downLoad.downPU.do\" ping=\"/url?sa=t&amp;source=web&amp;rct=j&amp;url=http://www.hancom.com/downLoad.downPU.do&amp;ved=0ahUKEwiw-ojq_aTcAhXUdN4KHRX9AIQQFgglMAA\">다운로드 : 한글과컴퓨터 - Hancom</a>,\n",
       " <a aria-expanded=\"false\" aria-haspopup=\"true\" aria-label=\"검색결과 옵션\" class=\"GHDvEf ab_button\" data-ved=\"0ahUKEwiw-ojq_aTcAhXUdN4KHRX9AIQQ7B0IJjAA\" href=\"#\" id=\"am-b0\" jsaction=\"m.tdd;keydown:m.hbke;keypress:m.mskpe\" role=\"button\"><span class=\"mn-dwn-arw\"></span></a>,\n",
       " <a class=\"fl\" href=\"http://webcache.googleusercontent.com/search?q=cache:G9zYJhBtY5UJ:www.hancom.com/downLoad.downPU.do+&amp;cd=1&amp;hl=ko&amp;ct=clnk&amp;gl=kr\" ping=\"/url?sa=t&amp;source=web&amp;rct=j&amp;url=http://webcache.googleusercontent.com/search%3Fq%3Dcache:G9zYJhBtY5UJ:www.hancom.com/downLoad.downPU.do%2B%26cd%3D1%26hl%3Dko%26ct%3Dclnk%26gl%3Dkr&amp;ved=0ahUKEwiw-ojq_aTcAhXUdN4KHRX9AIQQIAgoMAA\">저장된 페이지</a>,\n",
       " <a href=\"https://www.hancom.com/product/productWindowsMain.do\" ping=\"/url?sa=t&amp;source=web&amp;rct=j&amp;url=https://www.hancom.com/product/productWindowsMain.do&amp;ved=0ahUKEwiw-ojq_aTcAhXUdN4KHRX9AIQQFggyMAE\">Windows : 한글과컴퓨터 - Hancom</a>,\n",
       " <a aria-expanded=\"false\" aria-haspopup=\"true\" aria-label=\"검색결과 옵션\" class=\"GHDvEf ab_button\" data-ved=\"0ahUKEwiw-ojq_aTcAhXUdN4KHRX9AIQQ7B0IMzAB\" href=\"#\" id=\"am-b1\" jsaction=\"m.tdd;keydown:m.hbke;keypress:m.mskpe\" role=\"button\"><span class=\"mn-dwn-arw\"></span></a>,\n",
       " <a class=\"fl\" href=\"https://webcache.googleusercontent.com/search?q=cache:c2hqAGFe1zUJ:https://www.hancom.com/product/productWindowsMain.do+&amp;cd=2&amp;hl=ko&amp;ct=clnk&amp;gl=kr\" ping=\"/url?sa=t&amp;source=web&amp;rct=j&amp;url=https://webcache.googleusercontent.com/search%3Fq%3Dcache:c2hqAGFe1zUJ:https://www.hancom.com/product/productWindowsMain.do%2B%26cd%3D2%26hl%3Dko%26ct%3Dclnk%26gl%3Dkr&amp;ved=0ahUKEwiw-ojq_aTcAhXUdN4KHRX9AIQQIAg1MAE\">저장된 페이지</a>,\n",
       " <a class=\"fl\" href=\"/search?q=related:https://www.hancom.com/product/productWindowsMain.do+%ED%95%9C%EA%B8%80&amp;tbo=1&amp;sa=X&amp;ved=0ahUKEwiw-ojq_aTcAhXUdN4KHRX9AIQQHwg2MAE\">유사한 페이지</a>,\n",
       " <a class=\"fl\" href=\"https://www.hancom.com/product/productMacMain.do\" ping=\"/url?sa=t&amp;source=web&amp;rct=j&amp;url=https://www.hancom.com/product/productMacMain.do&amp;ved=0ahUKEwiw-ojq_aTcAhXUdN4KHRX9AIQQ0gIIOCgAMAE\">한컴오피스 한글 2014 VP for Mac</a>,\n",
       " <a class=\"fl\" href=\"https://www.hancom.com/goods/goodsChoice.do\" ping=\"/url?sa=t&amp;source=web&amp;rct=j&amp;url=https://www.hancom.com/goods/goodsChoice.do&amp;ved=0ahUKEwiw-ojq_aTcAhXUdN4KHRX9AIQQ0gIIOSgBMAE\">바로구매</a>,\n",
       " <a class=\"fl\" href=\"https://www.hancom.com/product/productAndroidMain.do\" ping=\"/url?sa=t&amp;source=web&amp;rct=j&amp;url=https://www.hancom.com/product/productAndroidMain.do&amp;ved=0ahUKEwiw-ojq_aTcAhXUdN4KHRX9AIQQ0gIIOigCMAE\">Android</a>,\n",
       " <a href=\"https://namu.wiki/w/%ED%95%9C%EA%B8%80\" ping=\"/url?sa=t&amp;source=web&amp;rct=j&amp;url=https://namu.wiki/w/%25ED%2595%259C%25EA%25B8%2580&amp;ved=0ahUKEwiw-ojq_aTcAhXUdN4KHRX9AIQQFghEMAI\">한글 - 나무위키</a>,\n",
       " <a aria-expanded=\"false\" aria-haspopup=\"true\" aria-label=\"검색결과 옵션\" class=\"GHDvEf ab_button\" data-ved=\"0ahUKEwiw-ojq_aTcAhXUdN4KHRX9AIQQ7B0IRTAC\" href=\"#\" id=\"am-b2\" jsaction=\"m.tdd;keydown:m.hbke;keypress:m.mskpe\" role=\"button\"><span class=\"mn-dwn-arw\"></span></a>,\n",
       " <a class=\"fl\" href=\"/search?q=related:https://namu.wiki/w/%25ED%2595%259C%25EA%25B8%2580+%ED%95%9C%EA%B8%80&amp;tbo=1&amp;sa=X&amp;ved=0ahUKEwiw-ojq_aTcAhXUdN4KHRX9AIQQHwhHMAI\">유사한 페이지</a>,\n",
       " <a class=\"fl\" href=\"https://namu.wiki/w/%ED%95%9C%EC%BB%B4%EC%98%A4%ED%94%BC%EC%8A%A4%20%ED%95%9C%EA%B8%80\" ping=\"/url?sa=t&amp;source=web&amp;rct=j&amp;url=https://namu.wiki/w/%25ED%2595%259C%25EC%25BB%25B4%25EC%2598%25A4%25ED%2594%25BC%25EC%258A%25A4%2520%25ED%2595%259C%25EA%25B8%2580&amp;ved=0ahUKEwiw-ojq_aTcAhXUdN4KHRX9AIQQ0gIISSgAMAI\">한컴오피스 한글</a>,\n",
       " <a class=\"fl\" href=\"https://namu.wiki/w/%ED%95%9C%EA%B8%80/%EC%97%AD%EC%82%AC\" ping=\"/url?sa=t&amp;source=web&amp;rct=j&amp;url=https://namu.wiki/w/%25ED%2595%259C%25EA%25B8%2580/%25EC%2597%25AD%25EC%2582%25AC&amp;ved=0ahUKEwiw-ojq_aTcAhXUdN4KHRX9AIQQ0gIISigBMAI\">한글/역사</a>,\n",
       " <a class=\"fl\" href=\"https://namu.wiki/w/%ED%95%9C%EA%B8%80%20%EC%9E%90%EB%AA%A8\" ping=\"/url?sa=t&amp;source=web&amp;rct=j&amp;url=https://namu.wiki/w/%25ED%2595%259C%25EA%25B8%2580%2520%25EC%259E%2590%25EB%25AA%25A8&amp;ved=0ahUKEwiw-ojq_aTcAhXUdN4KHRX9AIQQ0gIISygCMAI\">한글 자모</a>,\n",
       " <a class=\"fl\" href=\"https://namu.wiki/w/%ED%95%9C%EA%B8%80/%EB%85%BC%EC%9F%81\" ping=\"/url?sa=t&amp;source=web&amp;rct=j&amp;url=https://namu.wiki/w/%25ED%2595%259C%25EA%25B8%2580/%25EB%2585%25BC%25EC%259F%2581&amp;ved=0ahUKEwiw-ojq_aTcAhXUdN4KHRX9AIQQ0gIITCgDMAI\">한글/논쟁</a>,\n",
       " <a data-ved=\"0ahUKEwiw-ojq_aTcAhXUdN4KHRX9AIQQwqsBCFkwAw\" href=\"https://www.youtube.com/watch?v=MujbEJkIimA\" ping=\"/url?sa=t&amp;source=web&amp;rct=j&amp;url=https://www.youtube.com/watch%3Fv%3DMujbEJkIimA&amp;ved=0ahUKEwiw-ojq_aTcAhXUdN4KHRX9AIQQwqsBCFkwAw\"><div><div class=\"MAMEle\" style=\"height:115px\"><div class=\"Rd246b\" style=\"height:115px;width:205px\"><g-img><img alt=\"\" class=\"rISBZc M4dUYb\" data-deferred=\"1\" height=\"115\" id=\"dimg_1\" src=\"data:image/gif;base64,R0lGODlhAQABAIAAAP///////yH5BAEKAAEALAAAAAABAAEAAAICTAEAOw==\" width=\"205\"/></g-img></div><div class=\"OIL2le\"><span class=\"qB1pae\"></span></div><div class=\"k8B8Pc\">2:06</div></div></div><div class=\"wCIBKb\"><div class=\"KiGY3d mB12kf JRhSae ZyAH8d\" style=\"-webkit-line-clamp:5;height:6.875em\">6가지 한글이 우수한 문자인 이유! 6 Reasons Why Hangul is Amazing</div></div></a>,\n",
       " <a data-ved=\"0ahUKEwiw-ojq_aTcAhXUdN4KHRX9AIQQwqsBCFwwBA\" href=\"https://www.youtube.com/watch?v=SuQEDKZpKsg\" ping=\"/url?sa=t&amp;source=web&amp;rct=j&amp;url=https://www.youtube.com/watch%3Fv%3DSuQEDKZpKsg&amp;ved=0ahUKEwiw-ojq_aTcAhXUdN4KHRX9AIQQwqsBCFwwBA\"><div><div class=\"MAMEle\" style=\"height:115px\"><div class=\"Rd246b\" style=\"height:115px;width:205px\"><g-img><img alt=\"\" class=\"rISBZc M4dUYb\" data-deferred=\"1\" height=\"115\" id=\"dimg_3\" src=\"data:image/gif;base64,R0lGODlhAQABAIAAAP///////yH5BAEKAAEALAAAAAABAAEAAAICTAEAOw==\" width=\"205\"/></g-img></div><div class=\"OIL2le\"><span class=\"qB1pae\"></span></div><div class=\"k8B8Pc\">5:02</div></div></div><div class=\"wCIBKb\"><div class=\"KiGY3d mB12kf JRhSae ZyAH8d\" style=\"-webkit-line-clamp:5;height:6.875em\">한글 없이 한국어를 읽는다면? Reading Korean without Hangeul ...</div></div></a>,\n",
       " <a data-ved=\"0ahUKEwiw-ojq_aTcAhXUdN4KHRX9AIQQwqsBCF8wBQ\" href=\"https://www.youtube.com/watch?v=2yFCh54rOJU\" ping=\"/url?sa=t&amp;source=web&amp;rct=j&amp;url=https://www.youtube.com/watch%3Fv%3D2yFCh54rOJU&amp;ved=0ahUKEwiw-ojq_aTcAhXUdN4KHRX9AIQQwqsBCF8wBQ\"><div><div class=\"MAMEle\" style=\"height:115px\"><div class=\"Rd246b\" style=\"height:115px;width:205px\"><g-img><img alt=\"\" class=\"rISBZc M4dUYb\" data-deferred=\"1\" height=\"115\" id=\"dimg_5\" src=\"data:image/gif;base64,R0lGODlhAQABAIAAAP///////yH5BAEKAAEALAAAAAABAAEAAAICTAEAOw==\" width=\"205\"/></g-img></div><div class=\"OIL2le\"><span class=\"qB1pae\"></span></div><div class=\"k8B8Pc\">2:43</div></div></div><div class=\"wCIBKb\"><div class=\"KiGY3d mB12kf JRhSae ZyAH8d\" style=\"-webkit-line-clamp:5;height:6.875em\">한글공부 애니메이션 Learn Hangul Animation</div></div></a>,\n",
       " <a data-ved=\"0ahUKEwiw-ojq_aTcAhXUdN4KHRX9AIQQwqsBCGIwBg\" href=\"https://www.youtube.com/watch?v=VFvhGfghZtU\" ping=\"/url?sa=t&amp;source=web&amp;rct=j&amp;url=https://www.youtube.com/watch%3Fv%3DVFvhGfghZtU&amp;ved=0ahUKEwiw-ojq_aTcAhXUdN4KHRX9AIQQwqsBCGIwBg\"><div><div class=\"MAMEle\" style=\"height:115px\"><div class=\"Rd246b\" style=\"height:115px;width:205px\"><g-img><img alt=\"\" class=\"rISBZc M4dUYb\" data-deferred=\"1\" height=\"115\" id=\"dimg_7\" src=\"data:image/gif;base64,R0lGODlhAQABAIAAAP///////yH5BAEKAAEALAAAAAABAAEAAAICTAEAOw==\" width=\"205\"/></g-img></div><div class=\"OIL2le\"><span class=\"qB1pae\"></span></div><div class=\"k8B8Pc\">10:26</div></div></div><div class=\"wCIBKb\"><div class=\"KiGY3d mB12kf JRhSae ZyAH8d\" style=\"-webkit-line-clamp:5;height:6.875em\">[한글자막] 외국도 반한 박효신의 목소리.. LOST 해외반응</div></div></a>,\n",
       " <a data-ved=\"0ahUKEwiw-ojq_aTcAhXUdN4KHRX9AIQQwqsBCGUwBw\" href=\"https://www.youtube.com/watch?v=CYUKxTl7U24\" ping=\"/url?sa=t&amp;source=web&amp;rct=j&amp;url=https://www.youtube.com/watch%3Fv%3DCYUKxTl7U24&amp;ved=0ahUKEwiw-ojq_aTcAhXUdN4KHRX9AIQQwqsBCGUwBw\"><div><div class=\"MAMEle\" style=\"height:115px\"><div class=\"Rd246b\" style=\"height:115px;width:205px\"><g-img><img alt=\"\" class=\"rISBZc M4dUYb\" data-deferred=\"1\" height=\"115\" id=\"dimg_9\" src=\"data:image/gif;base64,R0lGODlhAQABAIAAAP///////yH5BAEKAAEALAAAAAABAAEAAAICTAEAOw==\" width=\"205\"/></g-img></div><div class=\"OIL2le\"><span class=\"qB1pae\"></span></div><div class=\"k8B8Pc\">10:38</div></div></div><div class=\"wCIBKb\"><div class=\"KiGY3d mB12kf JRhSae ZyAH8d\" style=\"-webkit-line-clamp:5;height:6.875em\">[한글자막] 이러지마 제발 뮤비의 충격반전 장면 해외반응 케이윌</div></div></a>,\n",
       " <a data-ved=\"0ahUKEwiw-ojq_aTcAhXUdN4KHRX9AIQQwqsBCGgwCA\" href=\"https://www.youtube.com/watch?v=yH1bAs8I5do\" ping=\"/url?sa=t&amp;source=web&amp;rct=j&amp;url=https://www.youtube.com/watch%3Fv%3DyH1bAs8I5do&amp;ved=0ahUKEwiw-ojq_aTcAhXUdN4KHRX9AIQQwqsBCGgwCA\"><div><div class=\"MAMEle\" style=\"height:115px\"><div class=\"Rd246b\" style=\"height:115px;width:205px\"><g-img><img alt=\"\" class=\"rISBZc M4dUYb\" data-deferred=\"1\" height=\"115\" id=\"dimg_11\" src=\"data:image/gif;base64,R0lGODlhAQABAIAAAP///////yH5BAEKAAEALAAAAAABAAEAAAICTAEAOw==\" width=\"205\"/></g-img></div><div class=\"OIL2le\"><span class=\"qB1pae\"></span></div><div class=\"k8B8Pc\">8:17</div></div></div><div class=\"wCIBKb\"><div class=\"KiGY3d mB12kf JRhSae ZyAH8d\" style=\"-webkit-line-clamp:5;height:6.875em\">[한글자막] 역대급 충격뮤비 케이윌 이러지마 제발 해외반응</div></div></a>,\n",
       " <a data-ved=\"0ahUKEwiw-ojq_aTcAhXUdN4KHRX9AIQQwqsBCGswCQ\" href=\"https://www.youtube.com/watch?v=YuAenLNOOSE\" ping=\"/url?sa=t&amp;source=web&amp;rct=j&amp;url=https://www.youtube.com/watch%3Fv%3DYuAenLNOOSE&amp;ved=0ahUKEwiw-ojq_aTcAhXUdN4KHRX9AIQQwqsBCGswCQ\"><div><div class=\"MAMEle\" style=\"height:115px\"><div class=\"Rd246b\" style=\"height:115px;width:205px\"><g-img><img alt=\"\" class=\"rISBZc M4dUYb\" data-deferred=\"1\" height=\"115\" id=\"dimg_13\" src=\"data:image/gif;base64,R0lGODlhAQABAIAAAP///////yH5BAEKAAEALAAAAAABAAEAAAICTAEAOw==\" width=\"205\"/></g-img></div><div class=\"OIL2le\"><span class=\"qB1pae\"></span></div><div class=\"k8B8Pc\">5:35</div></div></div><div class=\"wCIBKb\"><div class=\"KiGY3d mB12kf JRhSae ZyAH8d\" style=\"-webkit-line-clamp:5;height:6.875em\">[한글자막] 저스트절크 안무영상 해외반응 JUST JERK Reaction</div></div></a>,\n",
       " <a data-ved=\"0ahUKEwiw-ojq_aTcAhXUdN4KHRX9AIQQwqsBCG4wCg\" href=\"https://www.youtube.com/watch?v=MHTjLdEx7dU\" ping=\"/url?sa=t&amp;source=web&amp;rct=j&amp;url=https://www.youtube.com/watch%3Fv%3DMHTjLdEx7dU&amp;ved=0ahUKEwiw-ojq_aTcAhXUdN4KHRX9AIQQwqsBCG4wCg\"><div><div class=\"MAMEle\" style=\"height:115px\"><div class=\"Rd246b\" style=\"height:115px;width:205px\"><g-img><img alt=\"\" class=\"rISBZc M4dUYb\" data-deferred=\"1\" height=\"115\" id=\"dimg_15\" src=\"data:image/gif;base64,R0lGODlhAQABAIAAAP///////yH5BAEKAAEALAAAAAABAAEAAAICTAEAOw==\" width=\"205\"/></g-img></div><div class=\"OIL2le\"><span class=\"qB1pae\"></span></div><div class=\"k8B8Pc\">10:09</div></div></div><div class=\"wCIBKb\"><div class=\"KiGY3d mB12kf JRhSae ZyAH8d\" style=\"-webkit-line-clamp:5;height:6.875em\">[한글자막] 박효신 동경 해외반응 Park Hyo Shin YEARNING Reaction ...</div></div></a>,\n",
       " <a href=\"https://ko.wikipedia.org/wiki/%ED%95%9C%EA%B8%80\" ping=\"/url?sa=t&amp;source=web&amp;rct=j&amp;url=https://ko.wikipedia.org/wiki/%25ED%2595%259C%25EA%25B8%2580&amp;ved=0ahUKEwiw-ojq_aTcAhXUdN4KHRX9AIQQFgh0MAs\">한글 - 위키백과, 우리 모두의 백과사전</a>,\n",
       " <a aria-expanded=\"false\" aria-haspopup=\"true\" aria-label=\"검색결과 옵션\" class=\"GHDvEf ab_button\" data-ved=\"0ahUKEwiw-ojq_aTcAhXUdN4KHRX9AIQQ7B0IdTAL\" href=\"#\" id=\"am-b11\" jsaction=\"m.tdd;keydown:m.hbke;keypress:m.mskpe\" role=\"button\"><span class=\"mn-dwn-arw\"></span></a>,\n",
       " <a class=\"fl\" href=\"https://webcache.googleusercontent.com/search?q=cache:WFDRqFWp6qkJ:https://ko.wikipedia.org/wiki/%25ED%2595%259C%25EA%25B8%2580+&amp;cd=12&amp;hl=ko&amp;ct=clnk&amp;gl=kr\" ping=\"/url?sa=t&amp;source=web&amp;rct=j&amp;url=https://webcache.googleusercontent.com/search%3Fq%3Dcache:WFDRqFWp6qkJ:https://ko.wikipedia.org/wiki/%2525ED%252595%25259C%2525EA%2525B8%252580%2B%26cd%3D12%26hl%3Dko%26ct%3Dclnk%26gl%3Dkr&amp;ved=0ahUKEwiw-ojq_aTcAhXUdN4KHRX9AIQQIAh3MAs\">저장된 페이지</a>,\n",
       " <a class=\"fl\" href=\"/search?q=related:https://ko.wikipedia.org/wiki/%25ED%2595%259C%25EA%25B8%2580+%ED%95%9C%EA%B8%80&amp;tbo=1&amp;sa=X&amp;ved=0ahUKEwiw-ojq_aTcAhXUdN4KHRX9AIQQHwh4MAs\">유사한 페이지</a>,\n",
       " <a href=\"/search?q=%ED%95%9C%EA%B8%80&amp;npsic=0&amp;rflfq=1&amp;rldoc=1&amp;rlha=0&amp;rllag=37577080,126994409,2060&amp;tbm=lcl&amp;sa=X&amp;ved=0ahUKEwiw-ojq_aTcAhXUdN4KHRX9AIQQtgMIhQE\" style=\"position:relative;height:200px;display:block\" tabindex=\"0\"><img alt=\"한글 지도\" border=\"0\" height=\"200\" id=\"lu_map\" src=\"/maps/vt/data=-tme2fPOA7ntnxGj7MxUwK3KSKnQCOMPIeospGuSnywP2PWnbSvQuqzR3QYxmMtwQO60WA1uP3fne7YqgbTXt507d6yazgZOU7DyCapQ0NMztI49wgye8QhZL4OEG2XvX5NhL9mTlIJs5y3T_AXUw18whd76Mw_yPHXhVALkORKLBHlbFt71q1C2_7AvmDDl1WgXI5ts4_c2Dgonr5P1NTlThnHWr9jzQY_IUAm0IkGMbDn60uZYmSE88QO-I7PWd0p4dfp1vlUbREAoxlD6wEYxqwoRpdiX9aAOD2N5JiuxhYL6Z-CSL42qJufZS2ACR8ixbTYt7q96P7W6TNW-bZou_DfFi2djvRv3BiVJiYNu_XHhx06EOphjaoZn7Tm3wZk2wCTVZI-QBHmkp5ZZnFNCl7M_KmXmsGxDyySdOFJJuOfr1hLzTrt2sWpjHWf1obmfJeoPbce2T8UsfKCK7WximpUtIV70PuX3F5MlunNIKyW_1Cgy-PNWeo2r0MVpXp7PZEtToSe4w-2XEt8LOFwiqIHzdtvjS3aj5gD9CaFFN0nz1Q7y1CTn0MVI2mbK46rmcpaFUjKJfYYVZIsyTB70eezrrBG54CLUceclAXixBI3F2faL0iH_JU3H6F7_VH3QmkAqqqH4_BumsFstox19dRQT_GLy8TkAGflu_patA0IQAP3u2-3Tv-uYL4gtmEYT8zjlzEu1XOEaIDqDcEIi6TnwQYV7PxJerqDE0BjvOpILanXXcW-TdX5i9Qk2LrsiUlQu82QqXdofov_sJD_c7328wTyHeqZjKvScCzJAWIBa0C_2wKAZbxLJPFDHQEU62JderOvhteTIdojpm3PnU7703F774vrWiDVT7BRPiHGENAk8iuaaCBmTT2ziL-OI6h5gM9nuPYwBDlNXKHX80z7zVrEEtLvIVft1PvAo0PSoTxto4aXe0QFgKbJ8Oj5NRVHiSsKNFnEmJF0ZO6-CyWI60vjPJ2iA9IReTPlodTDjrpOGRf7ny6bqoIwBXgSZGLGjWWKFIAZVCDv_lgVBPcKISKIKLBgF-2bQS4oQUvTDjTat0pXSmgblcn67Q5vd4hY6\" title=\"한글 지도\" width=\"632\"/><div class=\"gws-local-map__map-expando duf-h\" data-ved=\"0ahUKEwiw-ojq_aTcAhXUdN4KHRX9AIQQkNEBCIYB\" jsaction=\"KQB0gd;rcuQ6b:npT2md\" jscontroller=\"ljqMqb\" role=\"button\" tabindex=\"0\"> <img alt=\"map expand icon\" height=\"24\" src=\"data:image/png;base64,iVBORw0KGgoAAAANSUhEUgAAAEgAAABICAYAAABV7bNHAAAAmElEQVR4Ae3a1xHDIBQAQfpvglLxr+M5572Z18AqC4YkSZIkSdF60DwzQIAAaQK6HWfBAXQVzmwgOKOA4AQQnAaC00BwGghOA8FpIDgNBKeB4ADaw9GEc74JR5Kkr39sy4ufT4e1N7fjAPo/nAaC00BwGghOA8FpIDgNBKeB4DQQnAKC00BwdoPTwfnlDd2AAAGSJEmSJGkDhfC3AD4fHSUAAAAASUVORK5CYII=\" width=\"24\"/> </div></a>,\n",
       " <a class=\"C8TUKc iwtuN8fQqWAQ-6WH35iSZ2V0 rllt__link a-no-hover-decoration\" data-cid=\"1676520047493220836\" data-rtid=\"iwtuN8fQqWAQ\" data-ved=\"0ahUKEwiw-ojq_aTcAhXUdN4KHRX9AIQQvS4ImQEwDA\" jsaction=\"r.UQJvbqFUibg;\" jsl=\"$x 2;\" role=\"link\" tabindex=\"0\"><div class=\"cXedhc uQ4NLd\"><div class=\"b9tNq\"><img alt=\"\" class=\"tLipRb\" data-deferred=\"1\" height=\"90\" id=\"rlimg0\" src=\"data:image/gif;base64,R0lGODlhAQABAIAAAP///////yH5BAEKAAEALAAAAAABAAEAAAICTAEAOw==\" style=\"border:0;left:0px;position:relative;top:0px\" width=\"90\"/></div><div aria-level=\"3\" class=\"dbg0pd\" role=\"heading\"><span>(재단)한글학회</span></div><span class=\"rllt__details lqhpac\"><div><span class=\"BTtC6e\">5.0</span> <g-review-stars><span aria-label=\"별 5개 중 5.0개\" class=\"Fam1ne EBe2gf\"><span style=\"width:70px\"></span></span></g-review-stars> (1) · 전문가 협회</div><div></div><div><span>신문로1가 58-14</span></div><div class=\"rllt__wrapped\" data-ved=\"0ahUKEwiw-ojq_aTcAhXUdN4KHRX9AIQQjzUInwEwDA\">현재 영업 중</div></span></div></a>,\n",
       " <a class=\"C8TUKc ijPbm24TgUiM-6WH35iSZ2V0 rllt__link a-no-hover-decoration\" data-cid=\"15873752299803734343\" data-rtid=\"ijPbm24TgUiM\" data-ved=\"0ahUKEwiw-ojq_aTcAhXUdN4KHRX9AIQQvS4IoQEwDQ\" jsaction=\"r.UQJvbqFUibg;\" jsl=\"$x 2;\" role=\"link\" tabindex=\"0\"><div class=\"cXedhc uQ4NLd\"><div class=\"b9tNq\"><img alt=\"\" class=\"tLipRb\" data-deferred=\"1\" height=\"90\" id=\"rlimg1\" src=\"data:image/gif;base64,R0lGODlhAQABAIAAAP///////yH5BAEKAAEALAAAAAABAAEAAAICTAEAOw==\" style=\"border:0;left:0px;position:relative;top:0px\" width=\"90\"/></div><div aria-level=\"3\" class=\"dbg0pd\" role=\"heading\"><span>한글사랑</span></div><span class=\"rllt__details lqhpac\"><div><span class=\"BTtC6e\">4.0</span> <g-review-stars><span aria-label=\"별 5개 중 4.0개\" class=\"Fam1ne EBe2gf\"><span style=\"width:56px\"></span></span></g-review-stars> (1) · 인쇄 업체</div><div></div><div><span>삼선동 삼선교로14길 105</span></div></span></div></a>,\n",
       " <a class=\"C8TUKc iktq3CRSby_U-6WH35iSZ2V0 rllt__link a-no-hover-decoration\" data-cid=\"2657069017840662110\" data-rtid=\"iktq3CRSby_U\" data-ved=\"0ahUKEwiw-ojq_aTcAhXUdN4KHRX9AIQQvS4IpwEwDg\" jsaction=\"r.UQJvbqFUibg;\" jsl=\"$x 2;\" role=\"link\" tabindex=\"0\"><div class=\"cXedhc uQ4NLd\"><div class=\"b9tNq\"><img alt=\"\" class=\"tLipRb\" data-deferred=\"1\" height=\"90\" id=\"rlimg2\" src=\"data:image/gif;base64,R0lGODlhAQABAIAAAP///////yH5BAEKAAEALAAAAAABAAEAAAICTAEAOw==\" style=\"border:0;left:0px;position:relative;top:0px\" width=\"90\"/></div><div aria-level=\"3\" class=\"dbg0pd\" role=\"heading\"><span>한글에너지</span></div><span class=\"rllt__details lqhpac\"><div><span class=\"BTtC6e\">5.0</span> <g-review-stars><span aria-label=\"별 5개 중 5.0개\" class=\"Fam1ne EBe2gf\"><span style=\"width:70px\"></span></span></g-review-stars> (1) · 철학관</div><div></div><div><span>숭인동 298-1</span></div><div class=\"rllt__wrapped\" data-ved=\"0ahUKEwiw-ojq_aTcAhXUdN4KHRX9AIQQjzUIrQEwDg\">현재 영업 중</div></span></div></a>,\n",
       " <a class=\"cMjHbjVt9AZ__button\" data-ved=\"0ahUKEwiw-ojq_aTcAhXUdN4KHRX9AIQQjGoIrgE\" href=\"/search?q=%ED%95%9C%EA%B8%80&amp;npsic=0&amp;rflfq=1&amp;rldoc=1&amp;rlha=0&amp;rllag=37577080,126994409,2060&amp;tbm=lcl&amp;sa=X&amp;ved=0ahUKEwiw-ojq_aTcAhXUdN4KHRX9AIQQjGoIrgE\"><div class=\"DLOTif\"><div class=\"Mpn0ac\"><img alt=\"\" border=\"0\" height=\"13\" src=\"data:image/png;base64,iVBORw0KGgoAAAANSUhEUgAAABIAAAANCAIAAAArLKlOAAAABnRSTlMAAAAAAABupgeRAAAAG0lEQVR4AWOgL3Bq/QJEcDaRiExtI8pvo34DAHvvpiGCiiLaAAAAAElFTkSuQmCC\"/></div><span>장소 더보기</span></div></a>,\n",
       " <a href=\"https://ko.wikibooks.org/wiki/%ED%95%9C%EA%B5%AD%EC%96%B4_%EC%9E%85%EB%AC%B8/%ED%95%9C%EA%B8%80_%EC%9E%90%EB%AA%A8\" ping=\"/url?sa=t&amp;source=web&amp;rct=j&amp;url=https://ko.wikibooks.org/wiki/%25ED%2595%259C%25EA%25B5%25AD%25EC%2596%25B4_%25EC%259E%2585%25EB%25AC%25B8/%25ED%2595%259C%25EA%25B8%2580_%25EC%259E%2590%25EB%25AA%25A8&amp;ved=0ahUKEwiw-ojq_aTcAhXUdN4KHRX9AIQQFgixATAP\">한국어 입문/한글 자모 - 위키책</a>,\n",
       " <a aria-expanded=\"false\" aria-haspopup=\"true\" aria-label=\"검색결과 옵션\" class=\"GHDvEf ab_button\" data-ved=\"0ahUKEwiw-ojq_aTcAhXUdN4KHRX9AIQQ7B0IsgEwDw\" href=\"#\" id=\"am-b15\" jsaction=\"m.tdd;keydown:m.hbke;keypress:m.mskpe\" role=\"button\"><span class=\"mn-dwn-arw\"></span></a>,\n",
       " <a class=\"fl\" href=\"https://webcache.googleusercontent.com/search?q=cache:pORgG4d9jF0J:https://ko.wikibooks.org/wiki/%25ED%2595%259C%25EA%25B5%25AD%25EC%2596%25B4_%25EC%259E%2585%25EB%25AC%25B8/%25ED%2595%259C%25EA%25B8%2580_%25EC%259E%2590%25EB%25AA%25A8+&amp;cd=16&amp;hl=ko&amp;ct=clnk&amp;gl=kr\" ping=\"/url?sa=t&amp;source=web&amp;rct=j&amp;url=https://webcache.googleusercontent.com/search%3Fq%3Dcache:pORgG4d9jF0J:https://ko.wikibooks.org/wiki/%2525ED%252595%25259C%2525EA%2525B5%2525AD%2525EC%252596%2525B4_%2525EC%25259E%252585%2525EB%2525AC%2525B8/%2525ED%252595%25259C%2525EA%2525B8%252580_%2525EC%25259E%252590%2525EB%2525AA%2525A8%2B%26cd%3D16%26hl%3Dko%26ct%3Dclnk%26gl%3Dkr&amp;ved=0ahUKEwiw-ojq_aTcAhXUdN4KHRX9AIQQIAi0ATAP\">저장된 페이지</a>,\n",
       " <a class=\"fl\" href=\"/search?q=related:https://ko.wikibooks.org/wiki/%25ED%2595%259C%25EA%25B5%25AD%25EC%2596%25B4_%25EC%259E%2585%25EB%25AC%25B8/%25ED%2595%259C%25EA%25B8%2580_%25EC%259E%2590%25EB%25AA%25A8+%ED%95%9C%EA%B8%80&amp;tbo=1&amp;sa=X&amp;ved=0ahUKEwiw-ojq_aTcAhXUdN4KHRX9AIQQHwi1ATAP\">유사한 페이지</a>,\n",
       " <a href=\"https://www.korean.go.kr/hangeul/principle/001.html\" ping=\"/url?sa=t&amp;source=web&amp;rct=j&amp;url=https://www.korean.go.kr/hangeul/principle/001.html&amp;ved=0ahUKEwiw-ojq_aTcAhXUdN4KHRX9AIQQFgi_ATAQ\">한글의 구성 - 알고 싶은 한글</a>,\n",
       " <a aria-expanded=\"false\" aria-haspopup=\"true\" aria-label=\"검색결과 옵션\" class=\"GHDvEf ab_button\" data-ved=\"0ahUKEwiw-ojq_aTcAhXUdN4KHRX9AIQQ7B0IwAEwEA\" href=\"#\" id=\"am-b16\" jsaction=\"m.tdd;keydown:m.hbke;keypress:m.mskpe\" role=\"button\"><span class=\"mn-dwn-arw\"></span></a>,\n",
       " <a class=\"fl\" href=\"https://webcache.googleusercontent.com/search?q=cache:bgyzKCoz2toJ:https://www.korean.go.kr/hangeul/principle/001.html+&amp;cd=17&amp;hl=ko&amp;ct=clnk&amp;gl=kr\" ping=\"/url?sa=t&amp;source=web&amp;rct=j&amp;url=https://webcache.googleusercontent.com/search%3Fq%3Dcache:bgyzKCoz2toJ:https://www.korean.go.kr/hangeul/principle/001.html%2B%26cd%3D17%26hl%3Dko%26ct%3Dclnk%26gl%3Dkr&amp;ved=0ahUKEwiw-ojq_aTcAhXUdN4KHRX9AIQQIAjCATAQ\">저장된 페이지</a>,\n",
       " <a class=\"fl\" href=\"/search?q=related:https://www.korean.go.kr/hangeul/principle/001.html+%ED%95%9C%EA%B8%80&amp;tbo=1&amp;sa=X&amp;ved=0ahUKEwiw-ojq_aTcAhXUdN4KHRX9AIQQHwjDATAQ\">유사한 페이지</a>,\n",
       " <a href=\"https://www1.president.go.kr/petitions/154276\" ping=\"/url?sa=t&amp;source=web&amp;rct=j&amp;url=https://www1.president.go.kr/petitions/154276&amp;ved=0ahUKEwiw-ojq_aTcAhXUdN4KHRX9AIQQFgjNATAR\">공공기관 한글(HWP) 독점을 금지시켜 주세요 &gt; 국민청원 &gt; 대한민국 ...</a>,\n",
       " <a aria-expanded=\"false\" aria-haspopup=\"true\" aria-label=\"검색결과 옵션\" class=\"GHDvEf ab_button\" data-ved=\"0ahUKEwiw-ojq_aTcAhXUdN4KHRX9AIQQ7B0IzgEwEQ\" href=\"#\" id=\"am-b17\" jsaction=\"m.tdd;keydown:m.hbke;keypress:m.mskpe\" role=\"button\"><span class=\"mn-dwn-arw\"></span></a>,\n",
       " <a class=\"fl\" href=\"https://webcache.googleusercontent.com/search?q=cache:RWfKJiMKN48J:https://www1.president.go.kr/petitions/154276+&amp;cd=18&amp;hl=ko&amp;ct=clnk&amp;gl=kr\" ping=\"/url?sa=t&amp;source=web&amp;rct=j&amp;url=https://webcache.googleusercontent.com/search%3Fq%3Dcache:RWfKJiMKN48J:https://www1.president.go.kr/petitions/154276%2B%26cd%3D18%26hl%3Dko%26ct%3Dclnk%26gl%3Dkr&amp;ved=0ahUKEwiw-ojq_aTcAhXUdN4KHRX9AIQQIAjQATAR\">저장된 페이지</a>,\n",
       " <a href=\"http://www.kocca.kr/cop/bbs/view/B0000137/1833364.do?menuNo=200827&amp;noticevent=Y\" ping=\"/url?sa=t&amp;source=web&amp;rct=j&amp;url=http://www.kocca.kr/cop/bbs/view/B0000137/1833364.do%3FmenuNo%3D200827%26noticevent%3DY&amp;ved=0ahUKEwiw-ojq_aTcAhXUdN4KHRX9AIQQFgjTATAS\">제3회 한글 창의 아이디어 공모전(2017) 공모 &lt; 공지사항&lt;알림마당 ...</a>,\n",
       " <a aria-expanded=\"false\" aria-haspopup=\"true\" aria-label=\"검색결과 옵션\" class=\"GHDvEf ab_button\" data-ved=\"0ahUKEwiw-ojq_aTcAhXUdN4KHRX9AIQQ7B0I1AEwEg\" href=\"#\" id=\"am-b18\" jsaction=\"m.tdd;keydown:m.hbke;keypress:m.mskpe\" role=\"button\"><span class=\"mn-dwn-arw\"></span></a>,\n",
       " <a class=\"fl\" href=\"http://webcache.googleusercontent.com/search?q=cache:hutqJBnXUxIJ:www.kocca.kr/cop/bbs/view/B0000137/1833364.do%3FmenuNo%3D200827%26noticevent%3DY+&amp;cd=19&amp;hl=ko&amp;ct=clnk&amp;gl=kr\" ping=\"/url?sa=t&amp;source=web&amp;rct=j&amp;url=http://webcache.googleusercontent.com/search%3Fq%3Dcache:hutqJBnXUxIJ:www.kocca.kr/cop/bbs/view/B0000137/1833364.do%253FmenuNo%253D200827%2526noticevent%253DY%2B%26cd%3D19%26hl%3Dko%26ct%3Dclnk%26gl%3Dkr&amp;ved=0ahUKEwiw-ojq_aTcAhXUdN4KHRX9AIQQIAjWATAS\">저장된 페이지</a>,\n",
       " <a href=\"https://www.microsoft.com/ko-kr/download/details.aspx?id=36772\" ping=\"/url?sa=t&amp;source=web&amp;rct=j&amp;url=https://www.microsoft.com/ko-kr/download/details.aspx%3Fid%3D36772&amp;ved=0ahUKEwiw-ojq_aTcAhXUdN4KHRX9AIQQFgjdATAT\">Download Microsoft Word를 위한 아래아한글 문서 변환 도구 from ...</a>,\n",
       " <a aria-expanded=\"false\" aria-haspopup=\"true\" aria-label=\"검색결과 옵션\" class=\"GHDvEf ab_button\" data-ved=\"0ahUKEwiw-ojq_aTcAhXUdN4KHRX9AIQQ7B0I3gEwEw\" href=\"#\" id=\"am-b19\" jsaction=\"m.tdd;keydown:m.hbke;keypress:m.mskpe\" role=\"button\"><span class=\"mn-dwn-arw\"></span></a>,\n",
       " <a class=\"fl\" href=\"https://webcache.googleusercontent.com/search?q=cache:Dwkw7nu5zlcJ:https://www.microsoft.com/ko-kr/download/details.aspx%3Fid%3D36772+&amp;cd=20&amp;hl=ko&amp;ct=clnk&amp;gl=kr\" ping=\"/url?sa=t&amp;source=web&amp;rct=j&amp;url=https://webcache.googleusercontent.com/search%3Fq%3Dcache:Dwkw7nu5zlcJ:https://www.microsoft.com/ko-kr/download/details.aspx%253Fid%253D36772%2B%26cd%3D20%26hl%3Dko%26ct%3Dclnk%26gl%3Dkr&amp;ved=0ahUKEwiw-ojq_aTcAhXUdN4KHRX9AIQQIAjgATAT\">저장된 페이지</a>,\n",
       " <a class=\"fl\" href=\"/search?q=related:https://www.microsoft.com/ko-kr/download/details.aspx%3Fid%3D36772+%ED%95%9C%EA%B8%80&amp;tbo=1&amp;sa=X&amp;ved=0ahUKEwiw-ojq_aTcAhXUdN4KHRX9AIQQHwjhATAT\">유사한 페이지</a>,\n",
       " <a href=\"/search?q=%ED%95%9C%EA%B8%80%EC%98%A4%ED%94%BC%EC%8A%A4&amp;sa=X&amp;ved=0ahUKEwiw-ojq_aTcAhXUdN4KHRX9AIQQ1QII7gEoAA\">한글오피스</a>,\n",
       " <a href=\"/search?q=%ED%95%9C%EA%B8%80+%EC%B2%B4%ED%97%98%ED%8C%90&amp;sa=X&amp;ved=0ahUKEwiw-ojq_aTcAhXUdN4KHRX9AIQQ1QII7wEoAQ\">한글 체험판</a>,\n",
       " <a href=\"/search?q=%ED%95%9C%EA%B8%80+2010&amp;sa=X&amp;ved=0ahUKEwiw-ojq_aTcAhXUdN4KHRX9AIQQ1QII8AEoAg\">한글 2010</a>,\n",
       " <a href=\"/search?q=%ED%95%9C%EA%B8%80+2018&amp;sa=X&amp;ved=0ahUKEwiw-ojq_aTcAhXUdN4KHRX9AIQQ1QII8QEoAw\">한글 2018</a>,\n",
       " <a href=\"/search?q=%ED%95%9C%EA%B8%80+%EB%8B%A4%EC%9A%B4%EB%A1%9C%EB%93%9C&amp;sa=X&amp;ved=0ahUKEwiw-ojq_aTcAhXUdN4KHRX9AIQQ1QII8gEoBA\">한글 다운로드</a>,\n",
       " <a href=\"/search?q=%ED%95%9C%EA%B8%80+2010+%EB%8B%A4%EC%9A%B4&amp;sa=X&amp;ved=0ahUKEwiw-ojq_aTcAhXUdN4KHRX9AIQQ1QII8wEoBQ\">한글 2010 다운</a>,\n",
       " <a href=\"/search?q=%ED%95%9C%EA%B8%80%EA%B3%BC%EC%BB%B4%ED%93%A8%ED%84%B0&amp;sa=X&amp;ved=0ahUKEwiw-ojq_aTcAhXUdN4KHRX9AIQQ1QII9AEoBg\">한글과컴퓨터</a>,\n",
       " <a href=\"/search?q=%ED%95%9C%EA%B8%80+2017&amp;sa=X&amp;ved=0ahUKEwiw-ojq_aTcAhXUdN4KHRX9AIQQ1QII9QEoBw\">한글 2017</a>,\n",
       " <a href=\"/search?q=%ED%95%9C%EA%B8%80+2010+%EC%84%A4%EC%B9%98&amp;sa=X&amp;ved=0ahUKEwiw-ojq_aTcAhXUdN4KHRX9AIQQ1QII9gEoCA\">한글 2010 설치</a>,\n",
       " <a href=\"/search?q=%ED%95%9C%EA%B8%80+2016+%EB%AC%B4%EB%A3%8C%EC%84%A4%EC%B9%98&amp;sa=X&amp;ved=0ahUKEwiw-ojq_aTcAhXUdN4KHRX9AIQQ1QII9wEoCQ\">한글 2016 무료설치</a>,\n",
       " <a aria-label=\"Page 2\" class=\"fl\" href=\"/search?q=%ED%95%9C%EA%B8%80&amp;ei=QUZNW_DVE9Tp-QaV-oOgCA&amp;start=10&amp;sa=N\"><span class=\"csb ch\" style=\"background:url(/images/nav_logo242.png) no-repeat;background-position:-74px 0;width:20px\"></span>2</a>,\n",
       " <a aria-label=\"Page 3\" class=\"fl\" href=\"/search?q=%ED%95%9C%EA%B8%80&amp;ei=QUZNW_DVE9Tp-QaV-oOgCA&amp;start=20&amp;sa=N\"><span class=\"csb ch\" style=\"background:url(/images/nav_logo242.png) no-repeat;background-position:-74px 0;width:20px\"></span>3</a>,\n",
       " <a aria-label=\"Page 4\" class=\"fl\" href=\"/search?q=%ED%95%9C%EA%B8%80&amp;ei=QUZNW_DVE9Tp-QaV-oOgCA&amp;start=30&amp;sa=N\"><span class=\"csb ch\" style=\"background:url(/images/nav_logo242.png) no-repeat;background-position:-74px 0;width:20px\"></span>4</a>,\n",
       " <a aria-label=\"Page 5\" class=\"fl\" href=\"/search?q=%ED%95%9C%EA%B8%80&amp;ei=QUZNW_DVE9Tp-QaV-oOgCA&amp;start=40&amp;sa=N\"><span class=\"csb ch\" style=\"background:url(/images/nav_logo242.png) no-repeat;background-position:-74px 0;width:20px\"></span>5</a>,\n",
       " <a aria-label=\"Page 6\" class=\"fl\" href=\"/search?q=%ED%95%9C%EA%B8%80&amp;ei=QUZNW_DVE9Tp-QaV-oOgCA&amp;start=50&amp;sa=N\"><span class=\"csb ch\" style=\"background:url(/images/nav_logo242.png) no-repeat;background-position:-74px 0;width:20px\"></span>6</a>,\n",
       " <a aria-label=\"Page 7\" class=\"fl\" href=\"/search?q=%ED%95%9C%EA%B8%80&amp;ei=QUZNW_DVE9Tp-QaV-oOgCA&amp;start=60&amp;sa=N\"><span class=\"csb ch\" style=\"background:url(/images/nav_logo242.png) no-repeat;background-position:-74px 0;width:20px\"></span>7</a>,\n",
       " <a aria-label=\"Page 8\" class=\"fl\" href=\"/search?q=%ED%95%9C%EA%B8%80&amp;ei=QUZNW_DVE9Tp-QaV-oOgCA&amp;start=70&amp;sa=N\"><span class=\"csb ch\" style=\"background:url(/images/nav_logo242.png) no-repeat;background-position:-74px 0;width:20px\"></span>8</a>,\n",
       " <a aria-label=\"Page 9\" class=\"fl\" href=\"/search?q=%ED%95%9C%EA%B8%80&amp;ei=QUZNW_DVE9Tp-QaV-oOgCA&amp;start=80&amp;sa=N\"><span class=\"csb ch\" style=\"background:url(/images/nav_logo242.png) no-repeat;background-position:-74px 0;width:20px\"></span>9</a>,\n",
       " <a aria-label=\"Page 10\" class=\"fl\" href=\"/search?q=%ED%95%9C%EA%B8%80&amp;ei=QUZNW_DVE9Tp-QaV-oOgCA&amp;start=90&amp;sa=N\"><span class=\"csb ch\" style=\"background:url(/images/nav_logo242.png) no-repeat;background-position:-74px 0;width:20px\"></span>10</a>,\n",
       " <a class=\"pn\" href=\"/search?q=%ED%95%9C%EA%B8%80&amp;ei=QUZNW_DVE9Tp-QaV-oOgCA&amp;start=10&amp;sa=N\" id=\"pnnext\" style=\"text-align:left\"><span class=\"csb ch\" style=\"background:url(/images/nav_logo242.png) no-repeat;background-position:-96px 0;width:71px\"></span><span style=\"display:block;margin-left:53px\">다음</span></a>,\n",
       " <a class=\"bia uh_rl\" data-ved=\"0ahUKEwiw-ojq_aTcAhXUdN4KHRX9AIQQ_B0IhAIwFA\" href=\"/imgres?imgurl=https://i.pinimg.com/originals/62/62/02/626202405f304b04493fc4b7d98a5f17.jpg&amp;imgrefurl=https://www.pinterest.com/pin/678706606315382766/&amp;h=848&amp;w=600&amp;tbnid=nZnpMJqxrvdB7M:&amp;q=%ED%95%9C%EA%B8%80&amp;tbnh=186&amp;tbnw=131&amp;usg=__WnGnNq2XgKcdZEKHLKX0rRqpRDY%3D&amp;vet=1&amp;docid=ErE1zV0tfIAH0M&amp;itg=1&amp;sa=X&amp;ved=0ahUKEwiw-ojq_aTcAhXUdN4KHRX9AIQQ_B0IhAIwFA\" id=\"nZnpMJqxrvdB7M:\" jsaction=\"fire.ivg_o\" role=\"link\" style=\"background:rgb(208,208,208);height:186px;width:131px\" tabindex=\"0\" tag=\"bia\"><g-img><img alt=\"한글에 대한 이미지 검색결과\" class=\"rISBZc M4dUYb\" data-deferred=\"1\" height=\"186\" id=\"dimg_17\" src=\"data:image/gif;base64,R0lGODlhAQABAIAAAP///////yH5BAEKAAEALAAAAAABAAEAAAICTAEAOw==\" title=\"https://www.pinterest.com/pin/678706606315382766/\" width=\"131\"/></g-img></a>,\n",
       " <a class=\"bia uh_rl\" data-ved=\"0ahUKEwiw-ojq_aTcAhXUdN4KHRX9AIQQ_h0IhgIwFQ\" href=\"/search?q=%ED%95%9C%EA%B8%80&amp;tbm=isch&amp;source=iu&amp;ictx=1&amp;fir=Xw__EdHKfQ4N2M%253A%252CWFDRqFWp6qk3-M%252C_&amp;usg=__9sQpyuH-v4RN-czGUczIUxQLHVs%3D&amp;sa=X&amp;ved=0ahUKEwiw-ojq_aTcAhXUdN4KHRX9AIQQ_h0IhgIwFQ#imgrc=Xw__EdHKfQ4N2M:\" id=\"Xw__EdHKfQ4N2M:\" jsaction=\"fire.ivg_o\" role=\"link\" style=\"background:rgb(0,0,0);height:93px;width:146px\" tabindex=\"0\" tag=\"bia\"><g-img><img alt=\"한글에 대한 이미지 검색결과\" class=\"rISBZc M4dUYb\" data-deferred=\"1\" height=\"93\" id=\"dimg_19\" src=\"data:image/gif;base64,R0lGODlhAQABAIAAAP///////yH5BAEKAAEALAAAAAABAAEAAAICTAEAOw==\" style=\"margin-right:-23px\" title=\"https://ko.wikipedia.org/wiki/%ED%95%9C%EA%B8%80\" width=\"169\"/></g-img></a>,\n",
       " <a class=\"bia uh_rl\" data-ved=\"0ahUKEwiw-ojq_aTcAhXUdN4KHRX9AIQQ_h0IiAIwFg\" href=\"/search?q=%ED%95%9C%EA%B8%80&amp;tbm=isch&amp;source=iu&amp;ictx=1&amp;fir=pFDPPy7qnZjZHM%253A%252C3wOkNsg0JI2WjM%252C_&amp;usg=__gnCZ1tIEaN16OIj4jd9Q5AZvCy0%3D&amp;sa=X&amp;ved=0ahUKEwiw-ojq_aTcAhXUdN4KHRX9AIQQ_h0IiAIwFg#imgrc=pFDPPy7qnZjZHM:\" id=\"pFDPPy7qnZjZHM:\" jsaction=\"fire.ivg_o\" role=\"link\" style=\"background:rgb(248,248,248);height:92px;width:146px\" tabindex=\"0\" tag=\"bia\"><g-img><img alt=\"한글에 대한 이미지 검색결과\" class=\"rISBZc M4dUYb\" data-deferred=\"1\" height=\"94\" id=\"dimg_21\" src=\"data:image/gif;base64,R0lGODlhAQABAIAAAP///////yH5BAEKAAEALAAAAAABAAEAAAICTAEAOw==\" title=\"https://www.korean.go.kr/hangeul/supply/001.html\" width=\"146\"/></g-img></a>,\n",
       " <a class=\"bia uh_rl\" data-ved=\"0ahUKEwiw-ojq_aTcAhXUdN4KHRX9AIQQ_h0IigIwFw\" href=\"/search?q=%ED%95%9C%EA%B8%80&amp;tbm=isch&amp;source=iu&amp;ictx=1&amp;fir=2NNu0eiO48m8RM%253A%252CbgyzKCoz2toszM%252C_&amp;usg=__PSdoN-I5kjFY3CbII60tHMT7gkM%3D&amp;sa=X&amp;ved=0ahUKEwiw-ojq_aTcAhXUdN4KHRX9AIQQ_h0IigIwFw#imgrc=2NNu0eiO48m8RM:\" id=\"2NNu0eiO48m8RM:\" jsaction=\"fire.ivg_o\" role=\"link\" style=\"background:rgb(248,245,216);height:0px;width:0px\" tabindex=\"0\" tag=\"bia\"><g-img><img alt=\"한글에 대한 이미지 검색결과\" class=\"rISBZc M4dUYb\" data-deferred=\"1\" height=\"91\" id=\"dimg_23\" src=\"data:image/gif;base64,R0lGODlhAQABAIAAAP///////yH5BAEKAAEALAAAAAABAAEAAAICTAEAOw==\" title=\"https://www.korean.go.kr/hangeul/principle/001.html\" width=\"200\"/></g-img></a>,\n",
       " <a class=\"bia uh_rl\" data-ved=\"0ahUKEwiw-ojq_aTcAhXUdN4KHRX9AIQQ_h0IjAIwGA\" href=\"/search?q=%ED%95%9C%EA%B8%80&amp;tbm=isch&amp;source=iu&amp;ictx=1&amp;fir=xYjgHt0LCRHwjM%253A%252CWFDRqFWp6qk3-M%252C_&amp;usg=__eVFRFmJ5VAzC_Q5SnpOoxlUHjHs%3D&amp;sa=X&amp;ved=0ahUKEwiw-ojq_aTcAhXUdN4KHRX9AIQQ_h0IjAIwGA#imgrc=xYjgHt0LCRHwjM:\" id=\"xYjgHt0LCRHwjM:\" jsaction=\"fire.ivg_o\" role=\"link\" style=\"background:rgb(50,50,248);height:0px;width:0px\" tabindex=\"0\" tag=\"bia\"><g-img><img alt=\"한글에 대한 이미지 검색결과\" class=\"rISBZc M4dUYb\" data-deferred=\"1\" height=\"109\" id=\"dimg_25\" src=\"data:image/gif;base64,R0lGODlhAQABAIAAAP///////yH5BAEKAAEALAAAAAABAAEAAAICTAEAOw==\" title=\"https://ko.wikipedia.org/wiki/%ED%95%9C%EA%B8%80\" width=\"200\"/></g-img></a>,\n",
       " <a class=\"bia uh_rl\" data-ved=\"0ahUKEwiw-ojq_aTcAhXUdN4KHRX9AIQQ_h0IjgIwGQ\" href=\"/search?q=%ED%95%9C%EA%B8%80&amp;tbm=isch&amp;source=iu&amp;ictx=1&amp;fir=pkMvmcOBerIx6M%253A%252Cs6uFahqPAeYsqM%252C_&amp;usg=__1ooMDYzkUkHs8D-4aTbIgJxvr2o%3D&amp;sa=X&amp;ved=0ahUKEwiw-ojq_aTcAhXUdN4KHRX9AIQQ_h0IjgIwGQ#imgrc=pkMvmcOBerIx6M:\" id=\"pkMvmcOBerIx6M:\" jsaction=\"fire.ivg_o\" role=\"link\" style=\"background:rgb(200,197,181);height:0px;width:0px\" tabindex=\"0\" tag=\"bia\"><g-img><img alt=\"한글에 대한 이미지 검색결과\" class=\"rISBZc M4dUYb\" data-deferred=\"1\" height=\"146\" id=\"dimg_27\" src=\"data:image/gif;base64,R0lGODlhAQABAIAAAP///////yH5BAEKAAEALAAAAAABAAEAAAICTAEAOw==\" title=\"http://www.hani.co.kr/arti/society/schooling/813581.html\" width=\"200\"/></g-img></a>,\n",
       " <a class=\"bia uh_rl\" data-ved=\"0ahUKEwiw-ojq_aTcAhXUdN4KHRX9AIQQ_h0IkAIwGg\" href=\"/search?q=%ED%95%9C%EA%B8%80&amp;tbm=isch&amp;source=iu&amp;ictx=1&amp;fir=hz552TU_uP5yJM%253A%252CWFDRqFWp6qk3-M%252C_&amp;usg=__pJF2O396Jjpl8PTrerOeTKijSgI%3D&amp;sa=X&amp;ved=0ahUKEwiw-ojq_aTcAhXUdN4KHRX9AIQQ_h0IkAIwGg#imgrc=hz552TU_uP5yJM:\" id=\"hz552TU_uP5yJM:\" jsaction=\"fire.ivg_o\" role=\"link\" style=\"background:rgb(50,50,248);height:0px;width:0px\" tabindex=\"0\" tag=\"bia\"><g-img><img alt=\"한글에 대한 이미지 검색결과\" class=\"rISBZc M4dUYb\" data-deferred=\"1\" height=\"200\" id=\"dimg_29\" src=\"data:image/gif;base64,R0lGODlhAQABAIAAAP///////yH5BAEKAAEALAAAAAABAAEAAAICTAEAOw==\" title=\"https://ko.wikipedia.org/wiki/%ED%95%9C%EA%B8%80\" width=\"200\"/></g-img></a>,\n",
       " <a class=\"fl\" href=\"/search?q=%ED%95%9C%EA%B8%80&amp;tbm=isch&amp;tbo=u&amp;source=univ&amp;sa=X&amp;ved=0ahUKEwiw-ojq_aTcAhXUdN4KHRX9AIQQiR4IkQI\">이미지 더보기</a>,\n",
       " <a class=\"q ruhjFe NJLBac fl\" data-ved=\"0ahUKEwiw-ojq_aTcAhXUdN4KHRX9AIQQmhMInwIwHA\" href=\"https://ko.wikipedia.org/wiki/%ED%95%9C%EA%B8%80\" ping=\"/url?sa=t&amp;source=web&amp;rct=j&amp;url=https://ko.wikipedia.org/wiki/%25ED%2595%259C%25EA%25B8%2580&amp;ved=0ahUKEwiw-ojq_aTcAhXUdN4KHRX9AIQQmhMInwIwHA\">위키백과</a>,\n",
       " <a data-ved=\"0ahUKEwiw-ojq_aTcAhXUdN4KHRX9AIQQMQiiAigAMB4\" href=\"/search?q=%ED%95%9C%EA%B8%80&amp;stick=H4sIAAAAAAAAAONgFuLQz9U3MC6yNFCCs7SEs5Ot9JPzc3Pz86yKM1NSyxMriwGEo2nwKwAAAA&amp;sa=X&amp;ved=0ahUKEwiw-ojq_aTcAhXUdN4KHRX9AIQQMQiiAigAMB4\">관련 검색어</a>,\n",
       " <a class=\"EbH0bb\" href=\"/search?q=%ED%95%9C%EA%B8%80&amp;stick=H4sIAAAAAAAAAONgFuLQz9U3MC6yNFCCs7SEs5Ot9JPzc3Pz86yKM1NSyxMriwGEo2nwKwAAAA&amp;sa=X&amp;ved=0ahUKEwiw-ojq_aTcAhXUdN4KHRX9AIQQzToIowIoATAe\"><span class=\"rhsg3\">10개 이상 항목 더보기</span><span class=\"rhsl4\">10개 이상 항목 보기</span></a>,\n",
       " <a data-ved=\"0ahUKEwiw-ojq_aTcAhXUdN4KHRX9AIQQxA0IpgIwHg\" href=\"/search?q=%ED%9E%88%EB%9D%BC%EA%B0%80%EB%82%98&amp;stick=H4sIAAAAAAAAAONgFuLQz9U3MC6yNFCCsHIsK7X4nPNzc_PzgjNTUssTK4sBcnchQSYAAAA&amp;sa=X&amp;ved=0ahUKEwiw-ojq_aTcAhXUdN4KHRX9AIQQxA0IpgIwHg\" title=\"히라가나\"><div class=\"XQ6p1d\"><g-img><img alt=\"히라가나\" class=\"rISBZc M4dUYb\" data-deferred=\"1\" height=\"72\" id=\"dimg_31\" src=\"data:image/gif;base64,R0lGODlhAQABAIAAAP///////yH5BAEKAAEALAAAAAABAAEAAAICTAEAOw==\" width=\"72\"/></g-img></div><div class=\"fl ellip oBrLN\" data-original-name=\"히라가나\">히라가나</div></a>,\n",
       " <a data-ved=\"0ahUKEwiw-ojq_aTcAhXUdN4KHRX9AIQQxA0IqAIwHg\" href=\"/search?q=%ED%95%9C%EA%B5%AD+%ED%95%9C%EC%9E%90&amp;stick=H4sIAAAAAAAAAONgFuLQz9U3MC6yNFDiBLEMTSpL0rT4nPNzc_PzgjNTUssTK4sBHRZtuycAAAA&amp;sa=X&amp;ved=0ahUKEwiw-ojq_aTcAhXUdN4KHRX9AIQQxA0IqAIwHg\" title=\"한국어의 한자\"><div class=\"XQ6p1d\"><g-img><img alt=\"한국어의 한자\" class=\"rISBZc M4dUYb\" data-deferred=\"1\" height=\"72\" id=\"dimg_33\" src=\"data:image/gif;base64,R0lGODlhAQABAIAAAP///////yH5BAEKAAEALAAAAAABAAEAAAICTAEAOw==\" width=\"72\"/></g-img></div><div class=\"fl ellip oBrLN\" data-original-name=\"한국어의 한자\">한국어의 한자</div></a>,\n",
       " <a data-ved=\"0ahUKEwiw-ojq_aTcAhXUdN4KHRX9AIQQxA0IqgIwHg\" href=\"/search?q=%ED%95%9C%EC%9E%90&amp;stick=H4sIAAAAAAAAAONgFuLQz9U3MC6yNFACs3Jzq5K0-Jzzc3Pz84IzU1LLEyuLARuX1agmAAAA&amp;sa=X&amp;ved=0ahUKEwiw-ojq_aTcAhXUdN4KHRX9AIQQxA0IqgIwHg\" title=\"한자\"><div class=\"XQ6p1d\"><g-img><img alt=\"한자\" class=\"rISBZc M4dUYb\" data-deferred=\"1\" height=\"72\" id=\"dimg_35\" src=\"data:image/gif;base64,R0lGODlhAQABAIAAAP///////yH5BAEKAAEALAAAAAABAAEAAAICTAEAOw==\" width=\"72\"/></g-img></div><div class=\"fl ellip oBrLN\" data-original-name=\"한자\">한자</div></a>,\n",
       " <a data-ved=\"0ahUKEwiw-ojq_aTcAhXUdN4KHRX9AIQQxA0IrAIwHg\" href=\"/search?q=%EC%9D%BC%EB%B3%B8%EC%96%B4%EC%9D%98+%ED%95%9C%EC%9E%90&amp;stick=H4sIAAAAAAAAAONgFuLQz9U3MC6yNFACsyyTSwy1-Jzzc3Pz84IzU1LLEyuLAWPU26cmAAAA&amp;sa=X&amp;ved=0ahUKEwiw-ojq_aTcAhXUdN4KHRX9AIQQxA0IrAIwHg\" title=\"일본어의 한자\"><div class=\"XQ6p1d\"><g-img><img alt=\"일본어의 한자\" class=\"rISBZc M4dUYb\" data-deferred=\"1\" height=\"72\" id=\"dimg_37\" src=\"data:image/gif;base64,R0lGODlhAQABAIAAAP///////yH5BAEKAAEALAAAAAABAAEAAAICTAEAOw==\" width=\"72\"/></g-img></div><div class=\"fl ellip oBrLN\" data-original-name=\"일본어의 한자\">일본어의 한자</div></a>,\n",
       " <a data-ved=\"0ahUKEwiw-ojq_aTcAhXUdN4KHRX9AIQQxA0IrgIwHg\" href=\"/search?q=%EC%9D%BC%EB%B3%B8%EC%96%B4+%EB%A1%9C%EB%A7%88%EC%9E%90+%ED%91%9C%EA%B8%B0%EB%B2%95&amp;stick=H4sIAAAAAAAAAONgFuLQz9U3MC6yNFACs8yyc420-Jzzc3Pz84IzU1LLEyuLAbam31cmAAAA&amp;sa=X&amp;ved=0ahUKEwiw-ojq_aTcAhXUdN4KHRX9AIQQxA0IrgIwHg\" title=\"일본어 로마자 표기법\"><div class=\"XQ6p1d\"><g-img><img alt=\"일본어 로마자 표기법\" class=\"rISBZc M4dUYb\" data-deferred=\"1\" height=\"72\" id=\"dimg_39\" src=\"data:image/gif;base64,R0lGODlhAQABAIAAAP///////yH5BAEKAAEALAAAAAABAAEAAAICTAEAOw==\" width=\"72\"/></g-img></div><div class=\"fl ellip oBrLN\" data-original-name=\"일본어 로마자 표기법\">일본어 로마자 표기법</div></a>,\n",
       " <a data-ved=\"0ahUKEwiw-ojq_aTcAhXUdN4KHRX9AIQQxA0IsAIwHg\" href=\"/search?q=%EA%B0%80%ED%83%80%EC%B9%B4%EB%82%98&amp;stick=H4sIAAAAAAAAAONgFuLQz9U3MC6yNFACs0wskwq0-Jzzc3Pz84IzU1LLEyuLAbJQ6sgmAAAA&amp;sa=X&amp;ved=0ahUKEwiw-ojq_aTcAhXUdN4KHRX9AIQQxA0IsAIwHg\" title=\"가타카나\"><div class=\"XQ6p1d\"><g-img><img alt=\"가타카나\" class=\"rISBZc M4dUYb\" data-deferred=\"1\" height=\"72\" id=\"dimg_41\" src=\"data:image/gif;base64,R0lGODlhAQABAIAAAP///////yH5BAEKAAEALAAAAAABAAEAAAICTAEAOw==\" width=\"72\"/></g-img></div><div class=\"fl ellip oBrLN\" data-original-name=\"가타카나\">가타카나</div></a>,\n",
       " <a class=\"duf3\" data-async-trigger=\"duf3-2-20\" data-ved=\"0ahUKEwiw-ojq_aTcAhXUdN4KHRX9AIQQtw8IsgI\" href=\"#\" jsaction=\"async.u\">사용자 의견</a>,\n",
       " <a class=\"M3LVze\" data-ved=\"0ahUKEwiw-ojq_aTcAhXUdN4KHRX9AIQQ6RMItwIwIA\" href=\"/search?q=%ED%95%9C/%EA%B8%80&amp;stick=H4sIAAAAAAAAAONgecTozC3w8sc9YSmrSWtOXmM04eIKzsgvd80rySypFFLjYoOyZLh4pTj1c_UNLNILcys0GKS4uRBcHgCSxv85SAAAAA&amp;sa=X&amp;ved=0ahUKEwiw-ojq_aTcAhXUdN4KHRX9AIQQ6RMItwIwIA\"><div class=\"y8Jpof rhsvw\"><div class=\"o3mT7\"><div class=\"thumb\" style=\"overflow:hidden;width:72px;height:72px\"><g-img><img alt=\"\" class=\"rISBZc M4dUYb\" data-deferred=\"1\" height=\"72\" id=\"uid_5\" src=\"data:image/gif;base64,R0lGODlhAQABAIAAAP///////yH5BAEKAAEALAAAAAABAAEAAAICTAEAOw==\" width=\"72\"/></g-img></div></div><div class=\"k4DMHe\"><div class=\"RJn8N xXEKkb ellip\">한/글</div><div class=\"izHQgf cwUqwd\"><span class=\"rhsl4\">한/글은 한글과컴퓨터에서 개발된 워드 프로세서이다. 한글 카드나 PC ...</span><span class=\"rhsl5 rhsg3\">한/글은 한글과컴퓨터에서 개발된 워드 프로세서이다. 한글 카드나 PC ...</span><span class=\"rhsg4\">한/글은 한글과컴퓨터에서 개발된 워드 프로세서이다. 한글 카드나 PC 기종에 구애받던 한글 ...</span></div></div></div></a>,\n",
       " <a data-ved=\"0ahUKEwiw-ojq_aTcAhXUdN4KHRX9AIQQpLkCCLkC\" href=\"#\" id=\"swml-upd\"></a>,\n",
       " <a href=\"https://support.google.com/websearch?p=ws_settings_location&amp;hl=ko\" ping=\"/url?sa=t&amp;source=web&amp;rct=j&amp;url=https://support.google.com/websearch%3Fp%3Dws_settings_location%26hl%3Dko&amp;ved=0ahUKEwiw-ojq_aTcAhXUdN4KHRX9AIQQty4IugI\">자세히 알아보기</a>,\n",
       " <a class=\"Fx4vi\" href=\"//support.google.com/websearch/?p=ws_results_help&amp;hl=ko&amp;fg=1\">도움말</a>,\n",
       " <a class=\"Fx4vi\" data-bucket=\"websearch\" data-ved=\"0ahUKEwiw-ojq_aTcAhXUdN4KHRX9AIQQLgi7Ag\" href=\"#\" id=\"dk2qOd\" jsaction=\"gf.sf\" target=\"_blank\">의견 보내기</a>,\n",
       " <a class=\"Fx4vi\" href=\"//www.google.co.kr/intl/ko_kr/policies/privacy/?fg=1\">개인정보처리방침</a>,\n",
       " <a class=\"Fx4vi\" href=\"//www.google.co.kr/intl/ko_kr/policies/terms/?fg=1\">약관</a>,\n",
       " <a class=\"gb_O\" data-pid=\"192\" href=\"https://myaccount.google.com/?utm_source=OGB&amp;utm_medium=app\" id=\"gb192\"><div class=\"gb_2\"></div><div class=\"gb_3\"></div><div class=\"gb_4\"></div><div class=\"gb_5\"></div><span class=\"gb_W\" style=\"background-position:0 -345px\"></span><span class=\"gb_X\">Google 계정</span></a>,\n",
       " <a class=\"gb_O\" data-pid=\"1\" href=\"https://www.google.co.kr/webhp?tab=ww\" id=\"gb1\"><div class=\"gb_2\"></div><div class=\"gb_3\"></div><div class=\"gb_4\"></div><div class=\"gb_5\"></div><span class=\"gb_W\" style=\"background-position:0 -69px\"></span><span class=\"gb_X\">검색</span></a>,\n",
       " <a class=\"gb_O\" data-pid=\"8\" href=\"https://maps.google.co.kr/maps?hl=ko&amp;tab=wl\" id=\"gb8\"><div class=\"gb_2\"></div><div class=\"gb_3\"></div><div class=\"gb_4\"></div><div class=\"gb_5\"></div><span class=\"gb_W\" style=\"background-position:0 -1242px\"></span><span class=\"gb_X\">지도</span></a>,\n",
       " <a class=\"gb_O\" data-pid=\"36\" href=\"https://www.youtube.com/?gl=KR\" id=\"gb36\"><div class=\"gb_2\"></div><div class=\"gb_3\"></div><div class=\"gb_4\"></div><div class=\"gb_5\"></div><span class=\"gb_W\" style=\"background-position:0 -1380px\"></span><span class=\"gb_X\">YouTube</span></a>,\n",
       " <a class=\"gb_O\" data-pid=\"78\" href=\"https://play.google.com/?hl=ko&amp;tab=w8\" id=\"gb78\"><div class=\"gb_2\"></div><div class=\"gb_3\"></div><div class=\"gb_4\"></div><div class=\"gb_5\"></div><span class=\"gb_W\" style=\"background-position:0 -1104px\"></span><span class=\"gb_X\">Play</span></a>,\n",
       " <a class=\"gb_O\" data-pid=\"5\" href=\"https://news.google.co.kr/nwshp?hl=ko&amp;tab=wn\" id=\"gb5\"><div class=\"gb_2\"></div><div class=\"gb_3\"></div><div class=\"gb_4\"></div><div class=\"gb_5\"></div><span class=\"gb_W\" style=\"background-position:0 -1725px\"></span><span class=\"gb_X\">뉴스</span></a>,\n",
       " <a class=\"gb_O\" data-pid=\"23\" href=\"https://mail.google.com/mail/?tab=wm\" id=\"gb23\"><div class=\"gb_2\"></div><div class=\"gb_3\"></div><div class=\"gb_4\"></div><div class=\"gb_5\"></div><span class=\"gb_W\" style=\"background-position:0 -1587px\"></span><span class=\"gb_X\">Gmail</span></a>,\n",
       " <a class=\"gb_O\" data-pid=\"53\" href=\"https://www.google.com/contacts/?hl=ko&amp;tab=wC\" id=\"gb53\"><div class=\"gb_2\"></div><div class=\"gb_3\"></div><div class=\"gb_4\"></div><div class=\"gb_5\"></div><span class=\"gb_W\" style=\"background-position:0 -2346px\"></span><span class=\"gb_X\">주소록</span></a>,\n",
       " <a class=\"gb_O\" data-pid=\"49\" href=\"https://drive.google.com/?tab=wo\" id=\"gb49\"><div class=\"gb_2\"></div><div class=\"gb_3\"></div><div class=\"gb_4\"></div><div class=\"gb_5\"></div><span class=\"gb_W\" style=\"background-position:0 -1794px\"></span><span class=\"gb_X\">드라이브</span></a>,\n",
       " <a class=\"gb_O\" data-pid=\"24\" href=\"https://www.google.com/calendar?tab=wc\" id=\"gb24\"><div class=\"gb_2\"></div><div class=\"gb_3\"></div><div class=\"gb_4\"></div><div class=\"gb_5\"></div><span class=\"gb_W\" style=\"background-position:0 -828px\"></span><span class=\"gb_X\">캘린더</span></a>,\n",
       " <a class=\"gb_O\" data-pid=\"119\" href=\"https://plus.google.com/?gpsrc=ogpy0&amp;tab=wX\" id=\"gb119\"><div class=\"gb_2\"></div><div class=\"gb_3\"></div><div class=\"gb_4\"></div><div class=\"gb_5\"></div><span class=\"gb_W\" style=\"background-position:0 -1863px\"></span><span class=\"gb_X\">Google+</span></a>,\n",
       " <a class=\"gb_O\" data-pid=\"51\" href=\"https://translate.google.co.kr/?hl=ko&amp;tab=wT\" id=\"gb51\"><div class=\"gb_2\"></div><div class=\"gb_3\"></div><div class=\"gb_4\"></div><div class=\"gb_5\"></div><span class=\"gb_W\" style=\"background-position:0 -1035px\"></span><span class=\"gb_X\">번역</span></a>,\n",
       " <a class=\"gb_O\" data-pid=\"31\" href=\"https://photos.google.com/?tab=wq&amp;pageId=none\" id=\"gb31\"><div class=\"gb_2\"></div><div class=\"gb_3\"></div><div class=\"gb_4\"></div><div class=\"gb_5\"></div><span class=\"gb_W\" style=\"background-position:0 -138px\"></span><span class=\"gb_X\">사진</span></a>,\n",
       " <a aria-label=\"Google 앱 더보기\" class=\"gb_ea gb_1f\" href=\"https://www.google.co.kr/intl/ko/options/\">더보기</a>,\n",
       " <a class=\"gb_O\" data-pid=\"25\" href=\"https://docs.google.com/document/?usp=docs_alc\" id=\"gb25\"><div class=\"gb_2\"></div><div class=\"gb_3\"></div><div class=\"gb_4\"></div><div class=\"gb_5\"></div><span class=\"gb_W\" style=\"background-position:0 -2001px\"></span><span class=\"gb_X\">문서</span></a>,\n",
       " <a class=\"gb_O\" data-pid=\"10\" href=\"https://books.google.co.kr/bkshp?hl=ko&amp;tab=wp\" id=\"gb10\"><div class=\"gb_2\"></div><div class=\"gb_3\"></div><div class=\"gb_4\"></div><div class=\"gb_5\"></div><span class=\"gb_W\" style=\"background-position:0 -1449px\"></span><span class=\"gb_X\">도서</span></a>,\n",
       " <a class=\"gb_O\" data-pid=\"30\" href=\"https://www.blogger.com/?tab=wj\" id=\"gb30\"><div class=\"gb_2\"></div><div class=\"gb_3\"></div><div class=\"gb_4\"></div><div class=\"gb_5\"></div><span class=\"gb_W\" style=\"background-position:0 -207px\"></span><span class=\"gb_X\">Blogger</span></a>,\n",
       " <a class=\"gb_O\" data-pid=\"300\" href=\"https://hangouts.google.com/\" id=\"gb300\"><div class=\"gb_2\"></div><div class=\"gb_3\"></div><div class=\"gb_4\"></div><div class=\"gb_5\"></div><span class=\"gb_W\" style=\"background-position:0 -966px\"></span><span class=\"gb_X\">행아웃</span></a>,\n",
       " <a class=\"gb_O\" data-pid=\"136\" href=\"https://keep.google.com/\" id=\"gb136\"><div class=\"gb_2\"></div><div class=\"gb_3\"></div><div class=\"gb_4\"></div><div class=\"gb_5\"></div><span class=\"gb_M\"></span><span class=\"gb_X\">Keep</span></a>,\n",
       " <a class=\"gb_O\" data-pid=\"429\" href=\"https://earth.google.com/web/\" id=\"gb429\"><div class=\"gb_2\"></div><div class=\"gb_3\"></div><div class=\"gb_4\"></div><div class=\"gb_5\"></div><span class=\"gb_W\" style=\"background-position:0 -2139px\"></span><span class=\"gb_X\">어스</span></a>,\n",
       " <a class=\"gb_fa gb_Vf\" href=\"https://www.google.co.kr/intl/ko/options/\">Google 제품 모두 보기</a>]"
      ]
     },
     "execution_count": 49,
     "metadata": {},
     "output_type": "execute_result"
    }
   ],
   "source": [
    "dom.select(\"a\")"
   ]
  },
  {
   "cell_type": "code",
   "execution_count": 50,
   "metadata": {},
   "outputs": [
    {
     "data": {
      "text/plain": [
       "[<div class=\"rc\"><h3 class=\"r\"><a href=\"http://www.hancom.com/downLoad.downPU.do\" ping=\"/url?sa=t&amp;source=web&amp;rct=j&amp;url=http://www.hancom.com/downLoad.downPU.do&amp;ved=0ahUKEwiw-ojq_aTcAhXUdN4KHRX9AIQQFgglMAA\">다운로드 : 한글과컴퓨터 - Hancom</a></h3><div class=\"s\"><div><div class=\"f hJND5c TbwUpd\" style=\"white-space:nowrap\"><cite class=\"iUh30\">www.hancom.com/downLoad.downPU.do</cite><div class=\"action-menu ab_ctl\"><a aria-expanded=\"false\" aria-haspopup=\"true\" aria-label=\"검색결과 옵션\" class=\"GHDvEf ab_button\" data-ved=\"0ahUKEwiw-ojq_aTcAhXUdN4KHRX9AIQQ7B0IJjAA\" href=\"#\" id=\"am-b0\" jsaction=\"m.tdd;keydown:m.hbke;keypress:m.mskpe\" role=\"button\"><span class=\"mn-dwn-arw\"></span></a><div class=\"action-menu-panel ab_dropdown\" data-ved=\"0ahUKEwiw-ojq_aTcAhXUdN4KHRX9AIQQqR8IJzAA\" jsaction=\"keydown:m.hdke;mouseover:m.hdhne;mouseout:m.hdhue\" role=\"menu\" tabindex=\"-1\"><ol><li class=\"action-menu-item ab_dropdownitem\" role=\"menuitem\"><a class=\"fl\" href=\"http://webcache.googleusercontent.com/search?q=cache:G9zYJhBtY5UJ:www.hancom.com/downLoad.downPU.do+&amp;cd=1&amp;hl=ko&amp;ct=clnk&amp;gl=kr\" ping=\"/url?sa=t&amp;source=web&amp;rct=j&amp;url=http://webcache.googleusercontent.com/search%3Fq%3Dcache:G9zYJhBtY5UJ:www.hancom.com/downLoad.downPU.do%2B%26cd%3D1%26hl%3Dko%26ct%3Dclnk%26gl%3Dkr&amp;ved=0ahUKEwiw-ojq_aTcAhXUdN4KHRX9AIQQIAgoMAA\">저장된 페이지</a></li></ol></div></div></div><span class=\"st\">한컴오피스 뷰어'와 '<em>한글</em> 뷰어'는 운영체제 또는 장치에 관계없이 언제 어디서나 자유로운 문서 열기 환경을 제공합니다. 사용권 및 저작권 안내 보기 ...</span></div></div><div class=\"r-iYkCjNrh1YaE\" data-ved=\"0ahUKEwiw-ojq_aTcAhXUdN4KHRX9AIQQ2Z0BCCkwAA\" jsl=\"$t t--ddbPTeIsNI;$x 0;\"><div class=\"AUiS2 iYkCjNrh1YaE-7_jVsFT_9Io\" data-ved=\"0ahUKEwiw-ojq_aTcAhXUdN4KHRX9AIQQx40DCCowAA\" id=\"eobm_0\"><div class=\"iYkCjNrh1YaE-uhagcrfPmuU\" id=\"eobd_0\" style=\"display:none\"><div data-ved=\"0ahUKEwiw-ojq_aTcAhXUdN4KHRX9AIQQsKwBCCsoADAA\">한컴오피스 2018 크랙</div><div data-ved=\"0ahUKEwiw-ojq_aTcAhXUdN4KHRX9AIQQsKwBCCwoATAA\">한글 2010 설치</div><div data-ved=\"0ahUKEwiw-ojq_aTcAhXUdN4KHRX9AIQQsKwBCC0oAjAA\">한컴오피스 neo 크랙</div><div data-ved=\"0ahUKEwiw-ojq_aTcAhXUdN4KHRX9AIQQsKwBCC4oAzAA\">한글 2010 시리얼</div><div data-ved=\"0ahUKEwiw-ojq_aTcAhXUdN4KHRX9AIQQsKwBCC8oBDAA\">한컴오피스 2018 제품번호</div><div data-ved=\"0ahUKEwiw-ojq_aTcAhXUdN4KHRX9AIQQsKwBCDAoBTAA\">한컴오피스 2014 학교용</div></div><span aria-label=\"추천 후속 작업을 닫습니다.\" class=\"XCKyNd\" data-rtid=\"iYkCjNrh1YaE\" id=\"eobs_0\" jsaction=\"r.pz0qjfJrMDo\" jsl=\"$x 2;\" role=\"button\" tabindex=\"0\"></span><div><div class=\"d8lLoc iYkCjNrh1YaE-eEjGhTK0s34\" id=\"eobc_0\"><h4 class=\"eJ7tvc iYkCjNrh1YaE-ZgH0LU9o8RU\" id=\"eobp_0\">함께 검색한 항목</h4><div class=\"hYkSRb iYkCjNrh1YaE-ICxnu-SGsqE\" id=\"eobr_0\"></div></div></div></div></div></div>,\n",
       " <div class=\"rc\"><h3 class=\"r\"><a href=\"https://www.hancom.com/product/productWindowsMain.do\" ping=\"/url?sa=t&amp;source=web&amp;rct=j&amp;url=https://www.hancom.com/product/productWindowsMain.do&amp;ved=0ahUKEwiw-ojq_aTcAhXUdN4KHRX9AIQQFggyMAE\">Windows : 한글과컴퓨터 - Hancom</a></h3><div class=\"s\"><div><div class=\"f hJND5c TbwUpd\" style=\"white-space:nowrap\"><cite class=\"iUh30\">https://www.hancom.com/product/productWindowsMain.do</cite><div class=\"action-menu ab_ctl\"><a aria-expanded=\"false\" aria-haspopup=\"true\" aria-label=\"검색결과 옵션\" class=\"GHDvEf ab_button\" data-ved=\"0ahUKEwiw-ojq_aTcAhXUdN4KHRX9AIQQ7B0IMzAB\" href=\"#\" id=\"am-b1\" jsaction=\"m.tdd;keydown:m.hbke;keypress:m.mskpe\" role=\"button\"><span class=\"mn-dwn-arw\"></span></a><div class=\"action-menu-panel ab_dropdown\" data-ved=\"0ahUKEwiw-ojq_aTcAhXUdN4KHRX9AIQQqR8INDAB\" jsaction=\"keydown:m.hdke;mouseover:m.hdhne;mouseout:m.hdhue\" role=\"menu\" tabindex=\"-1\"><ol><li class=\"action-menu-item ab_dropdownitem\" role=\"menuitem\"><a class=\"fl\" href=\"https://webcache.googleusercontent.com/search?q=cache:c2hqAGFe1zUJ:https://www.hancom.com/product/productWindowsMain.do+&amp;cd=2&amp;hl=ko&amp;ct=clnk&amp;gl=kr\" ping=\"/url?sa=t&amp;source=web&amp;rct=j&amp;url=https://webcache.googleusercontent.com/search%3Fq%3Dcache:c2hqAGFe1zUJ:https://www.hancom.com/product/productWindowsMain.do%2B%26cd%3D2%26hl%3Dko%26ct%3Dclnk%26gl%3Dkr&amp;ved=0ahUKEwiw-ojq_aTcAhXUdN4KHRX9AIQQIAg1MAE\">저장된 페이지</a></li><li class=\"action-menu-item ab_dropdownitem\" role=\"menuitem\"><a class=\"fl\" href=\"/search?q=related:https://www.hancom.com/product/productWindowsMain.do+%ED%95%9C%EA%B8%80&amp;tbo=1&amp;sa=X&amp;ved=0ahUKEwiw-ojq_aTcAhXUdN4KHRX9AIQQHwg2MAE\">유사한 페이지</a></li></ol></div></div></div><span class=\"st\">더 스마트해진 한 글. 한컴오피스 2018 <em>한글</em>. 음성인식을 통해 말로 제어할 수 있는 한 글. 한컴 툴즈 앱을 설치한 모바일 기기와 PC를 블루투스로 연결, 키보드나 ...</span><div class=\"osl\">‎<a class=\"fl\" href=\"https://www.hancom.com/product/productMacMain.do\" ping=\"/url?sa=t&amp;source=web&amp;rct=j&amp;url=https://www.hancom.com/product/productMacMain.do&amp;ved=0ahUKEwiw-ojq_aTcAhXUdN4KHRX9AIQQ0gIIOCgAMAE\">한컴오피스 한글 2014 VP for Mac</a> · ‎<a class=\"fl\" href=\"https://www.hancom.com/goods/goodsChoice.do\" ping=\"/url?sa=t&amp;source=web&amp;rct=j&amp;url=https://www.hancom.com/goods/goodsChoice.do&amp;ved=0ahUKEwiw-ojq_aTcAhXUdN4KHRX9AIQQ0gIIOSgBMAE\">바로구매</a> · ‎<a class=\"fl\" href=\"https://www.hancom.com/product/productAndroidMain.do\" ping=\"/url?sa=t&amp;source=web&amp;rct=j&amp;url=https://www.hancom.com/product/productAndroidMain.do&amp;ved=0ahUKEwiw-ojq_aTcAhXUdN4KHRX9AIQQ0gIIOigCMAE\">Android</a></div></div></div><div class=\"r-i47gCceZ2Rv4\" data-ved=\"0ahUKEwiw-ojq_aTcAhXUdN4KHRX9AIQQ2Z0BCDswAQ\" jsl=\"$t t--ddbPTeIsNI;$x 0;\"><div class=\"AUiS2 i47gCceZ2Rv4-7_jVsFT_9Io\" data-ved=\"0ahUKEwiw-ojq_aTcAhXUdN4KHRX9AIQQx40DCDwwAQ\" id=\"eobm_1\"><div class=\"i47gCceZ2Rv4-uhagcrfPmuU\" id=\"eobd_1\" style=\"display:none\"><div data-ved=\"0ahUKEwiw-ojq_aTcAhXUdN4KHRX9AIQQsKwBCD0oADAB\">한컴오피스 2018 크랙</div><div data-ved=\"0ahUKEwiw-ojq_aTcAhXUdN4KHRX9AIQQsKwBCD4oATAB\">한컴오피스 2018 제품번호</div><div data-ved=\"0ahUKEwiw-ojq_aTcAhXUdN4KHRX9AIQQsKwBCD8oAjAB\">한컴오피스 neo</div><div data-ved=\"0ahUKEwiw-ojq_aTcAhXUdN4KHRX9AIQQsKwBCEAoAzAB\">한컴오피스 가정용</div><div data-ved=\"0ahUKEwiw-ojq_aTcAhXUdN4KHRX9AIQQsKwBCEEoBDAB\">한컴 오피스 할인</div><div data-ved=\"0ahUKEwiw-ojq_aTcAhXUdN4KHRX9AIQQsKwBCEIoBTAB\">한컴 회원 가입</div></div><span aria-label=\"추천 후속 작업을 닫습니다.\" class=\"XCKyNd\" data-rtid=\"i47gCceZ2Rv4\" id=\"eobs_1\" jsaction=\"r.pz0qjfJrMDo\" jsl=\"$x 2;\" role=\"button\" tabindex=\"0\"></span><div><div class=\"d8lLoc i47gCceZ2Rv4-eEjGhTK0s34\" id=\"eobc_1\"><h4 class=\"eJ7tvc i47gCceZ2Rv4-ZgH0LU9o8RU\" id=\"eobp_1\">함께 검색한 항목</h4><div class=\"hYkSRb i47gCceZ2Rv4-ICxnu-SGsqE\" id=\"eobr_1\"></div></div></div></div></div></div>,\n",
       " <div class=\"rc\"><h3 class=\"r\"><a href=\"https://namu.wiki/w/%ED%95%9C%EA%B8%80\" ping=\"/url?sa=t&amp;source=web&amp;rct=j&amp;url=https://namu.wiki/w/%25ED%2595%259C%25EA%25B8%2580&amp;ved=0ahUKEwiw-ojq_aTcAhXUdN4KHRX9AIQQFghEMAI\">한글 - 나무위키</a></h3><div class=\"s\"><div><div class=\"f hJND5c TbwUpd\" style=\"white-space:nowrap\"><cite class=\"iUh30\">https://namu.wiki/w/한글</cite><div class=\"action-menu ab_ctl\"><a aria-expanded=\"false\" aria-haspopup=\"true\" aria-label=\"검색결과 옵션\" class=\"GHDvEf ab_button\" data-ved=\"0ahUKEwiw-ojq_aTcAhXUdN4KHRX9AIQQ7B0IRTAC\" href=\"#\" id=\"am-b2\" jsaction=\"m.tdd;keydown:m.hbke;keypress:m.mskpe\" role=\"button\"><span class=\"mn-dwn-arw\"></span></a><div class=\"action-menu-panel ab_dropdown\" data-ved=\"0ahUKEwiw-ojq_aTcAhXUdN4KHRX9AIQQqR8IRjAC\" jsaction=\"keydown:m.hdke;mouseover:m.hdhne;mouseout:m.hdhue\" role=\"menu\" tabindex=\"-1\"><ol><li class=\"action-menu-item ab_dropdownitem\" role=\"menuitem\"><a class=\"fl\" href=\"/search?q=related:https://namu.wiki/w/%25ED%2595%259C%25EA%25B8%2580+%ED%95%9C%EA%B8%80&amp;tbo=1&amp;sa=X&amp;ved=0ahUKEwiw-ojq_aTcAhXUdN4KHRX9AIQQHwhHMAI\">유사한 페이지</a></li></ol></div></div></div><span class=\"st\">현재 쓰이는 '<em>한글</em>'이라는 이름은 창시자가 불분명하지만 대체로 주시경이 약 1912 ... <em>한글</em> 자모의 용법에는 한국어를 표기하는 것과 한국어의 발음을 표기하는 것이 ...</span><div class=\"osl\">‎<a class=\"fl\" href=\"https://namu.wiki/w/%ED%95%9C%EC%BB%B4%EC%98%A4%ED%94%BC%EC%8A%A4%20%ED%95%9C%EA%B8%80\" ping=\"/url?sa=t&amp;source=web&amp;rct=j&amp;url=https://namu.wiki/w/%25ED%2595%259C%25EC%25BB%25B4%25EC%2598%25A4%25ED%2594%25BC%25EC%258A%25A4%2520%25ED%2595%259C%25EA%25B8%2580&amp;ved=0ahUKEwiw-ojq_aTcAhXUdN4KHRX9AIQQ0gIISSgAMAI\">한컴오피스 한글</a> · ‎<a class=\"fl\" href=\"https://namu.wiki/w/%ED%95%9C%EA%B8%80/%EC%97%AD%EC%82%AC\" ping=\"/url?sa=t&amp;source=web&amp;rct=j&amp;url=https://namu.wiki/w/%25ED%2595%259C%25EA%25B8%2580/%25EC%2597%25AD%25EC%2582%25AC&amp;ved=0ahUKEwiw-ojq_aTcAhXUdN4KHRX9AIQQ0gIISigBMAI\">한글/역사</a> · ‎<a class=\"fl\" href=\"https://namu.wiki/w/%ED%95%9C%EA%B8%80%20%EC%9E%90%EB%AA%A8\" ping=\"/url?sa=t&amp;source=web&amp;rct=j&amp;url=https://namu.wiki/w/%25ED%2595%259C%25EA%25B8%2580%2520%25EC%259E%2590%25EB%25AA%25A8&amp;ved=0ahUKEwiw-ojq_aTcAhXUdN4KHRX9AIQQ0gIISygCMAI\">한글 자모</a> · ‎<a class=\"fl\" href=\"https://namu.wiki/w/%ED%95%9C%EA%B8%80/%EB%85%BC%EC%9F%81\" ping=\"/url?sa=t&amp;source=web&amp;rct=j&amp;url=https://namu.wiki/w/%25ED%2595%259C%25EA%25B8%2580/%25EB%2585%25BC%25EC%259F%2581&amp;ved=0ahUKEwiw-ojq_aTcAhXUdN4KHRX9AIQQ0gIITCgDMAI\">한글/논쟁</a></div></div></div><div class=\"r-icmt1Z6YgXrs\" data-ved=\"0ahUKEwiw-ojq_aTcAhXUdN4KHRX9AIQQ2Z0BCE0wAg\" jsl=\"$t t--ddbPTeIsNI;$x 0;\"><div class=\"AUiS2 icmt1Z6YgXrs-7_jVsFT_9Io\" data-ved=\"0ahUKEwiw-ojq_aTcAhXUdN4KHRX9AIQQx40DCE4wAg\" id=\"eobm_2\"><div class=\"icmt1Z6YgXrs-uhagcrfPmuU\" id=\"eobd_2\" style=\"display:none\"><div data-ved=\"0ahUKEwiw-ojq_aTcAhXUdN4KHRX9AIQQsKwBCE8oADAC\">한글 역사</div><div data-ved=\"0ahUKEwiw-ojq_aTcAhXUdN4KHRX9AIQQsKwBCFAoATAC\">한글의 우수성</div><div data-ved=\"0ahUKEwiw-ojq_aTcAhXUdN4KHRX9AIQQsKwBCFEoAjAC\">한글 자음</div><div data-ved=\"0ahUKEwiw-ojq_aTcAhXUdN4KHRX9AIQQsKwBCFIoAzAC\">훈민정음 발음</div><div data-ved=\"0ahUKEwiw-ojq_aTcAhXUdN4KHRX9AIQQsKwBCFMoBDAC\">옛 한글 발음</div><div data-ved=\"0ahUKEwiw-ojq_aTcAhXUdN4KHRX9AIQQsKwBCFQoBTAC\">한글 몽골 문자</div></div><span aria-label=\"추천 후속 작업을 닫습니다.\" class=\"XCKyNd\" data-rtid=\"icmt1Z6YgXrs\" id=\"eobs_2\" jsaction=\"r.pz0qjfJrMDo\" jsl=\"$x 2;\" role=\"button\" tabindex=\"0\"></span><div><div class=\"d8lLoc icmt1Z6YgXrs-eEjGhTK0s34\" id=\"eobc_2\"><h4 class=\"eJ7tvc icmt1Z6YgXrs-ZgH0LU9o8RU\" id=\"eobp_2\">함께 검색한 항목</h4><div class=\"hYkSRb icmt1Z6YgXrs-ICxnu-SGsqE\" id=\"eobr_2\"></div></div></div></div></div></div>,\n",
       " <div class=\"rc\"><h3 class=\"r\"><a href=\"https://ko.wikipedia.org/wiki/%ED%95%9C%EA%B8%80\" ping=\"/url?sa=t&amp;source=web&amp;rct=j&amp;url=https://ko.wikipedia.org/wiki/%25ED%2595%259C%25EA%25B8%2580&amp;ved=0ahUKEwiw-ojq_aTcAhXUdN4KHRX9AIQQFgh0MAs\">한글 - 위키백과, 우리 모두의 백과사전</a></h3><div class=\"s\"><div><div class=\"f hJND5c TbwUpd\" style=\"white-space:nowrap\"><cite class=\"iUh30\">https://ko.wikipedia.org/wiki/한글</cite><div class=\"action-menu ab_ctl\"><a aria-expanded=\"false\" aria-haspopup=\"true\" aria-label=\"검색결과 옵션\" class=\"GHDvEf ab_button\" data-ved=\"0ahUKEwiw-ojq_aTcAhXUdN4KHRX9AIQQ7B0IdTAL\" href=\"#\" id=\"am-b11\" jsaction=\"m.tdd;keydown:m.hbke;keypress:m.mskpe\" role=\"button\"><span class=\"mn-dwn-arw\"></span></a><div class=\"action-menu-panel ab_dropdown\" data-ved=\"0ahUKEwiw-ojq_aTcAhXUdN4KHRX9AIQQqR8IdjAL\" jsaction=\"keydown:m.hdke;mouseover:m.hdhne;mouseout:m.hdhue\" role=\"menu\" tabindex=\"-1\"><ol><li class=\"action-menu-item ab_dropdownitem\" role=\"menuitem\"><a class=\"fl\" href=\"https://webcache.googleusercontent.com/search?q=cache:WFDRqFWp6qkJ:https://ko.wikipedia.org/wiki/%25ED%2595%259C%25EA%25B8%2580+&amp;cd=12&amp;hl=ko&amp;ct=clnk&amp;gl=kr\" ping=\"/url?sa=t&amp;source=web&amp;rct=j&amp;url=https://webcache.googleusercontent.com/search%3Fq%3Dcache:WFDRqFWp6qkJ:https://ko.wikipedia.org/wiki/%2525ED%252595%25259C%2525EA%2525B8%252580%2B%26cd%3D12%26hl%3Dko%26ct%3Dclnk%26gl%3Dkr&amp;ved=0ahUKEwiw-ojq_aTcAhXUdN4KHRX9AIQQIAh3MAs\">저장된 페이지</a></li><li class=\"action-menu-item ab_dropdownitem\" role=\"menuitem\"><a class=\"fl\" href=\"/search?q=related:https://ko.wikipedia.org/wiki/%25ED%2595%259C%25EA%25B8%2580+%ED%95%9C%EA%B8%80&amp;tbo=1&amp;sa=X&amp;ved=0ahUKEwiw-ojq_aTcAhXUdN4KHRX9AIQQHwh4MAs\">유사한 페이지</a></li></ol></div></div></div><span class=\"st\"><em>한글</em>은 조선 제 4대 임금 세종이 훈민정음(訓民正音)이라는 이름으로 창제하여 1446년에 반포한 문자로, 한국어를 표기하기 위해 만들어졌다. 현재 대한민국과 조선 ...</span></div></div><div class=\"r-i97UErIpql28\" data-ved=\"0ahUKEwiw-ojq_aTcAhXUdN4KHRX9AIQQ2Z0BCHkwCw\" jsl=\"$t t--ddbPTeIsNI;$x 0;\"><div class=\"AUiS2 i97UErIpql28-7_jVsFT_9Io\" data-ved=\"0ahUKEwiw-ojq_aTcAhXUdN4KHRX9AIQQx40DCHowCw\" id=\"eobm_11\"><div class=\"i97UErIpql28-uhagcrfPmuU\" id=\"eobd_11\" style=\"display:none\"><div data-ved=\"0ahUKEwiw-ojq_aTcAhXUdN4KHRX9AIQQsKwBCHsoADAL\">한글의 우수성</div><div data-ved=\"0ahUKEwiw-ojq_aTcAhXUdN4KHRX9AIQQsKwBCHwoATAL\">한글 창제</div><div data-ved=\"0ahUKEwiw-ojq_aTcAhXUdN4KHRX9AIQQsKwBCH0oAjAL\">훈민정음 의 우수성</div><div data-ved=\"0ahUKEwiw-ojq_aTcAhXUdN4KHRX9AIQQsKwBCH4oAzAL\">한글창제의 의의</div><div data-ved=\"0ahUKEwiw-ojq_aTcAhXUdN4KHRX9AIQQsKwBCH8oBDAL\">훈민정음의 가치</div><div data-ved=\"0ahUKEwiw-ojq_aTcAhXUdN4KHRX9AIQQsKwBCIABKAUwCw\">한글날</div></div><span aria-label=\"추천 후속 작업을 닫습니다.\" class=\"XCKyNd\" data-rtid=\"i97UErIpql28\" id=\"eobs_11\" jsaction=\"r.pz0qjfJrMDo\" jsl=\"$x 2;\" role=\"button\" tabindex=\"0\"></span><div><div class=\"d8lLoc i97UErIpql28-eEjGhTK0s34\" id=\"eobc_11\"><h4 class=\"eJ7tvc i97UErIpql28-ZgH0LU9o8RU\" id=\"eobp_11\">함께 검색한 항목</h4><div class=\"hYkSRb i97UErIpql28-ICxnu-SGsqE\" id=\"eobr_11\"></div></div></div></div></div></div>,\n",
       " <div class=\"rc\"><h3 class=\"r\"><a href=\"https://ko.wikibooks.org/wiki/%ED%95%9C%EA%B5%AD%EC%96%B4_%EC%9E%85%EB%AC%B8/%ED%95%9C%EA%B8%80_%EC%9E%90%EB%AA%A8\" ping=\"/url?sa=t&amp;source=web&amp;rct=j&amp;url=https://ko.wikibooks.org/wiki/%25ED%2595%259C%25EA%25B5%25AD%25EC%2596%25B4_%25EC%259E%2585%25EB%25AC%25B8/%25ED%2595%259C%25EA%25B8%2580_%25EC%259E%2590%25EB%25AA%25A8&amp;ved=0ahUKEwiw-ojq_aTcAhXUdN4KHRX9AIQQFgixATAP\">한국어 입문/한글 자모 - 위키책</a></h3><div class=\"s\"><div><div class=\"f hJND5c TbwUpd\" style=\"white-space:nowrap\"><cite class=\"iUh30\">https://ko.wikibooks.org/wiki/한국어_입문/한글_자모</cite><div class=\"action-menu ab_ctl\"><a aria-expanded=\"false\" aria-haspopup=\"true\" aria-label=\"검색결과 옵션\" class=\"GHDvEf ab_button\" data-ved=\"0ahUKEwiw-ojq_aTcAhXUdN4KHRX9AIQQ7B0IsgEwDw\" href=\"#\" id=\"am-b15\" jsaction=\"m.tdd;keydown:m.hbke;keypress:m.mskpe\" role=\"button\"><span class=\"mn-dwn-arw\"></span></a><div class=\"action-menu-panel ab_dropdown\" data-ved=\"0ahUKEwiw-ojq_aTcAhXUdN4KHRX9AIQQqR8IswEwDw\" jsaction=\"keydown:m.hdke;mouseover:m.hdhne;mouseout:m.hdhue\" role=\"menu\" tabindex=\"-1\"><ol><li class=\"action-menu-item ab_dropdownitem\" role=\"menuitem\"><a class=\"fl\" href=\"https://webcache.googleusercontent.com/search?q=cache:pORgG4d9jF0J:https://ko.wikibooks.org/wiki/%25ED%2595%259C%25EA%25B5%25AD%25EC%2596%25B4_%25EC%259E%2585%25EB%25AC%25B8/%25ED%2595%259C%25EA%25B8%2580_%25EC%259E%2590%25EB%25AA%25A8+&amp;cd=16&amp;hl=ko&amp;ct=clnk&amp;gl=kr\" ping=\"/url?sa=t&amp;source=web&amp;rct=j&amp;url=https://webcache.googleusercontent.com/search%3Fq%3Dcache:pORgG4d9jF0J:https://ko.wikibooks.org/wiki/%2525ED%252595%25259C%2525EA%2525B5%2525AD%2525EC%252596%2525B4_%2525EC%25259E%252585%2525EB%2525AC%2525B8/%2525ED%252595%25259C%2525EA%2525B8%252580_%2525EC%25259E%252590%2525EB%2525AA%2525A8%2B%26cd%3D16%26hl%3Dko%26ct%3Dclnk%26gl%3Dkr&amp;ved=0ahUKEwiw-ojq_aTcAhXUdN4KHRX9AIQQIAi0ATAP\">저장된 페이지</a></li><li class=\"action-menu-item ab_dropdownitem\" role=\"menuitem\"><a class=\"fl\" href=\"/search?q=related:https://ko.wikibooks.org/wiki/%25ED%2595%259C%25EA%25B5%25AD%25EC%2596%25B4_%25EC%259E%2585%25EB%25AC%25B8/%25ED%2595%259C%25EA%25B8%2580_%25EC%259E%2590%25EB%25AA%25A8+%ED%95%9C%EA%B8%80&amp;tbo=1&amp;sa=X&amp;ved=0ahUKEwiw-ojq_aTcAhXUdN4KHRX9AIQQHwi1ATAP\">유사한 페이지</a></li></ol></div></div></div><span class=\"st\">ㄱ, ㄴ, ㄷ, ㄹ, ㅁ, ㅂ, ㅅ, ㅇ, ㅈ, ㅊ, ㅋ, ㅌ, ㅍ, ㅎ. 기역, 니은, 디귿, 리을, 미음, 비읍, 시옷, 이응, 지읒, 치읓, 키읔, 티읕, 피읖, 히읗 ...</span></div></div><div class=\"r-ikipFqZGmgYw\" data-ved=\"0ahUKEwiw-ojq_aTcAhXUdN4KHRX9AIQQ2Z0BCLYBMA8\" jsl=\"$t t--ddbPTeIsNI;$x 0;\"><div class=\"AUiS2 ikipFqZGmgYw-7_jVsFT_9Io\" data-ved=\"0ahUKEwiw-ojq_aTcAhXUdN4KHRX9AIQQx40DCLcBMA8\" id=\"eobm_15\"><div class=\"ikipFqZGmgYw-uhagcrfPmuU\" id=\"eobd_15\" style=\"display:none\"><div data-ved=\"0ahUKEwiw-ojq_aTcAhXUdN4KHRX9AIQQsKwBCLgBKAAwDw\">한국어 ipa</div><div data-ved=\"0ahUKEwiw-ojq_aTcAhXUdN4KHRX9AIQQsKwBCLkBKAEwDw\">한글 자음 발음</div><div data-ved=\"0ahUKEwiw-ojq_aTcAhXUdN4KHRX9AIQQsKwBCLoBKAIwDw\">ipa 변환기</div><div data-ved=\"0ahUKEwiw-ojq_aTcAhXUdN4KHRX9AIQQsKwBCLsBKAMwDw\">모음</div><div data-ved=\"0ahUKEwiw-ojq_aTcAhXUdN4KHRX9AIQQsKwBCLwBKAQwDw\">한글 모음 순서</div><div data-ved=\"0ahUKEwiw-ojq_aTcAhXUdN4KHRX9AIQQsKwBCL0BKAUwDw\">한글 자음 모음 카드</div></div><span aria-label=\"추천 후속 작업을 닫습니다.\" class=\"XCKyNd\" data-rtid=\"ikipFqZGmgYw\" id=\"eobs_15\" jsaction=\"r.pz0qjfJrMDo\" jsl=\"$x 2;\" role=\"button\" tabindex=\"0\"></span><div><div class=\"d8lLoc ikipFqZGmgYw-eEjGhTK0s34\" id=\"eobc_15\"><h4 class=\"eJ7tvc ikipFqZGmgYw-ZgH0LU9o8RU\" id=\"eobp_15\">함께 검색한 항목</h4><div class=\"hYkSRb ikipFqZGmgYw-ICxnu-SGsqE\" id=\"eobr_15\"></div></div></div></div></div></div>,\n",
       " <div class=\"rc\"><h3 class=\"r\"><a href=\"https://www.korean.go.kr/hangeul/principle/001.html\" ping=\"/url?sa=t&amp;source=web&amp;rct=j&amp;url=https://www.korean.go.kr/hangeul/principle/001.html&amp;ved=0ahUKEwiw-ojq_aTcAhXUdN4KHRX9AIQQFgi_ATAQ\">한글의 구성 - 알고 싶은 한글</a></h3><div class=\"s\"><div><div class=\"f hJND5c TbwUpd\" style=\"white-space:nowrap\"><cite class=\"iUh30\">https://www.korean.go.kr/hangeul/principle/001.html</cite><div class=\"action-menu ab_ctl\"><a aria-expanded=\"false\" aria-haspopup=\"true\" aria-label=\"검색결과 옵션\" class=\"GHDvEf ab_button\" data-ved=\"0ahUKEwiw-ojq_aTcAhXUdN4KHRX9AIQQ7B0IwAEwEA\" href=\"#\" id=\"am-b16\" jsaction=\"m.tdd;keydown:m.hbke;keypress:m.mskpe\" role=\"button\"><span class=\"mn-dwn-arw\"></span></a><div class=\"action-menu-panel ab_dropdown\" data-ved=\"0ahUKEwiw-ojq_aTcAhXUdN4KHRX9AIQQqR8IwQEwEA\" jsaction=\"keydown:m.hdke;mouseover:m.hdhne;mouseout:m.hdhue\" role=\"menu\" tabindex=\"-1\"><ol><li class=\"action-menu-item ab_dropdownitem\" role=\"menuitem\"><a class=\"fl\" href=\"https://webcache.googleusercontent.com/search?q=cache:bgyzKCoz2toJ:https://www.korean.go.kr/hangeul/principle/001.html+&amp;cd=17&amp;hl=ko&amp;ct=clnk&amp;gl=kr\" ping=\"/url?sa=t&amp;source=web&amp;rct=j&amp;url=https://webcache.googleusercontent.com/search%3Fq%3Dcache:bgyzKCoz2toJ:https://www.korean.go.kr/hangeul/principle/001.html%2B%26cd%3D17%26hl%3Dko%26ct%3Dclnk%26gl%3Dkr&amp;ved=0ahUKEwiw-ojq_aTcAhXUdN4KHRX9AIQQIAjCATAQ\">저장된 페이지</a></li><li class=\"action-menu-item ab_dropdownitem\" role=\"menuitem\"><a class=\"fl\" href=\"/search?q=related:https://www.korean.go.kr/hangeul/principle/001.html+%ED%95%9C%EA%B8%80&amp;tbo=1&amp;sa=X&amp;ved=0ahUKEwiw-ojq_aTcAhXUdN4KHRX9AIQQHwjDATAQ\">유사한 페이지</a></li></ol></div></div></div><span class=\"st\"><em>한글</em>은 이른바 음소 문자로서, 자음을 나타내는 글자와 모음을 나타내는 글자가 따로 만들어져 있다. 그런데 로마자 같은 일반적인 음소 문자와는 달리 자음자와 모음 ...</span></div></div><div class=\"r-iljGl06lpCes\" data-ved=\"0ahUKEwiw-ojq_aTcAhXUdN4KHRX9AIQQ2Z0BCMQBMBA\" jsl=\"$t t--ddbPTeIsNI;$x 0;\"><div class=\"AUiS2 iljGl06lpCes-7_jVsFT_9Io\" data-ved=\"0ahUKEwiw-ojq_aTcAhXUdN4KHRX9AIQQx40DCMUBMBA\" id=\"eobm_16\"><div class=\"iljGl06lpCes-uhagcrfPmuU\" id=\"eobd_16\" style=\"display:none\"><div data-ved=\"0ahUKEwiw-ojq_aTcAhXUdN4KHRX9AIQQsKwBCMYBKAAwEA\">자음 모음 뜻</div><div data-ved=\"0ahUKEwiw-ojq_aTcAhXUdN4KHRX9AIQQsKwBCMcBKAEwEA\">한글 자음 모음 카드</div><div data-ved=\"0ahUKEwiw-ojq_aTcAhXUdN4KHRX9AIQQsKwBCMgBKAIwEA\">한글 자음 모음표</div><div data-ved=\"0ahUKEwiw-ojq_aTcAhXUdN4KHRX9AIQQsKwBCMkBKAMwEA\">한글 모음 순서</div><div data-ved=\"0ahUKEwiw-ojq_aTcAhXUdN4KHRX9AIQQsKwBCMoBKAQwEA\">한글 자음 발음</div><div data-ved=\"0ahUKEwiw-ojq_aTcAhXUdN4KHRX9AIQQsKwBCMsBKAUwEA\">한글 자음 모음 쓰기 연습</div></div><span aria-label=\"추천 후속 작업을 닫습니다.\" class=\"XCKyNd\" data-rtid=\"iljGl06lpCes\" id=\"eobs_16\" jsaction=\"r.pz0qjfJrMDo\" jsl=\"$x 2;\" role=\"button\" tabindex=\"0\"></span><div><div class=\"d8lLoc iljGl06lpCes-eEjGhTK0s34\" id=\"eobc_16\"><h4 class=\"eJ7tvc iljGl06lpCes-ZgH0LU9o8RU\" id=\"eobp_16\">함께 검색한 항목</h4><div class=\"hYkSRb iljGl06lpCes-ICxnu-SGsqE\" id=\"eobr_16\"></div></div></div></div></div></div>,\n",
       " <div class=\"rc\"><h3 class=\"r\"><a href=\"https://www1.president.go.kr/petitions/154276\" ping=\"/url?sa=t&amp;source=web&amp;rct=j&amp;url=https://www1.president.go.kr/petitions/154276&amp;ved=0ahUKEwiw-ojq_aTcAhXUdN4KHRX9AIQQFgjNATAR\">공공기관 한글(HWP) 독점을 금지시켜 주세요 &gt; 국민청원 &gt; 대한민국 ...</a></h3><div class=\"s\"><div><div class=\"f hJND5c TbwUpd\" style=\"white-space:nowrap\"><cite class=\"iUh30\">https://www1.president.go.kr/petitions/154276</cite><div class=\"action-menu ab_ctl\"><a aria-expanded=\"false\" aria-haspopup=\"true\" aria-label=\"검색결과 옵션\" class=\"GHDvEf ab_button\" data-ved=\"0ahUKEwiw-ojq_aTcAhXUdN4KHRX9AIQQ7B0IzgEwEQ\" href=\"#\" id=\"am-b17\" jsaction=\"m.tdd;keydown:m.hbke;keypress:m.mskpe\" role=\"button\"><span class=\"mn-dwn-arw\"></span></a><div class=\"action-menu-panel ab_dropdown\" data-ved=\"0ahUKEwiw-ojq_aTcAhXUdN4KHRX9AIQQqR8IzwEwEQ\" jsaction=\"keydown:m.hdke;mouseover:m.hdhne;mouseout:m.hdhue\" role=\"menu\" tabindex=\"-1\"><ol><li class=\"action-menu-item ab_dropdownitem\" role=\"menuitem\"><a class=\"fl\" href=\"https://webcache.googleusercontent.com/search?q=cache:RWfKJiMKN48J:https://www1.president.go.kr/petitions/154276+&amp;cd=18&amp;hl=ko&amp;ct=clnk&amp;gl=kr\" ping=\"/url?sa=t&amp;source=web&amp;rct=j&amp;url=https://webcache.googleusercontent.com/search%3Fq%3Dcache:RWfKJiMKN48J:https://www1.president.go.kr/petitions/154276%2B%26cd%3D18%26hl%3Dko%26ct%3Dclnk%26gl%3Dkr&amp;ved=0ahUKEwiw-ojq_aTcAhXUdN4KHRX9AIQQIAjQATAR\">저장된 페이지</a></li></ol></div></div></div><span class=\"st\"><span class=\"f\">2018. 2. 28. - </span>나는 <em>HWP</em>가 없습니다. 그걸 살 돈 도 없고, 사주고 싶은 마음도 없습니다. 불법으로 사용하면 구속이 됩니다. 정부 관련 문서는 모두 <em>HWP</em>로 만 되어 ...</span></div></div></div>,\n",
       " <div class=\"rc\"><h3 class=\"r\"><a href=\"http://www.kocca.kr/cop/bbs/view/B0000137/1833364.do?menuNo=200827&amp;noticevent=Y\" ping=\"/url?sa=t&amp;source=web&amp;rct=j&amp;url=http://www.kocca.kr/cop/bbs/view/B0000137/1833364.do%3FmenuNo%3D200827%26noticevent%3DY&amp;ved=0ahUKEwiw-ojq_aTcAhXUdN4KHRX9AIQQFgjTATAS\">제3회 한글 창의 아이디어 공모전(2017) 공모 &lt; 공지사항&lt;알림마당 ...</a></h3><div class=\"s\"><div><div class=\"f hJND5c TbwUpd\" style=\"white-space:nowrap\"><cite class=\"iUh30\">www.kocca.kr/cop/bbs/view/B0000137/1833364.do?menuNo=200827...Y</cite><div class=\"action-menu ab_ctl\"><a aria-expanded=\"false\" aria-haspopup=\"true\" aria-label=\"검색결과 옵션\" class=\"GHDvEf ab_button\" data-ved=\"0ahUKEwiw-ojq_aTcAhXUdN4KHRX9AIQQ7B0I1AEwEg\" href=\"#\" id=\"am-b18\" jsaction=\"m.tdd;keydown:m.hbke;keypress:m.mskpe\" role=\"button\"><span class=\"mn-dwn-arw\"></span></a><div class=\"action-menu-panel ab_dropdown\" data-ved=\"0ahUKEwiw-ojq_aTcAhXUdN4KHRX9AIQQqR8I1QEwEg\" jsaction=\"keydown:m.hdke;mouseover:m.hdhne;mouseout:m.hdhue\" role=\"menu\" tabindex=\"-1\"><ol><li class=\"action-menu-item ab_dropdownitem\" role=\"menuitem\"><a class=\"fl\" href=\"http://webcache.googleusercontent.com/search?q=cache:hutqJBnXUxIJ:www.kocca.kr/cop/bbs/view/B0000137/1833364.do%3FmenuNo%3D200827%26noticevent%3DY+&amp;cd=19&amp;hl=ko&amp;ct=clnk&amp;gl=kr\" ping=\"/url?sa=t&amp;source=web&amp;rct=j&amp;url=http://webcache.googleusercontent.com/search%3Fq%3Dcache:hutqJBnXUxIJ:www.kocca.kr/cop/bbs/view/B0000137/1833364.do%253FmenuNo%253D200827%2526noticevent%253DY%2B%26cd%3D19%26hl%3Dko%26ct%3Dclnk%26gl%3Dkr&amp;ved=0ahUKEwiw-ojq_aTcAhXUdN4KHRX9AIQQIAjWATAS\">저장된 페이지</a></li></ol></div></div></div><span class=\"st\"><span class=\"f\">2017. 6. 19. - </span>[공고 제2017-5361호]. 제3회 <em>한글</em> 창의 아이디어 공모전(2017) 공모. □ 참가 자격. ㅇ <em>한글</em> 소재의 상품 개발에 관심 있는 누구나 참여 가능. □ 일정.</span></div></div><div class=\"r-iaOvjv1H6rAc\" data-ved=\"0ahUKEwiw-ojq_aTcAhXUdN4KHRX9AIQQ2Z0BCNgBMBI\" jsl=\"$t t--ddbPTeIsNI;$x 0;\"><div class=\"AUiS2 iaOvjv1H6rAc-7_jVsFT_9Io\" data-ved=\"0ahUKEwiw-ojq_aTcAhXUdN4KHRX9AIQQx40DCNkBMBI\" id=\"eobm_18\"><div class=\"iaOvjv1H6rAc-uhagcrfPmuU\" id=\"eobd_18\" style=\"display:none\"><div data-ved=\"0ahUKEwiw-ojq_aTcAhXUdN4KHRX9AIQQsKwBCNoBKAAwEg\">한글 창의 아이디어 공모전 수상작</div><div data-ved=\"0ahUKEwiw-ojq_aTcAhXUdN4KHRX9AIQQsKwBCNsBKAEwEg\">한글 아이디어</div></div><span aria-label=\"추천 후속 작업을 닫습니다.\" class=\"XCKyNd\" data-rtid=\"iaOvjv1H6rAc\" id=\"eobs_18\" jsaction=\"r.pz0qjfJrMDo\" jsl=\"$x 2;\" role=\"button\" tabindex=\"0\"></span><div><div class=\"d8lLoc iaOvjv1H6rAc-eEjGhTK0s34\" id=\"eobc_18\"><h4 class=\"eJ7tvc iaOvjv1H6rAc-ZgH0LU9o8RU\" id=\"eobp_18\">함께 검색한 항목</h4><div class=\"hYkSRb iaOvjv1H6rAc-ICxnu-SGsqE\" id=\"eobr_18\"></div></div></div></div></div></div>,\n",
       " <div class=\"rc\"><h3 class=\"r\"><a href=\"https://www.microsoft.com/ko-kr/download/details.aspx?id=36772\" ping=\"/url?sa=t&amp;source=web&amp;rct=j&amp;url=https://www.microsoft.com/ko-kr/download/details.aspx%3Fid%3D36772&amp;ved=0ahUKEwiw-ojq_aTcAhXUdN4KHRX9AIQQFgjdATAT\">Download Microsoft Word를 위한 아래아한글 문서 변환 도구 from ...</a></h3><div class=\"s\"><div><div class=\"f hJND5c TbwUpd\" style=\"white-space:nowrap\"><cite class=\"iUh30\">https://www.microsoft.com/ko-kr/download/details.aspx?id=36772</cite><div class=\"action-menu ab_ctl\"><a aria-expanded=\"false\" aria-haspopup=\"true\" aria-label=\"검색결과 옵션\" class=\"GHDvEf ab_button\" data-ved=\"0ahUKEwiw-ojq_aTcAhXUdN4KHRX9AIQQ7B0I3gEwEw\" href=\"#\" id=\"am-b19\" jsaction=\"m.tdd;keydown:m.hbke;keypress:m.mskpe\" role=\"button\"><span class=\"mn-dwn-arw\"></span></a><div class=\"action-menu-panel ab_dropdown\" data-ved=\"0ahUKEwiw-ojq_aTcAhXUdN4KHRX9AIQQqR8I3wEwEw\" jsaction=\"keydown:m.hdke;mouseover:m.hdhne;mouseout:m.hdhue\" role=\"menu\" tabindex=\"-1\"><ol><li class=\"action-menu-item ab_dropdownitem\" role=\"menuitem\"><a class=\"fl\" href=\"https://webcache.googleusercontent.com/search?q=cache:Dwkw7nu5zlcJ:https://www.microsoft.com/ko-kr/download/details.aspx%3Fid%3D36772+&amp;cd=20&amp;hl=ko&amp;ct=clnk&amp;gl=kr\" ping=\"/url?sa=t&amp;source=web&amp;rct=j&amp;url=https://webcache.googleusercontent.com/search%3Fq%3Dcache:Dwkw7nu5zlcJ:https://www.microsoft.com/ko-kr/download/details.aspx%253Fid%253D36772%2B%26cd%3D20%26hl%3Dko%26ct%3Dclnk%26gl%3Dkr&amp;ved=0ahUKEwiw-ojq_aTcAhXUdN4KHRX9AIQQIAjgATAT\">저장된 페이지</a></li><li class=\"action-menu-item ab_dropdownitem\" role=\"menuitem\"><a class=\"fl\" href=\"/search?q=related:https://www.microsoft.com/ko-kr/download/details.aspx%3Fid%3D36772+%ED%95%9C%EA%B8%80&amp;tbo=1&amp;sa=X&amp;ved=0ahUKEwiw-ojq_aTcAhXUdN4KHRX9AIQQHwjhATAT\">유사한 페이지</a></li></ol></div></div></div><span class=\"st\"><span class=\"f\">2013. 2. 25. - </span>Microsoft Word를 위한 아래아<em>한글</em> 문서 변환 도구는 Microsoft Word에서 <em>HWP</em>파일을 DOCX파일처럼 변환하고 열 수 있도록 해 주는 도구입니다.</span></div></div><div class=\"r-i8y1CETRBnL4\" data-ved=\"0ahUKEwiw-ojq_aTcAhXUdN4KHRX9AIQQ2Z0BCOMBMBM\" jsl=\"$t t--ddbPTeIsNI;$x 0;\"><div class=\"AUiS2 i8y1CETRBnL4-7_jVsFT_9Io\" data-ved=\"0ahUKEwiw-ojq_aTcAhXUdN4KHRX9AIQQx40DCOQBMBM\" id=\"eobm_19\"><div class=\"i8y1CETRBnL4-uhagcrfPmuU\" id=\"eobd_19\" style=\"display:none\"><div data-ved=\"0ahUKEwiw-ojq_aTcAhXUdN4KHRX9AIQQsKwBCOUBKAAwEw\">doc를 hwp 변환</div><div data-ved=\"0ahUKEwiw-ojq_aTcAhXUdN4KHRX9AIQQsKwBCOYBKAEwEw\">hwp doc 변환 사이트</div><div data-ved=\"0ahUKEwiw-ojq_aTcAhXUdN4KHRX9AIQQsKwBCOcBKAIwEw\">hwp 무료 다운로드</div><div data-ved=\"0ahUKEwiw-ojq_aTcAhXUdN4KHRX9AIQQsKwBCOgBKAMwEw\">hwpconverter</div><div data-ved=\"0ahUKEwiw-ojq_aTcAhXUdN4KHRX9AIQQsKwBCOkBKAQwEw\">워드 로 한글 읽기</div><div data-ved=\"0ahUKEwiw-ojq_aTcAhXUdN4KHRX9AIQQsKwBCOoBKAUwEw\">hwp to docx online</div></div><span aria-label=\"추천 후속 작업을 닫습니다.\" class=\"XCKyNd\" data-rtid=\"i8y1CETRBnL4\" id=\"eobs_19\" jsaction=\"r.pz0qjfJrMDo\" jsl=\"$x 2;\" role=\"button\" tabindex=\"0\"></span><div><div class=\"d8lLoc i8y1CETRBnL4-eEjGhTK0s34\" id=\"eobc_19\"><h4 class=\"eJ7tvc i8y1CETRBnL4-ZgH0LU9o8RU\" id=\"eobp_19\">함께 검색한 항목</h4><div class=\"hYkSRb i8y1CETRBnL4-ICxnu-SGsqE\" id=\"eobr_19\"></div></div></div></div></div></div>]"
      ]
     },
     "execution_count": 50,
     "metadata": {},
     "output_type": "execute_result"
    }
   ],
   "source": [
    "dom.select(\"div.rc\") # 그냥 rc 로 해도되는데 div 가 rc 인걸로한정지음"
   ]
  },
  {
   "cell_type": "code",
   "execution_count": 52,
   "metadata": {},
   "outputs": [],
   "source": [
    "aList = dom.select(\"div.rc > h3.r > a\")"
   ]
  },
  {
   "cell_type": "code",
   "execution_count": 57,
   "metadata": {},
   "outputs": [
    {
     "name": "stdout",
     "output_type": "stream",
     "text": [
      "http://www.hancom.com/downLoad.downPU.do\n",
      "https://www.hancom.com/product/productWindowsMain.do\n",
      "https://namu.wiki/w/%ED%95%9C%EA%B8%80\n",
      "https://ko.wikipedia.org/wiki/%ED%95%9C%EA%B8%80\n",
      "https://ko.wikibooks.org/wiki/%ED%95%9C%EA%B5%AD%EC%96%B4_%EC%9E%85%EB%AC%B8/%ED%95%9C%EA%B8%80_%EC%9E%90%EB%AA%A8\n",
      "https://www.korean.go.kr/hangeul/principle/001.html\n",
      "https://www1.president.go.kr/petitions/154276\n",
      "http://www.kocca.kr/cop/bbs/view/B0000137/1833364.do?menuNo=200827&noticevent=Y\n",
      "https://www.microsoft.com/ko-kr/download/details.aspx?id=36772\n"
     ]
    }
   ],
   "source": [
    "for row in aList:\n",
    "    print(row[\"href\"])"
   ]
  },
  {
   "cell_type": "code",
   "execution_count": 107,
   "metadata": {},
   "outputs": [],
   "source": [
    "def getUrl(url,params=None,select = \"a\", num_retries=2): # header 정보는 위에서 설정했으니까 필요가없을거같고.\n",
    "    html = requests.get(url, params=params, headers=headers) \n",
    "    \n",
    "    #responce 객체인 html 에 는 status_code 가 있다 . 에러 코드.\n",
    "    if 500<=html.status_code<600 and num_retries>0:\n",
    "        print(html.status_code,html.reason)\n",
    "        return getURl(url,params,num_retries-1)\n",
    "    \n",
    "    dom = BeautifulSoup(html.text,\"lxml\")\n",
    "    links = dom.select(select)\n",
    "    return [link[\"href\"]for link in links if link.has_attr(\"href\") == True] # 링크에 href 속성이있으면  href 속성을 가지고 리스트를 만들어서 return\n"
   ]
  },
  {
   "cell_type": "code",
   "execution_count": 108,
   "metadata": {},
   "outputs": [],
   "source": [
    "links = getUrl(url,params)"
   ]
  },
  {
   "cell_type": "code",
   "execution_count": 109,
   "metadata": {},
   "outputs": [
    {
     "data": {
      "text/plain": [
       "['/search?q=%ED%95%9C%EA%B8%80&gbv=1&sei=MlBNW-zBHZGEoATf_rvABg',\n",
       " 'https://www.google.co.kr/intl/ko/options/',\n",
       " 'https://accounts.google.com/ServiceLogin?hl=ko&passive=true&continue=https://www.google.co.kr/search%3Fq%3D%25ED%2595%259C%25EA%25B8%2580',\n",
       " 'https://www.google.co.kr/webhp?hl=ko&sa=X&ved=0ahUKEwjsotmnh6XcAhURAogKHV__DmgQPAgD',\n",
       " '//support.google.com/websearch/answer/186645?hl=ko',\n",
       " '#',\n",
       " '/search?q=%ED%95%9C%EA%B8%80&source=lnms&tbm=isch&sa=X&ved=0ahUKEwjsotmnh6XcAhURAogKHV__DmgQ_AUICigB',\n",
       " '/search?q=%ED%95%9C%EA%B8%80&source=lnms&tbm=vid&sa=X&ved=0ahUKEwjsotmnh6XcAhURAogKHV__DmgQ_AUICygC',\n",
       " '/search?q=%ED%95%9C%EA%B8%80&source=lnms&tbm=nws&sa=X&ved=0ahUKEwjsotmnh6XcAhURAogKHV__DmgQ_AUIDCgD',\n",
       " '/search?q=%ED%95%9C%EA%B8%80&source=lnms&tbm=bks&sa=X&ved=0ahUKEwjsotmnh6XcAhURAogKHV__DmgQ_AUIDSgE',\n",
       " 'https://maps.google.co.kr/maps?q=%ED%95%9C%EA%B8%80&um=1&ie=UTF-8&sa=X&ved=0ahUKEwjsotmnh6XcAhURAogKHV__DmgQ_AUIDygA',\n",
       " '/search?q=%ED%95%9C%EA%B8%80&source=lnms&tbm=fin&sa=X&ved=0ahUKEwjsotmnh6XcAhURAogKHV__DmgQ_AUIECgB',\n",
       " '/preferences',\n",
       " '/preferences?hl=ko&prev=https://www.google.co.kr/search?q%3D%25ED%2595%259C%25EA%25B8%2580',\n",
       " '/preferences?hl=ko&prev=https://www.google.co.kr/search?q%3D%25ED%2595%259C%25EA%25B8%2580#languages',\n",
       " '/setprefs?safeui=on&sig=0_XkAOpXswv8fc0oCu_OxPEA7P66k%3D&prev=https://www.google.co.kr/search?q%3D%25ED%2595%259C%25EA%25B8%2580',\n",
       " '/advanced_search?q=%ED%95%9C%EA%B8%80&hl=ko',\n",
       " '/history/optout?hl=ko',\n",
       " '//support.google.com/websearch/?source=g&hl=ko',\n",
       " 'http://www.hancom.com/downLoad.downPU.do',\n",
       " '#',\n",
       " 'http://webcache.googleusercontent.com/search?q=cache:G9zYJhBtY5UJ:www.hancom.com/downLoad.downPU.do+&cd=1&hl=ko&ct=clnk&gl=kr',\n",
       " 'https://www.hancom.com/product/productWindowsMain.do',\n",
       " '#',\n",
       " 'https://webcache.googleusercontent.com/search?q=cache:c2hqAGFe1zUJ:https://www.hancom.com/product/productWindowsMain.do+&cd=2&hl=ko&ct=clnk&gl=kr',\n",
       " '/search?q=related:https://www.hancom.com/product/productWindowsMain.do+%ED%95%9C%EA%B8%80&tbo=1&sa=X&ved=0ahUKEwjsotmnh6XcAhURAogKHV__DmgQHwg2MAE',\n",
       " 'https://www.hancom.com/product/productMacMain.do',\n",
       " 'https://www.hancom.com/goods/goodsChoice.do',\n",
       " 'https://www.hancom.com/product/productAndroidMain.do',\n",
       " 'https://namu.wiki/w/%ED%95%9C%EA%B8%80',\n",
       " '#',\n",
       " '/search?q=related:https://namu.wiki/w/%25ED%2595%259C%25EA%25B8%2580+%ED%95%9C%EA%B8%80&tbo=1&sa=X&ved=0ahUKEwjsotmnh6XcAhURAogKHV__DmgQHwhHMAI',\n",
       " 'https://namu.wiki/w/%ED%95%9C%EC%BB%B4%EC%98%A4%ED%94%BC%EC%8A%A4%20%ED%95%9C%EA%B8%80',\n",
       " 'https://namu.wiki/w/%ED%95%9C%EA%B8%80/%EC%97%AD%EC%82%AC',\n",
       " 'https://namu.wiki/w/%ED%95%9C%EA%B8%80%20%EC%9E%90%EB%AA%A8',\n",
       " 'https://namu.wiki/w/%ED%95%9C%EA%B8%80/%EB%85%BC%EC%9F%81',\n",
       " 'https://www.youtube.com/watch?v=MujbEJkIimA',\n",
       " 'https://www.youtube.com/watch?v=SuQEDKZpKsg',\n",
       " 'https://www.youtube.com/watch?v=OHcOyZl8iHY',\n",
       " 'https://www.youtube.com/watch?v=WuLV5JYU-lA',\n",
       " 'https://www.youtube.com/watch?v=RCqkDoodqnU',\n",
       " 'https://www.youtube.com/watch?v=QhUWtGcMkJQ',\n",
       " 'https://www.youtube.com/watch?v=FF6gQ3vJiVY',\n",
       " 'https://www.youtube.com/watch?v=coqvdqNcdl0',\n",
       " 'https://www.youtube.com/watch?v=_L9QWdSTh2A',\n",
       " 'https://www.youtube.com/watch?v=XvCgU9cvsCI',\n",
       " 'https://ko.wikipedia.org/wiki/%ED%95%9C%EA%B8%80',\n",
       " '#',\n",
       " 'https://webcache.googleusercontent.com/search?q=cache:WFDRqFWp6qkJ:https://ko.wikipedia.org/wiki/%25ED%2595%259C%25EA%25B8%2580+&cd=14&hl=ko&ct=clnk&gl=kr',\n",
       " '/search?q=related:https://ko.wikipedia.org/wiki/%25ED%2595%259C%25EA%25B8%2580+%ED%95%9C%EA%B8%80&tbo=1&sa=X&ved=0ahUKEwjsotmnh6XcAhURAogKHV__DmgQHwh-MA0',\n",
       " '/search?q=%ED%95%9C%EA%B8%80&npsic=0&rflfq=1&rldoc=1&rlha=0&rllag=37577080,126994409,2060&tbm=lcl&sa=X&ved=0ahUKEwjsotmnh6XcAhURAogKHV__DmgQtgMIiwE',\n",
       " '/search?q=%ED%95%9C%EA%B8%80&npsic=0&rflfq=1&rldoc=1&rlha=0&rllag=37577080,126994409,2060&tbm=lcl&sa=X&ved=0ahUKEwjsotmnh6XcAhURAogKHV__DmgQjGoItAE',\n",
       " 'https://ko.wikibooks.org/wiki/%ED%95%9C%EA%B5%AD%EC%96%B4_%EC%9E%85%EB%AC%B8/%ED%95%9C%EA%B8%80_%EC%9E%90%EB%AA%A8',\n",
       " '#',\n",
       " 'https://webcache.googleusercontent.com/search?q=cache:pORgG4d9jF0J:https://ko.wikibooks.org/wiki/%25ED%2595%259C%25EA%25B5%25AD%25EC%2596%25B4_%25EC%259E%2585%25EB%25AC%25B8/%25ED%2595%259C%25EA%25B8%2580_%25EC%259E%2590%25EB%25AA%25A8+&cd=18&hl=ko&ct=clnk&gl=kr',\n",
       " '/search?q=related:https://ko.wikibooks.org/wiki/%25ED%2595%259C%25EA%25B5%25AD%25EC%2596%25B4_%25EC%259E%2585%25EB%25AC%25B8/%25ED%2595%259C%25EA%25B8%2580_%25EC%259E%2590%25EB%25AA%25A8+%ED%95%9C%EA%B8%80&tbo=1&sa=X&ved=0ahUKEwjsotmnh6XcAhURAogKHV__DmgQHwi7ATAR',\n",
       " 'https://www.korean.go.kr/hangeul/principle/001.html',\n",
       " '#',\n",
       " 'https://webcache.googleusercontent.com/search?q=cache:bgyzKCoz2toJ:https://www.korean.go.kr/hangeul/principle/001.html+&cd=19&hl=ko&ct=clnk&gl=kr',\n",
       " '/search?q=related:https://www.korean.go.kr/hangeul/principle/001.html+%ED%95%9C%EA%B8%80&tbo=1&sa=X&ved=0ahUKEwjsotmnh6XcAhURAogKHV__DmgQHwjJATAS',\n",
       " 'https://www1.president.go.kr/petitions/154276',\n",
       " '#',\n",
       " 'https://webcache.googleusercontent.com/search?q=cache:RWfKJiMKN48J:https://www1.president.go.kr/petitions/154276+&cd=20&hl=ko&ct=clnk&gl=kr',\n",
       " 'http://www.kocca.kr/cop/bbs/view/B0000137/1833364.do?menuNo=200827&noticevent=Y',\n",
       " '#',\n",
       " 'http://webcache.googleusercontent.com/search?q=cache:hutqJBnXUxIJ:www.kocca.kr/cop/bbs/view/B0000137/1833364.do%3FmenuNo%3D200827%26noticevent%3DY+&cd=21&hl=ko&ct=clnk&gl=kr',\n",
       " 'https://www.microsoft.com/ko-kr/download/details.aspx?id=36772',\n",
       " '#',\n",
       " 'https://webcache.googleusercontent.com/search?q=cache:Dwkw7nu5zlcJ:https://www.microsoft.com/ko-kr/download/details.aspx%3Fid%3D36772+&cd=22&hl=ko&ct=clnk&gl=kr',\n",
       " '/search?q=related:https://www.microsoft.com/ko-kr/download/details.aspx%3Fid%3D36772+%ED%95%9C%EA%B8%80&tbo=1&sa=X&ved=0ahUKEwjsotmnh6XcAhURAogKHV__DmgQHwjnATAV',\n",
       " '/search?q=%ED%95%9C%EA%B8%80%EC%98%A4%ED%94%BC%EC%8A%A4&sa=X&ved=0ahUKEwjsotmnh6XcAhURAogKHV__DmgQ1QII9AEoAA',\n",
       " '/search?q=%ED%95%9C%EA%B8%80+%EC%B2%B4%ED%97%98%ED%8C%90&sa=X&ved=0ahUKEwjsotmnh6XcAhURAogKHV__DmgQ1QII9QEoAQ',\n",
       " '/search?q=%ED%95%9C%EA%B8%80+2010&sa=X&ved=0ahUKEwjsotmnh6XcAhURAogKHV__DmgQ1QII9gEoAg',\n",
       " '/search?q=%ED%95%9C%EA%B8%80+2018&sa=X&ved=0ahUKEwjsotmnh6XcAhURAogKHV__DmgQ1QII9wEoAw',\n",
       " '/search?q=%ED%95%9C%EA%B8%80+%EB%8B%A4%EC%9A%B4%EB%A1%9C%EB%93%9C&sa=X&ved=0ahUKEwjsotmnh6XcAhURAogKHV__DmgQ1QII-AEoBA',\n",
       " '/search?q=%ED%95%9C%EA%B8%80+2010+%EB%8B%A4%EC%9A%B4&sa=X&ved=0ahUKEwjsotmnh6XcAhURAogKHV__DmgQ1QII-QEoBQ',\n",
       " '/search?q=%ED%95%9C%EA%B8%80%EA%B3%BC%EC%BB%B4%ED%93%A8%ED%84%B0&sa=X&ved=0ahUKEwjsotmnh6XcAhURAogKHV__DmgQ1QII-gEoBg',\n",
       " '/search?q=%ED%95%9C%EA%B8%80+2017&sa=X&ved=0ahUKEwjsotmnh6XcAhURAogKHV__DmgQ1QII-wEoBw',\n",
       " '/search?q=%ED%95%9C%EA%B8%80+2010+%EC%84%A4%EC%B9%98&sa=X&ved=0ahUKEwjsotmnh6XcAhURAogKHV__DmgQ1QII_AEoCA',\n",
       " '/search?q=%ED%95%9C%EA%B8%80+2016+%EB%AC%B4%EB%A3%8C%EC%84%A4%EC%B9%98&sa=X&ved=0ahUKEwjsotmnh6XcAhURAogKHV__DmgQ1QII_QEoCQ',\n",
       " '/search?q=%ED%95%9C%EA%B8%80&ei=MlBNW-zBHZGEoATf_rvABg&start=10&sa=N',\n",
       " '/search?q=%ED%95%9C%EA%B8%80&ei=MlBNW-zBHZGEoATf_rvABg&start=20&sa=N',\n",
       " '/search?q=%ED%95%9C%EA%B8%80&ei=MlBNW-zBHZGEoATf_rvABg&start=30&sa=N',\n",
       " '/search?q=%ED%95%9C%EA%B8%80&ei=MlBNW-zBHZGEoATf_rvABg&start=40&sa=N',\n",
       " '/search?q=%ED%95%9C%EA%B8%80&ei=MlBNW-zBHZGEoATf_rvABg&start=50&sa=N',\n",
       " '/search?q=%ED%95%9C%EA%B8%80&ei=MlBNW-zBHZGEoATf_rvABg&start=60&sa=N',\n",
       " '/search?q=%ED%95%9C%EA%B8%80&ei=MlBNW-zBHZGEoATf_rvABg&start=70&sa=N',\n",
       " '/search?q=%ED%95%9C%EA%B8%80&ei=MlBNW-zBHZGEoATf_rvABg&start=80&sa=N',\n",
       " '/search?q=%ED%95%9C%EA%B8%80&ei=MlBNW-zBHZGEoATf_rvABg&start=90&sa=N',\n",
       " '/search?q=%ED%95%9C%EA%B8%80&ei=MlBNW-zBHZGEoATf_rvABg&start=10&sa=N',\n",
       " '/imgres?imgurl=https://i.pinimg.com/originals/62/62/02/626202405f304b04493fc4b7d98a5f17.jpg&imgrefurl=https://www.pinterest.com/pin/678706606315382766/&h=848&w=600&tbnid=nZnpMJqxrvdB7M:&q=%ED%95%9C%EA%B8%80&tbnh=186&tbnw=131&usg=__WnGnNq2XgKcdZEKHLKX0rRqpRDY%3D&vet=1&docid=ErE1zV0tfIAH0M&itg=1&sa=X&ved=0ahUKEwjsotmnh6XcAhURAogKHV__DmgQ_B0IigIwFg',\n",
       " '/search?q=%ED%95%9C%EA%B8%80&tbm=isch&source=iu&ictx=1&fir=Xw__EdHKfQ4N2M%253A%252CWFDRqFWp6qk3-M%252C_&usg=__9sQpyuH-v4RN-czGUczIUxQLHVs%3D&sa=X&ved=0ahUKEwjsotmnh6XcAhURAogKHV__DmgQ_h0IjAIwFw#imgrc=Xw__EdHKfQ4N2M:',\n",
       " '/search?q=%ED%95%9C%EA%B8%80&tbm=isch&source=iu&ictx=1&fir=kLPKiWzTjJ-7dM%253A%252CwxF9RilYQ9jV1M%252C_&usg=__NGjB9mnZ4_bR9M3_7_VF0SED_3I%3D&sa=X&ved=0ahUKEwjsotmnh6XcAhURAogKHV__DmgQ_h0IjgIwGA#imgrc=kLPKiWzTjJ-7dM:',\n",
       " '/search?q=%ED%95%9C%EA%B8%80&tbm=isch&source=iu&ictx=1&fir=Rx3IDoGd99X4WM%253A%252C_rchKlRgPYW3eM%252C_&usg=__1nzrZSIQBvuJnQi9UA9yPS4hpRQ%3D&sa=X&ved=0ahUKEwjsotmnh6XcAhURAogKHV__DmgQ_h0IkAIwGQ#imgrc=Rx3IDoGd99X4WM:',\n",
       " '/search?q=%ED%95%9C%EA%B8%80&tbm=isch&source=iu&ictx=1&fir=pFDPPy7qnZjZHM%253A%252C3wOkNsg0JI2WjM%252C_&usg=__gnCZ1tIEaN16OIj4jd9Q5AZvCy0%3D&sa=X&ved=0ahUKEwjsotmnh6XcAhURAogKHV__DmgQ_h0IkgIwGg#imgrc=pFDPPy7qnZjZHM:',\n",
       " '/search?q=%ED%95%9C%EA%B8%80&tbm=isch&source=iu&ictx=1&fir=2NNu0eiO48m8RM%253A%252CbgyzKCoz2toszM%252C_&usg=__PSdoN-I5kjFY3CbII60tHMT7gkM%3D&sa=X&ved=0ahUKEwjsotmnh6XcAhURAogKHV__DmgQ_h0IlAIwGw#imgrc=2NNu0eiO48m8RM:',\n",
       " '/search?q=%ED%95%9C%EA%B8%80&tbm=isch&source=iu&ictx=1&fir=xYjgHt0LCRHwjM%253A%252CWFDRqFWp6qk3-M%252C_&usg=__eVFRFmJ5VAzC_Q5SnpOoxlUHjHs%3D&sa=X&ved=0ahUKEwjsotmnh6XcAhURAogKHV__DmgQ_h0IlgIwHA#imgrc=xYjgHt0LCRHwjM:',\n",
       " '/search?q=%ED%95%9C%EA%B8%80&tbm=isch&tbo=u&source=univ&sa=X&ved=0ahUKEwjsotmnh6XcAhURAogKHV__DmgQiR4IlwI',\n",
       " 'https://ko.wikipedia.org/wiki/%ED%95%9C%EA%B8%80',\n",
       " '/search?q=%ED%95%9C%EA%B8%80&stick=H4sIAAAAAAAAAONgFuLQz9U3MC6yNFCCs7SEs5Ot9JPzc3Pz86yKM1NSyxMriwGEo2nwKwAAAA&sa=X&ved=0ahUKEwjsotmnh6XcAhURAogKHV__DmgQMQioAigAMCA',\n",
       " '/search?q=%ED%95%9C%EA%B8%80&stick=H4sIAAAAAAAAAONgFuLQz9U3MC6yNFCCs7SEs5Ot9JPzc3Pz86yKM1NSyxMriwGEo2nwKwAAAA&sa=X&ved=0ahUKEwjsotmnh6XcAhURAogKHV__DmgQzToIqQIoATAg',\n",
       " '/search?q=%ED%9E%88%EB%9D%BC%EA%B0%80%EB%82%98&stick=H4sIAAAAAAAAAONgFuLQz9U3MC6yNFCCsHIsK7X4nPNzc_PzgjNTUssTK4sBcnchQSYAAAA&sa=X&ved=0ahUKEwjsotmnh6XcAhURAogKHV__DmgQxA0IrAIwIA',\n",
       " '/search?q=%ED%95%9C%EA%B5%AD+%ED%95%9C%EC%9E%90&stick=H4sIAAAAAAAAAONgFuLQz9U3MC6yNFDiBLEMTSpL0rT4nPNzc_PzgjNTUssTK4sBHRZtuycAAAA&sa=X&ved=0ahUKEwjsotmnh6XcAhURAogKHV__DmgQxA0IrgIwIA',\n",
       " '/search?q=%ED%95%9C%EC%9E%90&stick=H4sIAAAAAAAAAONgFuLQz9U3MC6yNFACs3Jzq5K0-Jzzc3Pz84IzU1LLEyuLARuX1agmAAAA&sa=X&ved=0ahUKEwjsotmnh6XcAhURAogKHV__DmgQxA0IsAIwIA',\n",
       " '/search?q=%EC%9D%BC%EB%B3%B8%EC%96%B4%EC%9D%98+%ED%95%9C%EC%9E%90&stick=H4sIAAAAAAAAAONgFuLQz9U3MC6yNFACsyyTSwy1-Jzzc3Pz84IzU1LLEyuLAWPU26cmAAAA&sa=X&ved=0ahUKEwjsotmnh6XcAhURAogKHV__DmgQxA0IsgIwIA',\n",
       " '/search?q=%EC%9D%BC%EB%B3%B8%EC%96%B4+%EB%A1%9C%EB%A7%88%EC%9E%90+%ED%91%9C%EA%B8%B0%EB%B2%95&stick=H4sIAAAAAAAAAONgFuLQz9U3MC6yNFACs8yyc420-Jzzc3Pz84IzU1LLEyuLAbam31cmAAAA&sa=X&ved=0ahUKEwjsotmnh6XcAhURAogKHV__DmgQxA0ItAIwIA',\n",
       " '/search?q=%EA%B0%80%ED%83%80%EC%B9%B4%EB%82%98&stick=H4sIAAAAAAAAAONgFuLQz9U3MC6yNFACs0wskwq0-Jzzc3Pz84IzU1LLEyuLAbJQ6sgmAAAA&sa=X&ved=0ahUKEwjsotmnh6XcAhURAogKHV__DmgQxA0ItgIwIA',\n",
       " '#',\n",
       " '/search?q=%ED%95%9C/%EA%B8%80&stick=H4sIAAAAAAAAAONgecTozC3w8sc9YSmrSWtOXmM04eIKzsgvd80rySypFFLjYoOyZLh4pTj1c_UNLNILcys0GKS4uRBcHgCSxv85SAAAAA&sa=X&ved=0ahUKEwjsotmnh6XcAhURAogKHV__DmgQ6RMIvQIwIg',\n",
       " '#',\n",
       " 'https://support.google.com/websearch?p=ws_settings_location&hl=ko',\n",
       " '//support.google.com/websearch/?p=ws_results_help&hl=ko&fg=1',\n",
       " '#',\n",
       " '//www.google.co.kr/intl/ko_kr/policies/privacy/?fg=1',\n",
       " '//www.google.co.kr/intl/ko_kr/policies/terms/?fg=1',\n",
       " 'https://myaccount.google.com/?utm_source=OGB&utm_medium=app',\n",
       " 'https://www.google.co.kr/webhp?tab=ww',\n",
       " 'https://maps.google.co.kr/maps?hl=ko&tab=wl',\n",
       " 'https://www.youtube.com/?gl=KR',\n",
       " 'https://play.google.com/?hl=ko&tab=w8',\n",
       " 'https://news.google.co.kr/nwshp?hl=ko&tab=wn',\n",
       " 'https://mail.google.com/mail/?tab=wm',\n",
       " 'https://www.google.com/contacts/?hl=ko&tab=wC',\n",
       " 'https://drive.google.com/?tab=wo',\n",
       " 'https://www.google.com/calendar?tab=wc',\n",
       " 'https://plus.google.com/?gpsrc=ogpy0&tab=wX',\n",
       " 'https://translate.google.co.kr/?hl=ko&tab=wT',\n",
       " 'https://photos.google.com/?tab=wq&pageId=none',\n",
       " 'https://www.google.co.kr/intl/ko/options/',\n",
       " 'https://docs.google.com/document/?usp=docs_alc',\n",
       " 'https://books.google.co.kr/bkshp?hl=ko&tab=wp',\n",
       " 'https://www.blogger.com/?tab=wj',\n",
       " 'https://hangouts.google.com/',\n",
       " 'https://keep.google.com/',\n",
       " 'https://earth.google.com/web/',\n",
       " 'https://www.google.co.kr/intl/ko/options/']"
      ]
     },
     "execution_count": 109,
     "metadata": {},
     "output_type": "execute_result"
    }
   ],
   "source": [
    "links"
   ]
  },
  {
   "cell_type": "code",
   "execution_count": 110,
   "metadata": {},
   "outputs": [],
   "source": [
    "#    links = dom.select(\"div.rc > h3.r > a\") 구글에서 해당되니까 다른사이트는 , 다른 방식으로 가져와야한다 .\n",
    "links = getUrl(url,params)"
   ]
  },
  {
   "cell_type": "code",
   "execution_count": null,
   "metadata": {},
   "outputs": [],
   "source": [
    "def getUrl(url,params=None,num_retries=2): # header 정보는 위에서 설정했으니까 필요가없을거같고.\n",
    "    html = requests.get(url, params=params, headers=headers) \n",
    "    \n",
    "    #responce 객체인 html 에 는 status_code 가 있다 . 에러 코드.\n",
    "    if 500<=html.status_code<600 and num_retries>0:\n",
    "        print(html.status_code,html.reason)\n",
    "        return getURl(url,params,num_retries-1)\n",
    "    \n",
    "    dom = BeautifulSoup(html.text,\"lxml\")\n",
    "    links = dom.select(\"div.rc > h3.r > a\")\n",
    "    return [link[\"href\"]for link in links]\n"
   ]
  },
  {
   "cell_type": "code",
   "execution_count": 113,
   "metadata": {},
   "outputs": [],
   "source": [
    "seed = \"https://www.google.co.kr/search\"\n",
    "select = \"div.rc > h3.r > a\"\n",
    "queue = [seed] # 리스트는 큐처럼 쓸수있다."
   ]
  },
  {
   "cell_type": "code",
   "execution_count": 119,
   "metadata": {
    "scrolled": true
   },
   "outputs": [
    {
     "name": "stdout",
     "output_type": "stream",
     "text": [
      "https://www.microsoft.com/trademarks 408\n"
     ]
    }
   ],
   "source": [
    "while queue:\n",
    "    url = queue.pop()\n",
    "    queue.extend(getUrl(url,params,select)) #리스트 정보를 큐에 덮어쓴다 , append 로하면리스트가 리스트로 붙어서 이중리스트가 되니까, extend 로 함.\n",
    "    print(url,len(queue))\n",
    "    select = \"a\"\n",
    "    break"
   ]
  },
  {
   "cell_type": "code",
   "execution_count": 172,
   "metadata": {},
   "outputs": [],
   "source": [
    "def getUrl(url,params=None,select = \"a\", num_retries=2): # header 정보는 위에서 설정했으니까 필요가없을거같고.\n",
    "    html = requests.get(url, params=params, headers=headers) \n",
    "    \n",
    "    #responce 객체인 html 에 는 status_code 가 있다 . 에러 코드.\n",
    "    if 500<=html.status_code<600 and num_retries>0:\n",
    "        print(html.status_code,html.reason)\n",
    "        return getURl(url,params,num_retries-1)\n",
    "    \n",
    "    dom = BeautifulSoup(html.text,\"html.parser\")\n",
    "    links = dom.select(select)\n",
    "    return [link[\"href\"]for link in links if link.has_attr(\"href\") == True] # 링크에 href 속성이있으면  href 속성을 가지고 리스트를 만들어서 return\n"
   ]
  },
  {
   "cell_type": "markdown",
   "metadata": {},
   "source": [
    "--------------"
   ]
  },
  {
   "cell_type": "code",
   "execution_count": 164,
   "metadata": {},
   "outputs": [],
   "source": [
    "seed = \"http://www.ppomppu.co.kr/zboard/zboard.php?id=freeboard\"\n",
    "queue = getUrl(seed,params)"
   ]
  },
  {
   "cell_type": "code",
   "execution_count": 165,
   "metadata": {
    "scrolled": true
   },
   "outputs": [
    {
     "data": {
      "text/plain": [
       "[]"
      ]
     },
     "execution_count": 165,
     "metadata": {},
     "output_type": "execute_result"
    }
   ],
   "source": [
    "queue"
   ]
  },
  {
   "cell_type": "markdown",
   "metadata": {},
   "source": [
    "위의 코드는 인코딩을 해서 다깨져버려서 태그를 못가져온것 ,그래서 아래에서 encodinf false 를 준다."
   ]
  },
  {
   "cell_type": "code",
   "execution_count": 134,
   "metadata": {},
   "outputs": [
    {
     "name": "stdout",
     "output_type": "stream",
     "text": [
      "td.list_vspace > a\n"
     ]
    }
   ],
   "source": [
    "seed = \"http://www.ppomppu.co.kr/zboard/zboard.php?id=freeboard\"\n",
    "select = \"td.list_vspace > a\"\n",
    "\n",
    "queue = getUrl(seed,params,select)\n",
    "result = list()"
   ]
  },
  {
   "cell_type": "code",
   "execution_count": 135,
   "metadata": {},
   "outputs": [],
   "source": [
    "while queue:\n",
    "    url = queue.pop()\n",
    "    result.extend(getUrl(url,params))\n",
    "    print(url,len(result))"
   ]
  },
  {
   "cell_type": "markdown",
   "metadata": {},
   "source": [
    "무엇때매 못가져왔나 확인해보기 ."
   ]
  },
  {
   "cell_type": "code",
   "execution_count": 136,
   "metadata": {},
   "outputs": [],
   "source": [
    "html = requests.get(seed, params=params, headers=headers) "
   ]
  },
  {
   "cell_type": "code",
   "execution_count": 137,
   "metadata": {},
   "outputs": [
    {
     "data": {
      "text/plain": [
       "200"
      ]
     },
     "execution_count": 137,
     "metadata": {},
     "output_type": "execute_result"
    }
   ],
   "source": [
    "html.status_code"
   ]
  },
  {
   "cell_type": "code",
   "execution_count": 138,
   "metadata": {},
   "outputs": [
    {
     "data": {
      "text/plain": [
       "'\\x1f�\\x08\\x00\\x00\\x00\\x00\\x00\\x00\\x03�}�\\x7f培�偵淚s��\\tR��F|�-��M�푠7�m琫�u訖\\x07$!\\x11\\x16\\x080\\x00(YM|�\\x177N�N\\x1a��(��\\x1e\\x04�\\x07����47��g];n恩�\\\\om�u�s�\\x19\\x00$H�\\x14�\\x07謚V\"�\\x04��s沇���93\\x03�\\x7f葉�\\x0f\\x1c嚆\\x17� Q5&�\\x17~懸3O\\x1f �悳�Y�\\x01륜����\\x7f昏��>C�.\\x0f9(끼짬�$��璧�s\\x0ca˚\\x1a\\x1fr�\\'&&\\\\\\x13�.I\\x1eu\\x1f���(窒ba膝S��tE�\\x08\\x13h��w�\\x1f���?1Ne\\trsr/%�q?s@\\x12UNT�\\x07\\'�\\x1cC찮7?�rGU7\\x16\\x1d&�(++�喩\\x12a���\\x10w=6/�e>^��\\x11v�U妖�x��\\x02W�EXQj��7�O\\x1fu\\x1e�bqV�C�듀�O篇�(���D6폰\\x196�F%�B癡\\x0b�?戶\\x0b?%\\x07�wU�F8]k값�~�7�\\x1fV\\x10�q�\\x13�\\x1cQ,T@螺��\\x01㎡�p��&���Z\\x08\\'��\\x1a�G�q>�9��.����оT짭쟬�3�H\\x0c��\\x121瑜�쪼�;\\x0b充OrJ\\x17QYy�S�\\x11\\x0e�a2\\x12�M폅�博繞zQ�睡\\x14�du碌H�C|�\\x1d�\\x1a穹w�8X7�p�%��利���\\x07� \\x1b�\\x07}\\x1eo�㎸鯉���TD5��\\r\\x17D\\x13T�Q/�智�\\x05�\\x02q\\x12茨�v辰톡돠~�~\\x03拷_瑄1\\x12��\\x11올�m\\x048)�QI\\x1a\\x1586�+�`\\x0c\\x1d��\\x116�\\x0b���$Uz�E�\\x17\\x0e\"s�傘�w)Q�S\\x1dD\\x05\\x1f�;L�r\\x04�]t\\x19H��h\\x19�錄�T\\t��m蓆��t�\\x1a�~것�㏖身\\x0e琬�k�i��Bⓖ\\x1d�G휀O\\x1c�u���R�j\\x0f\\x1c遂\\x08?rXw0츠u���6iS[�\\x1a暘c!�h�\\x03�莊�{\\x07\\\\\\x06 \\x18�속Z�\"$�r�\\x1dy)��\\r녀�*\\x1b\\nRi丕缶\"�X$\\x01�ⓤ�J�+��茶�\\n�#�8�멘O%\\x0f�@\\x00x��\\x08G�[�1:�(z}\\x03�#q矯m:F\\x05玟Y�<\\x15淮��}\"咆�<C璿Ojvcf���穆~f�7L��\\'��e��\\x1e褥�?V�u�\\x0eu\\x19�Z��=}읨儡\\x16�p-�O<樺fc캡�T＠�E怪\\x02J\\rjj�\\x17_�:\\x1b豚��3�IC\\x05�(U\\n都!�w�Bu+l�\\'V\\x01�j悔�G\\x0f�礪�WT\\x18vk���g�*o�MN\\rㆋ扶\\x03\\x1b�l瓷澧A�촹;�\\x11�\\x1d�F���v��(L`W8\\x1ey)좼�N�乾u�\\\\0嫌:�\\x18?*\\x03�8��w/$�dI\\x00�\\x19���읊M��粗\\x05aW8�\\x02�薦h0P.\\n�y\\x07���!j8읗��警�m�0��{������\\x18틘���R벡��.����u앍\\x1fr<E\\x03�G!\\x10����<\\x1f:��U�a�<�\\x1f�\\x0f汞�+�\\x14�w��鎰��%웨�+�\\x1c:捧�\\'�h\\x07�s�\\x18DKJ映.zS�{�I�&흇�9\\x1d�챙\\x1f�c��/O\\x08\\x1c\\x12vH�]�0\\x06�!\\x104.*�M\\x1edG���\\x0bn\\x1f�\\x1c\\x1ef]�2)��^���\\x1a\\x1d\\x06Dae }N�p.^��R}�\\x1b�d�\\x03�\\x05\\x1c�uvL�bD���Ha�S�C7�Ｋ��Z����Ys\\x1a���\\x1dQ�r�ut\\x0e\\x03�Q뗐�+迪\"\\x0e�嬋羲\\x03些n�\\x17씩�\\x08K�\\x18�=.�X^t\\x0c\\x11GY+:�\\x15Y�8\\t�)\\x0f\\x1cT�H�\\x13�+�)\\x10�惜8\\x0c�\\x18���*\\r.겸h\\x02H�LY{�di\\x02,�\\x06\\x04\\x1c\\x13a8\\x1feUIv쥡���M�\\x7f�d�\\x1f�I幢�\\x14e�pO��\\x06범HG\\x19C@펠8\\x15�x��<�\\x10�0\\x0b�Iw鈴t:�\\x00*BP3L��s����e��W��sG�~���|烏�2~�����b!���hHOg\\'�e;Q��$奕��팽cX�22꿴�H��0�\\x18/�\\x1f���O�qIH�\\x7f\\x07\\x1f{�E7\\x06�H4��0E&�\\x14\\x01*�\\x0c\\x14R6窯l�E�R\\x17%A滎U\\x1deku���\\x1a�7i\\x14鼻QxK��\\t�Uｐ�\\x1a\\x15K�4\\x02\\x170a�</>?2��V�$/篆c\\x10\\x04,`h��K�X9\\x1c=��\\x0e뼝Y!짇�\\x0eIt j -�G�\\x00�\\x1d�K�b�/B�9�N�~�1�읽n\\\\dc�G泣e尊1吠n��L굡H�\\t�퓽���\\x08!텅��q�\\x03\\x00p]Y���.\\x12��q\\x11���\\x06\\x03C\\x0b��r����nnC�\\'�/닦��톡扼E-�1u����?\\x17�\"甫�*l�o�ψR�S倪\\x7f\"�W\\x16>J�NR\\'簞..츠�9mQK救��\\x0f��%O�6R�\\x1c��@�\\x02\\x04���\\x07藍�㏇\\x04^�?�8�F���\\x1f┙\\x06uY�#�!���\\x0e�~G8揀응�\\x170KT-Bi�\\x08X�牘�\\x1fa�U�i顥�\\x01}5�U9Q↗��\\x7f��\\x06kœ�x\\x1d�\\x18�XC�m시\\x15\\x1aa3Gu\\x13�B�槁0돎<s�\\x14>M\\x7f\\x07-�M[Z�h��u乾�p\\x02�\\x15\\x171�]頗Md�Q.l���\\x18d\\x05�H勿G�th�+,κ尾HT\"�_�M�猥�\\x1d�����\\x1b.�7\\x1d�脯Xu\\x13\\'B1^杖4\\x0b�\\x1c\\x04�\"√W툼�K}?\\x02�U\\x0emmt�枯�1謗輹��k;�\\x16>ZtQSdc�V配J\\x060H�,�Tz�^붓f\\\\\"zP����蠻蜈��\\x01帳�G�����2한\\x04�C&[?SW^\\x17�\\t�L2\\x7f\"}��2R潔>OW��G＊�\\x1b>��$� T��R��)�/8�\\x04�\\x15L\\x1a�艤0h\\x0e��eV�iA�\\x03�\\x16>\"�\\x08�&\\x04ぢF�$�\\x7f끌獅r�\"D�ttl\\'��$\"�%�oヴ筆\\x06|\\x00��5藤HX�r낍럿\\x1dk��栢�n�Ⅷ替J���佛h���Z趺�\\x14�k�m/F曠��?�[�{��檳闖6�~�C�m;�{.�j8/2扮y�%⅓�P\\x1bS짙�<\\x19\\x0cG!��yt�H\\t�c�`\\x06栽\\x1f.\\x16ヲ4^즈S\\x11��LNF[`\\x19�.1)�\\x0c>�K�QY�:��\\x0f9���M\\x13.��$�J�\\x187�8=�~戮宰`\\x04��8u�U�^\\x10H새5K�\\x14�\"�\\rdd�\\x15����&���98N�J)\\x16\\x08\\x18�(��8\\x11W間�\\x1e%�kX?�r횰:�\\x1c#終\\x0b��짱\\x07~쏜���n曝��^曝��~�\\x1d��A�a�\\r�\\x1ct>�2宛뚬����q.\\x07P��\\x05YY暘\\x02�敷���_��\\x1b\\x18bs稅\\x021�b��\\x08�o���8�^qc�D�헤�\\x06I玳`.$6/-��l�L�\\x13�Z�j�\"|5_15\\x1c樂\\x11i[\"�q>�믈�\\x0b��+쑥K�zZ\\x0c副XYf\\x0cC��\\x11~��\\x05VQ晃�鉗��L㎡��草�G8@_巨J�\\x11燎*/�:C�(r��Ej�����@\\x14�\\x11�\\x19�<\\x00�Q���>c�|�x}�匍a�\\x0f\\x11Cㅟ�_グ�\"xQ1\\x18:��\\x12��{��`���J\\\\`\\'�x\\x11�5�\\x0c\\tRxlX���1ㅸB\\x1c$짧�\\x134\\x0b\\x0b<�l;짭3�\\x089\\x07\\x06z�a�\\x1a逸繒�}�}%BE��l�g伎雨\\x1e林9\\x00�@�����a�\\n@�\\x18e�\\x17_y�\\x14��/\\x1f�\\x1c.6暝볶��郞P���}\\x15�G�L�\\x0cm\\t�\\r)NL8\\x01\\\\Tm3�!!�\\x0c��\\x06\\x15�\\x14�bs\\x02B�s��Ь\\x1e� \\x14�:����X\\x182�豆�_�&台Y0�잉e_팥W�_v#=�z�>웡��`��z\\x16\\x03~E![\\x1a�^聲�-Fⓢx\\x16노#�\\x16���\\x18\\x16��◁5\\x080t3����l�d� ��\"L@;�}m����a b\\x02S郁��Bq$c\\x02廈gN�s\\x17�午\\x11Z\\x1c\\t죈�=:6뎌1��_}\\x7f\\x06┻募}U6GbＶ�so�O�#�\\x0e�L纖�赤+K7���\\x07\\x02`鈴�+S\\x17v]f\\x03�\\'眠縷�$}j1�v�q�uu�0^��\\x01㎿m�wp\\x16U��\\x1a炷$,�\\x00�nm\\x19���HnN\\x1c�\\x06\\t퓽尹q팽淚g�!�\\x15�`ⓧcｆ履�&!눕\\x1bt�P+H7\\x1f\\x19상\\x16��\\'\\n\\x1bS\\x17規�+Y?n麥65g鳴玉1�VZ닿p枉�p\\x18��1剔�Jl�\\x1b{猫1.\\x16楯��,�}K�y���0)�SU]�\\x06/葛A�O將�?�\\x13�暠u�*f1�zV�駱Y�\\x18��륙T��]灼�\\x06s&�gT��[�\\x00~K���)�C\\rv�4*9��障5�o�s}\\x1e/桓�cP�a�\\x10��\\t+X�\\n�-]�j��\\ng�������N婉��ns}�꺌[�p!I�k~틂\\r�--U��\\x12]Hq�k�\\x1b�R=,憫4랫o�:困�,w�78纖鷹�\\x19饅Y.�n\\r$ⓕ�7_�\\x1d�e$�o�A)n專�\\x1cp%���ZR�\\tㅥz_�笑2\\r�qb쭙%�Ng]V~�\\x14�)褪ㄱu��┶�6칼!��┤J\\\\2�▧\\x12�4熬E\\x08ee\\x0c\\x1c좆vq琡|移��3��g�L]Y���xv+勤\\x04\\n옹}~㎵w3�g\\x1f�S�{�@N+�g�k�wJ�~&�슛�p㎵�1���去\\x17o�G\\x00\\x0e�\\x06#�U��\\n�6w�7攸��\\x11辣\\x13\\n@wX쉿�j�x임H�l��7g.�)\\x03@\\x7f��_��K�8�R,�m`疋愛�\\x17畝└�\\x17밤烽�\\x19杵蛾�O�E6#\\x00)��[���l�\\x04�桁�魅�>尨\\x16\\x07I졀\\x14�\\x0b由��猖��M7m�:硅h�Yc&\\\\s櫻\":�5\\x14\\x1d�M��)������z\\x1e�n天�瘟��o�\\x03�*\\x0b\\x05�$V�R\".���W砬fＸ�\\x14�\\x05�過와��6J故�)滎qN��b\\x18�//\\x14���<�m�{[DO��N��]�[��D矜M�嚬@fB�`\\x02�o�N붉㎠\\x17w�B\\x13HZ梵�e��┰A?�k*�CU��V-�┘�-げe\\n�.疹�/6\\x0c멓;\\x07\\\\�bU�ジt��㉩i�����$l\\x1cF劑���믓嗅|蘇�楣｀{�Hh\"��꽹中���\\x1bs整$�b�}w[�=\"�jB���\\x00>\\x01�\\td���}狄B\\x13s��,6��邏(>%#PX�;씀��X�mc�m\\x00�\\x1eb螟납�\\x03������Nm�-�\".V�3a�7����=\\x0bg\\x17S殿��莘��s\\x1f卍9%\\x11�`l梨N������昺顯\\x0e祺b��-�\\x1e��\\x08�%2ua腥�6�\\x07\\r��河*\\x1ce��\\x17\\x0b�&�.�X[n\\\\�����4\\\\\\x0e낢8���zd�2�vQ[�c\\x0b확\\x00d貞\\x17p甘\\x19�＃얀�U굇搬*\\x1b纓0�\\n\\x02\\'O��c\\x1b\\x15PT�(��u.－oC�nMP�1\\x08富%;L}�~�F+�FK�3�V�g�J�i\\x07�\\x101\\x02珊*G��B�E\\'?}2���6(v�撤�I\\x1b焉3���S\\x1f�|씀�<��\\n6�j橡\\'酬JF�⒞Kワ�\"���94�b�q�a�\\n\\r튁����iM\\x0b���m(�{S�이k粕瀝m3B만�vu\\x1b뒹�TI4톤N��뜁m�Ha��9踐G\\x0bgl��!_☎�`膵\\x0c�5�[\\x01^�bL`i\\r|�3�eガ�/s\\\\N슥長�K�1C�\\x10?��y���7\\x05\\x17�A\\x7f瓷v>���\\x1f��\\x1e�H/�U叱������yl���B�\\x08검�0\\n�GqJsk&�\\x1d��Y9\\x15\\x1a�\\'�q�Z\\x12n[Z�h\\t��-�Q�J頌;\\x12��&x\\x11낏0隆�,柚F\\nU착\\x13�S;샅�m\\x19l�\\x05㈚_-咎㎪2粕;i\\tA쩡流御\\x7f$o%_�kb�~�\\x1dUY1�L\\x08얗\\x14{EBc掌�t熹�Z�{\\'�q봄��^憤蝕m뿐�e嗾i음��‡n\\n\\x16\\x1f\\'�W��R�}����0�kO肝03�l6�Y큘R���\\x0ff.�&\\x18:�,�\\x11�|f漣甁vv���r�)���U{�E&x�\\n�N筐額�z:{5��\\'�\\x07��jx茫�力b6=�vjg�Rv:茵�\\x05�3�\\\\\\x0e_c\\x00�_,\\\\�분�8옹U\\x0f\\x03EB�@je�0웜�m&\\x10Y�\\t<婆�浸�\\r��KJ�\\tㅧ\\x1a�愍좨����姆��7�\\x10r痕�qtT\\x12F잣�+�m뇝\\x08�D�\\x0cl弦\\x10n�%5�bb?�\\n\\x02\\x08�>��MpX�c��3籬�l��K0�擒\\x0b�s粕���I\\x16�\\x11N�\\x17�(噓\\'訃�\\x19N&�\\x18杵�曲V[e�햇��tg�6�\\nJ8\\x11b⒟w������\\x1b��5�ToO;{-��Y�\\x05伯g�$h�\\x0e�\\x1c\\x1b챕��뉜�j�\\x03\\x1b�\"踏芎N�hmKB勞>$��\\x18t,\\x7fm\\'([��齒k8Q沈\\x13�~�愍�渡�]�呑\\x1c+�\\x10\\x02%\\x0b�뢸��\\\\烱�((�M�uw�F�\\r�c�\\x18�@0�vy�S\\x1bGJ�j�mByQI�,=��M\\x17�h_eU)<�\\x04�\\x7f�*�h黍\\x04곪鉀�n�|nf㈈(d�;[�W�\\x12���헒��yk藏��\\tq�X삵�\\x1f��1(\\x00z永u�\\x1d�~珦砦�!s�Q���\\x08M7�l酋뭣m\\x1dARU검否�}梓J(r騶�Ew!?렙zG苟D�����>��q�\"����6\\x00\\x17\\x00醋�m\\x0f�;r품�\\x10U붇+�<�\\x03%v�%�\\x16勖��`F喬��T�.��琁煖 `��DhD�涍�里�h�RH�M\\x11���軟�]��x\"$�a杏\\\\�\"�@�\\n망菁\\x15{r\\x7f�㉳�1j披/r옅拱\\\\�l\\x07�}-�\\x0b\\x1b3뮴�L�P��Ue\\x10��u腿U��?n�r깻�\\x18m�l-��}呂\"|\\x18C擬�3撒��b�p\\x02\\x0f�=\\x19\\x1c�$\\x08n2\\x7fL}�-.��\\x14M$p彩�쬈��\\x19R\"�h�紅�\\'�\\t����Ｐ��S儲痙r��E2�,\\x1c\\x08쓺�`c�+�\\x13擡R\\x13�\\x14;\\x14�\\nt=N;�|탬F\\x15�Q|�x �45}\\x17\\x04 �1C�Wb�1G�翌i��e�V0�)�B�.貊礫E�.┦\\x1b?達C�c�\\x18+\\x19�I��-��莎�\\x7f\\x18�=u�Q�L�驚�0\\x01�c��홰!\\x01疫3�.�e�槐�k��%;��u�Tj#\\x7f#vG\"�Q\\x0c\\x03碌��t�z��M+D8����\\x10柴�27r7V��討dQY�d\\x11AW\\x7f�풩曳�寅�\\x18�틘\\x18�D\\tw短lㄿ?�\\\\bk�k�#�$�I�BamE?Xp�G�揭3o�=zEd6\\x06=魚옌g.�^O軍4�Hc\\x00-�\\x0bo�9\\'~�i�\\x16\\x1fＯ?\\x05hI�y降�Ij��yMB���z蒿�%N�\\x12\"]�[Z�~\\x03쭉�l?\\rj恃�q\\x1ec�\\x19\\x1b\\r\\x1cK(|\\x18w�-\\x15�K�F���\\x19x,_���\\x1d<x��<�舛�7�\\x00��\\\\�岵餃fNfq\\x13A��{穰��넌-\\x00m;ォ�\\x01��I�2\\\\섀r2O\\x1fx굶�i革�5�C/.�\\x10陜d\\x18=Z�=�;s廣\\ttX�J\\x02�e?��o�tT\\na�\\x00{��\\t��\\x11�쳬�\\x14�X6�3���t�/v#�H�g읔\\x04�=\\x0f�8F��\\x1ae�\\x1e��c￦\\x087�\\t\\x12}�]r:��v騁\\x1e%�py.�j>#�+`\\x02P2\\x1eT�D��WK])|0oc2��\\x05D|g站l�8.\\t\\t�pl玉6\\x7f毛f�$\\x04곤B齡�oB�품���蚊m��\\x15��J�\\x11���y-?w7잭�爛�0�a��섧瞭^�]i\\x02%l<�5抗�}A!絅拙o���\\x1b\\x1f��N�(����S0q^x閘\\x15�\\x10�&�I�i���w��\\n룀�x�,m�\\r\\x1b��Z�n�Nk\\x1b��Y�Ua�팀蕙�p��y�Nof쥠\\x071���d�\\x0b예X\\\\�&ct㉵�\\x04箔��\\x08�Y��Em�fg#\\x11L+mY�\\x16蕃�b�헌;\\x1az�\\x13�7-�夕�}�\\x1d\\x18\"�WW)`u6.�!CX�mF9�\\x13�\\tV(��>��.]�K��.R��wc�岬\\x150^eO��e4\\x12^w萎�Nh庄o��8運累괠楫,潼�c�\\x03;\\x7f�\\x15}�o河�TV祥^[怠;*엮Oぢ�\\x05C꼼F�,>�#擦�gn��楣G\\x0b��\\x1f\\x00�O.\\x1e(c\\x02네뎨��\\x1b湯�\\':.\\tA\\x0e�K彖톄�\\x04�d�^rk�H슥��闔��m\\x0c�\\x1c\\x15\\x00G\\x15�VV�\\x08�z�\\x0f����\\x06��t\\x03%\\x1e湧�m+�`�� 2\\x02㎦��T�xJzt흗�\\x1f%\\x0f�1��Ж\\x0e�`�=+\\x06空\\x08ㆎ�M㎜,_彎�;~\\x11�얀랠Q楮g�獵6;Xi�J℉농�昐�\\x0b\\x1f�&\\x1f�\\x0bZ�\\x0e��㎻�^�1\\x17\\x15,63\\x16\\x17�^�C\\tⅳn憐b6uE畵�UW疏\\t�W\\'��\\t�Z�<�^:��&蝴N{*1\\x02u�+\\x06�o堧G���\\x1b�\\x7f�N�(�n{�5\\x05�\\x16布9�zg릍\\x01�us���FRY�$\\x1c_6w�0Z`\\',=燎밖快#{�$ya!槍�m��h批����c\\x16d|삽A神�~\"y靈��aN,����]\\\\=}3���\\x0f;�^���3*w �\\x06��K\"^8�\\\\充Ы�N�&�Z�j�D智濠�誣nUら��fv�;\\x07�/V퀑5�W=\"�1\\x12拭�\\x14�3�\\x10�\\x13��Ao賴3^��\\x06F\\x12��L�\\x0c�B��\\x1b�^\\x15�6�\\x18O�f\\x02⑪�T\\x19;���Y\\x10�rG�j�q�\\x13\\x12�sf�\\x15\\x12�}厦lF[�����TSS꿸5L(―�h�\\x07崙匏,,��\\x04~�\\x15蓬冽サ$Z옷�\"7S�oB�T�}�\\x1dg肖`C�{�\\x03�\\x0e<�窪G\\x0f畿#\\t�6\\x1b�E((H�0y\\x0cG뱅XPW덫��\\\\\\x141狂�G\\t�� \\x1f!~址\\x0e\\x06�:D骨0�;\\x0e\\x13j�C�\\x1b\\x1c\\x06긱0�9\\\\�&\\x0e\\x06@�o�G�l��년GH���\\x0b�\\x11等火�a�j�\\x0f+p꾹줘��f�M�N���N\\x176r\\'I��툰\\x16�s\\x17�\\\\左�uD\\n\\'����0[M�\"\\x19a\\x05�+�9V���r#�e옹|��u煙�T+2��n�}UN\\x18�����數lB�h;l�\\x00샵�Q��W*Q��J7]И�\\x1d\\x0e�\\x00\\x17qtV�\\nΤ��\\x15��@\\x15\\x00�\\x11^�u0片\\x182�>秒�N�.ㅮ廬\\t�\\x00�갚��<엥�6┏=�s駿��\\x0e\\t\\x16�I���H趾\\\\�mv}膵�i�.0����{����d�\\x16�H�s!�豆]\\x04�Od얗\"�\\x0f└g��俄�-潺�G밤\\x0bo\\x11�,����\\x1f5\\x00킵��/抉�p�h�h宇\\x064�V(�.��쩟礖F\\x03\\x19�\\x03煎MZi\\x14�\\x115m�e\\x14*g{��-�\\x01*\\x1c>\\x1ch徐�a\\x02\\x07��A!�3���8Ctt�\\x0f��X\"��\\x01�B綠��S�7z�:侁)\\x07\\x13꿋�\\x02乎\\x1f庇{\\x12��T\\n�虞�\\x1f계어\\'鰕어���瞳俉{\\t억採>�\\x7f\\x06{酎\\x01�\\n�{\\x1f\\x1b�?\\x03�\"\\x08S\\x15�\\x18�^�Xa�L`:M�2Hi輒\\x15VP���\\x1b��\\x16f��$\\x0f�%:G\\x1ff�\\x01}�G;YLf���u�2\\x17�e.б!鸞���,��귄�s��풩���+\\r\\x18\\x16\\\\!J�梡?6央a�SY\\x19Fl\\x7f0$겸Xqt��\\'刺�校o寞^���z�i�\\x1bi妄辰\\x13u\\x15 \\x01\\x00�[慷�[~u{��J3�����-(���\\\\PQ\\x00z旁�P�\\x1a�\\x08�6f慂�\\x12�$\\x00叡��Pf�\\x00�.枷�H\\x10�乳\"K\\x07F\\x0b�)��≠�\\x12\\ti�G�.�~\\x14n��q\\x17�uGY롬\\x07rl\\x06G���\\x10P\\t\\x13醴�7\\x1ev0�?諷��1�\\x01i}=\\x1a疑M)Hk_G웡�\\x1a}晟瑛�輒z]痺c���no�QG\\x04FK\\\\\\x10�t�\\x1c\\x1b��0}�\\x18��\\x0bg\\\\!^�t8BBB&t\\x18&\\x10O�eNQ��&g�B�R�)\\x13�\\x1a�\\x12勛\\x0b]�t/��Q)?��\\x05����\\x1fu�Q^遼\\x1bF��:UXQ@-6<6*K\\t1搜=\\x19�\\x04碩，_허伋�>�璃稶�\\x07=�~隣��꼰�\\x1c*B`년릊�J�]���:�xW�W4`�%�^롱D�\\x07�a阜���N{N��\\x1e�a$�#S+��\\x1eOU:쇔G\\x0f�\\x1c덫J�&^�_淪je6���(빴愼V添�{�W�e�iYg��鋼洌翔�t����c\\\\s8쁑HmMr笠���b\\x10:頭XU�lWX煽c�Q�Tv �\\x19�K詔퓜\\x116!X珉\\x1a�\\x0c7流K!Hg�a�R\\x00��(cS�omT3�*색��I^<��+\\x15z\"\\'��看�[\\'\\x0bEB�J��\\x12�\\x02?*\\x02!\\'老l�k``&\\n�24\\x1b�B��\\x0c����/犁\\x13�n�\\\\���]pv:}梵\\x06&\\x06샐V�j�5��B�(Z玆�\\r�撥�Z���\\x01낑�6�pJ�\\t��馳眸僉��穡ㆅw+헹7훽{0�鵠�~E�寤I)�c佇���浸B��{��\\x1a\\x15�H|\\r`iAd4!夔�\\x0f큄��}\\x0f�l許��(港\\x1cf�呈c|G��nr:\\x05��x���i|\\x1f�AG�5�\\x15s��厓밧�3d�3-�Y�*m�Y\\x0e�\\t2�\\x16)�2\\x08\\x00�5�\\x16-��k鸞%�`Q�K�`���θ\\x7f法���u�\\x02�\\x03��考\\x1ea���$�|會侈륵�h�!��\\x14IHⓟ0��윤�P\\x18\\x06\\x06B�=\\x02壎-�+q��\\x1c\"\"\\\\�E4�G逗\\x10拯x�G�栢\\x04nD\\x1d\"�Z禱\\x14�s���C\\x04:iT��\\x04A�\\x00�!�%8y�x�G\\t(�G��\\x1e�\\x03透,�B\\x00|�\\x06핸�0\\x04\\x07[@���[���b�x=<�\\x1f\\x14%�쩝8ヂPI\\x187\\x14\\x00�\\nW�\\x16`���\\x06�\\x06벋o건�9畔晝��G�aRB낭赫Ecr{Dq[Z�uD죈k)�Q������濾난\\x08�#\\x02��A)适,♡\\r\\x1a\\x17{(���#A�\\x03\\x08-Hlㄳ末�\\r�x�N�\\x01��6��h죠DV�\\x14.H釀\\x15A�r���c�,\\x02(���b��*\\tS�\\x17\\x0f晦�\\x17\\x0e�g\\x1e}梓�>革\\x13~�R��u�vD�.�k\\x17름��\\x7f(\\x1a0^捌p\\x02\\x17V��,� �#����\\x1dD)?\\x03\\rb�\\x07宵�云�W#!OY�Y�\\x1b��I�E��B\\x1a\\x19�OJ�S못)A�0{닙H爪K�}O<�o�w嗇�}O<븝��}\\x03(9���[\\x01��!�什�A坵�>�j����2\\x061芋�\\x12�\\t�������=�\"3\\x0c��\\x1b�0153}�\\x0b\\tCO2:��C�\\x19����va?�\\'z7�{\\x02�U\\x19~#0�\"�料zI��\\x1e旭\\r襟\\x1cHhkk��\\x10\\x0c�w��x0*��\\x00^o낟�9�p}�1\\x1c\\x01�$����\\x0c�M�SG��狽T��r\\x04\\x10\\n�>+-e�\\x1c봬D?Pθ\\'5\\x02\\x04X\\x017�{�j\\x07:�\\x14�Fwラ7擊W痲�n%KYO�\\x04�\\x01#舌`,��\\x0f,���\\x01綱n�R\\x1b�4��=슉i!硅$筒aM�K�\\x07�jQ�f^j�Bg밋硫R�\\n]w�tf템更�`|R�52t\\x01sU�\\x02\\x1d+\\x08�GP율�\\x16�#\\x11N�K`�6\\x16獨뎀`轍i��X��\\x1cJ�r\\x06��.�0c�\\x02盧�\\x17!��\\x05�m�\\x08WGU�(WG�\\x01o�r#SG�h\\x12!쫬�SL�G�:��(��q�T\\x1a&]∽Bw꼭\\x0f辰2�].尿燒đE갬c1#뚱C{���b \\x01\\x11P�)낯�H�;t\\\\\\x1b質C牒0焉님�T\\x04\\x03�$�C��2\\x1e瑙�~\\x11Q�몫!1ㅔ��\\x7f젼E�`┡텀\\x01��V!vS.:|�\\x0e�z\\x06�81r��\\x1fu�壘�h\\x13y)\\x08��[飡�擊��`㈂점붰�E恣^5���`��)j圈��碌뜁\\nTW�\\x00�g�けB꼇븜���>[Jig攄휩捻벧翰對�<�vI�m[���3籬6�\\r�\\x15�RM}�%�E_�\\x01邕\\x19麗�g論�nS��\\x18�\\x10�w�C?�訂�\\x01\\x1dR��4\\x01�<�\\x0fz果6������諭h\\x08$\\t촌E\\x12��9身\\x10��t�ズ�i\\\\���\\x01I�d욍�\\'{�?G�HB�_�Q\\\\�5\\x06 o�0\\x0e�N��\\x1c�\\x7f진째9\\x0b�a�S�昱?��B�\\x14\\x1e\\x1bf����G:�E�\\t++hZ��㈀6}`娩茹W]��q~[\\n�謠�i\\x19�a��\\nhf¸H�\\r푯3��%\\\\�/�N��V�*C\\t焰�r6�3\\ri&\\x02<��n�vE����3\\\\!�\\x0fb6#�>�*췐x�r�0�cX\\x15\\x13\\x1dF津��z&d\\x00�\\x108o\\x1b\\x11��!=�\\x19�=�x\\x11�\\x14|\\\\�\\x15GY髥��2�8,r\\x1d�Y�I���h\\x070\\x03�gСw�\\x1e\\x02��-n�h\\x18�\\x007���繃�~o\\x1f]\\\\\\x7fd\\x1cf\\x16�\\x01O옆壻u菌v$o�Oi瀯\\x1dV\\x17은�!E�4c\\x005\\x1aJ�EQ㎞x\\x1f�S5C\\x060�P\\x02+�QLO\\x0f\\x1e챙-V7E)�Y/Q�-&\\n}\\x1e\\x1fM\\x152�C��ff\\x0f\\x13\\x1c�r�S㎀膊\\x0b7H\\x06�J投`�裝�\\x152�E�F���\\\\��屑闕\\x05隨���z4亥9}┽nt6�-���@}k�\\x15십G\\x08E1윳n�璃質\\x10o���g㉦�!耶_�#陝v{=n_坵��Q�\\x01�6�x슬���>\\x0bHc�js~@�d�Gq�1�\\x06�@\\x19�R�^\\r\\x7f�w\\x07�\\x16�蘿�]톺���z�\\x07\\x06|�\\x01쵭掠+>4㉫\\\\\\x05�學�`\\x13}�\\x00遙�\\x14�<�2x4�Q\\x07G�F\\x13\\x1a{\\x07{�}��Z\\x00遙\\x06Sw=<Z��\\x15�\\x06눴+o�]^屆��?�q�\\x02kX=+\\x17]\\x0b\\x1c\\x0e�F�]C�R\\x0e�\\x02獨���f�\\x15!e��\\x1e�!�\\x04\\x00�\\x06\\x01�\\x16\\x16驪k\\x05��vQsY�A�\\nY[磅�l장�wy���;秧\\x1d質m�g\\x06囚�l\\x1bE\\x06���6�率dw�c�聆깸V윤��{\\x00����\\x1f<���=�급�0f��C\\x7f랑쵭牧吻\\r�.�\\x1b�`mt介��ㆀi�\\x16��0\\r晙肅摺�_��熹�\\'��`�a�J\\x0b愈C�YП밑h����\\x0eh\\x11빎\\x02=A4\\x0bu0q)���_7W�R��aG�\\x1ch�闔渚/���\\r�/\\x12�\\n�>o��\\x00�\"�d_K\\x00弔=\\x00�\\x0b7R_�_^桂겹HhぺH���Tz1K�\\x15�r>昏武$詰檄�\\x19뤼]XZK\\x7f\\x0c�j�n�B�����\\x061�g�V�依�\\x1fc6\\x0bq�-\\x01q熙\\x00콩�\\r해�=E8_�\\x10�,쬡�勻�\\x0e惜]���w\\x11$��衙d���6�i荻^\\x02��Q`倉\\x0bl��兮[냅爐\\x12�Vs����m享����N�K�5w�\\x07\\x1e웅���C�O�n��\\x16������\\x17S\\x17흰쯔I�vS[_;�E驪;�_9\\x0b\\x1b$�Z:I\\x16ni�\"�鍮��wp�=童X�\\x10\\t��ペ9Um�8��%昔�\\x1e�빳3��\\x1f�??p�萸\\x03ts蔡kd���姜螳\\x0ff�D料罹�Y�\\n�섰0G��hi<K蛛��\\x1d伊�A柾f\\x07���\\x1b�\\x0e\"∼��k鍈�E\\x02L_K n�=��S�h餐3�s宅�t�rk�捺�\\x01芯딜l>�E沚\\x17�$�j~v1K\\x1c�\\x1b�+\\x04_\\x0b1\\x7f�A��:���F�.�mh�d���9��_�k�nz(8w�58{=\\r�네c+8{{\\x07紵촐∏�%橘�\\x1e@曄��\\x1b네3_e�J��Sl�6�複EL裁��g�c�Za�d旦�3��²�\\x01�Ba�\\x1d��u룅n7텟�싣]��A付x�\\r�}熙ｂfq綾\\x12몃�\\x07pwz~��V��<��\\x1fx.�W\\x07f3�L}◎�\\x1d\\'泯睡�\\x0fm��Oh럿O��쓿kI�!_\\x03滸\\rB[Q��{?�l\\x12�<�-\\x01j�{\\x00濤>�[晷}�&n�i�i쓿\\x0e聊�gO�텨�\\x7f뻗8�\\x1a��\\x19 gN�O$��분1惺y휀�\\x11晞U\\x04�\\'��s蘂��w�㎟�%$�w���~L�,換�y��\\x16;O畓q첸Ao����\\x0f�?��hg�>l���jT��N嫉�\\x1b$�_S\\x17�\\x1f��?.]���贍燮��d咨V�\\x1f/茴L\\x1a�h維�g/��F叱�\\x1b0c_�6築否�2a堆���m4더�\\x1d勃<v�{�캘-q홈�^8d�翕�w㎝�O둣\\x0e旣z���.h�g�눼f`0�Wi�Vw\\n���e�w\\t慫���z�\\x1ax\\x1b\\\\∫黴B言�3⒟\"QuK\\x1c.轅\\x17\\x0e\\x17M�3晞�k\\x0b\\x0b旴�堡�\\x07Z2넓_炡豈뢰Y2�V革刺�~鵝�\\x1ax\\x1a�\\x1f���#講\\x1d�Z�hQ��p�h掌�9�u��W�穴�&�!d�8��^H\\x12���i��z��］>�Vac院�\\x0c莖㏖�{娶B�lX��\\x0cu7v�\\t\\tm텟��qe緞�\\x12\\x07�俠��O�D$\\x11c��絆�_�\\x08同딱�dqe�옐�睡�Y�+\\\\�\\x7f`�\\x02J\\x0ft�\\x06��k�2�w筬Y硝��%�8錘\\x0bg��7\\x1b�*�9O�w�)s��\\'�\\x1b遙dqU�-娜�\\n彌r럽KwK8�k�C���C=\\r�))】�;�}?�l\\x16u[��S\\x7f��s봇眩$l�;\\x1f�{�\\\\`*��\\'W넹%��繪�\\x06I��흗��\\x1b�\\x0fg^+�4zG굴���\\x00@tckN�錦�\\\\削㎖�평�8\\x15�\\x7f/����4�\\\\[X�\\x15\\n�뒬_�L瞳排�t\\x11핍Ⅹ崗s\\x00찝��潗j�A\\x1cKk誣����\\x19�}濠�p=�異�臭�,Y����S_./л屛<\\x02��g�A\\x14캭粹�\\x11��Qj\\x1a\\x05[��R��pF甬\\tVT8�9�綾ZY�zg�\\x16낙\\'\\x17Ws\\x17㎨효N\\\\.�?I꿉-~��Kw梏P�\\x00F�}{\\x1b}�\\x0f�6�0E\\t�=\\x1b璞w?�l\\x0ew��-q���^8F����sk�o�\\x1d�Z��>U������O\\x1b=M�.ㅮ%匹H�\\x16>\\x12툴�}�\\x1b\\x04�\\x16\\x18琛�冀\\x1f揄5\\x08�=>{추엉OFm\\x1a�[�8W�=|�デ應�\\x1b��擔>u!}甘��\\x1dC�z瀛�廂f눴{z�\\x1f@�뺑\\x14)\\x12�{兜紘@�칩-q\\x1cわ^8\\x0e���K..��갬�侵;��tcy�ho㎝\\x16>$闔�\\x13～��\\x7f樓I縣�k�y��}瓆�!잉f串��&;槻��韋方�o�㎉!�EB{��w?,m\\x1ay[�<T颯p\\\\�\\x056炚\\x13Q^�Z*)�W酊@�S-K�/掘仝��_I>\\x0f_����V�`�{|_頹�술�\\x01�\\x1eo\\x0b�\\x1d宥m\\x08z�錦�@O��7�6��-qTワ^83곧Q�-裝鈴�zG\\x06猝U33밤$y+\\x7f\"�:w�d?旣3?�?A�\\n�\\x0f�\\x08\\x12�od�!閒��\\x10//�.Lw��ss玧����*@���r濁���}v$l{��\\x1bzD\\x0b%덛Y寮#拾箕%Nt醜\\x0b�\\x1ef�3�N\\'徒����뎨k�Zr\\r���\\x11�\\\\&\\x7fB�� y玗繪�\\x1b��]瀕w휀X�\\x15\\t�\\x05벗�O\\x0bh\\x1a�Z�pW�=|缺俉�s�`E�.|4}A+激�搾/N�\\x1e壟;n\\x00錫떠갰|�h\\x1fk郁�흰/\\x0b��GS離��\\x0e聽�\\x0b|{\\x1c�v\\x0f�6薦\\x17Jh/��o犢\\x1f�6��-qTН��\\x17�?*�$v�=�`}\\x18���\\x13�d�J侑�-\\x06w\\x14뻣mx\\n, rcO����Bw�澳鷺���%\\x0e�醜\\x0bG\"\\n�s������\\n��-u4Н���女��z\\x17a�_MeH膣�w\\x0b\\x1f��w�o��\\x17�+.�TF{��o�N�液炅\\x02�>;��3童\\x18\\x10#】\\x0fM셀9�y n��i}笞\\x19\\t|驥魯勞稠;%1���1�\\x01Y�H�LVO串/f3\\x7f\"K�f�I\\x1e��\\x12\\x18^\\x1b�\\x19\\x0b�駁\\x0e4��;�|�v�/Z#\\x08\\x1eh��i}-v0�*�N��>��帑&布;�0�v止�\\x19\\x17&i�\\x16�5^:냘�}=C아\\x1e���6oi�xへ~%,�q７2�W�G�qV옷\\x10�\\x15G\\x13麥��送�俔@�HB\\x0cゼ$�\\x03\\x00 ￦3 �C��N�r{� �Y쇘�}架pj\\x10덧����D卿<\\x0c�.�\\x05\\x0f3\\x0f%d좆潰���+~�\\x12乎��#乎\\x1f/뜹>_�K�}���\\t�3��\\x7f\\x0e饍G遡c\\x03�g읔\\x0c�\\x1fk�땅�B5襤�X\\x00�U�\\x10x&�\\x11平�1\\x0c�q\\x18��@기w����B��\\x19��\\\\c8笑\\x11)\\x18\\x1a\\x05���U\\x0e`��[ㄳ>\\x02�A���m釐엣��6�\\x00��2%�L\\x1d\\x0c\\x15`�4F\"F��L잭\\x01�(fh�DT\\x02\\x7f\\x05|�xJ\\x0b\\x0c�8�\\x05�\\x0b��\"PJ�J8⊂CBB迪嶝�afpK�[\\x15i�27\\x1e�.[\\x069�2��\\x16\\x11\\x02/:\\'脊6$\\t0���un=yu�W�0�\\x04w伯管M�R榮킵�\\x1a�n\\r돛�:\\x10`煌�;I\\x1b|社(\\x10\\x02�\\x11�\\x13�\\x0c��D9\\x0e:ぅ��\\x15�1\\x00\\x1d?�Q[�\\x07��융]\\r<����ㅘd���\\x1e\\x00�\\x13�\\x0eX�)\\ne�*���\\x01;§�]t�\\x02\\x10憤*�BP\\x1b�nS陷��\\x1d깆�`母s�=\\x15,{v棺��e停Y�U곗�9檢\\n��;g9P�r`�,\\x07+X\\x0e��ΨS�\\x13\\x1fF�;�v틉<Bs��+\\x11p�\\x11@\\x0c껄�\\x19\\x01d��E7+開DPF�\\nbD�1��맹�PF\\x7f퀼M��\\x14Q�託\\x12:듯�8��6�qjT\\x02P\\x19Eㄳ3\\tF�X9\\x1ce\\x08K�\\x10@�M6쫘��\\x08�O\\x07頸|�1g\"EC2P�zetS&b��x��~\\x11\\x08��QI�,\\x16�\\x05���s�\\\\�7~�rl6�\\nc��\\rd\\x19�}L�8-����@ekx�l�)k\\x19�!溪�>�跌V\\x0c�T\\x02p7폽v\\x1a7��h�\\x0b�e�\\x13D�0t4(�P^g�凌�m�\\x14�1�a)%\\x11\\n틘�\\x04�4����翟�|然~�NT��\\x08�\\x00�H�N�!E-�N�l!���C\\x17.�\\\\9��z岑�|�J=z��N\\\\�\\x1e\\r�N,?\\x10�Rラ롑損�\\x0f�sz�xN�d�Ak�=1\\x11n�M\\x08�-}�hqHl:�\\x1d퓔ILF��R�RtM��\\x05�G�\\t\\x1d���\\x06[0M�W11�$E,F�,+7��K)\\x12g\\x18s$C\\x0f��\\x1f#0�\\'`墟*�q[瀚]\\r辰釋\\x12s��x�`�\\x10볏kZ\\x03l���vIC�R��(\\x1e\\x0c�b0\\x14R天홱��`�\\x1dGE\\x0f\\x19��w@=�5<\\x0e�\\x12\\x1ff\\x05丞>當AO1y�\\x11%49*I�\\x02gruDx%.��C���4g\\x08�kc�z_鄭\\r�(S,�{\\x07��*�d≫\\x04\\x1e惡��u�\\x13!瑛@O\\x7fw�g걀헒�\\x17)�\\x08\\x15A\\x02꼐�\\x01o\\x7f렁랫\\x07bd7�\\x140f��\\x0e�R�\\x0f�!F�\\t�騶+��C�;]��\\x12�x�X�pq\"�\\'L\\x10>最\\t��l앤�S\\x07q�/-w�-\\x131���8}�~\\x19\\x01x꽁�_.�Ngm窺fvㆊ0�D�x\\x1c�槪�\\x04\\x16�\\x15��\\x1f/.�\\x15��i���9酬\\x13�R\\x1ce\\x19##DkV�\\x02�\\x14\\x04J\\x15l�\\x18:띤O\\x08Κ�\\x1b���)~h�iB�z1뺑�.���Y\\x13��\\x0c\\x0ex|\\x16@1\\x18\\x15?U\\\\Gy�n\\\\qＭR\\x7fw8\"V相�傀昨}<n湺�6w�x\\x06{\\x07|�`d\"\"DCB\\x04\\x0f/\"�p\\x10�\\x14S륙v!Ee�M;�&&&잭��г廳옥��＝\\x03��fvG�\\x01�\\n&�\\'D\\x13�PP왁�cq1뼝�\\x0f�}���9�\\x0f獒[\\x15��kY\\x0c�렉!�I\\x0fy��[���IzV[����s:��A껏쩡�fa#���,�i��$�9)l�]N�\\x1f ��}ㆀ�뗀ru�o���n�1,�降eS�Y3�1NQ�\\x1b�\\x1bq�V\\x00B�\\x06�R\\x03*�8-F�-\\x07� V+YV��zY�lZ�H�Z��堪z\\x07蔯�\\x0e�gv�>��罹�\\r���Q!<쭉�@\\\\��<��n�f�\\x1c��>웜�怯�\\x0cY膈���6���_f.e�<s�~�\\x1e��价��\\x1fy\\x07\\x07���S\\x19�ys展�?.|�y�+藜J�2�\\'\\x1c�\\x08�#��a�斤�r\\n:&�\\x1b�Fk渗G�0+\\x07\\x15N\\x1e盈�rM`q朮琨W�?驪��`��負s릴�\\x05\\x11헝\\x19\\x1c妖�\\x13s�i YZ�|1�@��(A\\x0f�.M]��_;E2㎢��qj#un뤠줆Z彭毓ok�zO畵竪�7V�$���\\x0e��5\\x18<鄲k�:�相�B\\x00:[H�폈睫��N��J뀀�\\x19�l再誼�뭍C┩�a�nN|�-s\\x06M��H2�貰\\x16�\\x1dATI\\x12T>���I\\x0b�\\x13h^쨍Yt23� B/\\x18&qI�1�5\\x04�\\x08�T\\x0e���$s\\x11v����L!~址\\x0e姸J��췰�n7�v\\x17Y^0uj\\x07bWq�O��ガ3t�$��)V��\"�\\x05�\\x0e�.J�#ㅓ吏�\\x18���\\x1d��c형9馳��]끌!姚ㅵ媚\\x1b<�栢�A<bV�\\x15UcB�ｄ7\\x0e�01�의�V�\\x18{睹w�\\x1e\\x0ffU\\x08^0�f7승\\x04\\x1cP�\\x12kidD俗��U)>\\x04�\\x0e\\x1a�;q��dZ땃\\x13��v\\x11�6�S�\\x1b흡=V�J\\x01\\x1e\\x1d���:]#l�{Z�p����秦�Y,\\x17\\x03�U긁梓T&MJ�e쪽e、�\\'��p;�,%���\\n5�%�W�S�?�/\\tN���\\x00╈��NW�\\x17#\\x1d�1n\\x12뺙Ｋ�rt��;�q딛e��U�\\x7f⊃�Ff���\\r�\\r\\x02��汰獸\\x04�\\x1b�\\x04\\rG�\\x18+\\x08$��0����\\x01�#�\\x04:��\\x01�}�\\x123\\x13주�華$⒤\\n沓f\\x01�\\r�5�G�\\x14�9�FU5>渥\\x1eR}攫0\\x07�\\x12\\x13��\"곧Qr��r;`\\x19�%�\\x15��s�r3�o�NR�e\\x18�C\\tl<.L2���s徒\\x1b�[\\x0bKワ�)�I蘆rb��Fv퓔X���궜��格\\\\q�\\x0b\\x13H����m\\x00X�敏\\x1a\\x13h�@n�{)��B0���*�y荻�|�\\x1a5l1k�%s�\\t�v�MN�1X\\x0f\\x13�1�杆慄繁MU�j빨\\x05\\x08昨3��*K�h 9���Od沓隊S�op��qＬ\\x06{U�^&�<�㎷녜3��O,옅�_w�\\x03�3\\x1a專3��\\x13�ヮ繪g쒀]�\\x18\\x0c―44��b\\x00���?傑�3~�m�te3\\x07\\x03U�gk�\\x1d�舫�d��狐*\"勁U┗�\\x01)>I�\\x10�窮�ub���Mh(Xl9\\x17y\\x14@�R+�⑵�\\\\�Z�ZUs�si���V7\\x03\\x08據沒?����Tn�\\x19�!�Z適7�\\x14q\\x00ig)�1�\\x13�\\x1b��酬]�0�\\x1cQ�����>��KW�J��|XeR\\x0c�輔閑�嘔/���\\x08o\\x0c]잃��\\x02,k+ 탱x��\\x7f┶a�\\x05c\\x05\\'�DN�o�4�\\x14�@;?肋\\x00\\x14\\x0c��H\\'�H崎\\x02�繕����o��\\t�9\\x0c�\\x18o�`ㅫ7\\x12幽f戶�N\\x10�:П\\x00�\\x02�{�恥1\\x12\\x0b��\\x7f�핵\"��\\x01\\x00'"
      ]
     },
     "execution_count": 138,
     "metadata": {},
     "output_type": "execute_result"
    }
   ],
   "source": [
    "html.text"
   ]
  },
  {
   "cell_type": "markdown",
   "metadata": {},
   "source": [
    "다 깨져있네 . 그래서 못가져온것 . "
   ]
  },
  {
   "cell_type": "code",
   "execution_count": 139,
   "metadata": {},
   "outputs": [
    {
     "data": {
      "text/plain": [
       "'euc-kr'"
      ]
     },
     "execution_count": 139,
     "metadata": {},
     "output_type": "execute_result"
    }
   ],
   "source": [
    "html.encoding"
   ]
  },
  {
   "cell_type": "code",
   "execution_count": 140,
   "metadata": {},
   "outputs": [
    {
     "data": {
      "text/plain": [
       "bytes"
      ]
     },
     "execution_count": 140,
     "metadata": {},
     "output_type": "execute_result"
    }
   ],
   "source": [
    "type(html.content)"
   ]
  },
  {
   "cell_type": "markdown",
   "metadata": {},
   "source": [
    "decode : byte - >Str "
   ]
  },
  {
   "cell_type": "code",
   "execution_count": 141,
   "metadata": {},
   "outputs": [
    {
     "ename": "AttributeError",
     "evalue": "'Response' object has no attribute 'conent'",
     "output_type": "error",
     "traceback": [
      "\u001b[1;31m---------------------------------------------------------------------------\u001b[0m",
      "\u001b[1;31mAttributeError\u001b[0m                            Traceback (most recent call last)",
      "\u001b[1;32m<ipython-input-141-e5918f1b4b9e>\u001b[0m in \u001b[0;36m<module>\u001b[1;34m()\u001b[0m\n\u001b[1;32m----> 1\u001b[1;33m \u001b[0mhtml\u001b[0m\u001b[1;33m.\u001b[0m\u001b[0mconent\u001b[0m\u001b[1;33m.\u001b[0m\u001b[0mdecode\u001b[0m\u001b[1;33m(\u001b[0m\u001b[1;34m\"euc-kr\"\u001b[0m\u001b[1;33m)\u001b[0m\u001b[1;33m\u001b[0m\u001b[0m\n\u001b[0m",
      "\u001b[1;31mAttributeError\u001b[0m: 'Response' object has no attribute 'conent'"
     ]
    }
   ],
   "source": [
    "html.conent.decode(\"euc-kr\")"
   ]
  },
  {
   "cell_type": "markdown",
   "metadata": {},
   "source": [
    "근데 안된다. 그래서 헤더가 필요하다 ."
   ]
  },
  {
   "cell_type": "code",
   "execution_count": 173,
   "metadata": {},
   "outputs": [],
   "source": [
    "headers = {\n",
    "    \"user-agent\" : \"Mozilla/5.0 (Windows NT 10.0; Win64; x64) AppleWebKit/537.36 (KHTML, like Gecko) Chrome/67.0.3396.99 Safari/537.36\",\n",
    "    \"accept-encoding\": \"false\" \n",
    "}\n",
    "#인코딩을 니가하지말고 내가하겠다, 즉 순수 바이트만 달라. 라는옵션추가함."
   ]
  },
  {
   "cell_type": "code",
   "execution_count": 174,
   "metadata": {},
   "outputs": [
    {
     "data": {
      "text/plain": [
       "['http://www.ppomppu.co.kr/zboard/zboard.php?id=ppomppu',\n",
       " 'http://www.ppomppu.co.kr/zboard/zboard.php?id=event',\n",
       " 'http://www.ppomppu.co.kr/zboard/zboard.php?id=buy',\n",
       " 'http://www.ppomppu.co.kr/zboard/zboard.php?id=help',\n",
       " 'http://www.ppomppu.co.kr/zboard/zboard.php?id=freeboard',\n",
       " 'http://www.ppomppu.co.kr/zboard/zboard.php?id=etc_info',\n",
       " 'http://www.ppomppu.co.kr/zboard/zboard.php?id=free_picture',\n",
       " 'http://www.ppomppu.co.kr/zboard/zboard.php?id=news2',\n",
       " 'http://www.ppomppu.co.kr/zboard/zboard.php?id=review',\n",
       " 'http://www.ppomppu.co.kr/recent_main_article.php?type=market',\n",
       " 'http://www.ppomppu.co.kr/myinfo/env.php?cmd=env',\n",
       " 'http://www.ppomppu.co.kr/myinfo/member_bookmark.php',\n",
       " 'http://www.ppomppu.co.kr/index.php',\n",
       " '/zboard/zboard.php?id=freeboard',\n",
       " 'http://www.ppomppu.co.kr/zboard/zboard.php?id=ppomppu',\n",
       " 'http://www.ppomppu.co.kr/zboard/zboard.php?id=ppomppu',\n",
       " 'http://www.ppomppu.co.kr/zboard/zboard.php?id=ppomppu2',\n",
       " 'http://www.ppomppu.co.kr/zboard/zboard.php?id=ppomppu4',\n",
       " 'http://www.ppomppu.co.kr/zboard/zboard.php?id=ppomppu3',\n",
       " 'http://www.ppomppu.co.kr/zboard/zboard.php?id=ppomppu5',\n",
       " 'http://www.ppomppu.co.kr/zboard/zboard.php?id=ppomppu7',\n",
       " 'http://www.ppomppu.co.kr/zboard/zboard.php?id=ppomppu6',\n",
       " 'http://www.ppomppu.co.kr/zboard/zboard.php?id=pmarket',\n",
       " 'http://www.ppomppu.co.kr/zboard/zboard.php?id=pmarket2',\n",
       " 'http://www.ppomppu.co.kr/zboard/zboard.php?id=pmarket3',\n",
       " 'http://www.ppomppu.co.kr/zboard/zboard.php?id=card_market',\n",
       " 'http://www.ppomppu.co.kr/zboard/zboard.php?id=pmarket7',\n",
       " 'http://www.ppomppu.co.kr/books/index.php',\n",
       " 'http://www.ppomppu.co.kr/hot.php',\n",
       " 'http://www.ppomppu.co.kr/hot_comment.php',\n",
       " 'http://www.ppomppu.co.kr/recent_main_article.php?type=event',\n",
       " 'http://www.ppomppu.co.kr/zboard/zboard.php?id=event',\n",
       " 'http://www.ppomppu.co.kr/zboard/zboard.php?id=coupon',\n",
       " 'http://www.ppomppu.co.kr/zboard/zboard.php?id=mobile',\n",
       " 'http://www.ppomppu.co.kr/zboard/zboard.php?id=experience',\n",
       " 'http://www.ppomppu.co.kr/zboard/zboard.php?id=wcoupon',\n",
       " 'http://www.ppomppu.co.kr/zboard/zboard.php?id=wow',\n",
       " 'http://www.ppomppu.co.kr/zboard/zboard.php?id=event_ppomppu',\n",
       " 'http://www.ppomppu.co.kr/recent_main_article.php?type=info',\n",
       " 'http://www.ppomppu.co.kr/zboard/zboard.php?id=etc_info',\n",
       " 'http://www.ppomppu.co.kr/zboard/zboard.php?id=ppomapp',\n",
       " 'http://www.ppomppu.co.kr/zboard/zboard.php?id=review',\n",
       " 'http://www.ppomppu.co.kr/zboard/zboard.php?id=agentnews',\n",
       " 'http://www.ppomppu.co.kr/zboard/zboard.php?id=receive',\n",
       " 'http://www.ppomppu.co.kr/zboard/zboard.php?id=buy',\n",
       " '/fortune/index.html',\n",
       " 'http://www.ppomppu.co.kr/zboard/zboard.php?id=flash_game',\n",
       " 'http://www.ppomppu.co.kr/zboard/zboard.php?id=freeboard',\n",
       " 'http://www.ppomppu.co.kr/zboard/zboard.php?id=freeboard',\n",
       " 'http://www.ppomppu.co.kr/zboard/zboard.php?id=issue',\n",
       " 'http://www.ppomppu.co.kr/zboard/zboard.php?id=humor',\n",
       " 'http://www.ppomppu.co.kr/zboard/zboard.php?id=help',\n",
       " 'http://www.ppomppu.co.kr/zboard/zboard.php?id=grade',\n",
       " 'http://www.ppomppu.co.kr/chat',\n",
       " 'http://www.ppomppu.co.kr/zboard/zboard.php?id=campaign',\n",
       " 'http://www.ppomppu.co.kr/zboard/zboard.php?id=free_picture',\n",
       " 'http://www.ppomppu.co.kr/zboard/zboard.php?id=free_picture',\n",
       " 'http://www.ppomppu.co.kr/zboard/zboard.php?id=mobile_gallery',\n",
       " 'http://www.ppomppu.co.kr/zboard/zboard.php?id=star',\n",
       " 'http://www.ppomppu.co.kr/zboard/zboard.php?id=sketch_gallery',\n",
       " 'http://www.ppomppu.co.kr/zboard/zboard.php?id=bg_gallery',\n",
       " 'http://www.ppomppu.co.kr/zboard/zboard.php?id=jjalbang',\n",
       " 'http://www.ppomppu.co.kr/zboard/zboard.php?id=picture',\n",
       " 'http://www.ppomppu.co.kr/zboard/zboard.php?id=review_gallery',\n",
       " 'http://www.ppomppu.co.kr/recent_main_article.php?type=market',\n",
       " 'http://www.ppomppu.co.kr/zboard/zboard.php?id=market',\n",
       " 'http://www.ppomppu.co.kr/zboard/zboard.php?id=market_phone',\n",
       " 'http://www.ppomppu.co.kr/zboard/zboard.php?id=market_data',\n",
       " 'http://www.ppomppu.co.kr/zboard/zboard.php?id=cmarket',\n",
       " 'http://www.ppomppu.co.kr/zboard/zboard.php?id=onmarket',\n",
       " 'http://www.ppomppu.co.kr/zboard/zboard.php?id=market_social',\n",
       " 'http://www.ppomppu.co.kr/zboard/zboard.php?id=market_oversea',\n",
       " 'http://www.ppomppu.co.kr/zboard/zboard.php?id=market_item',\n",
       " 'http://www.ppomppu.co.kr/zboard/zboard.php?id=market_talent',\n",
       " 'http://www.ppomppu.co.kr/zboard/zboard.php?id=market_bike',\n",
       " 'http://www.ppomppu.co.kr/zboard/zboard.php?id=market_ecig',\n",
       " 'http://www.ppomppu.co.kr/zboard/zboard.php?id=market_car',\n",
       " 'http://www.ppomppu.co.kr/zboard/zboard.php?id=market_camping',\n",
       " 'http://www.ppomppu.co.kr/zboard/zboard.php?id=gonggu',\n",
       " 'http://www.ppomppu.co.kr/zboard/zboard.php?id=gonggu_request',\n",
       " 'http://www.ppomppu.co.kr/zboard/zboard.php?id=market_agent',\n",
       " 'http://www.ppomppu.co.kr/zboard/zboard.php?id=guin',\n",
       " 'http://www.ppomppu.co.kr/zboard/zboard.php?id=market_story',\n",
       " 'http://www.ppomppu.co.kr/zboard/zboard.php?id=relay',\n",
       " 'http://www.ppomppu.co.kr/zboard/zboard.php?id=love',\n",
       " 'http://www.ppomppu.co.kr/recent_forum_article.php',\n",
       " 'http://www.ppomppu.co.kr/zboard/zboard.php?id=phone',\n",
       " 'http://www.ppomppu.co.kr/zboard/zboard.php?id=phone3',\n",
       " 'http://www.ppomppu.co.kr/zboard/zboard.php?id=phone2',\n",
       " 'http://www.ppomppu.co.kr/zboard/zboard.php?id=iphone',\n",
       " 'http://www.ppomppu.co.kr/zboard/zboard.php?id=tablet',\n",
       " 'http://www.ppomppu.co.kr/zboard/zboard.php?id=android',\n",
       " 'http://www.ppomppu.co.kr/zboard/zboard.php?id=androidtab',\n",
       " 'http://www.ppomppu.co.kr/zboard/zboard.php?id=wintab',\n",
       " 'http://www.ppomppu.co.kr/zboard/zboard.php?id=smartphone',\n",
       " 'http://www.ppomppu.co.kr/zboard/zboard.php?id=av',\n",
       " 'http://www.ppomppu.co.kr/zboard/zboard.php?id=mini',\n",
       " 'http://www.ppomppu.co.kr/zboard/zboard.php?id=computer',\n",
       " 'http://www.ppomppu.co.kr/zboard/zboard.php?id=nas',\n",
       " 'http://www.ppomppu.co.kr/zboard/zboard.php?id=macintosh',\n",
       " 'http://www.ppomppu.co.kr/zboard/zboard.php?id=golf',\n",
       " 'http://www.ppomppu.co.kr/zboard/zboard.php?id=fishing',\n",
       " 'http://www.ppomppu.co.kr/zboard/zboard.php?id=basketball',\n",
       " 'http://www.ppomppu.co.kr/zboard/zboard.php?id=climb',\n",
       " 'http://www.ppomppu.co.kr/zboard/zboard.php?id=motorbike',\n",
       " 'http://www.ppomppu.co.kr/zboard/zboard.php?id=lifesports',\n",
       " 'http://www.ppomppu.co.kr/zboard/zboard.php?id=swim',\n",
       " 'http://www.ppomppu.co.kr/zboard/zboard.php?id=ski',\n",
       " 'http://www.ppomppu.co.kr/zboard/zboard.php?id=scuba',\n",
       " 'http://www.ppomppu.co.kr/zboard/zboard.php?id=sports',\n",
       " 'http://www.ppomppu.co.kr/zboard/zboard.php?id=baseball',\n",
       " 'http://www.ppomppu.co.kr/zboard/zboard.php?id=ppom_baseball_team',\n",
       " 'http://www.ppomppu.co.kr/zboard/zboard.php?id=car',\n",
       " 'http://www.ppomppu.co.kr/zboard/zboard.php?id=bike',\n",
       " 'http://www.ppomppu.co.kr/zboard/zboard.php?id=soccer',\n",
       " 'http://www.ppomppu.co.kr/zboard/zboard.php?id=camping',\n",
       " 'http://www.ppomppu.co.kr/zboard/zboard.php?id=tennis',\n",
       " 'http://www.ppomppu.co.kr/zboard/zboard.php?id=health',\n",
       " 'http://www.ppomppu.co.kr/zboard/zboard.php?id=money',\n",
       " 'http://www.ppomppu.co.kr/zboard/zboard.php?id=social',\n",
       " 'http://www.ppomppu.co.kr/zboard/zboard.php?id=insurance',\n",
       " 'http://www.ppomppu.co.kr/zboard/zboard.php?id=stock',\n",
       " 'http://www.ppomppu.co.kr/zboard/zboard.php?id=soho',\n",
       " 'http://www.ppomppu.co.kr/zboard/zboard.php?id=bitcoin',\n",
       " 'http://www.ppomppu.co.kr/zboard/zboard.php?id=info_ico',\n",
       " 'http://www.ppomppu.co.kr/zboard/zboard.php?id=recommend',\n",
       " 'http://www.ppomppu.co.kr/zboard/zboard.php?id=lotto',\n",
       " 'http://www.ppomppu.co.kr/zboard/zboard.php?id=toto',\n",
       " 'http://www.ppomppu.co.kr/zboard/zboard.php?id=house',\n",
       " 'http://www.ppomppu.co.kr/zboard/zboard.php?id=offline',\n",
       " 'http://www.ppomppu.co.kr/zboard/zboard.php?id=country',\n",
       " 'http://www.ppomppu.co.kr/zboard/zboard.php?id=oversea',\n",
       " 'http://www.ppomppu.co.kr/zboard/zboard.php?id=china',\n",
       " 'http://www.ppomppu.co.kr/zboard/zboard.php?id=wedding',\n",
       " 'http://www.ppomppu.co.kr/zboard/zboard.php?id=problem',\n",
       " 'http://www.ppomppu.co.kr/zboard/zboard.php?id=publictransport',\n",
       " 'http://www.ppomppu.co.kr/zboard/zboard.php?id=nonsmoking',\n",
       " 'http://www.ppomppu.co.kr/zboard/zboard.php?id=e_cig',\n",
       " 'http://www.ppomppu.co.kr/zboard/zboard.php?id=pet',\n",
       " 'http://www.ppomppu.co.kr/zboard/zboard.php?id=mart',\n",
       " 'http://www.ppomppu.co.kr/zboard/zboard.php?id=restaurant',\n",
       " 'http://www.ppomppu.co.kr/zboard/zboard.php?id=medical',\n",
       " 'http://www.ppomppu.co.kr/zboard/zboard.php?id=delivery_food',\n",
       " 'http://www.ppomppu.co.kr/zboard/zboard.php?id=tour',\n",
       " 'http://www.ppomppu.co.kr/zboard/zboard.php?id=couple',\n",
       " 'http://www.ppomppu.co.kr/zboard/zboard.php?id=recipe',\n",
       " 'http://www.ppomppu.co.kr/zboard/zboard.php?id=fortune',\n",
       " 'http://www.ppomppu.co.kr/zboard/zboard.php?id=baby',\n",
       " 'http://www.ppomppu.co.kr/zboard/zboard.php?id=alone',\n",
       " 'http://www.ppomppu.co.kr/zboard/zboard.php?id=religion',\n",
       " 'http://www.ppomppu.co.kr/zboard/zboard.php?id=game',\n",
       " 'http://www.ppomppu.co.kr/zboard/zboard.php?id=gamer',\n",
       " 'http://www.ppomppu.co.kr/zboard/zboard.php?id=boardgame',\n",
       " 'http://www.ppomppu.co.kr/zboard/zboard.php?id=kakao_game',\n",
       " 'http://www.ppomppu.co.kr/zboard/zboard.php?id=gta',\n",
       " 'http://www.ppomppu.co.kr/zboard/zboard.php?id=LOL',\n",
       " 'http://www.ppomppu.co.kr/zboard/zboard.php?id=diablo',\n",
       " 'http://www.ppomppu.co.kr/zboard/zboard.php?id=lineagem',\n",
       " 'http://www.ppomppu.co.kr/zboard/zboard.php?id=pubg',\n",
       " 'http://www.ppomppu.co.kr/zboard/zboard.php?id=overwatch',\n",
       " 'http://www.ppomppu.co.kr/zboard/zboard.php?id=clashroyale',\n",
       " 'http://www.ppomppu.co.kr/zboard/zboard.php?id=pokemongo',\n",
       " 'http://www.ppomppu.co.kr/zboard/zboard.php?id=fifaonline',\n",
       " 'http://www.ppomppu.co.kr/zboard/zboard.php?id=drama',\n",
       " 'http://www.ppomppu.co.kr/zboard/zboard.php?id=book',\n",
       " 'http://www.ppomppu.co.kr/zboard/zboard.php?id=animation',\n",
       " 'http://www.ppomppu.co.kr/zboard/zboard.php?id=munwha',\n",
       " 'http://www.ppomppu.co.kr/zboard/zboard.php?id=announcer',\n",
       " 'http://www.ppomppu.co.kr/zboard/zboard.php?id=star',\n",
       " 'http://www.ppomppu.co.kr/zboard/zboard.php?id=movie',\n",
       " 'http://www.ppomppu.co.kr/zboard/zboard.php?id=music',\n",
       " 'http://www.ppomppu.co.kr/zboard/zboard.php?id=diy',\n",
       " 'http://www.ppomppu.co.kr/zboard/zboard.php?id=rc',\n",
       " 'http://www.ppomppu.co.kr/zboard/zboard.php?id=camera',\n",
       " 'http://www.ppomppu.co.kr/zboard/zboard.php?id=watch',\n",
       " 'http://www.ppomppu.co.kr/zboard/zboard.php?id=interior',\n",
       " 'http://www.ppomppu.co.kr/zboard/zboard.php?id=e_unicycle',\n",
       " 'http://www.ppomppu.co.kr/zboard/zboard.php?id=alcohol',\n",
       " 'http://www.ppomppu.co.kr/zboard/zboard.php?id=hobby',\n",
       " 'http://www.ppomppu.co.kr/zboard/zboard.php?id=coffee',\n",
       " 'http://www.ppomppu.co.kr/zboard/zboard.php?id=f7080',\n",
       " 'http://www.ppomppu.co.kr/zboard/zboard.php?id=morethan40',\n",
       " 'http://www.ppomppu.co.kr/zboard/zboard.php?id=developer',\n",
       " 'http://www.ppomppu.co.kr/zboard/zboard.php?id=army',\n",
       " 'http://www.ppomppu.co.kr/zboard/zboard.php?id=univ_student',\n",
       " 'http://www.ppomppu.co.kr/zboard/zboard.php?id=miz',\n",
       " 'http://www.ppomppu.co.kr/zboard/zboard.php?id=volunteer',\n",
       " 'http://www.ppomppu.co.kr/zboard/zboard.php?id=adult',\n",
       " 'http://www.ppomppu.co.kr/zboard/zboard.php?id=worker',\n",
       " 'http://www.ppomppu.co.kr/zboard/zboard.php?id=honjok',\n",
       " 'http://www.ppomppu.co.kr/zboard/zboard.php?id=fear',\n",
       " 'http://www.ppomppu.co.kr/zboard/zboard.php?id=science',\n",
       " 'http://www.ppomppu.co.kr/zboard/zboard.php?id=mungu',\n",
       " 'http://www.ppomppu.co.kr/zboard/zboard.php?id=stylesheet',\n",
       " 'http://www.ppomppu.co.kr/zboard/zboard.php?id=beauty',\n",
       " 'http://www.ppomppu.co.kr/zboard/zboard.php?id=history',\n",
       " 'http://www.ppomppu.co.kr/zboard/zboard.php?id=style',\n",
       " 'http://www.ppomppu.co.kr/zboard/zboard.php?id=whatever',\n",
       " 'http://www.ppomppu.co.kr/zboard/zboard.php?id=alba',\n",
       " 'http://www.ppomppu.co.kr/zboard/zboard.php?id=employment',\n",
       " 'http://www.ppomppu.co.kr/zboard/zboard.php?id=study',\n",
       " '/recent_forum_article.php',\n",
       " 'http://www.ppomppu.co.kr/recent_main_article.php?type=news',\n",
       " 'http://www.ppomppu.co.kr/zboard/zboard.php?id=news_broadcast',\n",
       " 'http://www.ppomppu.co.kr/zboard/zboard.php?id=news_sports',\n",
       " 'http://www.ppomppu.co.kr/zboard/zboard.php?id=news_life',\n",
       " 'http://www.ppomppu.co.kr/zboard/zboard.php?id=news_pol_eco',\n",
       " 'http://www.ppomppu.co.kr/zboard/zboard.php?id=news2',\n",
       " 'http://www.ppomppu.co.kr/zboard/zboard.php?id=news',\n",
       " 'http://www.ppomppu.co.kr/recent_main_article.php?type=consult',\n",
       " 'http://www.ppomppu.co.kr/zboard/zboard.php?id=consulting',\n",
       " 'http://www.ppomppu.co.kr/zboard/zboard.php?id=loan_consult',\n",
       " 'http://www.ppomppu.co.kr/zboard/zboard.php?id=wedding_consult',\n",
       " 'http://www.ppomppu.co.kr/zboard/zboard.php?id=move_consult',\n",
       " 'http://www.ppomppu.co.kr/zboard/zboard.php?id=tour_consult',\n",
       " 'http://www.ppomppu.co.kr/zboard/zboard.php?id=interior_consult',\n",
       " 'http://www.ppomppu.co.kr/zboard/zboard.php?id=bus_consult',\n",
       " 'http://www.ppomppu.co.kr/zboard/zboard.php?id=security_guard_consult',\n",
       " '/zboard/zboard.php?id=phone_consult',\n",
       " 'http://www.ppomppu.co.kr/zboard/zboard.php?id=tele_consult',\n",
       " 'http://www.ppomppu.co.kr/zboard/zboard.php?id=card_consult',\n",
       " 'http://www.ppomppu.co.kr/zboard/zboard.php?id=rental_consult',\n",
       " 'http://www.ppomppu.co.kr/zboard/zboard.php?id=law_consult',\n",
       " 'http://www.ppomppu.co.kr/zboard/zboard.php?id=tax_consult',\n",
       " 'http://www.ppomppu.co.kr/zboard/zboard.php?id=uhak_consult',\n",
       " 'http://www.ppomppu.co.kr/zboard/zboard.php?id=car_service',\n",
       " 'http://www.ppomppu.co.kr/zboard/zboard.php?id=car_consult',\n",
       " '/zboard/zboard.php?id=pc_consult',\n",
       " 'http://www.ppomppu.co.kr/zboard/zboard.php?id=ad_consult',\n",
       " 'https://www.ppomppu.co.kr/zboard/login.php?r_url=http%3A%2F%2Fwww.ppomppu.co.kr%2Fzboard%2Fzboard.php%3Fid%3Dfreeboard%26q%3D%25ED%2595%259C%25EA%25B8%2580',\n",
       " '/https_redirect.php',\n",
       " 'https://www.ppomppu.co.kr/auth/auth.php?tab=id',\n",
       " 'https://www.ppomppu.co.kr/auth/auth.php?tab=pwd',\n",
       " '/zboard/zboard.php?id=freeboard',\n",
       " '/zboard/zboard.php?id=issue',\n",
       " '/zboard/zboard.php?id=humor',\n",
       " '/zboard/zboard.php?id=help',\n",
       " '/zboard/view.php?id=regulation&page=2&divpage=1&no=6',\n",
       " '/zboard/zboard.php?id=issue',\n",
       " '/zboard/zboard.php?id=help',\n",
       " '/hot.php?id=freeboard',\n",
       " '#',\n",
       " 'view.php?id=regulation&page=1&divpage=202&no=6',\n",
       " '#',\n",
       " 'view.php?id=freeboard&page=1&divpage=1111&no=5951712',\n",
       " '#',\n",
       " 'view.php?id=freeboard&page=1&divpage=1111&no=5951711',\n",
       " '#',\n",
       " 'view.php?id=freeboard&page=1&divpage=1111&no=5951710',\n",
       " '#',\n",
       " 'view.php?id=freeboard&page=1&divpage=1111&no=5951709',\n",
       " '#',\n",
       " 'view.php?id=freeboard&page=1&divpage=1111&no=5951708',\n",
       " '#',\n",
       " 'view.php?id=freeboard&page=1&divpage=1111&no=5951707',\n",
       " '#',\n",
       " 'view.php?id=freeboard&page=1&divpage=1111&no=5951706',\n",
       " '#',\n",
       " 'view.php?id=freeboard&page=1&divpage=1111&no=5951705',\n",
       " '#',\n",
       " 'view.php?id=freeboard&page=1&divpage=1111&no=5951704',\n",
       " '#',\n",
       " 'view.php?id=freeboard&page=1&divpage=1111&no=5951703',\n",
       " '#',\n",
       " 'view.php?id=freeboard&page=1&divpage=1111&no=5951702',\n",
       " '#',\n",
       " 'view.php?id=freeboard&page=1&divpage=1111&no=5951701',\n",
       " '#',\n",
       " 'view.php?id=freeboard&page=1&divpage=1111&no=5951700',\n",
       " '#',\n",
       " 'view.php?id=freeboard&page=1&divpage=1111&no=5951699',\n",
       " '#',\n",
       " 'view.php?id=freeboard&page=1&divpage=1111&no=5951698',\n",
       " '#',\n",
       " 'view.php?id=freeboard&page=1&divpage=1111&no=5951697',\n",
       " '#',\n",
       " 'view.php?id=freeboard&page=1&divpage=1111&no=5951696',\n",
       " '#',\n",
       " 'view.php?id=freeboard&page=1&divpage=1111&no=5951695',\n",
       " '#',\n",
       " 'view.php?id=freeboard&page=1&divpage=1111&no=5951694',\n",
       " '#',\n",
       " 'view.php?id=freeboard&page=1&divpage=1111&no=5951693',\n",
       " '#',\n",
       " 'view.php?id=freeboard&page=1&divpage=1111&no=5951692',\n",
       " '#',\n",
       " 'view.php?id=freeboard&page=1&divpage=1111&no=5951691',\n",
       " '#',\n",
       " 'view.php?id=freeboard&page=1&divpage=1111&no=5951690',\n",
       " '#',\n",
       " 'view.php?id=freeboard&page=1&divpage=1111&no=5951689',\n",
       " '#',\n",
       " 'view.php?id=freeboard&page=1&divpage=1111&no=5951688',\n",
       " '#',\n",
       " 'view.php?id=freeboard&page=1&divpage=1111&no=5951687',\n",
       " '#',\n",
       " 'view.php?id=freeboard&page=1&divpage=1111&no=5951686',\n",
       " '#',\n",
       " 'view.php?id=freeboard&page=1&divpage=1111&no=5951685',\n",
       " '#',\n",
       " 'view.php?id=freeboard&page=1&divpage=1111&no=5951684',\n",
       " '#',\n",
       " 'view.php?id=freeboard&page=1&divpage=1111&no=5951683',\n",
       " '/zboard/zboard.php?id=freeboard&page=1&prev_no=&divpage=1111',\n",
       " '/zboard/zboard.php?id=freeboard&page=2&divpage=1111',\n",
       " '/zboard/zboard.php?id=freeboard&page=2&divpage=1111',\n",
       " '/zboard/zboard.php?id=freeboard&page=3&divpage=1111',\n",
       " '/zboard/zboard.php?id=freeboard&page=4&divpage=1111',\n",
       " '/zboard/zboard.php?id=freeboard&page=5&divpage=1111',\n",
       " '/zboard/zboard.php?id=freeboard&page=6&divpage=1111',\n",
       " '/zboard/zboard.php?id=freeboard&page=7&divpage=1111',\n",
       " '/zboard/zboard.php?id=freeboard&page=8&divpage=1111',\n",
       " '/zboard/zboard.php?id=freeboard&page=9&divpage=1111',\n",
       " '/zboard/zboard.php?id=freeboard&page=10&divpage=1111',\n",
       " '/zboard/zboard.php?id=freeboard&page=11&divpage=1111',\n",
       " '/zboard/zboard.php?id=shopping',\n",
       " '/zboard/view.php?id=shopping&no=9802',\n",
       " '/zboard/view.php?id=shopping&no=9801',\n",
       " '/zboard/zboard.php?id=car_service',\n",
       " '/zboard/view.php?id=car_service&no=109854',\n",
       " '/zboard/view.php?id=car_service&no=109853',\n",
       " 'http://www.ppomppu.co.kr/zboard/zboard.php?id=faq',\n",
       " 'http://www.ppomppu.co.kr/zboard/zboard.php?id=propose',\n",
       " 'http://www.ppomppu.co.kr/zboard/zboard.php?id=apply',\n",
       " 'http://www.ppomppu.co.kr/myinfo/member_my_write_list.php',\n",
       " 'http://www.ppomppu.co.kr/service/request.php',\n",
       " 'http://www.ppomppu.co.kr/zboard/view.php?id=regulation&page=2&divpage=1&no=4',\n",
       " 'http://www.ppomppu.co.kr/zboard/view.php?id=regulation&no=34',\n",
       " 'http://www.ppomppu.co.kr/zboard/view.php?id=regulation&page=2&divpage=1&no=5',\n",
       " 'http://www.ppomppu.co.kr/zboard/view.php?id=faq&no=17',\n",
       " 'mailto:webmaster@ppomppu.co.kr']"
      ]
     },
     "execution_count": 174,
     "metadata": {},
     "output_type": "execute_result"
    }
   ],
   "source": [
    "seed = \"http://www.ppomppu.co.kr/zboard/zboard.php?id=freeboard\"\n",
    "\n",
    "getUrl(seed,params)\n",
    "\n"
   ]
  },
  {
   "cell_type": "markdown",
   "metadata": {},
   "source": [
    "뽐뿌는 표준이 안되어있고 . c 를가지고 lxml 로 파싱을하는데 닫고열고가 정확히 중요해야한다 그래서 lxml 로 불러오기가 힘들다 . 따라서 파서를 바꿔주어야한다."
   ]
  },
  {
   "cell_type": "code",
   "execution_count": 175,
   "metadata": {},
   "outputs": [
    {
     "data": {
      "text/plain": [
       "['view.php?id=regulation&page=1&divpage=202&no=6',\n",
       " 'view.php?id=freeboard&page=1&divpage=1111&no=5951712',\n",
       " 'view.php?id=freeboard&page=1&divpage=1111&no=5951711',\n",
       " 'view.php?id=freeboard&page=1&divpage=1111&no=5951710',\n",
       " 'view.php?id=freeboard&page=1&divpage=1111&no=5951709',\n",
       " 'view.php?id=freeboard&page=1&divpage=1111&no=5951708',\n",
       " 'view.php?id=freeboard&page=1&divpage=1111&no=5951707',\n",
       " 'view.php?id=freeboard&page=1&divpage=1111&no=5951706',\n",
       " 'view.php?id=freeboard&page=1&divpage=1111&no=5951705',\n",
       " 'view.php?id=freeboard&page=1&divpage=1111&no=5951704',\n",
       " 'view.php?id=freeboard&page=1&divpage=1111&no=5951703',\n",
       " 'view.php?id=freeboard&page=1&divpage=1111&no=5951702',\n",
       " 'view.php?id=freeboard&page=1&divpage=1111&no=5951701',\n",
       " 'view.php?id=freeboard&page=1&divpage=1111&no=5951700',\n",
       " 'view.php?id=freeboard&page=1&divpage=1111&no=5951699',\n",
       " 'view.php?id=freeboard&page=1&divpage=1111&no=5951698',\n",
       " 'view.php?id=freeboard&page=1&divpage=1111&no=5951697',\n",
       " 'view.php?id=freeboard&page=1&divpage=1111&no=5951696',\n",
       " 'view.php?id=freeboard&page=1&divpage=1111&no=5951695',\n",
       " 'view.php?id=freeboard&page=1&divpage=1111&no=5951694',\n",
       " 'view.php?id=freeboard&page=1&divpage=1111&no=5951693',\n",
       " 'view.php?id=freeboard&page=1&divpage=1111&no=5951692',\n",
       " 'view.php?id=freeboard&page=1&divpage=1111&no=5951691',\n",
       " 'view.php?id=freeboard&page=1&divpage=1111&no=5951690',\n",
       " 'view.php?id=freeboard&page=1&divpage=1111&no=5951689',\n",
       " 'view.php?id=freeboard&page=1&divpage=1111&no=5951688',\n",
       " 'view.php?id=freeboard&page=1&divpage=1111&no=5951687',\n",
       " 'view.php?id=freeboard&page=1&divpage=1111&no=5951686',\n",
       " 'view.php?id=freeboard&page=1&divpage=1111&no=5951685',\n",
       " 'view.php?id=freeboard&page=1&divpage=1111&no=5951684',\n",
       " 'view.php?id=freeboard&page=1&divpage=1111&no=5951683']"
      ]
     },
     "execution_count": 175,
     "metadata": {},
     "output_type": "execute_result"
    }
   ],
   "source": [
    "select = \"td.list_vspace > a\"\n",
    "queue = getUrl(seed,params,select)\n",
    "queue"
   ]
  },
  {
   "cell_type": "code",
   "execution_count": 150,
   "metadata": {},
   "outputs": [],
   "source": []
  },
  {
   "cell_type": "code",
   "execution_count": null,
   "metadata": {},
   "outputs": [],
   "source": []
  }
 ],
 "metadata": {
  "kernelspec": {
   "display_name": "Python 3",
   "language": "python",
   "name": "python3"
  },
  "language_info": {
   "codemirror_mode": {
    "name": "ipython",
    "version": 3
   },
   "file_extension": ".py",
   "mimetype": "text/x-python",
   "name": "python",
   "nbconvert_exporter": "python",
   "pygments_lexer": "ipython3",
   "version": "3.6.5"
  }
 },
 "nbformat": 4,
 "nbformat_minor": 2
}
