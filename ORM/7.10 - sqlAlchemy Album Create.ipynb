{
 "cells": [
  {
   "cell_type": "code",
   "execution_count": 71,
   "metadata": {},
   "outputs": [],
   "source": [
    "import sqlalchemy"
   ]
  },
  {
   "cell_type": "code",
   "execution_count": 72,
   "metadata": {},
   "outputs": [],
   "source": [
    "from sqlalchemy import *\n",
    "metadata = MetaData()"
   ]
  },
  {
   "cell_type": "code",
   "execution_count": 73,
   "metadata": {},
   "outputs": [],
   "source": [
    "from sqlalchemy import create_engine\n",
    "engine =  sqlalchemy.create_engine('sqlite:///mydb3.db',echo=True)\n",
    "#insert.bind  = engine"
   ]
  },
  {
   "cell_type": "code",
   "execution_count": 4,
   "metadata": {},
   "outputs": [
    {
     "name": "stdout",
     "output_type": "stream",
     "text": [
      "2018-07-10 15:58:53,865 INFO sqlalchemy.engine.base.Engine SELECT CAST('test plain returns' AS VARCHAR(60)) AS anon_1\n",
      "2018-07-10 15:58:53,867 INFO sqlalchemy.engine.base.Engine ()\n",
      "2018-07-10 15:58:53,869 INFO sqlalchemy.engine.base.Engine SELECT CAST('test unicode returns' AS VARCHAR(60)) AS anon_1\n",
      "2018-07-10 15:58:53,870 INFO sqlalchemy.engine.base.Engine ()\n",
      "2018-07-10 15:58:53,872 INFO sqlalchemy.engine.base.Engine PRAGMA table_info(\"Artist\")\n",
      "2018-07-10 15:58:53,873 INFO sqlalchemy.engine.base.Engine ()\n",
      "2018-07-10 15:58:53,874 INFO sqlalchemy.engine.base.Engine PRAGMA table_info(\"Album\")\n",
      "2018-07-10 15:58:53,875 INFO sqlalchemy.engine.base.Engine ()\n",
      "2018-07-10 15:58:53,876 INFO sqlalchemy.engine.base.Engine PRAGMA table_info(\"Genre\")\n",
      "2018-07-10 15:58:53,877 INFO sqlalchemy.engine.base.Engine ()\n",
      "2018-07-10 15:58:53,878 INFO sqlalchemy.engine.base.Engine PRAGMA table_info(\"Track\")\n",
      "2018-07-10 15:58:53,879 INFO sqlalchemy.engine.base.Engine ()\n",
      "2018-07-10 15:58:53,880 INFO sqlalchemy.engine.base.Engine \n",
      "CREATE TABLE \"Artist\" (\n",
      "\tid INTEGER NOT NULL, \n",
      "\tname VARCHAR NOT NULL, \n",
      "\tPRIMARY KEY (id)\n",
      ")\n",
      "\n",
      "\n",
      "2018-07-10 15:58:53,881 INFO sqlalchemy.engine.base.Engine ()\n",
      "2018-07-10 15:58:53,886 INFO sqlalchemy.engine.base.Engine COMMIT\n",
      "2018-07-10 15:58:53,887 INFO sqlalchemy.engine.base.Engine \n",
      "CREATE TABLE \"Genre\" (\n",
      "\tid INTEGER NOT NULL, \n",
      "\tname VARCHAR NOT NULL, \n",
      "\tPRIMARY KEY (id)\n",
      ")\n",
      "\n",
      "\n",
      "2018-07-10 15:58:53,888 INFO sqlalchemy.engine.base.Engine ()\n",
      "2018-07-10 15:58:53,893 INFO sqlalchemy.engine.base.Engine COMMIT\n",
      "2018-07-10 15:58:53,894 INFO sqlalchemy.engine.base.Engine \n",
      "CREATE TABLE \"Album\" (\n",
      "\tid INTEGER NOT NULL, \n",
      "\ttitle VARCHAR NOT NULL, \n",
      "\tartist_id INTEGER, \n",
      "\tPRIMARY KEY (id), \n",
      "\tFOREIGN KEY(artist_id) REFERENCES \"Artist\" (id)\n",
      ")\n",
      "\n",
      "\n",
      "2018-07-10 15:58:53,894 INFO sqlalchemy.engine.base.Engine ()\n",
      "2018-07-10 15:58:53,899 INFO sqlalchemy.engine.base.Engine COMMIT\n",
      "2018-07-10 15:58:53,900 INFO sqlalchemy.engine.base.Engine \n",
      "CREATE TABLE \"Track\" (\n",
      "\tid INTEGER NOT NULL, \n",
      "\ttitle VARCHAR NOT NULL, \n",
      "\tlength INTEGER NOT NULL, \n",
      "\trating INTEGER NOT NULL, \n",
      "\tcount INTEGER NOT NULL, \n",
      "\talbum_id INTEGER, \n",
      "\tgenre_id INTEGER, \n",
      "\tPRIMARY KEY (id), \n",
      "\tFOREIGN KEY(album_id) REFERENCES \"Album\" (id), \n",
      "\tFOREIGN KEY(genre_id) REFERENCES \"Genre\" (id)\n",
      ")\n",
      "\n",
      "\n",
      "2018-07-10 15:58:53,901 INFO sqlalchemy.engine.base.Engine ()\n",
      "2018-07-10 15:58:53,906 INFO sqlalchemy.engine.base.Engine COMMIT\n"
     ]
    }
   ],
   "source": [
    "artist = Table(\"Artist\", metadata, \n",
    "               Column(\"id\", Integer, primary_key=True),\n",
    "               Column(\"name\", String, nullable=False),\n",
    "               extend_existing=True)\n",
    "album = Table(\"Album\", metadata, \n",
    "              Column(\"id\", Integer, primary_key=True),\n",
    "              Column(\"title\", String, nullable=False),\n",
    "              Column(\"artist_id\", Integer, ForeignKey(\"Artist.id\")),\n",
    "              extend_existing=True)\n",
    "genre = Table(\"Genre\", metadata, \n",
    "              Column(\"id\", Integer, primary_key=True),\n",
    "              Column(\"name\", String, nullable=False),\n",
    "              extend_existing=True)\n",
    "\n",
    "track = Table(\"Track\", metadata,\n",
    "              Column(\"id\", Integer, primary_key=True),\n",
    "              Column(\"title\", String, nullable=False),\n",
    "              Column(\"length\", Integer, nullable=False),\n",
    "              Column(\"rating\", Integer, nullable=False),\n",
    "              Column(\"count\", Integer, nullable=False),\n",
    "              Column(\"album_id\", Integer, ForeignKey(\"Album.id\")),\n",
    "              Column(\"genre_id\", Integer, ForeignKey(\"Genre.id\")),\n",
    "              extend_existing=True)\n",
    "\n",
    "metadata.create_all(engine)\n",
    "   "
   ]
  },
  {
   "cell_type": "code",
   "execution_count": 5,
   "metadata": {},
   "outputs": [
    {
     "name": "stdout",
     "output_type": "stream",
     "text": [
      "Artist\n",
      "Album\n",
      "Genre\n",
      "Track\n",
      "2018-07-10 15:58:56,095 INFO sqlalchemy.engine.base.Engine SELECT name FROM sqlite_master WHERE type='table' ORDER BY name\n",
      "2018-07-10 15:58:56,096 INFO sqlalchemy.engine.base.Engine ()\n",
      "Album\n",
      "Artist\n",
      "Genre\n",
      "Track\n",
      "2018-07-10 15:58:56,099 INFO sqlalchemy.engine.base.Engine INSERT INTO \"Artist\" (name) VALUES (?)\n",
      "2018-07-10 15:58:56,100 INFO sqlalchemy.engine.base.Engine (('Led Zepplin',), ('AC/DC',))\n",
      "2018-07-10 15:58:56,102 INFO sqlalchemy.engine.base.Engine COMMIT\n",
      "2018-07-10 15:58:56,107 INFO sqlalchemy.engine.base.Engine INSERT INTO \"Album\" (title, artist_id) VALUES (?, ?)\n",
      "2018-07-10 15:58:56,107 INFO sqlalchemy.engine.base.Engine (('IV', 1), ('Who Made Who', 2))\n",
      "2018-07-10 15:58:56,109 INFO sqlalchemy.engine.base.Engine COMMIT\n",
      "2018-07-10 15:58:56,114 INFO sqlalchemy.engine.base.Engine INSERT INTO \"Genre\" (name) VALUES (?)\n",
      "2018-07-10 15:58:56,114 INFO sqlalchemy.engine.base.Engine (('Rock',), ('Metal',))\n",
      "2018-07-10 15:58:56,116 INFO sqlalchemy.engine.base.Engine COMMIT\n",
      "2018-07-10 15:58:56,120 INFO sqlalchemy.engine.base.Engine INSERT INTO \"Track\" (title, length, rating, count, genre_id) VALUES (?, ?, ?, ?, ?)\n",
      "2018-07-10 15:58:56,121 INFO sqlalchemy.engine.base.Engine (('Black Dog', 297, 5, 0, 1), ('StairWay to Heaven', 482, 5, 0, 1), ('About to rock', 313, 5, 0, 2), ('Who Made Who', 297, 5, 0, 2))\n",
      "2018-07-10 15:58:56,122 INFO sqlalchemy.engine.base.Engine COMMIT\n"
     ]
    },
    {
     "data": {
      "text/plain": [
       "<sqlalchemy.engine.result.ResultProxy at 0x22a05eb87f0>"
      ]
     },
     "execution_count": 5,
     "metadata": {},
     "output_type": "execute_result"
    }
   ],
   "source": [
    "\n",
    "conn = engine.connect()\n",
    "tables = metadata.tables\n",
    "for table in tables:\n",
    "    print(table)\n",
    "    \n",
    "for table in engine.table_names():\n",
    "    print(table)\n",
    "    \n",
    "#insert\n",
    "\n",
    "conn.execute(artist.insert(),[\n",
    "    {\"name\":\"Led Zepplin\"},\n",
    "    {\"name\":\"AC/DC\"}\n",
    "    \n",
    "])\n",
    "conn.execute(album.insert(),[\n",
    "    {\"title\":\"IV\",\"artist_id\":1},\n",
    "    {\"title\":\"Who Made Who\",\"artist_id\":2}\n",
    "    \n",
    "])\n",
    "conn.execute(genre.insert(),[\n",
    "    {\"name\":\"Rock\"},\n",
    "    {\"name\":\"Metal\"}\n",
    "])\n",
    "\n",
    "conn.execute(track.insert(),[\n",
    "    {\"title\":\"Black Dog\",\"rating\":5,\"length\":297,\"count\":0,\"album_id:\":1,\"genre_id\":1},\n",
    "    {\"title\":\"StairWay to Heaven\",\"rating\":5,\"length\":482,\"count\":0,\"album_id:\":1,\"genre_id\":1},\n",
    "    {\"title\":\"About to rock\",\"rating\":5,\"length\":313,\"count\":0,\"album_id:\":2,\"genre_id\":2},\n",
    "    {\"title\":\"Who Made Who\",\"rating\":5,\"length\":297,\"count\":0,\"album_id:\":2,\"genre_id\":2},\n",
    "    \n",
    "])"
   ]
  },
  {
   "cell_type": "code",
   "execution_count": 6,
   "metadata": {},
   "outputs": [
    {
     "name": "stdout",
     "output_type": "stream",
     "text": [
      "Artist\n",
      "Album\n",
      "Genre\n",
      "Track\n"
     ]
    }
   ],
   "source": [
    "for row in metadata.tables:\n",
    "    print(row)"
   ]
  },
  {
   "cell_type": "code",
   "execution_count": 7,
   "metadata": {},
   "outputs": [
    {
     "name": "stdout",
     "output_type": "stream",
     "text": [
      "2018-07-10 15:59:04,511 INFO sqlalchemy.engine.base.Engine SELECT \"Artist\".id, \"Artist\".name \n",
      "FROM \"Artist\"\n",
      "2018-07-10 15:59:04,512 INFO sqlalchemy.engine.base.Engine ()\n",
      "type:  <class 'sqlalchemy.engine.result.ResultProxy'>\n",
      "(1, 'Led Zepplin')\n",
      "(2, 'AC/DC')\n",
      "2018-07-10 15:59:04,515 INFO sqlalchemy.engine.base.Engine SELECT \"Album\".id, \"Album\".title, \"Album\".artist_id \n",
      "FROM \"Album\"\n",
      "2018-07-10 15:59:04,515 INFO sqlalchemy.engine.base.Engine ()\n",
      "(1, 'IV', 1)\n",
      "(2, 'Who Made Who', 2)\n",
      "2018-07-10 15:59:04,518 INFO sqlalchemy.engine.base.Engine SELECT \"Genre\".id, \"Genre\".name \n",
      "FROM \"Genre\"\n",
      "2018-07-10 15:59:04,518 INFO sqlalchemy.engine.base.Engine ()\n",
      "(1, 'Rock')\n",
      "(2, 'Metal')\n",
      "2018-07-10 15:59:04,520 INFO sqlalchemy.engine.base.Engine SELECT \"Track\".id, \"Track\".title, \"Track\".length, \"Track\".rating, \"Track\".count, \"Track\".album_id, \"Track\".genre_id \n",
      "FROM \"Track\"\n",
      "2018-07-10 15:59:04,521 INFO sqlalchemy.engine.base.Engine ()\n",
      "(1, 'Black Dog', 297, 5, 0, None, 1)\n",
      "(2, 'StairWay to Heaven', 482, 5, 0, None, 1)\n",
      "(3, 'About to rock', 313, 5, 0, None, 2)\n",
      "(4, 'Who Made Who', 297, 5, 0, None, 2)\n"
     ]
    }
   ],
   "source": [
    "artistResult = conn.execute(artist.select())\n",
    "print(\"type: \" ,type(artistResult)) #커서\n",
    "for row in artistResult:\n",
    "    print(row)\n",
    "\n",
    "albumResult = conn.execute(album.select())\n",
    "for row in albumResult:\n",
    "    print(row)\n",
    "    \n",
    "genreResult = conn.execute(genre.select())\n",
    "for row in genreResult:\n",
    "    print(row)\n",
    "    \n",
    "trackResult = conn.execute(track.select())\n",
    "for row in trackResult:\n",
    "    print(row)"
   ]
  },
  {
   "cell_type": "code",
   "execution_count": 25,
   "metadata": {
    "scrolled": true
   },
   "outputs": [
    {
     "name": "stdout",
     "output_type": "stream",
     "text": [
      "2018-07-10 16:08:26,723 INFO sqlalchemy.engine.base.Engine SELECT \"Track\".id, \"Track\".title, \"Track\".length, \"Track\".rating, \"Track\".count, \"Track\".album_id, \"Track\".genre_id \n",
      "FROM \"Track\" \n",
      "WHERE \"Track\".album_id = ? AND (\"Track\".genre_id = ? OR \"Track\".genre_id = ?)\n",
      "2018-07-10 16:08:26,724 INFO sqlalchemy.engine.base.Engine (1, 1, 2)\n"
     ]
    }
   ],
   "source": [
    "#크로스 조인 ,해당되는것을 가져오니까 이너조인\n",
    "trackResult = conn.execute(select([track]).where(and_(track.c.album_id == 1 ,or_(track.c.genre_id==1, track.c.genre_id==2))))\n"
   ]
  },
  {
   "cell_type": "code",
   "execution_count": 31,
   "metadata": {
    "scrolled": false
   },
   "outputs": [
    {
     "name": "stdout",
     "output_type": "stream",
     "text": [
      "2018-07-10 16:13:12,602 INFO sqlalchemy.engine.base.Engine SELECT \"Track\".id, \"Track\".title, \"Track\".length, \"Track\".rating, \"Track\".count, \"Track\".album_id, \"Track\".genre_id \n",
      "FROM \"Track\"\n",
      "2018-07-10 16:13:12,603 INFO sqlalchemy.engine.base.Engine ()\n"
     ]
    }
   ],
   "source": [
    "result = conn.execute(select([track]))"
   ]
  },
  {
   "cell_type": "code",
   "execution_count": 32,
   "metadata": {},
   "outputs": [
    {
     "name": "stdout",
     "output_type": "stream",
     "text": [
      "(1, 'Black Dog', 297, 5, 0, 2, 1)\n",
      "(2, 'StairWay to Heaven', 482, 5, 0, 2, 1)\n",
      "(3, 'About to rock', 313, 5, 0, 1, 2)\n",
      "(4, 'Who Made Who', 297, 5, 0, 1, 2)\n"
     ]
    }
   ],
   "source": [
    "for row in result:\n",
    "    print(row)"
   ]
  },
  {
   "cell_type": "code",
   "execution_count": 29,
   "metadata": {
    "scrolled": true
   },
   "outputs": [
    {
     "name": "stdout",
     "output_type": "stream",
     "text": [
      "2018-07-10 16:12:58,737 INFO sqlalchemy.engine.base.Engine SELECT \"Track\".id, \"Track\".title, \"Track\".length, \"Track\".rating, \"Track\".count, \"Track\".album_id, \"Track\".genre_id \n",
      "FROM \"Track\"\n",
      "2018-07-10 16:12:58,738 INFO sqlalchemy.engine.base.Engine ()\n"
     ]
    }
   ],
   "source": [
    "result = conn.execute(select([track]))"
   ]
  },
  {
   "cell_type": "code",
   "execution_count": null,
   "metadata": {},
   "outputs": [],
   "source": [
    "from sqlalchemy import update"
   ]
  },
  {
   "cell_type": "code",
   "execution_count": 59,
   "metadata": {
    "scrolled": true
   },
   "outputs": [
    {
     "name": "stdout",
     "output_type": "stream",
     "text": [
      "2018-07-10 16:23:50,373 INFO sqlalchemy.engine.base.Engine UPDATE \"Track\" SET album_id=? WHERE \"Track\".id < ?\n",
      "2018-07-10 16:23:50,374 INFO sqlalchemy.engine.base.Engine (1, 3)\n",
      "2018-07-10 16:23:50,376 INFO sqlalchemy.engine.base.Engine COMMIT\n",
      "2018-07-10 16:23:50,380 INFO sqlalchemy.engine.base.Engine UPDATE \"Track\" SET album_id=? WHERE \"Track\".id > ?\n",
      "2018-07-10 16:23:50,381 INFO sqlalchemy.engine.base.Engine (2, 2)\n",
      "2018-07-10 16:23:50,383 INFO sqlalchemy.engine.base.Engine COMMIT\n"
     ]
    },
    {
     "data": {
      "text/plain": [
       "<sqlalchemy.engine.result.ResultProxy at 0x22a0606a5f8>"
      ]
     },
     "execution_count": 59,
     "metadata": {},
     "output_type": "execute_result"
    }
   ],
   "source": [
    "conn.execute(track.update().values(album_id=1).where(track.c.id<3))\n",
    "conn.execute(track.update().values(album_id=2).where(track.c.id>2))"
   ]
  },
  {
   "cell_type": "code",
   "execution_count": 60,
   "metadata": {},
   "outputs": [
    {
     "name": "stdout",
     "output_type": "stream",
     "text": [
      "\"Track\" JOIN \"Album\" ON \"Album\".id = \"Track\".album_id\n"
     ]
    }
   ],
   "source": [
    "#left outer join , inner join 기준이 되는애가 track 이 되도록, 그러고나서 album 을 조인을 해줄것이다.\n",
    "\n",
    "print(track.join(album))"
   ]
  },
  {
   "cell_type": "code",
   "execution_count": 61,
   "metadata": {},
   "outputs": [
    {
     "name": "stdout",
     "output_type": "stream",
     "text": [
      "2018-07-10 16:23:55,676 INFO sqlalchemy.engine.base.Engine SELECT \"Track\".id, \"Track\".title, \"Track\".length, \"Track\".rating, \"Track\".count, \"Track\".album_id, \"Track\".genre_id \n",
      "FROM \"Track\" JOIN \"Album\" ON \"Album\".id = \"Track\".album_id\n",
      "2018-07-10 16:23:55,677 INFO sqlalchemy.engine.base.Engine ()\n"
     ]
    }
   ],
   "source": [
    "result  = conn.execute(track.select().select_from(track.join(album)))"
   ]
  },
  {
   "cell_type": "code",
   "execution_count": 62,
   "metadata": {},
   "outputs": [
    {
     "name": "stdout",
     "output_type": "stream",
     "text": [
      "(1, 'Black Dog', 297, 5, 0, 1, 1)\n",
      "(2, 'StairWay to Heaven', 482, 5, 0, 1, 1)\n",
      "(3, 'About to rock', 313, 5, 0, 2, 2)\n",
      "(4, 'Who Made Who', 297, 5, 0, 2, 2)\n"
     ]
    }
   ],
   "source": [
    "for row in result:\n",
    "    print(row)"
   ]
  },
  {
   "cell_type": "code",
   "execution_count": 33,
   "metadata": {},
   "outputs": [
    {
     "name": "stdout",
     "output_type": "stream",
     "text": [
      "\"Track\" JOIN \"Album\" ON \"Album\".id = \"Track\".album_id\n"
     ]
    }
   ],
   "source": [
    "print(track.join(album))"
   ]
  },
  {
   "cell_type": "code",
   "execution_count": 34,
   "metadata": {},
   "outputs": [
    {
     "name": "stdout",
     "output_type": "stream",
     "text": [
      "\"Track\" JOIN \"Album\" ON \"Album\".id = \"Track\".album_id JOIN \"Genre\" ON \"Genre\".id = \"Track\".genre_id\n"
     ]
    }
   ],
   "source": [
    "print(track.join(album).join(genre))"
   ]
  },
  {
   "cell_type": "code",
   "execution_count": 74,
   "metadata": {},
   "outputs": [
    {
     "name": "stdout",
     "output_type": "stream",
     "text": [
      "2018-07-10 16:45:59,622 INFO sqlalchemy.engine.base.Engine SELECT \"Track\".title, \"Album\".title, \"Genre\".name, \"Artist\".name \n",
      "FROM \"Track\" JOIN \"Album\" ON \"Album\".id = \"Track\".album_id JOIN \"Genre\" ON \"Genre\".id = \"Track\".genre_id JOIN \"Artist\" ON \"Artist\".id = \"Album\".artist_id\n",
      "2018-07-10 16:45:59,623 INFO sqlalchemy.engine.base.Engine ()\n"
     ]
    }
   ],
   "source": [
    "result = conn.execute(select([track.c.title,album.c.title,genre.c.name,artist.c.name]).select_from(track.join(album).join(genre).join(artist)))"
   ]
  },
  {
   "cell_type": "code",
   "execution_count": 75,
   "metadata": {},
   "outputs": [
    {
     "name": "stdout",
     "output_type": "stream",
     "text": [
      "('Black Dog', 'IV', 'Rock', 'Led Zepplin')\n",
      "('StairWay to Heaven', 'IV', 'Rock', 'Led Zepplin')\n",
      "('About to rock', 'Who Made Who', 'Metal', 'AC/DC')\n",
      "('Who Made Who', 'Who Made Who', 'Metal', 'AC/DC')\n"
     ]
    }
   ],
   "source": [
    "for row in result.fetchall():\n",
    "    print(row)"
   ]
  },
  {
   "cell_type": "code",
   "execution_count": 89,
   "metadata": {},
   "outputs": [
    {
     "name": "stdout",
     "output_type": "stream",
     "text": [
      "2018-07-10 16:48:15,028 INFO sqlalchemy.engine.base.Engine SELECT \"Track\".id, \"Track\".title, \"Track\".length, \"Track\".rating, \"Track\".count, \"Track\".album_id, \"Track\".genre_id \n",
      "FROM \"Track\" JOIN \"Album\" ON \"Album\".id = \"Track\".album_id JOIN \"Genre\" ON \"Genre\".id = \"Track\".genre_id JOIN \"Artist\" ON \"Artist\".id = \"Album\".artist_id \n",
      "WHERE \"Genre\".id = ? AND \"Artist\".id = ?\n",
      "2018-07-10 16:48:15,032 INFO sqlalchemy.engine.base.Engine (1, 1)\n"
     ]
    }
   ],
   "source": [
    "result = conn.execute(track.select().select_from(track.join(album).join(genre).join(artist)).where(and_(genre.c.id==1,artist.c.id==1)))"
   ]
  },
  {
   "cell_type": "code",
   "execution_count": 90,
   "metadata": {},
   "outputs": [
    {
     "name": "stdout",
     "output_type": "stream",
     "text": [
      "(1, 'Black Dog', 297, 5, 0, 1, 1)\n",
      "(2, 'StairWay to Heaven', 482, 5, 0, 1, 1)\n"
     ]
    }
   ],
   "source": [
    "for row in result:\n",
    "    print(row)"
   ]
  },
  {
   "cell_type": "code",
   "execution_count": 67,
   "metadata": {},
   "outputs": [],
   "source": [
    "tables = metadata.tables"
   ]
  },
  {
   "cell_type": "code",
   "execution_count": 68,
   "metadata": {},
   "outputs": [
    {
     "name": "stdout",
     "output_type": "stream",
     "text": [
      "Artist\n",
      "Album\n",
      "Genre\n",
      "Track\n"
     ]
    }
   ],
   "source": [
    "for table in tables:\n",
    "    print(table)"
   ]
  },
  {
   "cell_type": "code",
   "execution_count": 69,
   "metadata": {},
   "outputs": [],
   "source": [
    "track = metadata.tables[\"Track\"]"
   ]
  },
  {
   "cell_type": "code",
   "execution_count": 70,
   "metadata": {},
   "outputs": [
    {
     "data": {
      "text/plain": [
       "Table('Track', MetaData(bind=None), Column('id', Integer(), table=<Track>, primary_key=True, nullable=False), Column('title', String(), table=<Track>, nullable=False), Column('length', Integer(), table=<Track>, nullable=False), Column('rating', Integer(), table=<Track>, nullable=False), Column('count', Integer(), table=<Track>, nullable=False), Column('album_id', Integer(), ForeignKey('Album.id'), table=<Track>), Column('genre_id', Integer(), ForeignKey('Genre.id'), table=<Track>), schema=None)"
      ]
     },
     "execution_count": 70,
     "metadata": {},
     "output_type": "execute_result"
    }
   ],
   "source": [
    "track"
   ]
  },
  {
   "cell_type": "code",
   "execution_count": null,
   "metadata": {},
   "outputs": [],
   "source": [
    "f"
   ]
  }
 ],
 "metadata": {
  "kernelspec": {
   "display_name": "Python 3",
   "language": "python",
   "name": "python3"
  },
  "language_info": {
   "codemirror_mode": {
    "name": "ipython",
    "version": 3
   },
   "file_extension": ".py",
   "mimetype": "text/x-python",
   "name": "python",
   "nbconvert_exporter": "python",
   "pygments_lexer": "ipython3",
   "version": "3.6.5"
  }
 },
 "nbformat": 4,
 "nbformat_minor": 2
}
