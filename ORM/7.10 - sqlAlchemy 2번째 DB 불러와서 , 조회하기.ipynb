{
 "cells": [
  {
   "cell_type": "code",
   "execution_count": 1,
   "metadata": {},
   "outputs": [],
   "source": [
    "from sqlalchemy import create_engine, MetaData "
   ]
  },
  {
   "cell_type": "code",
   "execution_count": 2,
   "metadata": {},
   "outputs": [],
   "source": [
    "\n",
    "\n",
    "engine = create_engine(\"sqlite:///mydb3.db\",echo=True) # ///세게인이유는 호스트니까. echo는 만들때 로그를 찍어줌, 엔진을 만들어준다 ."
   ]
  },
  {
   "cell_type": "markdown",
   "metadata": {},
   "source": [
    "mydb3.db 라는 데이터베이스 파일에서 작업을 하였기에 불러오는 작업 , sqlAlchemy DB 구축 첫번째장에서 mydb3.db 사용하였음 "
   ]
  },
  {
   "cell_type": "code",
   "execution_count": 3,
   "metadata": {},
   "outputs": [
    {
     "name": "stdout",
     "output_type": "stream",
     "text": [
      "2018-07-12 10:17:56,948 INFO sqlalchemy.engine.base.Engine SELECT CAST('test plain returns' AS VARCHAR(60)) AS anon_1\n",
      "2018-07-12 10:17:56,951 INFO sqlalchemy.engine.base.Engine ()\n",
      "2018-07-12 10:17:56,953 INFO sqlalchemy.engine.base.Engine SELECT CAST('test unicode returns' AS VARCHAR(60)) AS anon_1\n",
      "2018-07-12 10:17:56,953 INFO sqlalchemy.engine.base.Engine ()\n"
     ]
    }
   ],
   "source": [
    "conn = engine.connect()"
   ]
  },
  {
   "cell_type": "code",
   "execution_count": null,
   "metadata": {},
   "outputs": [],
   "source": []
  },
  {
   "cell_type": "code",
   "execution_count": 10,
   "metadata": {},
   "outputs": [
    {
     "name": "stdout",
     "output_type": "stream",
     "text": [
      "2018-07-10 16:29:09,451 INFO sqlalchemy.engine.base.Engine SELECT name FROM sqlite_master WHERE type='table' ORDER BY name\n",
      "2018-07-10 16:29:09,452 INFO sqlalchemy.engine.base.Engine ()\n",
      "2018-07-10 16:29:09,453 INFO sqlalchemy.engine.base.Engine PRAGMA table_info(\"Album\")\n",
      "2018-07-10 16:29:09,454 INFO sqlalchemy.engine.base.Engine ()\n",
      "2018-07-10 16:29:09,456 INFO sqlalchemy.engine.base.Engine SELECT sql FROM  (SELECT * FROM sqlite_master UNION ALL   SELECT * FROM sqlite_temp_master) WHERE name = 'Album' AND type = 'table'\n",
      "2018-07-10 16:29:09,457 INFO sqlalchemy.engine.base.Engine ()\n",
      "2018-07-10 16:29:09,459 INFO sqlalchemy.engine.base.Engine PRAGMA foreign_key_list(\"Album\")\n",
      "2018-07-10 16:29:09,459 INFO sqlalchemy.engine.base.Engine ()\n",
      "2018-07-10 16:29:09,461 INFO sqlalchemy.engine.base.Engine SELECT sql FROM  (SELECT * FROM sqlite_master UNION ALL   SELECT * FROM sqlite_temp_master) WHERE name = 'Album' AND type = 'table'\n",
      "2018-07-10 16:29:09,461 INFO sqlalchemy.engine.base.Engine ()\n",
      "2018-07-10 16:29:09,463 INFO sqlalchemy.engine.base.Engine PRAGMA table_info(\"Artist\")\n",
      "2018-07-10 16:29:09,464 INFO sqlalchemy.engine.base.Engine ()\n",
      "2018-07-10 16:29:09,465 INFO sqlalchemy.engine.base.Engine SELECT sql FROM  (SELECT * FROM sqlite_master UNION ALL   SELECT * FROM sqlite_temp_master) WHERE name = 'Artist' AND type = 'table'\n",
      "2018-07-10 16:29:09,466 INFO sqlalchemy.engine.base.Engine ()\n",
      "2018-07-10 16:29:09,467 INFO sqlalchemy.engine.base.Engine PRAGMA foreign_key_list(\"Artist\")\n",
      "2018-07-10 16:29:09,468 INFO sqlalchemy.engine.base.Engine ()\n",
      "2018-07-10 16:29:09,469 INFO sqlalchemy.engine.base.Engine SELECT sql FROM  (SELECT * FROM sqlite_master UNION ALL   SELECT * FROM sqlite_temp_master) WHERE name = 'Artist' AND type = 'table'\n",
      "2018-07-10 16:29:09,470 INFO sqlalchemy.engine.base.Engine ()\n",
      "2018-07-10 16:29:09,472 INFO sqlalchemy.engine.base.Engine PRAGMA index_list(\"Artist\")\n",
      "2018-07-10 16:29:09,472 INFO sqlalchemy.engine.base.Engine ()\n",
      "2018-07-10 16:29:09,473 INFO sqlalchemy.engine.base.Engine PRAGMA index_list(\"Artist\")\n",
      "2018-07-10 16:29:09,474 INFO sqlalchemy.engine.base.Engine ()\n",
      "2018-07-10 16:29:09,476 INFO sqlalchemy.engine.base.Engine SELECT sql FROM  (SELECT * FROM sqlite_master UNION ALL   SELECT * FROM sqlite_temp_master) WHERE name = 'Artist' AND type = 'table'\n",
      "2018-07-10 16:29:09,476 INFO sqlalchemy.engine.base.Engine ()\n",
      "2018-07-10 16:29:09,478 INFO sqlalchemy.engine.base.Engine PRAGMA index_list(\"Album\")\n",
      "2018-07-10 16:29:09,479 INFO sqlalchemy.engine.base.Engine ()\n",
      "2018-07-10 16:29:09,480 INFO sqlalchemy.engine.base.Engine PRAGMA index_list(\"Album\")\n",
      "2018-07-10 16:29:09,481 INFO sqlalchemy.engine.base.Engine ()\n",
      "2018-07-10 16:29:09,482 INFO sqlalchemy.engine.base.Engine SELECT sql FROM  (SELECT * FROM sqlite_master UNION ALL   SELECT * FROM sqlite_temp_master) WHERE name = 'Album' AND type = 'table'\n",
      "2018-07-10 16:29:09,483 INFO sqlalchemy.engine.base.Engine ()\n",
      "2018-07-10 16:29:09,484 INFO sqlalchemy.engine.base.Engine PRAGMA table_info(\"Genre\")\n",
      "2018-07-10 16:29:09,485 INFO sqlalchemy.engine.base.Engine ()\n",
      "2018-07-10 16:29:09,486 INFO sqlalchemy.engine.base.Engine SELECT sql FROM  (SELECT * FROM sqlite_master UNION ALL   SELECT * FROM sqlite_temp_master) WHERE name = 'Genre' AND type = 'table'\n",
      "2018-07-10 16:29:09,487 INFO sqlalchemy.engine.base.Engine ()\n",
      "2018-07-10 16:29:09,489 INFO sqlalchemy.engine.base.Engine PRAGMA foreign_key_list(\"Genre\")\n",
      "2018-07-10 16:29:09,489 INFO sqlalchemy.engine.base.Engine ()\n",
      "2018-07-10 16:29:09,490 INFO sqlalchemy.engine.base.Engine SELECT sql FROM  (SELECT * FROM sqlite_master UNION ALL   SELECT * FROM sqlite_temp_master) WHERE name = 'Genre' AND type = 'table'\n",
      "2018-07-10 16:29:09,491 INFO sqlalchemy.engine.base.Engine ()\n",
      "2018-07-10 16:29:09,493 INFO sqlalchemy.engine.base.Engine PRAGMA index_list(\"Genre\")\n",
      "2018-07-10 16:29:09,493 INFO sqlalchemy.engine.base.Engine ()\n",
      "2018-07-10 16:29:09,495 INFO sqlalchemy.engine.base.Engine PRAGMA index_list(\"Genre\")\n",
      "2018-07-10 16:29:09,495 INFO sqlalchemy.engine.base.Engine ()\n",
      "2018-07-10 16:29:09,496 INFO sqlalchemy.engine.base.Engine SELECT sql FROM  (SELECT * FROM sqlite_master UNION ALL   SELECT * FROM sqlite_temp_master) WHERE name = 'Genre' AND type = 'table'\n",
      "2018-07-10 16:29:09,497 INFO sqlalchemy.engine.base.Engine ()\n",
      "2018-07-10 16:29:09,499 INFO sqlalchemy.engine.base.Engine PRAGMA table_info(\"Track\")\n",
      "2018-07-10 16:29:09,499 INFO sqlalchemy.engine.base.Engine ()\n",
      "2018-07-10 16:29:09,501 INFO sqlalchemy.engine.base.Engine SELECT sql FROM  (SELECT * FROM sqlite_master UNION ALL   SELECT * FROM sqlite_temp_master) WHERE name = 'Track' AND type = 'table'\n",
      "2018-07-10 16:29:09,502 INFO sqlalchemy.engine.base.Engine ()\n",
      "2018-07-10 16:29:09,504 INFO sqlalchemy.engine.base.Engine PRAGMA foreign_key_list(\"Track\")\n",
      "2018-07-10 16:29:09,504 INFO sqlalchemy.engine.base.Engine ()\n",
      "2018-07-10 16:29:09,506 INFO sqlalchemy.engine.base.Engine SELECT sql FROM  (SELECT * FROM sqlite_master UNION ALL   SELECT * FROM sqlite_temp_master) WHERE name = 'Track' AND type = 'table'\n",
      "2018-07-10 16:29:09,506 INFO sqlalchemy.engine.base.Engine ()\n",
      "2018-07-10 16:29:09,509 INFO sqlalchemy.engine.base.Engine PRAGMA index_list(\"Track\")\n",
      "2018-07-10 16:29:09,509 INFO sqlalchemy.engine.base.Engine ()\n",
      "2018-07-10 16:29:09,511 INFO sqlalchemy.engine.base.Engine PRAGMA index_list(\"Track\")\n",
      "2018-07-10 16:29:09,511 INFO sqlalchemy.engine.base.Engine ()\n",
      "2018-07-10 16:29:09,512 INFO sqlalchemy.engine.base.Engine SELECT sql FROM  (SELECT * FROM sqlite_master UNION ALL   SELECT * FROM sqlite_temp_master) WHERE name = 'Track' AND type = 'table'\n",
      "2018-07-10 16:29:09,513 INFO sqlalchemy.engine.base.Engine ()\n"
     ]
    },
    {
     "name": "stderr",
     "output_type": "stream",
     "text": [
      "C:\\Users\\Kyungyk\\Anaconda3\\lib\\site-packages\\ipykernel_launcher.py:1: SADeprecationWarning: reflect=True is deprecate; please use the reflect() method.\n",
      "  \"\"\"Entry point for launching an IPython kernel.\n"
     ]
    }
   ],
   "source": [
    "metadata= MetaData(bind=engine,reflect=True) # 바로 바인딩을한다"
   ]
  },
  {
   "cell_type": "code",
   "execution_count": 14,
   "metadata": {
    "scrolled": true
   },
   "outputs": [
    {
     "name": "stdout",
     "output_type": "stream",
     "text": [
      "Album\n",
      "Artist\n",
      "Genre\n",
      "Track\n"
     ]
    }
   ],
   "source": [
    "for row in metadata.tables:\n",
    "    print(row) #가지고 오긴하네~"
   ]
  },
  {
   "cell_type": "markdown",
   "metadata": {},
   "source": [
    "Warning 에 따라 다시 바인딩을시킨다."
   ]
  },
  {
   "cell_type": "code",
   "execution_count": 15,
   "metadata": {},
   "outputs": [
    {
     "name": "stdout",
     "output_type": "stream",
     "text": [
      "2018-07-10 16:32:01,017 INFO sqlalchemy.engine.base.Engine SELECT name FROM sqlite_master WHERE type='table' ORDER BY name\n",
      "2018-07-10 16:32:01,017 INFO sqlalchemy.engine.base.Engine ()\n"
     ]
    }
   ],
   "source": [
    "metadata.reflect(bind = engine) # engine 에서 커넥션을 만들었다 . 메타데이터를 생성을했다. 옵션을 주고 .리플렉트해서 다시 ,엔진에서 읽어온 애들을 긁어왔다. "
   ]
  },
  {
   "cell_type": "code",
   "execution_count": 16,
   "metadata": {},
   "outputs": [
    {
     "name": "stdout",
     "output_type": "stream",
     "text": [
      "Album\n",
      "Artist\n",
      "Genre\n",
      "Track\n"
     ]
    }
   ],
   "source": [
    "for row in metadata.tables:\n",
    "    print(row)"
   ]
  },
  {
   "cell_type": "code",
   "execution_count": 17,
   "metadata": {},
   "outputs": [],
   "source": [
    "album = metadata.tables[\"Album\"]"
   ]
  },
  {
   "cell_type": "code",
   "execution_count": 23,
   "metadata": {},
   "outputs": [
    {
     "name": "stdout",
     "output_type": "stream",
     "text": [
      "2018-07-10 16:33:22,162 INFO sqlalchemy.engine.base.Engine SELECT \"Album\".id, \"Album\".title, \"Album\".artist_id \n",
      "FROM \"Album\"\n",
      "2018-07-10 16:33:22,163 INFO sqlalchemy.engine.base.Engine ()\n"
     ]
    }
   ],
   "source": [
    "result = conn.execute(album.select())"
   ]
  },
  {
   "cell_type": "code",
   "execution_count": 24,
   "metadata": {},
   "outputs": [
    {
     "name": "stdout",
     "output_type": "stream",
     "text": [
      "(1, 'IV', 1)\n",
      "(2, 'Who Made Who', 2)\n"
     ]
    }
   ],
   "source": [
    "for row in result:\n",
    "    print(row)"
   ]
  },
  {
   "cell_type": "code",
   "execution_count": null,
   "metadata": {},
   "outputs": [],
   "source": []
  }
 ],
 "metadata": {
  "kernelspec": {
   "display_name": "Python 3",
   "language": "python",
   "name": "python3"
  },
  "language_info": {
   "codemirror_mode": {
    "name": "ipython",
    "version": 3
   },
   "file_extension": ".py",
   "mimetype": "text/x-python",
   "name": "python",
   "nbconvert_exporter": "python",
   "pygments_lexer": "ipython3",
   "version": "3.6.5"
  }
 },
 "nbformat": 4,
 "nbformat_minor": 2
}
