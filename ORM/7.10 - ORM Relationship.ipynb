{
 "cells": [
  {
   "cell_type": "code",
   "execution_count": 1,
   "metadata": {},
   "outputs": [],
   "source": [
    "#엔진은 항상필요하다 \n",
    "from sqlalchemy import create_engine"
   ]
  },
  {
   "cell_type": "code",
   "execution_count": 2,
   "metadata": {},
   "outputs": [],
   "source": [
    "engine = create_engine(\"sqlite://\", echo = True)"
   ]
  },
  {
   "cell_type": "code",
   "execution_count": 3,
   "metadata": {},
   "outputs": [],
   "source": [
    "#metadata 같은것\n",
    "from sqlalchemy.ext.declarative import declarative_base"
   ]
  },
  {
   "cell_type": "code",
   "execution_count": 4,
   "metadata": {},
   "outputs": [],
   "source": [
    "Base = declarative_base() #metadata 와 비슷한 역할을 하는 베이스를 만든다"
   ]
  },
  {
   "cell_type": "markdown",
   "metadata": {},
   "source": [
    "## 아까는 메타데이터를 상속받아서 테이블 지금은 베이스를 만들어서 클래스를 만든다."
   ]
  },
  {
   "cell_type": "code",
   "execution_count": 5,
   "metadata": {},
   "outputs": [],
   "source": [
    "from sqlalchemy import Column,Integer,String,ForeignKey"
   ]
  },
  {
   "cell_type": "code",
   "execution_count": 6,
   "metadata": {},
   "outputs": [],
   "source": [
    "from sqlalchemy.orm import relationship #이게 달라진부분."
   ]
  },
  {
   "cell_type": "code",
   "execution_count": 7,
   "metadata": {},
   "outputs": [],
   "source": [
    "class Artist(Base):\n",
    "    __tablename__ = \"artist\"\n",
    "    \n",
    "    id = Column(Integer, primary_key=True)\n",
    "    name = Column(String)\n",
    "    album = relationship(\"Album\", back_populates = \"artist\")\n",
    "    \n",
    "    def __repr__(self):\n",
    "        return \"<T'artist(name='%s')>\" % (self.name)\n",
    "    \n",
    "class Album(Base):\n",
    "    __tablename__ = \"album\"\n",
    "    \n",
    "    id = Column(Integer, primary_key=True)\n",
    "    title = Column(String)\n",
    "    artist_id = Column(Integer, ForeignKey(\"artist.id\"))\n",
    "    artist = relationship(\"Artist\", back_populates = \"album\") # uselist = false 로 주면 1대n 의 관계, list 타입이아니기때문 기본은 m:n이다 . \n",
    "    #PK,FK, 어떤 relationship 이 있는지 표현만 해주면 engine 과 base 가 알아서 해준다. \n",
    "\n",
    "class Genre(Base):\n",
    "    __tablename__ = \"genre\"\n",
    "    \n",
    "    id = Column(Integer, primary_key=True)\n",
    "    name = Column(String)\n",
    "    \n",
    "class Track(Base):\n",
    "    __tablename__ = \"track\"\n",
    "    \n",
    "    id = Column(Integer, primary_key=True)\n",
    "    title = Column(String)\n",
    "    album_id = Column(Integer, ForeignKey(\"album.id\"))\n",
    "    genre_id = Column(Integer, ForeignKey(\"genre.id\"))"
   ]
  },
  {
   "cell_type": "code",
   "execution_count": 8,
   "metadata": {
    "scrolled": true
   },
   "outputs": [
    {
     "name": "stdout",
     "output_type": "stream",
     "text": [
      "2018-07-12 12:05:04,803 INFO sqlalchemy.engine.base.Engine SELECT CAST('test plain returns' AS VARCHAR(60)) AS anon_1\n",
      "2018-07-12 12:05:04,806 INFO sqlalchemy.engine.base.Engine ()\n",
      "2018-07-12 12:05:04,808 INFO sqlalchemy.engine.base.Engine SELECT CAST('test unicode returns' AS VARCHAR(60)) AS anon_1\n",
      "2018-07-12 12:05:04,808 INFO sqlalchemy.engine.base.Engine ()\n",
      "2018-07-12 12:05:04,810 INFO sqlalchemy.engine.base.Engine PRAGMA table_info(\"artist\")\n",
      "2018-07-12 12:05:04,811 INFO sqlalchemy.engine.base.Engine ()\n",
      "2018-07-12 12:05:04,812 INFO sqlalchemy.engine.base.Engine PRAGMA table_info(\"album\")\n",
      "2018-07-12 12:05:04,813 INFO sqlalchemy.engine.base.Engine ()\n",
      "2018-07-12 12:05:04,813 INFO sqlalchemy.engine.base.Engine PRAGMA table_info(\"genre\")\n",
      "2018-07-12 12:05:04,814 INFO sqlalchemy.engine.base.Engine ()\n",
      "2018-07-12 12:05:04,815 INFO sqlalchemy.engine.base.Engine PRAGMA table_info(\"track\")\n",
      "2018-07-12 12:05:04,816 INFO sqlalchemy.engine.base.Engine ()\n",
      "2018-07-12 12:05:04,817 INFO sqlalchemy.engine.base.Engine \n",
      "CREATE TABLE artist (\n",
      "\tid INTEGER NOT NULL, \n",
      "\tname VARCHAR, \n",
      "\tPRIMARY KEY (id)\n",
      ")\n",
      "\n",
      "\n",
      "2018-07-12 12:05:04,818 INFO sqlalchemy.engine.base.Engine ()\n",
      "2018-07-12 12:05:04,819 INFO sqlalchemy.engine.base.Engine COMMIT\n",
      "2018-07-12 12:05:04,820 INFO sqlalchemy.engine.base.Engine \n",
      "CREATE TABLE genre (\n",
      "\tid INTEGER NOT NULL, \n",
      "\tname VARCHAR, \n",
      "\tPRIMARY KEY (id)\n",
      ")\n",
      "\n",
      "\n",
      "2018-07-12 12:05:04,821 INFO sqlalchemy.engine.base.Engine ()\n",
      "2018-07-12 12:05:04,822 INFO sqlalchemy.engine.base.Engine COMMIT\n",
      "2018-07-12 12:05:04,823 INFO sqlalchemy.engine.base.Engine \n",
      "CREATE TABLE album (\n",
      "\tid INTEGER NOT NULL, \n",
      "\ttitle VARCHAR, \n",
      "\tartist_id INTEGER, \n",
      "\tPRIMARY KEY (id), \n",
      "\tFOREIGN KEY(artist_id) REFERENCES artist (id)\n",
      ")\n",
      "\n",
      "\n",
      "2018-07-12 12:05:04,824 INFO sqlalchemy.engine.base.Engine ()\n",
      "2018-07-12 12:05:04,825 INFO sqlalchemy.engine.base.Engine COMMIT\n",
      "2018-07-12 12:05:04,827 INFO sqlalchemy.engine.base.Engine \n",
      "CREATE TABLE track (\n",
      "\tid INTEGER NOT NULL, \n",
      "\ttitle VARCHAR, \n",
      "\talbum_id INTEGER, \n",
      "\tgenre_id INTEGER, \n",
      "\tPRIMARY KEY (id), \n",
      "\tFOREIGN KEY(album_id) REFERENCES album (id), \n",
      "\tFOREIGN KEY(genre_id) REFERENCES genre (id)\n",
      ")\n",
      "\n",
      "\n",
      "2018-07-12 12:05:04,828 INFO sqlalchemy.engine.base.Engine ()\n",
      "2018-07-12 12:05:04,829 INFO sqlalchemy.engine.base.Engine COMMIT\n"
     ]
    }
   ],
   "source": [
    "Base.metadata.create_all(engine) # metadata 가 안에있다. 그래서 아까 배운거. 아까 만든 엔진을  binding 해준다\n",
    "#클래스를 선언해서 만들어준거 밖에없는데 자기가 알아서 테이블을 만든다"
   ]
  },
  {
   "cell_type": "code",
   "execution_count": 9,
   "metadata": {},
   "outputs": [],
   "source": [
    "artist1 = Artist(name = 'Led zeppelin')\n",
    "artist2 = Artist(name = 'AC/DC')"
   ]
  },
  {
   "cell_type": "code",
   "execution_count": 10,
   "metadata": {},
   "outputs": [],
   "source": [
    "artist1.album = [Album(title=\"IV\"), Album(title = \"Who Made Who\")] #이게가능해진"
   ]
  },
  {
   "cell_type": "code",
   "execution_count": 11,
   "metadata": {},
   "outputs": [],
   "source": [
    "from sqlalchemy.orm import sessionmaker #session 을 만들어야한다\n",
    "\n",
    "Session = sessionmaker(bind =engine) #엔진과 비인딩을 해준다\n",
    "\n",
    "session = Session() #이때 세션을 생성\n",
    "\n"
   ]
  },
  {
   "cell_type": "code",
   "execution_count": 12,
   "metadata": {},
   "outputs": [],
   "source": [
    "session.add(artist1)"
   ]
  },
  {
   "cell_type": "code",
   "execution_count": 13,
   "metadata": {},
   "outputs": [
    {
     "name": "stdout",
     "output_type": "stream",
     "text": [
      "2018-07-12 12:05:06,798 INFO sqlalchemy.engine.base.Engine BEGIN (implicit)\n",
      "2018-07-12 12:05:06,800 INFO sqlalchemy.engine.base.Engine INSERT INTO artist (name) VALUES (?)\n",
      "2018-07-12 12:05:06,801 INFO sqlalchemy.engine.base.Engine ('Led zeppelin',)\n",
      "2018-07-12 12:05:06,803 INFO sqlalchemy.engine.base.Engine INSERT INTO album (title, artist_id) VALUES (?, ?)\n",
      "2018-07-12 12:05:06,804 INFO sqlalchemy.engine.base.Engine ('IV', 1)\n",
      "2018-07-12 12:05:06,805 INFO sqlalchemy.engine.base.Engine INSERT INTO album (title, artist_id) VALUES (?, ?)\n",
      "2018-07-12 12:05:06,806 INFO sqlalchemy.engine.base.Engine ('Who Made Who', 1)\n",
      "2018-07-12 12:05:06,807 INFO sqlalchemy.engine.base.Engine COMMIT\n"
     ]
    }
   ],
   "source": [
    "session.commit()"
   ]
  },
  {
   "cell_type": "code",
   "execution_count": 14,
   "metadata": {},
   "outputs": [
    {
     "name": "stdout",
     "output_type": "stream",
     "text": [
      "2018-07-12 12:05:07,294 INFO sqlalchemy.engine.base.Engine BEGIN (implicit)\n",
      "2018-07-12 12:05:07,295 INFO sqlalchemy.engine.base.Engine SELECT artist.id AS artist_id, artist.name AS artist_name \n",
      "FROM artist \n",
      "WHERE artist.id = ?\n",
      "2018-07-12 12:05:07,296 INFO sqlalchemy.engine.base.Engine (1,)\n",
      "2018-07-12 12:05:07,299 INFO sqlalchemy.engine.base.Engine SELECT album.id AS album_id, album.title AS album_title, album.artist_id AS album_artist_id \n",
      "FROM album \n",
      "WHERE ? = album.artist_id\n",
      "2018-07-12 12:05:07,300 INFO sqlalchemy.engine.base.Engine (1,)\n",
      "1 Led zeppelin 1\n"
     ]
    }
   ],
   "source": [
    "print(artist1.id,artist1.name,artist1.album[0].id)"
   ]
  },
  {
   "cell_type": "code",
   "execution_count": null,
   "metadata": {},
   "outputs": [],
   "source": [
    "session.new"
   ]
  },
  {
   "cell_type": "code",
   "execution_count": null,
   "metadata": {},
   "outputs": [],
   "source": [
    "session.add_all([artist1,artist2])"
   ]
  },
  {
   "cell_type": "code",
   "execution_count": null,
   "metadata": {},
   "outputs": [],
   "source": [
    "session.commit() #세션을 통해 바인딩 된 엔진을 통해서 우리가만든 인스턴스 artist1,2, 를 SQL로만들고 데이터베이스에다가 물리적으로 저장하는 과정까지 해준다 "
   ]
  },
  {
   "cell_type": "markdown",
   "metadata": {},
   "source": [
    "session 에는 dirty 라는 게있다. 메모리를 관리한다, 데이터베이스와 싱크와 맞아야한다 , 따라서 계속 감시한다 , 메모리의 값들 이 변경과 , 데이터베이스의  따라서 바뀐게있으면 dirty 에 표시가되고 , commit 을 해야한다는것을 사용자 에게 알려준다 . "
   ]
  },
  {
   "cell_type": "code",
   "execution_count": null,
   "metadata": {},
   "outputs": [],
   "source": [
    "session.dirty"
   ]
  },
  {
   "cell_type": "code",
   "execution_count": null,
   "metadata": {},
   "outputs": [],
   "source": [
    "session.new"
   ]
  },
  {
   "cell_type": "code",
   "execution_count": null,
   "metadata": {},
   "outputs": [],
   "source": [
    "artist1.name = \"xyz\""
   ]
  },
  {
   "cell_type": "code",
   "execution_count": null,
   "metadata": {},
   "outputs": [],
   "source": [
    "session.dirty #바꼈는데 반영되지않는값이 있다고 알려준다"
   ]
  },
  {
   "cell_type": "code",
   "execution_count": null,
   "metadata": {},
   "outputs": [],
   "source": [
    "session.commit() # 따라서 커밋한다"
   ]
  },
  {
   "cell_type": "code",
   "execution_count": null,
   "metadata": {},
   "outputs": [],
   "source": [
    "session.dirty"
   ]
  },
  {
   "cell_type": "code",
   "execution_count": null,
   "metadata": {},
   "outputs": [],
   "source": [
    "session.add_all([\n",
    "    Album(title=\"Hysteria\",artist_id=1),\n",
    "    Album(title=\"21st Century BreakDown\",artist_id=2),\n",
    "    \n",
    "])"
   ]
  },
  {
   "cell_type": "code",
   "execution_count": null,
   "metadata": {},
   "outputs": [],
   "source": [
    "session.dirty"
   ]
  },
  {
   "cell_type": "code",
   "execution_count": null,
   "metadata": {},
   "outputs": [],
   "source": [
    "session.new #new 에 있다. 값이 변경된것이아니라 , 작업이 메모리에만 있으니까"
   ]
  },
  {
   "cell_type": "code",
   "execution_count": null,
   "metadata": {},
   "outputs": [],
   "source": [
    "session.add_all([\n",
    "    Genre(name=\"Rock\"),\n",
    "    Genre(name=\"Metal\"),\n",
    "])\n"
   ]
  },
  {
   "cell_type": "code",
   "execution_count": null,
   "metadata": {},
   "outputs": [],
   "source": [
    "session.add_all([\n",
    "    Track(title=\"1-1\",album_id=1,genre_id=1),\n",
    "    Track(title=\"1-2\",album_id=1,genre_id=2),\n",
    "    Track(title=\"2-1\",album_id=2,genre_id=1),\n",
    "    Track(title=\"2-2\",album_id=2,genre_id=2),\n",
    "    \n",
    "    \n",
    "])"
   ]
  },
  {
   "cell_type": "code",
   "execution_count": null,
   "metadata": {},
   "outputs": [],
   "source": [
    "session.commit()"
   ]
  },
  {
   "cell_type": "code",
   "execution_count": null,
   "metadata": {},
   "outputs": [],
   "source": [
    "temp = Track(title=\"5-1\",album_id=5,genre_id=5)"
   ]
  },
  {
   "cell_type": "code",
   "execution_count": null,
   "metadata": {},
   "outputs": [],
   "source": [
    "type(temp)"
   ]
  },
  {
   "cell_type": "code",
   "execution_count": null,
   "metadata": {},
   "outputs": [],
   "source": [
    "session.add(temp)"
   ]
  },
  {
   "cell_type": "code",
   "execution_count": null,
   "metadata": {},
   "outputs": [],
   "source": [
    "temp.id"
   ]
  },
  {
   "cell_type": "code",
   "execution_count": null,
   "metadata": {},
   "outputs": [],
   "source": [
    "session.new"
   ]
  },
  {
   "cell_type": "code",
   "execution_count": null,
   "metadata": {},
   "outputs": [],
   "source": [
    "for row in session.query(Artist):\n",
    "    print(row)"
   ]
  },
  {
   "cell_type": "code",
   "execution_count": null,
   "metadata": {},
   "outputs": [],
   "source": [
    "for row in session.query(Artist).filter(Artist.id==1): # 필터를 통해서 where 처럼해서 메모리에 있는것을 불러온다.\n",
    "    print(row) "
   ]
  },
  {
   "cell_type": "markdown",
   "metadata": {},
   "source": [
    "filter 와  filter_by 가 있는데 해당 테이블에 있느냐 없느냐로 해석됨. "
   ]
  },
  {
   "cell_type": "markdown",
   "metadata": {},
   "source": [
    "foreign 키를 설정해서 , 클래스르 161부터 목요일 부터  - 장 부터 한줄이면된다 . 릴레이션쉽을 사용하면  목요일날하겠다 "
   ]
  },
  {
   "cell_type": "code",
   "execution_count": null,
   "metadata": {},
   "outputs": [],
   "source": []
  }
 ],
 "metadata": {
  "kernelspec": {
   "display_name": "Python 3",
   "language": "python",
   "name": "python3"
  },
  "language_info": {
   "codemirror_mode": {
    "name": "ipython",
    "version": 3
   },
   "file_extension": ".py",
   "mimetype": "text/x-python",
   "name": "python",
   "nbconvert_exporter": "python",
   "pygments_lexer": "ipython3",
   "version": "3.6.5"
  }
 },
 "nbformat": 4,
 "nbformat_minor": 2
}
