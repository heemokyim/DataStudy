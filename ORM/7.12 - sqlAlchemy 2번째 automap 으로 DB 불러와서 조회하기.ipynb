{
 "cells": [
  {
   "cell_type": "code",
   "execution_count": 1,
   "metadata": {},
   "outputs": [],
   "source": [
    "from sqlalchemy import create_engine"
   ]
  },
  {
   "cell_type": "code",
   "execution_count": 2,
   "metadata": {},
   "outputs": [],
   "source": [
    "\n",
    "\n",
    "engine = create_engine(\"sqlite:///mydb3.db\",echo=True) # ///세게인이유는 호스트니까. echo는 만들때 로그를 찍어줌, 엔진을 만들어준다 ."
   ]
  },
  {
   "cell_type": "markdown",
   "metadata": {},
   "source": [
    "mydb3.db 라는 데이터베이스 파일에서 작업을 하였기에 불러오는 작업 , sqlAlchemy DB 구축 첫번째장에서 mydb3.db 사용하였음 "
   ]
  },
  {
   "cell_type": "code",
   "execution_count": 3,
   "metadata": {},
   "outputs": [],
   "source": [
    "from sqlalchemy.ext.automap import automap_base"
   ]
  },
  {
   "cell_type": "code",
   "execution_count": 4,
   "metadata": {
    "scrolled": true
   },
   "outputs": [
    {
     "name": "stdout",
     "output_type": "stream",
     "text": [
      "2018-07-12 11:37:40,560 INFO sqlalchemy.engine.base.Engine SELECT CAST('test plain returns' AS VARCHAR(60)) AS anon_1\n",
      "2018-07-12 11:37:40,563 INFO sqlalchemy.engine.base.Engine ()\n",
      "2018-07-12 11:37:40,565 INFO sqlalchemy.engine.base.Engine SELECT CAST('test unicode returns' AS VARCHAR(60)) AS anon_1\n",
      "2018-07-12 11:37:40,566 INFO sqlalchemy.engine.base.Engine ()\n",
      "2018-07-12 11:37:40,567 INFO sqlalchemy.engine.base.Engine SELECT name FROM sqlite_master WHERE type='table' ORDER BY name\n",
      "2018-07-12 11:37:40,568 INFO sqlalchemy.engine.base.Engine ()\n",
      "2018-07-12 11:37:40,570 INFO sqlalchemy.engine.base.Engine PRAGMA table_info(\"Album\")\n",
      "2018-07-12 11:37:40,571 INFO sqlalchemy.engine.base.Engine ()\n",
      "2018-07-12 11:37:40,573 INFO sqlalchemy.engine.base.Engine SELECT sql FROM  (SELECT * FROM sqlite_master UNION ALL   SELECT * FROM sqlite_temp_master) WHERE name = 'Album' AND type = 'table'\n",
      "2018-07-12 11:37:40,574 INFO sqlalchemy.engine.base.Engine ()\n",
      "2018-07-12 11:37:40,576 INFO sqlalchemy.engine.base.Engine PRAGMA foreign_key_list(\"Album\")\n",
      "2018-07-12 11:37:40,577 INFO sqlalchemy.engine.base.Engine ()\n",
      "2018-07-12 11:37:40,579 INFO sqlalchemy.engine.base.Engine SELECT sql FROM  (SELECT * FROM sqlite_master UNION ALL   SELECT * FROM sqlite_temp_master) WHERE name = 'Album' AND type = 'table'\n",
      "2018-07-12 11:37:40,580 INFO sqlalchemy.engine.base.Engine ()\n",
      "2018-07-12 11:37:40,585 INFO sqlalchemy.engine.base.Engine PRAGMA table_info(\"Artist\")\n",
      "2018-07-12 11:37:40,586 INFO sqlalchemy.engine.base.Engine ()\n",
      "2018-07-12 11:37:40,588 INFO sqlalchemy.engine.base.Engine SELECT sql FROM  (SELECT * FROM sqlite_master UNION ALL   SELECT * FROM sqlite_temp_master) WHERE name = 'Artist' AND type = 'table'\n",
      "2018-07-12 11:37:40,588 INFO sqlalchemy.engine.base.Engine ()\n",
      "2018-07-12 11:37:40,590 INFO sqlalchemy.engine.base.Engine PRAGMA foreign_key_list(\"Artist\")\n",
      "2018-07-12 11:37:40,590 INFO sqlalchemy.engine.base.Engine ()\n",
      "2018-07-12 11:37:40,591 INFO sqlalchemy.engine.base.Engine SELECT sql FROM  (SELECT * FROM sqlite_master UNION ALL   SELECT * FROM sqlite_temp_master) WHERE name = 'Artist' AND type = 'table'\n",
      "2018-07-12 11:37:40,592 INFO sqlalchemy.engine.base.Engine ()\n",
      "2018-07-12 11:37:40,593 INFO sqlalchemy.engine.base.Engine PRAGMA index_list(\"Artist\")\n",
      "2018-07-12 11:37:40,594 INFO sqlalchemy.engine.base.Engine ()\n",
      "2018-07-12 11:37:40,596 INFO sqlalchemy.engine.base.Engine PRAGMA index_list(\"Artist\")\n",
      "2018-07-12 11:37:40,597 INFO sqlalchemy.engine.base.Engine ()\n",
      "2018-07-12 11:37:40,598 INFO sqlalchemy.engine.base.Engine SELECT sql FROM  (SELECT * FROM sqlite_master UNION ALL   SELECT * FROM sqlite_temp_master) WHERE name = 'Artist' AND type = 'table'\n",
      "2018-07-12 11:37:40,598 INFO sqlalchemy.engine.base.Engine ()\n",
      "2018-07-12 11:37:40,602 INFO sqlalchemy.engine.base.Engine PRAGMA index_list(\"Album\")\n",
      "2018-07-12 11:37:40,603 INFO sqlalchemy.engine.base.Engine ()\n",
      "2018-07-12 11:37:40,604 INFO sqlalchemy.engine.base.Engine PRAGMA index_list(\"Album\")\n",
      "2018-07-12 11:37:40,605 INFO sqlalchemy.engine.base.Engine ()\n",
      "2018-07-12 11:37:40,606 INFO sqlalchemy.engine.base.Engine SELECT sql FROM  (SELECT * FROM sqlite_master UNION ALL   SELECT * FROM sqlite_temp_master) WHERE name = 'Album' AND type = 'table'\n",
      "2018-07-12 11:37:40,607 INFO sqlalchemy.engine.base.Engine ()\n",
      "2018-07-12 11:37:40,608 INFO sqlalchemy.engine.base.Engine PRAGMA table_info(\"Genre\")\n",
      "2018-07-12 11:37:40,615 INFO sqlalchemy.engine.base.Engine ()\n",
      "2018-07-12 11:37:40,620 INFO sqlalchemy.engine.base.Engine SELECT sql FROM  (SELECT * FROM sqlite_master UNION ALL   SELECT * FROM sqlite_temp_master) WHERE name = 'Genre' AND type = 'table'\n",
      "2018-07-12 11:37:40,625 INFO sqlalchemy.engine.base.Engine ()\n",
      "2018-07-12 11:37:40,629 INFO sqlalchemy.engine.base.Engine PRAGMA foreign_key_list(\"Genre\")\n",
      "2018-07-12 11:37:40,630 INFO sqlalchemy.engine.base.Engine ()\n",
      "2018-07-12 11:37:40,631 INFO sqlalchemy.engine.base.Engine SELECT sql FROM  (SELECT * FROM sqlite_master UNION ALL   SELECT * FROM sqlite_temp_master) WHERE name = 'Genre' AND type = 'table'\n",
      "2018-07-12 11:37:40,631 INFO sqlalchemy.engine.base.Engine ()\n",
      "2018-07-12 11:37:40,633 INFO sqlalchemy.engine.base.Engine PRAGMA index_list(\"Genre\")\n",
      "2018-07-12 11:37:40,634 INFO sqlalchemy.engine.base.Engine ()\n",
      "2018-07-12 11:37:40,635 INFO sqlalchemy.engine.base.Engine PRAGMA index_list(\"Genre\")\n",
      "2018-07-12 11:37:40,636 INFO sqlalchemy.engine.base.Engine ()\n",
      "2018-07-12 11:37:40,637 INFO sqlalchemy.engine.base.Engine SELECT sql FROM  (SELECT * FROM sqlite_master UNION ALL   SELECT * FROM sqlite_temp_master) WHERE name = 'Genre' AND type = 'table'\n",
      "2018-07-12 11:37:40,638 INFO sqlalchemy.engine.base.Engine ()\n",
      "2018-07-12 11:37:40,639 INFO sqlalchemy.engine.base.Engine PRAGMA table_info(\"Track\")\n",
      "2018-07-12 11:37:40,640 INFO sqlalchemy.engine.base.Engine ()\n",
      "2018-07-12 11:37:40,642 INFO sqlalchemy.engine.base.Engine SELECT sql FROM  (SELECT * FROM sqlite_master UNION ALL   SELECT * FROM sqlite_temp_master) WHERE name = 'Track' AND type = 'table'\n",
      "2018-07-12 11:37:40,643 INFO sqlalchemy.engine.base.Engine ()\n",
      "2018-07-12 11:37:40,645 INFO sqlalchemy.engine.base.Engine PRAGMA foreign_key_list(\"Track\")\n",
      "2018-07-12 11:37:40,645 INFO sqlalchemy.engine.base.Engine ()\n",
      "2018-07-12 11:37:40,647 INFO sqlalchemy.engine.base.Engine SELECT sql FROM  (SELECT * FROM sqlite_master UNION ALL   SELECT * FROM sqlite_temp_master) WHERE name = 'Track' AND type = 'table'\n",
      "2018-07-12 11:37:40,647 INFO sqlalchemy.engine.base.Engine ()\n",
      "2018-07-12 11:37:40,649 INFO sqlalchemy.engine.base.Engine PRAGMA index_list(\"Track\")\n",
      "2018-07-12 11:37:40,649 INFO sqlalchemy.engine.base.Engine ()\n",
      "2018-07-12 11:37:40,651 INFO sqlalchemy.engine.base.Engine PRAGMA index_list(\"Track\")\n",
      "2018-07-12 11:37:40,651 INFO sqlalchemy.engine.base.Engine ()\n",
      "2018-07-12 11:37:40,653 INFO sqlalchemy.engine.base.Engine SELECT sql FROM  (SELECT * FROM sqlite_master UNION ALL   SELECT * FROM sqlite_temp_master) WHERE name = 'Track' AND type = 'table'\n",
      "2018-07-12 11:37:40,653 INFO sqlalchemy.engine.base.Engine ()\n"
     ]
    }
   ],
   "source": [
    "Base = automap_base()\n",
    "Base.prepare(engine,reflect=True) #불러오기"
   ]
  },
  {
   "cell_type": "markdown",
   "metadata": {},
   "source": [
    "from sqlalchemy.ext.declarative import declarative_base\n",
    "\n",
    "Base = declarative_base() 이렇게 했었는데 \n",
    "이번 예제에서는 automap_base 를 사용해서 자동으로 만들어준다"
   ]
  },
  {
   "cell_type": "code",
   "execution_count": 5,
   "metadata": {},
   "outputs": [],
   "source": [
    "from sqlalchemy.orm import sessionmaker\n",
    "\n",
    "Session = sessionmaker(bind=engine)\n",
    "\n",
    "session  = Session()"
   ]
  },
  {
   "cell_type": "code",
   "execution_count": 6,
   "metadata": {},
   "outputs": [],
   "source": [
    "artist = Base.classes.Artist"
   ]
  },
  {
   "cell_type": "code",
   "execution_count": 7,
   "metadata": {},
   "outputs": [
    {
     "data": {
      "text/plain": [
       "sqlalchemy.ext.automap.Artist"
      ]
     },
     "execution_count": 7,
     "metadata": {},
     "output_type": "execute_result"
    }
   ],
   "source": [
    "artist"
   ]
  },
  {
   "cell_type": "code",
   "execution_count": 8,
   "metadata": {},
   "outputs": [],
   "source": [
    "result = session.query(artist)"
   ]
  },
  {
   "cell_type": "code",
   "execution_count": 9,
   "metadata": {},
   "outputs": [
    {
     "name": "stdout",
     "output_type": "stream",
     "text": [
      "2018-07-12 11:38:10,245 INFO sqlalchemy.engine.base.Engine BEGIN (implicit)\n",
      "2018-07-12 11:38:10,247 INFO sqlalchemy.engine.base.Engine SELECT \"Artist\".id AS \"Artist_id\", \"Artist\".name AS \"Artist_name\" \n",
      "FROM \"Artist\"\n",
      "2018-07-12 11:38:10,248 INFO sqlalchemy.engine.base.Engine ()\n",
      "1 Led Zepplin\n",
      "2 AC/DC\n"
     ]
    }
   ],
   "source": [
    "for row in result:\n",
    "    print(row.id,row.name) "
   ]
  },
  {
   "cell_type": "markdown",
   "metadata": {},
   "source": [
    "위에서는 PK ,FK 관계를 알고있으니까, 해석을해서 우리를대신해서 써준다 ,\n",
    "\n",
    "relationship은\n",
    "DB를 안거치고 클래스만 가지고도 ,참조를 가능하게 해준다"
   ]
  },
  {
   "cell_type": "code",
   "execution_count": null,
   "metadata": {},
   "outputs": [],
   "source": []
  }
 ],
 "metadata": {
  "kernelspec": {
   "display_name": "Python 3",
   "language": "python",
   "name": "python3"
  },
  "language_info": {
   "codemirror_mode": {
    "name": "ipython",
    "version": 3
   },
   "file_extension": ".py",
   "mimetype": "text/x-python",
   "name": "python",
   "nbconvert_exporter": "python",
   "pygments_lexer": "ipython3",
   "version": "3.6.5"
  }
 },
 "nbformat": 4,
 "nbformat_minor": 2
}
