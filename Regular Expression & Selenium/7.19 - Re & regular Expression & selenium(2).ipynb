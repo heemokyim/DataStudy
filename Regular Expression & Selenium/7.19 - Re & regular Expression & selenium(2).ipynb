{
 "cells": [
  {
   "cell_type": "code",
   "execution_count": 1,
   "metadata": {
    "collapsed": true
   },
   "outputs": [],
   "source": [
    "import re"
   ]
  },
  {
   "cell_type": "code",
   "execution_count": 2,
   "metadata": {
    "collapsed": true
   },
   "outputs": [],
   "source": [
    "content = \"Hello World\""
   ]
  },
  {
   "cell_type": "code",
   "execution_count": 3,
   "metadata": {
    "collapsed": true
   },
   "outputs": [],
   "source": [
    "dot = re.compile(\"(H..).(o..)\") #패턴을 넣는다."
   ]
  },
  {
   "cell_type": "code",
   "execution_count": 4,
   "metadata": {
    "collapsed": true
   },
   "outputs": [],
   "source": [
    "plus = re.compile(\"l+\")"
   ]
  },
  {
   "cell_type": "code",
   "execution_count": 5,
   "metadata": {
    "scrolled": true
   },
   "outputs": [
    {
     "data": {
      "text/plain": [
       "<_sre.SRE_Match object; span=(0, 7), match='Hello W'>"
      ]
     },
     "execution_count": 5,
     "metadata": {},
     "output_type": "execute_result"
    }
   ],
   "source": [
    "re.match(dot, content)"
   ]
  },
  {
   "cell_type": "code",
   "execution_count": 6,
   "metadata": {},
   "outputs": [
    {
     "data": {
      "text/plain": [
       "<_sre.SRE_Match object; span=(0, 7), match='Hello W'>"
      ]
     },
     "execution_count": 6,
     "metadata": {},
     "output_type": "execute_result"
    }
   ],
   "source": [
    "re.search(dot, content) #search는 문자열 전체에서 첫번째 찾는 것 리턴"
   ]
  },
  {
   "cell_type": "code",
   "execution_count": 7,
   "metadata": {
    "scrolled": false
   },
   "outputs": [
    {
     "data": {
      "text/plain": [
       "<_sre.SRE_Match object; span=(2, 4), match='ll'>"
      ]
     },
     "execution_count": 7,
     "metadata": {},
     "output_type": "execute_result"
    }
   ],
   "source": [
    "re.search(plus,content) "
   ]
  },
  {
   "cell_type": "code",
   "execution_count": 8,
   "metadata": {
    "collapsed": true
   },
   "outputs": [],
   "source": [
    "re.match(plus, content)  #문자열 전체를 검색해서 매치되는지 조사"
   ]
  },
  {
   "cell_type": "markdown",
   "metadata": {},
   "source": [
    "match와 search가 다르다"
   ]
  },
  {
   "cell_type": "code",
   "execution_count": 9,
   "metadata": {
    "collapsed": true
   },
   "outputs": [],
   "source": [
    "result = re.findall(plus, content) #대부분의 상황에서 findall을 쓸 것이다.\n",
    "#패턴에 맞는 것 모두 리턴해준다. 리턴형도 다름"
   ]
  },
  {
   "cell_type": "code",
   "execution_count": 10,
   "metadata": {},
   "outputs": [
    {
     "data": {
      "text/plain": [
       "list"
      ]
     },
     "execution_count": 10,
     "metadata": {},
     "output_type": "execute_result"
    }
   ],
   "source": [
    "type(result)"
   ]
  },
  {
   "cell_type": "code",
   "execution_count": 11,
   "metadata": {},
   "outputs": [
    {
     "data": {
      "text/plain": [
       "['ll', 'l']"
      ]
     },
     "execution_count": 11,
     "metadata": {},
     "output_type": "execute_result"
    }
   ],
   "source": [
    "result"
   ]
  },
  {
   "cell_type": "code",
   "execution_count": 12,
   "metadata": {
    "collapsed": true
   },
   "outputs": [],
   "source": [
    "data = \"\"\"\n",
    "park 800905-1111111\n",
    "kim 900719-2111111\n",
    "\"\"\""
   ]
  },
  {
   "cell_type": "code",
   "execution_count": 13,
   "metadata": {
    "collapsed": true
   },
   "outputs": [],
   "source": [
    "pattern = re.compile(\"(\\d{6})-(\\d{7})\")"
   ]
  },
  {
   "cell_type": "code",
   "execution_count": 14,
   "metadata": {},
   "outputs": [
    {
     "data": {
      "text/plain": [
       "[('800905', '1111111'), ('900719', '2111111')]"
      ]
     },
     "execution_count": 14,
     "metadata": {},
     "output_type": "execute_result"
    }
   ],
   "source": [
    "re.findall(pattern, data)"
   ]
  },
  {
   "cell_type": "code",
   "execution_count": 15,
   "metadata": {},
   "outputs": [
    {
     "data": {
      "text/plain": [
       "'\\npark 800905-*******\\nkim 900719-*******\\n'"
      ]
     },
     "execution_count": 15,
     "metadata": {},
     "output_type": "execute_result"
    }
   ],
   "source": [
    "pattern.sub(\"\\g<1>-*******\", data)"
   ]
  },
  {
   "cell_type": "code",
   "execution_count": 16,
   "metadata": {},
   "outputs": [
    {
     "data": {
      "text/plain": [
       "<_sre.SRE_Match object; span=(0, 4), match='crow'>"
      ]
     },
     "execution_count": 16,
     "metadata": {},
     "output_type": "execute_result"
    }
   ],
   "source": [
    "p = re.compile(\"crow|servo\")\n",
    "re.match(p, \"crowhello\") "
   ]
  },
  {
   "cell_type": "markdown",
   "metadata": {},
   "source": [
    "문자열 시작하는 위치 끝나는 위치를 찾는 것임.\n",
    "<br>^를 붙여놓고 serarch하면 시작하는 것을 강제로 받아오기 때문에 match와 같다"
   ]
  },
  {
   "cell_type": "code",
   "execution_count": 17,
   "metadata": {},
   "outputs": [
    {
     "name": "stdout",
     "output_type": "stream",
     "text": [
      "<_sre.SRE_Match object; span=(0, 4), match='Life'>\n"
     ]
    }
   ],
   "source": [
    "print(re.search('^Life', 'Life is too short'))"
   ]
  },
  {
   "cell_type": "code",
   "execution_count": 18,
   "metadata": {},
   "outputs": [
    {
     "name": "stdout",
     "output_type": "stream",
     "text": [
      "<_sre.SRE_Match object; span=(12, 17), match='short'>\n"
     ]
    }
   ],
   "source": [
    "print(re.search('short', 'Life is too short'))"
   ]
  },
  {
   "cell_type": "code",
   "execution_count": 19,
   "metadata": {},
   "outputs": [],
   "source": [
    "re.match(\"My$\", \"My Life\")"
   ]
  },
  {
   "cell_type": "code",
   "execution_count": 20,
   "metadata": {
    "collapsed": true
   },
   "outputs": [],
   "source": [
    "p = re.compile(\"(ABC)+\")"
   ]
  },
  {
   "cell_type": "code",
   "execution_count": 21,
   "metadata": {},
   "outputs": [
    {
     "data": {
      "text/plain": [
       "'ABCABCABC'"
      ]
     },
     "execution_count": 21,
     "metadata": {},
     "output_type": "execute_result"
    }
   ],
   "source": [
    "re.search(p, \"ABCABCABCA\").group()\n",
    "#greedy하게 ABC패턴을 가진 끝까지 출력을 해준다."
   ]
  },
  {
   "cell_type": "code",
   "execution_count": 22,
   "metadata": {
    "collapsed": true
   },
   "outputs": [],
   "source": [
    "p = re.compile(r\"\\bclass\\b\")\n",
    "#escape문자를 쓰려면 r을 붙여줘야한다.\n",
    "#\\b의 경우에는 whitespace가 있어야지 인식 해준다.\n",
    "#\\B의 경우에는 문자가 있어야지 인식 해준다."
   ]
  },
  {
   "cell_type": "code",
   "execution_count": 23,
   "metadata": {},
   "outputs": [
    {
     "name": "stdout",
     "output_type": "stream",
     "text": [
      "<_sre.SRE_Match object; span=(3, 8), match='class'>\n"
     ]
    }
   ],
   "source": [
    "print(p.search(\"no class at all\"))"
   ]
  },
  {
   "cell_type": "code",
   "execution_count": 24,
   "metadata": {},
   "outputs": [
    {
     "name": "stdout",
     "output_type": "stream",
     "text": [
      "None\n"
     ]
    }
   ],
   "source": [
    "print(p.search(\"no subclass at all\"))"
   ]
  },
  {
   "cell_type": "code",
   "execution_count": 25,
   "metadata": {
    "collapsed": true
   },
   "outputs": [],
   "source": [
    "result = re.search(pattern, data)"
   ]
  },
  {
   "cell_type": "code",
   "execution_count": 26,
   "metadata": {},
   "outputs": [
    {
     "data": {
      "text/plain": [
       "'800905'"
      ]
     },
     "execution_count": 26,
     "metadata": {},
     "output_type": "execute_result"
    }
   ],
   "source": [
    "result.group(1)"
   ]
  },
  {
   "cell_type": "code",
   "execution_count": 27,
   "metadata": {},
   "outputs": [
    {
     "data": {
      "text/plain": [
       "'1111111'"
      ]
     },
     "execution_count": 27,
     "metadata": {},
     "output_type": "execute_result"
    }
   ],
   "source": [
    "result.group(2)"
   ]
  },
  {
   "cell_type": "code",
   "execution_count": 28,
   "metadata": {},
   "outputs": [],
   "source": [
    "p = re.compile(r\"(\\w+)\\s+\\d+[-]\\d+[-]\\d+\")\n",
    "result = re.search(p, \"park 010-0000-0000\")"
   ]
  },
  {
   "cell_type": "code",
   "execution_count": 29,
   "metadata": {},
   "outputs": [
    {
     "data": {
      "text/plain": [
       "<_sre.SRE_Match object; span=(0, 18), match='park 010-0000-0000'>"
      ]
     },
     "execution_count": 29,
     "metadata": {},
     "output_type": "execute_result"
    }
   ],
   "source": [
    "result"
   ]
  },
  {
   "cell_type": "code",
   "execution_count": 30,
   "metadata": {
    "scrolled": true
   },
   "outputs": [
    {
     "data": {
      "text/plain": [
       "'park'"
      ]
     },
     "execution_count": 30,
     "metadata": {},
     "output_type": "execute_result"
    }
   ],
   "source": [
    "result.group(1)"
   ]
  },
  {
   "cell_type": "code",
   "execution_count": 31,
   "metadata": {
    "scrolled": false
   },
   "outputs": [
    {
     "ename": "IndexError",
     "evalue": "no such group",
     "output_type": "error",
     "traceback": [
      "\u001b[1;31m---------------------------------------------------------------------------\u001b[0m",
      "\u001b[1;31mIndexError\u001b[0m                                Traceback (most recent call last)",
      "\u001b[1;32m<ipython-input-31-c0955ecf6f18>\u001b[0m in \u001b[0;36m<module>\u001b[1;34m()\u001b[0m\n\u001b[1;32m----> 1\u001b[1;33m \u001b[0mresult\u001b[0m\u001b[1;33m.\u001b[0m\u001b[0mgroup\u001b[0m\u001b[1;33m(\u001b[0m\u001b[1;36m2\u001b[0m\u001b[1;33m)\u001b[0m \u001b[1;31m#여기서 그룹은 1개만 만들어 줬기 때문에 에러 뜰 것이다.\u001b[0m\u001b[1;33m\u001b[0m\u001b[0m\n\u001b[0m",
      "\u001b[1;31mIndexError\u001b[0m: no such group"
     ]
    }
   ],
   "source": [
    "result.group(2) #여기서 그룹은 1개만 만들어 줬기 때문에 에러 뜰 것이다."
   ]
  },
  {
   "cell_type": "code",
   "execution_count": 32,
   "metadata": {
    "collapsed": true
   },
   "outputs": [],
   "source": [
    "p = re.compile(r\"(\\w+)\\s+(\\d+)[-](\\d+[-]\\d+)\")\n",
    "result = re.search(p, \"park 010-0000-0000\")"
   ]
  },
  {
   "cell_type": "code",
   "execution_count": 33,
   "metadata": {},
   "outputs": [
    {
     "data": {
      "text/plain": [
       "'park'"
      ]
     },
     "execution_count": 33,
     "metadata": {},
     "output_type": "execute_result"
    }
   ],
   "source": [
    "result.group(1)"
   ]
  },
  {
   "cell_type": "code",
   "execution_count": 34,
   "metadata": {
    "scrolled": true
   },
   "outputs": [
    {
     "data": {
      "text/plain": [
       "'010'"
      ]
     },
     "execution_count": 34,
     "metadata": {},
     "output_type": "execute_result"
    }
   ],
   "source": [
    "result.group(2)"
   ]
  },
  {
   "cell_type": "code",
   "execution_count": 35,
   "metadata": {
    "scrolled": true
   },
   "outputs": [
    {
     "data": {
      "text/plain": [
       "'0000-0000'"
      ]
     },
     "execution_count": 35,
     "metadata": {},
     "output_type": "execute_result"
    }
   ],
   "source": [
    "result.group(3)"
   ]
  },
  {
   "cell_type": "markdown",
   "metadata": {},
   "source": [
    "group은 하나 이상의 매치된 서브그룹을 리턴해준다."
   ]
  },
  {
   "cell_type": "code",
   "execution_count": 36,
   "metadata": {
    "collapsed": true
   },
   "outputs": [],
   "source": [
    "p = re.compile(r'(\\w+) (\\w+)')"
   ]
  },
  {
   "cell_type": "code",
   "execution_count": 37,
   "metadata": {
    "collapsed": true
   },
   "outputs": [],
   "source": [
    "result = re.search(p, \"Issac Newton, physicist\")"
   ]
  },
  {
   "cell_type": "code",
   "execution_count": 38,
   "metadata": {},
   "outputs": [
    {
     "data": {
      "text/plain": [
       "'Issac Newton'"
      ]
     },
     "execution_count": 38,
     "metadata": {},
     "output_type": "execute_result"
    }
   ],
   "source": [
    "result.group()"
   ]
  },
  {
   "cell_type": "code",
   "execution_count": 39,
   "metadata": {},
   "outputs": [
    {
     "data": {
      "text/plain": [
       "('Issac', 'Newton', ('Issac', 'Newton'))"
      ]
     },
     "execution_count": 39,
     "metadata": {},
     "output_type": "execute_result"
    }
   ],
   "source": [
    "result.group(1), result.group(2), result.group(1,2)"
   ]
  },
  {
   "cell_type": "code",
   "execution_count": 40,
   "metadata": {},
   "outputs": [
    {
     "data": {
      "text/plain": [
       "'Newton Issac, physicist'"
      ]
     },
     "execution_count": 40,
     "metadata": {},
     "output_type": "execute_result"
    }
   ],
   "source": [
    "p.sub(\"\\g<2> \\g<1>\", \"Issac Newton, physicist\") \n",
    "#grouping된 것들을 이러한 방식으로 위치를 바꿔서 출력해줄 수 있다."
   ]
  },
  {
   "cell_type": "code",
   "execution_count": 41,
   "metadata": {
    "collapsed": true
   },
   "outputs": [],
   "source": [
    "p = re.compile('a[.]{3,}b')\n",
    "result = re.search(p, \"a....b\")"
   ]
  },
  {
   "cell_type": "code",
   "execution_count": 42,
   "metadata": {},
   "outputs": [
    {
     "data": {
      "text/plain": [
       "<_sre.SRE_Match object; span=(0, 6), match='a....b'>"
      ]
     },
     "execution_count": 42,
     "metadata": {},
     "output_type": "execute_result"
    }
   ],
   "source": [
    "result"
   ]
  },
  {
   "cell_type": "code",
   "execution_count": 43,
   "metadata": {
    "collapsed": true
   },
   "outputs": [],
   "source": [
    "data = \"\"\"\n",
    "park 010-9999-9988\n",
    "kim 010-9909-7789\n",
    "lee 010-8789-7768\n",
    "\"\"\""
   ]
  },
  {
   "cell_type": "code",
   "execution_count": 44,
   "metadata": {
    "collapsed": true
   },
   "outputs": [],
   "source": [
    "p = re.compile(r'([0-9]{3})\\-([0-9]{4})\\-([0-9]{4})')\n",
    "result = re.findall(p, data)"
   ]
  },
  {
   "cell_type": "code",
   "execution_count": 45,
   "metadata": {},
   "outputs": [
    {
     "data": {
      "text/plain": [
       "[('010', '9999', '9988'), ('010', '9909', '7789'), ('010', '8789', '7768')]"
      ]
     },
     "execution_count": 45,
     "metadata": {},
     "output_type": "execute_result"
    }
   ],
   "source": [
    "result"
   ]
  },
  {
   "cell_type": "code",
   "execution_count": 46,
   "metadata": {},
   "outputs": [
    {
     "name": "stdout",
     "output_type": "stream",
     "text": [
      "\n",
      "park 010-9999-####\n",
      "kim 010-9909-####\n",
      "lee 010-8789-####\n",
      "\n"
     ]
    }
   ],
   "source": [
    "print(p.sub(\"\\g<1>-\\g<2>-####\", data))"
   ]
  },
  {
   "cell_type": "code",
   "execution_count": 47,
   "metadata": {},
   "outputs": [],
   "source": [
    "data = [\n",
    "\"park@naver.com\",\n",
    "\"kim@daum.net\",\n",
    "\"lee@myhome.co.kr\"\n",
    "]\n"
   ]
  },
  {
   "cell_type": "code",
   "execution_count": 48,
   "metadata": {},
   "outputs": [],
   "source": [
    "p = re.compile(r'.*[@].*[.](com|net)') #\n",
    "result = []\n",
    "for i in data:\n",
    "    result.append(re.search(p, i))"
   ]
  },
  {
   "cell_type": "code",
   "execution_count": 49,
   "metadata": {
    "scrolled": false
   },
   "outputs": [
    {
     "data": {
      "text/plain": [
       "[<_sre.SRE_Match object; span=(0, 14), match='park@naver.com'>,\n",
       " <_sre.SRE_Match object; span=(0, 12), match='kim@daum.net'>,\n",
       " None]"
      ]
     },
     "execution_count": 49,
     "metadata": {},
     "output_type": "execute_result"
    }
   ],
   "source": [
    "result"
   ]
  },
  {
   "cell_type": "code",
   "execution_count": 50,
   "metadata": {
    "collapsed": true
   },
   "outputs": [],
   "source": [
    "data = \"정규식 너무 싫다\""
   ]
  },
  {
   "cell_type": "code",
   "execution_count": 51,
   "metadata": {},
   "outputs": [
    {
     "data": {
      "text/plain": [
       "['정규식', '너무', '싫다']"
      ]
     },
     "execution_count": 51,
     "metadata": {},
     "output_type": "execute_result"
    }
   ],
   "source": [
    "p = re.compile(r\"\\W\")\n",
    "re.split(p, data)"
   ]
  },
  {
   "cell_type": "markdown",
   "metadata": {},
   "source": [
    "## Scraping"
   ]
  },
  {
   "cell_type": "code",
   "execution_count": 52,
   "metadata": {
    "collapsed": true
   },
   "outputs": [],
   "source": [
    "import requests"
   ]
  },
  {
   "cell_type": "code",
   "execution_count": 53,
   "metadata": {
    "collapsed": true
   },
   "outputs": [],
   "source": [
    "resp = requests.get(\"http://example.webscraping.com/places/default/search\")"
   ]
  },
  {
   "cell_type": "code",
   "execution_count": 54,
   "metadata": {
    "collapsed": true
   },
   "outputs": [],
   "source": [
    "from bs4 import BeautifulSoup"
   ]
  },
  {
   "cell_type": "code",
   "execution_count": 55,
   "metadata": {},
   "outputs": [],
   "source": [
    "dom = BeautifulSoup(resp.content, \"lxml\")"
   ]
  },
  {
   "cell_type": "code",
   "execution_count": 56,
   "metadata": {
    "collapsed": true
   },
   "outputs": [],
   "source": [
    "result = dom.select(\"#results\")"
   ]
  },
  {
   "cell_type": "code",
   "execution_count": 57,
   "metadata": {},
   "outputs": [
    {
     "name": "stdout",
     "output_type": "stream",
     "text": [
      "[<div id=\"results\">\n",
      "</div>]\n"
     ]
    }
   ],
   "source": [
    "print(result)"
   ]
  },
  {
   "cell_type": "markdown",
   "metadata": {},
   "source": [
    "## selenium"
   ]
  },
  {
   "cell_type": "markdown",
   "metadata": {},
   "source": [
    "사람이 검색할 때 일일히 하는게 귀찮아서 만든것임.\n",
    "자동화 툴.. <br>\n",
    "가상으로 브라우저 띄워서 반영된 dom(html문서)을 받아올 수 있도록 함.\n"
   ]
  },
  {
   "cell_type": "code",
   "execution_count": 11,
   "metadata": {},
   "outputs": [
    {
     "name": "stdout",
     "output_type": "stream",
     "text": [
      "Requirement already satisfied: selenium in c:\\users\\kyungyk\\anaconda3\\lib\\site-packages (3.13.0)\n"
     ]
    }
   ],
   "source": [
    "!pip install selenium"
   ]
  },
  {
   "cell_type": "code",
   "execution_count": 16,
   "metadata": {},
   "outputs": [],
   "source": [
    "from selenium import webdriver\n",
    "\n",
    "driver = webdriver.Chrome(\"C:/chromedriver\") #웹드라이버 객체를 만들어준다.\n",
    "\n",
    "driver.get('http://example.webscraping.com/places/default/search')\n",
    "#셀레늄 크롬 드라이버에서 해당 주소를 get해준다.\n",
    "driver.find_element_by_id(\"search_term\").send_keys(\"korea\") \n",
    "#search_term이라는 요소를 찾아서 \"korea\"를 보낸다.\n",
    "driver.find_element_by_id(\"search\").click()\n",
    "#'search'요소를 찾아서 클릭한다."
   ]
  },
  {
   "cell_type": "code",
   "execution_count": 7,
   "metadata": {},
   "outputs": [
    {
     "data": {
      "text/plain": [
       "str"
      ]
     },
     "execution_count": 7,
     "metadata": {},
     "output_type": "execute_result"
    }
   ],
   "source": [
    "type(driver.page_source) #page_source는 string형으로 값을 리턴해준다."
   ]
  },
  {
   "cell_type": "code",
   "execution_count": 8,
   "metadata": {},
   "outputs": [
    {
     "data": {
      "text/plain": [
       "'<!--[if HTML5]><![endif]--><!DOCTYPE html><!-- paulirish.com/2008/conditional-stylesheets-vs-css-hacks-answer-neither/ --><!--[if lt IE 7]><html class=\"ie ie6 ie-lte9 ie-lte8 ie-lte7 no-js\" lang=\"en-us\"> <![endif]--><!--[if IE 7]><html class=\"ie ie7 ie-lte9 ie-lte8 ie-lte7 no-js\" lang=\"en-us\"> <![endif]--><!--[if IE 8]><html class=\"ie ie8 ie-lte9 ie-lte8 no-js\" lang=\"en-us\"> <![endif]--><!--[if IE 9]><html class=\"ie9 ie-lte9 no-js\" lang=\"en-us\"> <![endif]--><!--[if (gt IE 9)|!(IE)]><!--><html xmlns=\"http://www.w3.org/1999/xhtml\" class=\" js flexbox flexboxlegacy canvas canvastext webgl no-touch geolocation postmessage websqldatabase indexeddb hashchange history draganddrop websockets rgba hsla multiplebgs backgroundsize borderimage borderradius boxshadow textshadow opacity cssanimations csscolumns cssgradients cssreflections csstransforms csstransforms3d csstransitions fontface generatedcontent video audio localstorage sessionstorage webworkers applicationcache svg inlinesvg smil svgclippaths\" lang=\"en-us\" style=\"\"><!--<![endif]--><head>\\n<title>Example web scraping website</title>\\n  <!--[if !HTML5]>\\n      <meta http-equiv=\"X-UA-Compatible\" content=\"IE=edge,chrome=1\">\\n  <![endif]-->\\n  <!-- www.phpied.com/conditional-comments-block-downloads/ -->\\n  <!-- Always force latest IE rendering engine\\n       (even in intranet) & Chrome Frame\\n       Remove this if you use the .htaccess -->\\n\\t   \\n  <meta charset=\"utf-8\" />\\n\\n  <!-- http://dev.w3.org/html5/markup/meta.name.html -->\\n  <meta name=\"application-name\" content=\"places\" />\\n\\n  <!--  Mobile Viewport Fix\\n        j.mp/mobileviewport & davidbcalhoun.com/2010/viewport-metatag\\n        device-width: Occupy full width of the screen in its current orientation\\n        initial-scale = 1.0 retains dimensions instead of zooming out if page height > device height\\n        user-scalable = yes allows the user to zoom in -->\\n  <meta name=\"viewport\" content=\"width=device-width, initial-scale=1.0\" />\\n\\n  <link rel=\"shortcut icon\" href=\"/places/static/images/favicon.ico\" type=\"image/x-icon\" />\\n  <link rel=\"apple-touch-icon\" href=\"/places/static/images/favicon.png\" />\\n\\n  <!-- All JavaScript at the bottom, except for Modernizr which enables\\n       HTML5 elements & feature detects -->\\n  <script src=\"/places/static/js/modernizr.custom.js\"></script>\\n\\n  <!-- include stylesheets -->\\n  \\n\\n  <script type=\"text/javascript\">&lt;!--\\n    // These variables are used by the web2py_ajax_init function in web2py_ajax.js (which is loaded below).\\n    var w2p_ajax_confirm_message = \"Are you sure you want to delete this object?\";\\n    var w2p_ajax_disable_with_message = \"Working...\";\\n    var w2p_ajax_date_format = \"%Y-%m-%d\";\\n    var w2p_ajax_datetime_format = \"%Y-%m-%d %H:%M:%S\";\\n    var ajax_error_500 = \\'An error occured, please &lt;a href=\"/places/default/search\"&gt;reload&lt;/a&gt; the page\\'\\n    //--&gt;</script>\\n\\n<meta name=\"keywords\" content=\"web2py, python, web scraping\" />\\n<meta name=\"generator\" content=\"Web2py Web Framework\" />\\n<meta name=\"author\" content=\"Richard Penman\" />\\n<script src=\"/places/static/js/jquery.js\" type=\"text/javascript\"></script><link href=\"/places/static/css/calendar.css\" rel=\"stylesheet\" type=\"text/css\" /><script src=\"/places/static/js/calendar.js\" type=\"text/javascript\"></script><script src=\"/places/static/js/web2py.js\" type=\"text/javascript\"></script><link href=\"/places/static/css/web2py.css\" rel=\"stylesheet\" type=\"text/css\" /><link href=\"/places/static/css/bootstrap.min.css\" rel=\"stylesheet\" type=\"text/css\" /><link href=\"/places/static/css/bootstrap-responsive.min.css\" rel=\"stylesheet\" type=\"text/css\" /><link href=\"/places/static/css/style.css\" rel=\"stylesheet\" type=\"text/css\" /><link href=\"/places/static/css/web2py_bootstrap.css\" rel=\"stylesheet\" type=\"text/css\" />\\n\\n\\n  \\n\\n  <!-- uncomment here to load jquery-ui\\n       <link rel=\"stylesheet\" href=\"http://ajax.googleapis.com/ajax/libs/jqueryui/1.10.3/themes/ui-lightness/jquery-ui.css\" type=\"text/css\" media=\"all\" />\\n       <script src=\"http://ajax.googleapis.com/ajax/libs/jqueryui/1.10.3/jquery-ui.min.js\" type=\"text/javascript\"></script>\\n       uncomment to load jquery-ui //-->\\n  <noscript>&lt;link href=\"/places/static/css/web2py_bootstrap_nojs.css\" rel=\"stylesheet\" type=\"text/css\" /&gt;</noscript>\\n  \\n</head>\\n\\n<body>\\n  <!-- Navbar ================================================== -->\\n  <div class=\"navbar navbar-inverse\">\\n    <div class=\"flash\" style=\"display: none;\"></div>\\n    <div class=\"navbar-inner\">\\n      <div class=\"container\">\\n        \\n        <!-- the next tag is necessary for bootstrap menus, do not remove -->\\n        <button type=\"button\" class=\"btn btn-navbar\" data-toggle=\"collapse\" data-target=\".nav-collapse\" style=\"display:none;\">\\n          <span class=\"icon-bar\"></span>\\n          <span class=\"icon-bar\"></span>\\n          <span class=\"icon-bar\"></span>\\n        </button>\\n        \\n        <ul id=\"navbar\" class=\"nav pull-right\"><li class=\"dropdown\"><a class=\"dropdown-toggle\" data-toggle=\"dropdown\" href=\"#\" rel=\"nofollow\">Log In<b class=\"caret\"></b></a><ul class=\"dropdown-menu\"><li><a href=\"/places/default/user/register?_next=/places/default/search\" rel=\"nofollow\"><i class=\"icon icon-user glyphicon glyphicon-user\"></i> Sign Up</a></li><li class=\"divider\"></li><li><a href=\"/places/default/user/login?_next=/places/default/search\" rel=\"nofollow\"><i class=\"icon icon-off glyphicon glyphicon-off\"></i> Log In</a></li></ul></li></ul>\\n        <div class=\"nav\">\\n          \\n          <ul class=\"nav\"><li class=\"web2py-menu-first\"><a href=\"/places/default/index\">Home</a></li><li class=\"web2py-menu-last\"><a href=\"/places/default/search\">Search</a></li></ul>\\n          \\n        </div><!--/.nav-collapse -->\\n      </div>\\n    </div>\\n  </div><!--/top navbar -->\\n\\n  <div class=\"container\">\\n    <!-- Masthead ================================================== -->\\n      \\n    <header class=\"mastheader row\" id=\"header\">\\n        <div class=\"span12\">\\n            <div class=\"page-header\">\\n                <h1>\\n                    Example web scraping website\\n                    <small></small>\\n                </h1>\\n            </div>\\n        </div>\\n    </header>\\n\\t\\n\\n    <section id=\"main\" class=\"main row\">\\n        \\n\\n        <div class=\"span12\">\\n            \\n            \\n\\n<form>\\n<table>\\n    <tbody><tr>\\n        <th>Name:</th>\\n        <td><input id=\"search_term\" /></td>\\n    </tr>\\n    <tr>\\n        <th>Page size:</th>\\n        <td>\\n            <select id=\"page_size\">\\n                <option>4</option>\\n                <option selected=\"\">10</option>\\n                <option>20</option>\\n            </select>\\n        </td>\\n    </tr>\\n    <tr>\\n        <td></td>\\n        <td>\\n            <input type=\"submit\" id=\"search\" value=\"Search\" class=\"btn\" />\\n        </td>\\n    </tr>\\n</tbody></table>\\n</form>\\n\\n<div id=\"results\"><table><tbody><tr><td><div><a href=\"/places/default/view/North-Korea-165\"><img src=\"/places/static/images/flags/kp.png\" /> North Korea</a></div></td><td><div><a href=\"/places/default/view/South-Korea-211\"><img src=\"/places/static/images/flags/kr.png\" /> South Korea</a></div></td></tr></tbody></table></div>\\n<div id=\"pagination\"></div>\\n\\n<script language=\"javascript\" type=\"text/javascript\">\\nvar NUM_COLUMNS = 2;\\nvar page = 0;\\n\\n\\n$(function() {\\n    $(\"form\").submit(function() {\\n        page = 0;\\n        search();\\n        return false;\\n    });\\n\\n    load_hash();\\n    window.onhashchange = load_hash;\\n});\\n\\n\\nfunction load_hash() {\\n    // load previous state from hash string\\n    var args = window.location.hash.slice(1).split(\\'|\\')\\n    if(args.length == 3) {\\n        $(\"#search_term\").val(args[0]);\\n        $(\"#page_size\").val(args[1]);\\n        page = parseInt(args[2]);\\n        search();\\n    }\\n}\\n\\n\\nfunction previous() {\\n    page = page - 1;\\n    search();\\n}\\nfunction next() {\\n    page = page + 1;\\n    search();\\n}\\n\\nfunction search() {\\n    var data = {\\n        search_term: $(\"#search_term\").val(),\\n        page_size: parseInt($(\"#page_size\").val()),\\n        page: page,\\n    };\\n    //window.location.hash = data.search_term + \\'|\\' + data.page_size + \\'|\\' + page;\\n\\n    $.ajax({\\n        dataType: \"json\",\\n        url: \"/places/ajax/search.json?\",\\n        data: data,\\n        success: function(results) {\\n            render(results)\\n        }\\n    });\\n}\\n\\nfunction render(results) {\\n    // add resulting records\\n    var html = \"&lt;table&gt;\";\\n    for(var i=0; i &lt; results.records.length; i++) {\\n        var record = results.records[i];\\n        if(i % NUM_COLUMNS == 0) html += \"&lt;tr&gt;\";\\n        html += \"&lt;td&gt;\" + record[\"pretty_link\"] + \"&lt;/td&gt;\";\\n        if(i % NUM_COLUMNS == NUM_COLUMNS - 1) html += \"&lt;/tr&gt;\";\\n    }\\n    $(\"#results\").html(html + \"&lt;/table&gt;\");\\n\\n    // add pagination if necessary\\n    html = \"\";\\n    if(results.num_pages &gt; 1) {\\n        if(page &gt; 0) {\\n            html += \"&lt;a id=\\'previous\\' href=\\'javascript:void(0)\\' onclick=\\'previous()\\'&gt;&amp;lt; Previous&lt;/a&gt;\";\\n        } else {\\n            html += \"&amp;lt; Previous\";\\n        }\\n        html += \" | \";\\n        if(page + 1 &lt; results.num_pages) {\\n            html += \"&lt;a id=\\'next\\' href=\\'javascript:void(0)\\' onclick=\\'next()\\'&gt;Next &amp;gt;&lt;/a&gt;\";\\n        } else {\\n            html += \"Next &amp;gt;\";\\n        \\n        }\\n    }\\n    $(\"#pagination\").html(html);\\n}\\n</script>\\n\\n            \\n        </div>\\n\\n        \\n    </section><!--/main-->\\n\\n    <!-- Footer ================================================== -->\\n    <div class=\"row\">\\n        <footer class=\"footer span12\" id=\"footer\">\\n        </footer>\\n    </div>\\n\\n  </div> <!-- /container -->\\n\\n  <!-- The javascript =============================================\\n       (Placed at the end of the document so the pages load faster) -->\\n  <script src=\"/places/static/js/bootstrap.min.js\"></script>\\n  <script src=\"/places/static/js/web2py_bootstrap.js\"></script>\\n  <!--[if lt IE 7 ]>\\n      <script src=\"/places/static/js/dd_belatedpng.js\"></script>\\n      <script> DD_belatedPNG.fix(\\'img, .png_bg\\'); //fix any <img> or .png_bg background-images </script>\\n      <![endif]-->\\n\\n\\n\\n</body></html>'"
      ]
     },
     "execution_count": 8,
     "metadata": {},
     "output_type": "execute_result"
    }
   ],
   "source": [
    "driver.page_source"
   ]
  },
  {
   "cell_type": "code",
   "execution_count": 9,
   "metadata": {},
   "outputs": [
    {
     "data": {
      "text/plain": [
       "['North Korea', 'South Korea']"
      ]
     },
     "execution_count": 9,
     "metadata": {},
     "output_type": "execute_result"
    }
   ],
   "source": [
    "driver.implicitly_wait(1)\n",
    "\n",
    "links = driver.find_elements_by_css_selector(\"#results a\")\n",
    "#css selector를 통해서 anchor태그 밑의 글자를 읽어온다.\n",
    "\n",
    "[link.text for link in links] #그리고 갖고온 텍스트들을 리스트에 넣어준다."
   ]
  },
  {
   "cell_type": "code",
   "execution_count": 10,
   "metadata": {},
   "outputs": [
    {
     "name": "stdout",
     "output_type": "stream",
     "text": [
      "North Korea\n",
      "South Korea\n"
     ]
    }
   ],
   "source": [
    "for link in links:\n",
    "    print(link.text)"
   ]
  },
  {
   "cell_type": "code",
   "execution_count": 3,
   "metadata": {},
   "outputs": [
    {
     "name": "stdout",
     "output_type": "stream",
     "text": [
      "Writing account.json\n"
     ]
    }
   ],
   "source": [
    "%%writefile account.json\n",
    "{\"id\" : \"jeungmin717\", \"pw\": \"Advance1!!\"}"
   ]
  },
  {
   "cell_type": "code",
   "execution_count": 51,
   "metadata": {},
   "outputs": [
    {
     "name": "stdout",
     "output_type": "stream",
     "text": [
      "Message: no such element: Unable to locate element: {\"method\":\"css selector\",\"selector\":\".btn_upload > a\"}\n",
      "  (Session info: chrome=67.0.3396.99)\n",
      "  (Driver info: chromedriver=2.40.565498 (ea082db3280dd6843ebfb08a625e3eb905c4f5ab),platform=Windows NT 10.0.17134 x86_64)\n",
      "\n",
      "[<span class=\"blind\">메일 제목:</span>, '평균연봉 6,712만원! ★SK케미칼 채용★ 외 오늘 뜬 공고 & 뉴스']\n",
      "[<span class=\"blind\">메일 제목:</span>, '(광고) 동원몰 이용약관 개정 사정 안내']\n",
      "[<span class=\"blind\">메일 제목:</span>, '(광고) 망사팬티']\n",
      "[<span class=\"blind\">메일 제목:</span>, '대학원 뉴텝스 점수 안정권이 궁금해요ㅠㅠ']\n",
      "[<span class=\"blind\">메일 제목:</span>, '(광고) 2018 상반기 BEST 가전 특가모음!']\n",
      "[<span class=\"blind\">메일 제목:</span>, '★우리은행 200명 정규직 채용★ 외 오늘 뜬 공고& 이번주 마감리스트']\n",
      "[<span class=\"blind\">메일 제목:</span>, '(광고)★100개만! 무선물걸레청소기 25% 특가+사은품★']\n",
      "[<span class=\"blind\">메일 제목:</span>, '(광고) 요즘 대세인 수동 6자리 번호 받아서 나도??']\n",
      "[<span class=\"blind\">메일 제목:</span>, '(광고) 목욕 싫어하는 우리 아이, 목욕 좋아하는 아이로 만들려면? ★유아용 천연비누 단독 최저가 진행★']\n",
      "[<span class=\"blind\">메일 제목:</span>, '[지니] 사용중인 이용권이 3일 후 연장결제 됩니다.']\n",
      "[<span class=\"blind\">메일 제목:</span>, '통계와조사나라와 함께 어울림 세미나&전문가특강을 진행하실분들 모집합니다.']\n",
      "[<span class=\"blind\">메일 제목:</span>, '(광고) 근거리 출근 전용']\n",
      "[<span class=\"blind\">메일 제목:</span>, '[공지] 해피머니 약관개정 사전 안내']\n",
      "[<span class=\"blind\">메일 제목:</span>, '수신확인용']\n",
      "[<span class=\"blind\">메일 제목:</span>, 'Security alert for your linked Google account']\n"
     ]
    }
   ],
   "source": [
    "import json\n",
    "from selenium.common.exceptions import NoSuchElementException\n",
    "from bs4 import BeautifulSoup\n",
    "\n",
    "with open(\"account.json\", \"r\", encoding=\"utf-8\") as f:\n",
    "    account = json.load(f)\n",
    "\n",
    "driver.get(\"https://nid.naver.com/nidlogin.login?url=http%3A%2F%2Fmail.naver.com%2F\")\n",
    "\n",
    "driver.find_element_by_id(\"id\").send_keys(account[\"id\"])\n",
    "driver.find_element_by_id(\"pw\").send_keys(account[\"pw\"])\n",
    "driver.find_element_by_css_selector(\".btn_global\").click()\n",
    "#이렇게 css selector를 통해서 제어하거나 누르고 싶은 곳을 찾아야 하기 때문에 중요\n",
    "\n",
    "try:\n",
    "    driver.find_element_by_css_selector(\".btn_upload > a\").click()\n",
    "    driver.find_element_by_css_selector(\".btn_maintain > a\").click()\n",
    "except NoSuchElementException as e:\n",
    "    print(e)\n",
    "finally:\n",
    "    html = BeautifulSoup(driver.page_source, \"lxml\")\n",
    "\n",
    "tempList = html.select(\".subject strong\")\n",
    "\n",
    "len(tempList)\n",
    "\n",
    "for temp in tempList:\n",
    "    print(temp.contents)"
   ]
  },
  {
   "cell_type": "code",
   "execution_count": 32,
   "metadata": {},
   "outputs": [],
   "source": [
    "\n",
    "from selenium.common.exceptions import NoSuchElementException\n",
    "from bs4 import BeautifulSoup\n",
    "\n",
    "with open(\"account.json\", \"r\", encoding=\"utf-8\") as f:\n",
    "    account = json.load(f)\n",
    "\n",
    "driver.get(\"https://nid.naver.com/nidlogin.login?url=http%3A%2F%2Fmail.naver.com%2F\")\n",
    "\n",
    "driver.find_element_by_id(\"id\").send_keys(account[\"id\"])\n",
    "driver.find_element_by_id(\"pw\").send_keys(account[\"pw\"])\n",
    "driver.find_element_by_css_selector(\".btn_global\").click()\n",
    "\n",
    "driver.implicitly_wait(2)\n",
    "try:\n",
    "    driver.get(\"https://news.naver.com/main/read.nhn?mode=LSD&mid=shm&sid1=105&oid=092&aid=0002142073\")\n",
    "    driver.find_element_by_css_selector(\"#cbox_module__write_textarea\").send_keys(\"ddddddddddddddddddddd\")\n",
    "except NoSuchElementException as e:\n",
    "    print(e)\n",
    "   \n"
   ]
  },
  {
   "cell_type": "code",
   "execution_count": 27,
   "metadata": {},
   "outputs": [],
   "source": [
    "from selenium import webdriver\n",
    "\n",
    "driver = webdriver.Chrome(\"C:/chromedriver\") #웹드라이버 객체를 만들어준다.\n",
    "\n",
    "driver.get('http://example.webscraping.com/places/default/search')\n",
    "#셀레늄 크롬 드라이버에서 해당 주소를 get해준다.\n",
    "driver.find_element_by_id(\"search_term\").send_keys(\"korea\") \n",
    "#search_term이라는 요소를 찾아서 \"korea\"를 보낸다.\n",
    "driver.find_element_by_id(\"search\").click()\n",
    "#'search'요소를 찾아서 클릭한다."
   ]
  },
  {
   "cell_type": "code",
   "execution_count": 28,
   "metadata": {
    "scrolled": true
   },
   "outputs": [
    {
     "name": "stdout",
     "output_type": "stream",
     "text": [
      "<!DOCTYPE html PUBLIC \"-//W3C//DTD HTML 4.01 Transitional//EN\" \"http://www.w3.org/TR/html4/loose.dtd\"><html xmlns=\"http://www.w3.org/1999/xhtml\" lang=\"ko\"><head>\n",
      "<meta http-equiv=\"Content-Type\" content=\"text/html; charset=utf-8\" />\n",
      "<meta http-equiv=\"Content-Script-Type\" content=\"text/javascript\" />\n",
      "<meta http-equiv=\"Content-Style-Type\" content=\"text/css\" />\n",
      "<title>트위터 연결 :: 네이버 공통</title>\n",
      "<style type=\"text/css\">\n",
      "/* NHN Web Standard 1Team JJS 120420 */\n",
      "/* Common */\n",
      "body,p,h1,h2,h3,h4,h5,h6,ul,ol,li,dl,dt,dd,table,th,td,form,fieldset,legend,input,textarea,button,select{margin:0;padding:0}\n",
      "body,input,textarea,select,button,table{font-family:'굴림',gulim,sans-serif,applegothic;font-size:12px}\n",
      "img,fieldset{border:0}\n",
      "ul,ol{list-style:none}\n",
      "em,address{font-style:normal}\n",
      "a{text-decoration:none}\n",
      "a:hover,a:active,a:focus{text-decoration:underline}\n",
      "\n",
      "/* Layout */\n",
      "#wrap{overflow:hidden;position:relative;width:400px}\n",
      "#header{height:35px;background:url(https://ssl.pstatic.net/static/common/popup/bg_header.gif) 0 0 repeat-x}\n",
      "#content{margin:0 20px;padding:20px 0}\n",
      "#footer{margin:0 20px;padding:0 0 21px;text-align:center}\n",
      "\n",
      "/* Content */\n",
      "legend{visibility:hidden;overflow:hidden;position:absolute;top:0;left:0;width:0;height:0;font-size:0;line-height:0}\n",
      "h1{padding:11px 0 0 24px;background:url(https://ssl.pstatic.net/static/common/popup/bu_h1.gif) 15px 13px no-repeat;font-weight:bold;font-size:13px;font-family:'굴림',gulim,'돋움',dotum,applegothic,sans-serif;color:#fff}\n",
      ".dsc{font-size:12px;font-family:'돋움',dotum;line-height:16px;color:#666}\n",
      ".bx{width:358px;height:107px;margin-top:14px;padding-top:30px;border:1px solid #e3e3e3;background:#f8f8f8}\n",
      ".bx{text-align:center}\n",
      ".bx img{margin:0 -2px;vertical-align:top}\n",
      ".bx a{display:inline-block;margin:20px auto 0}\n",
      "</style>\n",
      "<script type=\"text/javascript\">\n",
      "function resizePopup(w,h) {\n",
      "\tdocument.body.style.overflow='hidden';\n",
      "\tvar clintAgent = navigator.userAgent;\n",
      "\tif ( clintAgent.indexOf(\"MSIE\") != -1 ) {\n",
      "\t\twindow.resizeBy(w-document.body.clientWidth, h-document.body.clientHeight);\n",
      "\t} else {\n",
      "\t\twindow.resizeBy(w-window.innerWidth, h-window.innerHeight);\n",
      "\t}\n",
      "}\n",
      "\n",
      "function moveIdLink() {\n",
      "\tvar type = \"twitter\";\n",
      "\tif (type == \"twitter\") {\n",
      "\t\tresizePopup(810, 500);\n",
      "\t}\n",
      "\t\n",
      "\tlocation.href = \"https://nid.naver.com/oauth/front.nhn?servicekey=COMMON_COMMENT&amp;type=twitter&amp;viewtype=1&amp;link=1&amp;svcurl=http%3A%2F%2Fui.cbox.naver.com%2Fhtml%2FsnsSettingCallback.html%3Ftarget%3Dcbox_module%26type%3Dtwitter\";\n",
      "\treturn true; \n",
      "}\n",
      "\n",
      "function fixSize() {\n",
      "\tvar isIE = (navigator.userAgent.indexOf(\"MSIE \") != -1);\n",
      "\tvar isChrome = (navigator.userAgent.indexOf(\"Chrome\") != -1);\n",
      "\t\n",
      "\tvar width = 400;\n",
      "\tvar heigth = 300;\n",
      "\t\n",
      "\tif (isIE) {\n",
      "\t\tresizePopup(400, 300);\n",
      "\t} else if (isChrome) {\n",
      "\t\tsetTimeout(function(){ resizePopup(400, 350) },500);\n",
      "\t} else {\n",
      "\t\tresizePopup(400, 350);\n",
      "\t}\n",
      "};\n",
      "</script>\n",
      "</head>\n",
      "<!-- Document Size : 400*300 -->\n",
      "<body onload=\"fixSize();\" style=\"overflow: hidden;\">\n",
      "<div id=\"wrap\">\n",
      "\t<div id=\"header\">\n",
      "\t\t<h1>SNS 연결하기</h1>\n",
      "\t</div>\n",
      "\t<div id=\"content\">\n",
      "\t\t<p class=\"dsc\">선택하신 기능을 이용하려면, 네이버 ID와 트위터 계정을 연결해 주세요. 트위터 계정과의 연동을 통해 네이버 서비스가 제공됩니다.</p>\n",
      "\t\t<div class=\"bx\">\n",
      "\t\t\t<div class=\"connect\">\n",
      "\t\t\t\t<img src=\"https://ssl.pstatic.net/static/common/popup/ico_naver2.png\" width=\"24\" height=\"24\" alt=\"네이버\" />\n",
      "\t\t\t\t<img src=\"https://ssl.pstatic.net/static/common/popup/bu_connect.png\" width=\"36\" height=\"24\" alt=\"연결\" />\n",
      "\t\t\t\t<img src=\"https://ssl.pstatic.net/static/common/popup/ico_twitter.png\" width=\"24\" height=\"24\" alt=\"트위터\" />\n",
      "\t\t\t</div>\n",
      "\t\t\t<a href=\"javascript:moveIdLink()\"><img src=\"https://ssl.pstatic.net/static/common/popup/btn_twitter.png\" alt=\"트위터 연결\" /></a>\n",
      "\t\t</div>\n",
      "\t</div>\n",
      "\t<div id=\"footer\">\n",
      "\t\t<a href=\"#\" onclick=\"self.close();return false;\"><img src=\"https://ssl.pstatic.net/static/common/popup/btn_close2.png\" width=\"40\" height=\"23\" alt=\"닫기\" /></a>\n",
      "\t</div>\n",
      "</div>\n",
      "\n",
      "</body></html>\n",
      "96%\n"
     ]
    }
   ],
   "source": [
    "\n",
    "\n",
    "from selenium.common.exceptions import NoSuchElementException\n",
    "from bs4 import BeautifulSoup\n",
    "\n",
    "with open(\"account.json\", \"r\", encoding=\"utf-8\") as f:\n",
    "    account = json.load(f)\n",
    "\n",
    "driver.get(\"https://nid.naver.com/nidlogin.login?url=http%3A%2F%2Fmail.naver.com%2F\")\n",
    "\n",
    "driver.find_element_by_id(\"id\").send_keys(account[\"id\"])\n",
    "driver.find_element_by_id(\"pw\").send_keys(account[\"pw\"])\n",
    "driver.find_element_by_css_selector(\".btn_global\").click()\n",
    "\n",
    "driver.implicitly_wait(2)\n",
    "try:\n",
    "    driver.get(\"https://sports.news.naver.com/index.nhn\")\n",
    "    driver.find_element_by_css_selector(\"ul a > span.title\").click()\n",
    "    driver.implicitly_wait(2)\n",
    "    driver.find_element_by_css_selector(\"#cbox_module__write_textarea\").send_keys(\"fufifififi\")\n",
    "    driver.find_elements_by_css_selector(\"label.u_cbox_ico_social\")[1].click()\n",
    "    \n",
    "    driver.switch_to.window(driver.window_handles[1])\n",
    "    print(driver.page_source)\n",
    "    driver.find_element_by_css_selector(\"#footer img\").click()\n",
    "    driver.switch_to.window(driver.window_handles[0])\n",
    "    tt_list =  driver.find_elements_by_css_selector(\"span.u_cbox_chart_per\")\n",
    "    print(tt_list[0].text)\n",
    "    \n",
    "except NoSuchElementException as e:\n",
    "    print(e)\n",
    "   \n",
    "\n"
   ]
  },
  {
   "cell_type": "code",
   "execution_count": 56,
   "metadata": {},
   "outputs": [
    {
     "ename": "WebDriverException",
     "evalue": "Message: chrome not reachable\n  (Session info: chrome=67.0.3396.99)\n  (Driver info: chromedriver=2.40.565498 (ea082db3280dd6843ebfb08a625e3eb905c4f5ab),platform=Windows NT 10.0.17134 x86_64)\n",
     "output_type": "error",
     "traceback": [
      "\u001b[1;31m---------------------------------------------------------------------------\u001b[0m",
      "\u001b[1;31mWebDriverException\u001b[0m                        Traceback (most recent call last)",
      "\u001b[1;32m<ipython-input-56-d0c3d0bf9f4d>\u001b[0m in \u001b[0;36m<module>\u001b[1;34m()\u001b[0m\n\u001b[0;32m      7\u001b[0m     \u001b[0maccount\u001b[0m \u001b[1;33m=\u001b[0m \u001b[0mjson\u001b[0m\u001b[1;33m.\u001b[0m\u001b[0mload\u001b[0m\u001b[1;33m(\u001b[0m\u001b[0mf\u001b[0m\u001b[1;33m)\u001b[0m\u001b[1;33m\u001b[0m\u001b[0m\n\u001b[0;32m      8\u001b[0m \u001b[1;33m\u001b[0m\u001b[0m\n\u001b[1;32m----> 9\u001b[1;33m \u001b[0mdriver\u001b[0m\u001b[1;33m.\u001b[0m\u001b[0mget\u001b[0m\u001b[1;33m(\u001b[0m\u001b[1;34m\"https://www.google.com/search?biw=1036&bih=670&tbm=isch&sa=1&ei=8kVQW6ScFdv6-QaDrIp4&q=%EC%9C%B0%EB%B8%94%EB%A6%AC&oq=%EC%9C%B0%EB%B8%94%EB%A6%AC&gs_l=img.3..0l3j0i30k1l3j0i24k1l2j0i5i30k1l2.5398.6955.0.7022.12.10.1.0.0.0.133.1024.5j5.10.0....0...1c.1j4.64.img..4.7.666...0i10i24k1.0.-BoMx2O8sfA\"\u001b[0m\u001b[1;33m)\u001b[0m\u001b[1;33m\u001b[0m\u001b[0m\n\u001b[0m\u001b[0;32m     10\u001b[0m \u001b[0mhtml\u001b[0m \u001b[1;33m=\u001b[0m \u001b[0mBeautifulSoup\u001b[0m\u001b[1;33m(\u001b[0m\u001b[0mdriver\u001b[0m\u001b[1;33m.\u001b[0m\u001b[0mpage_source\u001b[0m\u001b[1;33m,\u001b[0m \u001b[1;34m\"lxml\"\u001b[0m\u001b[1;33m)\u001b[0m\u001b[1;33m\u001b[0m\u001b[0m\n\u001b[0;32m     11\u001b[0m \u001b[1;31m#print(html)\u001b[0m\u001b[1;33m\u001b[0m\u001b[1;33m\u001b[0m\u001b[0m\n",
      "\u001b[1;32m~\\Anaconda3\\lib\\site-packages\\selenium\\webdriver\\remote\\webdriver.py\u001b[0m in \u001b[0;36mget\u001b[1;34m(self, url)\u001b[0m\n\u001b[0;32m    330\u001b[0m         \u001b[0mLoads\u001b[0m \u001b[0ma\u001b[0m \u001b[0mweb\u001b[0m \u001b[0mpage\u001b[0m \u001b[1;32min\u001b[0m \u001b[0mthe\u001b[0m \u001b[0mcurrent\u001b[0m \u001b[0mbrowser\u001b[0m \u001b[0msession\u001b[0m\u001b[1;33m.\u001b[0m\u001b[1;33m\u001b[0m\u001b[0m\n\u001b[0;32m    331\u001b[0m         \"\"\"\n\u001b[1;32m--> 332\u001b[1;33m         \u001b[0mself\u001b[0m\u001b[1;33m.\u001b[0m\u001b[0mexecute\u001b[0m\u001b[1;33m(\u001b[0m\u001b[0mCommand\u001b[0m\u001b[1;33m.\u001b[0m\u001b[0mGET\u001b[0m\u001b[1;33m,\u001b[0m \u001b[1;33m{\u001b[0m\u001b[1;34m'url'\u001b[0m\u001b[1;33m:\u001b[0m \u001b[0murl\u001b[0m\u001b[1;33m}\u001b[0m\u001b[1;33m)\u001b[0m\u001b[1;33m\u001b[0m\u001b[0m\n\u001b[0m\u001b[0;32m    333\u001b[0m \u001b[1;33m\u001b[0m\u001b[0m\n\u001b[0;32m    334\u001b[0m     \u001b[1;33m@\u001b[0m\u001b[0mproperty\u001b[0m\u001b[1;33m\u001b[0m\u001b[0m\n",
      "\u001b[1;32m~\\Anaconda3\\lib\\site-packages\\selenium\\webdriver\\remote\\webdriver.py\u001b[0m in \u001b[0;36mexecute\u001b[1;34m(self, driver_command, params)\u001b[0m\n\u001b[0;32m    318\u001b[0m         \u001b[0mresponse\u001b[0m \u001b[1;33m=\u001b[0m \u001b[0mself\u001b[0m\u001b[1;33m.\u001b[0m\u001b[0mcommand_executor\u001b[0m\u001b[1;33m.\u001b[0m\u001b[0mexecute\u001b[0m\u001b[1;33m(\u001b[0m\u001b[0mdriver_command\u001b[0m\u001b[1;33m,\u001b[0m \u001b[0mparams\u001b[0m\u001b[1;33m)\u001b[0m\u001b[1;33m\u001b[0m\u001b[0m\n\u001b[0;32m    319\u001b[0m         \u001b[1;32mif\u001b[0m \u001b[0mresponse\u001b[0m\u001b[1;33m:\u001b[0m\u001b[1;33m\u001b[0m\u001b[0m\n\u001b[1;32m--> 320\u001b[1;33m             \u001b[0mself\u001b[0m\u001b[1;33m.\u001b[0m\u001b[0merror_handler\u001b[0m\u001b[1;33m.\u001b[0m\u001b[0mcheck_response\u001b[0m\u001b[1;33m(\u001b[0m\u001b[0mresponse\u001b[0m\u001b[1;33m)\u001b[0m\u001b[1;33m\u001b[0m\u001b[0m\n\u001b[0m\u001b[0;32m    321\u001b[0m             response['value'] = self._unwrap_value(\n\u001b[0;32m    322\u001b[0m                 response.get('value', None))\n",
      "\u001b[1;32m~\\Anaconda3\\lib\\site-packages\\selenium\\webdriver\\remote\\errorhandler.py\u001b[0m in \u001b[0;36mcheck_response\u001b[1;34m(self, response)\u001b[0m\n\u001b[0;32m    240\u001b[0m                 \u001b[0malert_text\u001b[0m \u001b[1;33m=\u001b[0m \u001b[0mvalue\u001b[0m\u001b[1;33m[\u001b[0m\u001b[1;34m'alert'\u001b[0m\u001b[1;33m]\u001b[0m\u001b[1;33m.\u001b[0m\u001b[0mget\u001b[0m\u001b[1;33m(\u001b[0m\u001b[1;34m'text'\u001b[0m\u001b[1;33m)\u001b[0m\u001b[1;33m\u001b[0m\u001b[0m\n\u001b[0;32m    241\u001b[0m             \u001b[1;32mraise\u001b[0m \u001b[0mexception_class\u001b[0m\u001b[1;33m(\u001b[0m\u001b[0mmessage\u001b[0m\u001b[1;33m,\u001b[0m \u001b[0mscreen\u001b[0m\u001b[1;33m,\u001b[0m \u001b[0mstacktrace\u001b[0m\u001b[1;33m,\u001b[0m \u001b[0malert_text\u001b[0m\u001b[1;33m)\u001b[0m\u001b[1;33m\u001b[0m\u001b[0m\n\u001b[1;32m--> 242\u001b[1;33m         \u001b[1;32mraise\u001b[0m \u001b[0mexception_class\u001b[0m\u001b[1;33m(\u001b[0m\u001b[0mmessage\u001b[0m\u001b[1;33m,\u001b[0m \u001b[0mscreen\u001b[0m\u001b[1;33m,\u001b[0m \u001b[0mstacktrace\u001b[0m\u001b[1;33m)\u001b[0m\u001b[1;33m\u001b[0m\u001b[0m\n\u001b[0m\u001b[0;32m    243\u001b[0m \u001b[1;33m\u001b[0m\u001b[0m\n\u001b[0;32m    244\u001b[0m     \u001b[1;32mdef\u001b[0m \u001b[0m_value_or_default\u001b[0m\u001b[1;33m(\u001b[0m\u001b[0mself\u001b[0m\u001b[1;33m,\u001b[0m \u001b[0mobj\u001b[0m\u001b[1;33m,\u001b[0m \u001b[0mkey\u001b[0m\u001b[1;33m,\u001b[0m \u001b[0mdefault\u001b[0m\u001b[1;33m)\u001b[0m\u001b[1;33m:\u001b[0m\u001b[1;33m\u001b[0m\u001b[0m\n",
      "\u001b[1;31mWebDriverException\u001b[0m: Message: chrome not reachable\n  (Session info: chrome=67.0.3396.99)\n  (Driver info: chromedriver=2.40.565498 (ea082db3280dd6843ebfb08a625e3eb905c4f5ab),platform=Windows NT 10.0.17134 x86_64)\n"
     ]
    }
   ],
   "source": [
    "\n",
    "\n",
    "from selenium.common.exceptions import NoSuchElementException\n",
    "from bs4 import BeautifulSoup\n",
    "\n",
    "with open(\"account.json\", \"r\", encoding=\"utf-8\") as f:\n",
    "    account = json.load(f)\n",
    "\n",
    "driver.get(\"https://www.google.com/search?biw=1036&bih=670&tbm=isch&sa=1&ei=8kVQW6ScFdv6-QaDrIp4&q=%EC%9C%B0%EB%B8%94%EB%A6%AC&oq=%EC%9C%B0%EB%B8%94%EB%A6%AC&gs_l=img.3..0l3j0i30k1l3j0i24k1l2j0i5i30k1l2.5398.6955.0.7022.12.10.1.0.0.0.133.1024.5j5.10.0....0...1c.1j4.64.img..4.7.666...0i10i24k1.0.-BoMx2O8sfA\")\n",
    "html = BeautifulSoup(driver.page_source, \"lxml\")\n",
    "#print(html)\n",
    "\n",
    "tempList = html.select(\".rg_ic rg_i\")\n",
    "\n",
    "\n",
    "print(len(tempList))\n",
    "\n",
    "for temp in tempList:\n",
    "    print(temp.contents)\n",
    "\n",
    "# try:\n",
    "\n",
    "# except NoSuchElementException as e:\n",
    "#     print(e)\n",
    "   \n",
    "\n"
   ]
  },
  {
   "cell_type": "code",
   "execution_count": 58,
   "metadata": {},
   "outputs": [
    {
     "name": "stdout",
     "output_type": "stream",
     "text": [
      "0\n"
     ]
    }
   ],
   "source": [
    "\n",
    "\n",
    "from selenium.common.exceptions import NoSuchElementException\n",
    "from bs4 import BeautifulSoup\n",
    "\n",
    "\n",
    "from selenium import webdriver\n",
    "from selenium.common.exceptions import NoSuchElementException\n",
    "from bs4 import BeautifulSoup\n",
    "\n",
    "driver = webdriver.Chrome(\"C:/chromedriver\") #웹드라이버 객체를 만들어준다.\n",
    "\n",
    "\n",
    "driver.get(\"https://www.google.com/search?biw=1036&bih=670&tbm=isch&sa=1&ei=8kVQW6ScFdv6-QaDrIp4&q=%EC%9C%B0%EB%B8%94%EB%A6%AC&oq=%EC%9C%B0%EB%B8%94%EB%A6%AC&gs_l=img.3..0l3j0i30k1l3j0i24k1l2j0i5i30k1l2.5398.6955.0.7022.12.10.1.0.0.0.133.1024.5j5.10.0....0...1c.1j4.64.img..4.7.666...0i10i24k1.0.-BoMx2O8sfA\")\n",
    "html = BeautifulSoup(driver.page_source, \"lxml\")\n",
    "#print(html)\n",
    "\n",
    "#tempList = html.select(\".rg_ic rg_i\")\n",
    "\n",
    "\n",
    "#print(len(tempList))\n",
    "\n",
    "#for temp in tempList:\n",
    " #   print(temp.contents)\n",
    "\n",
    "    \n",
    "    \n",
    "# try:\n",
    "\n",
    "# except NoSuchElementException as e:\n",
    "#     print(e)\n",
    "   \n",
    "se\n"
   ]
  },
  {
   "cell_type": "code",
   "execution_count": 42,
   "metadata": {},
   "outputs": [
    {
     "data": {
      "text/plain": [
       "[]"
      ]
     },
     "execution_count": 42,
     "metadata": {},
     "output_type": "execute_result"
    }
   ],
   "source": [
    "import requests\n",
    " \n",
    "response = requests.get('https://www.google.com/search?biw=1036&bih=670&tbm=isch&sa=1&ei=8kVQW6ScFdv6-QaDrIp4&q=%EC%9C%B0%EB%B8%94%EB%A6%AC&oq=%EC%9C%B0%EB%B8%94%EB%A6%AC&gs_l=img.3..0l3j0i30k1l3j0i24k1l2j0i5i30k1l2.5398.6955.0.7022.12.10.1.0.0.0.133.1024.5j5.10.0....0...1c.1j4.64.img..4.7.666...0i10i24k1.0.-BoMx2O8sfA')\n",
    " \n",
    "html = response.text\n",
    " \n",
    "from bs4 import BeautifulSoup    #BeautifulSoup import\n",
    "soup = BeautifulSoup(html, 'html.parser') #html.parser를 사용해서 soup에 넣겠다\n",
    "soup.select('img.rg_ic rg_i')#div[class=tit3]인 애들만 선택해서 출력하\n",
    "\n"
   ]
  },
  {
   "cell_type": "code",
   "execution_count": 54,
   "metadata": {},
   "outputs": [
    {
     "ename": "NoSuchElementException",
     "evalue": "Message: no such element: Unable to locate element: {\"method\":\"id\",\"selector\":\"search_term\"}\n  (Session info: chrome=67.0.3396.99)\n  (Driver info: chromedriver=2.40.565498 (ea082db3280dd6843ebfb08a625e3eb905c4f5ab),platform=Windows NT 10.0.17134 x86_64)\n",
     "output_type": "error",
     "traceback": [
      "\u001b[1;31m---------------------------------------------------------------------------\u001b[0m",
      "\u001b[1;31mNoSuchElementException\u001b[0m                    Traceback (most recent call last)",
      "\u001b[1;32m<ipython-input-54-bec3c9414611>\u001b[0m in \u001b[0;36m<module>\u001b[1;34m()\u001b[0m\n\u001b[0;32m      7\u001b[0m \u001b[0mdriver\u001b[0m\u001b[1;33m.\u001b[0m\u001b[0mget\u001b[0m\u001b[1;33m(\u001b[0m\u001b[1;34m'https://www1.president.go.kr/petitions'\u001b[0m\u001b[1;33m)\u001b[0m\u001b[1;33m\u001b[0m\u001b[0m\n\u001b[0;32m      8\u001b[0m \u001b[1;31m#셀레늄 크롬 드라이버에서 해당 주소를 get해준다.\u001b[0m\u001b[1;33m\u001b[0m\u001b[1;33m\u001b[0m\u001b[0m\n\u001b[1;32m----> 9\u001b[1;33m \u001b[0mdriver\u001b[0m\u001b[1;33m.\u001b[0m\u001b[0mfind_element_by_id\u001b[0m\u001b[1;33m(\u001b[0m\u001b[1;34m\"search_term\"\u001b[0m\u001b[1;33m)\u001b[0m\u001b[1;33m.\u001b[0m\u001b[0msend_keys\u001b[0m\u001b[1;33m(\u001b[0m\u001b[1;34m\"korea\"\u001b[0m\u001b[1;33m)\u001b[0m\u001b[1;33m\u001b[0m\u001b[0m\n\u001b[0m\u001b[0;32m     10\u001b[0m \u001b[1;31m#search_term이라는 요소를 찾아서 \"korea\"를 보낸다.\u001b[0m\u001b[1;33m\u001b[0m\u001b[1;33m\u001b[0m\u001b[0m\n\u001b[0;32m     11\u001b[0m \u001b[0mdriver\u001b[0m\u001b[1;33m.\u001b[0m\u001b[0mfind_element_by_id\u001b[0m\u001b[1;33m(\u001b[0m\u001b[1;34m\"search\"\u001b[0m\u001b[1;33m)\u001b[0m\u001b[1;33m.\u001b[0m\u001b[0mclick\u001b[0m\u001b[1;33m(\u001b[0m\u001b[1;33m)\u001b[0m\u001b[1;33m\u001b[0m\u001b[0m\n",
      "\u001b[1;32m~\\Anaconda3\\lib\\site-packages\\selenium\\webdriver\\remote\\webdriver.py\u001b[0m in \u001b[0;36mfind_element_by_id\u001b[1;34m(self, id_)\u001b[0m\n\u001b[0;32m    357\u001b[0m             \u001b[0melement\u001b[0m \u001b[1;33m=\u001b[0m \u001b[0mdriver\u001b[0m\u001b[1;33m.\u001b[0m\u001b[0mfind_element_by_id\u001b[0m\u001b[1;33m(\u001b[0m\u001b[1;34m'foo'\u001b[0m\u001b[1;33m)\u001b[0m\u001b[1;33m\u001b[0m\u001b[0m\n\u001b[0;32m    358\u001b[0m         \"\"\"\n\u001b[1;32m--> 359\u001b[1;33m         \u001b[1;32mreturn\u001b[0m \u001b[0mself\u001b[0m\u001b[1;33m.\u001b[0m\u001b[0mfind_element\u001b[0m\u001b[1;33m(\u001b[0m\u001b[0mby\u001b[0m\u001b[1;33m=\u001b[0m\u001b[0mBy\u001b[0m\u001b[1;33m.\u001b[0m\u001b[0mID\u001b[0m\u001b[1;33m,\u001b[0m \u001b[0mvalue\u001b[0m\u001b[1;33m=\u001b[0m\u001b[0mid_\u001b[0m\u001b[1;33m)\u001b[0m\u001b[1;33m\u001b[0m\u001b[0m\n\u001b[0m\u001b[0;32m    360\u001b[0m \u001b[1;33m\u001b[0m\u001b[0m\n\u001b[0;32m    361\u001b[0m     \u001b[1;32mdef\u001b[0m \u001b[0mfind_elements_by_id\u001b[0m\u001b[1;33m(\u001b[0m\u001b[0mself\u001b[0m\u001b[1;33m,\u001b[0m \u001b[0mid_\u001b[0m\u001b[1;33m)\u001b[0m\u001b[1;33m:\u001b[0m\u001b[1;33m\u001b[0m\u001b[0m\n",
      "\u001b[1;32m~\\Anaconda3\\lib\\site-packages\\selenium\\webdriver\\remote\\webdriver.py\u001b[0m in \u001b[0;36mfind_element\u001b[1;34m(self, by, value)\u001b[0m\n\u001b[0;32m    964\u001b[0m         return self.execute(Command.FIND_ELEMENT, {\n\u001b[0;32m    965\u001b[0m             \u001b[1;34m'using'\u001b[0m\u001b[1;33m:\u001b[0m \u001b[0mby\u001b[0m\u001b[1;33m,\u001b[0m\u001b[1;33m\u001b[0m\u001b[0m\n\u001b[1;32m--> 966\u001b[1;33m             'value': value})['value']\n\u001b[0m\u001b[0;32m    967\u001b[0m \u001b[1;33m\u001b[0m\u001b[0m\n\u001b[0;32m    968\u001b[0m     \u001b[1;32mdef\u001b[0m \u001b[0mfind_elements\u001b[0m\u001b[1;33m(\u001b[0m\u001b[0mself\u001b[0m\u001b[1;33m,\u001b[0m \u001b[0mby\u001b[0m\u001b[1;33m=\u001b[0m\u001b[0mBy\u001b[0m\u001b[1;33m.\u001b[0m\u001b[0mID\u001b[0m\u001b[1;33m,\u001b[0m \u001b[0mvalue\u001b[0m\u001b[1;33m=\u001b[0m\u001b[1;32mNone\u001b[0m\u001b[1;33m)\u001b[0m\u001b[1;33m:\u001b[0m\u001b[1;33m\u001b[0m\u001b[0m\n",
      "\u001b[1;32m~\\Anaconda3\\lib\\site-packages\\selenium\\webdriver\\remote\\webdriver.py\u001b[0m in \u001b[0;36mexecute\u001b[1;34m(self, driver_command, params)\u001b[0m\n\u001b[0;32m    318\u001b[0m         \u001b[0mresponse\u001b[0m \u001b[1;33m=\u001b[0m \u001b[0mself\u001b[0m\u001b[1;33m.\u001b[0m\u001b[0mcommand_executor\u001b[0m\u001b[1;33m.\u001b[0m\u001b[0mexecute\u001b[0m\u001b[1;33m(\u001b[0m\u001b[0mdriver_command\u001b[0m\u001b[1;33m,\u001b[0m \u001b[0mparams\u001b[0m\u001b[1;33m)\u001b[0m\u001b[1;33m\u001b[0m\u001b[0m\n\u001b[0;32m    319\u001b[0m         \u001b[1;32mif\u001b[0m \u001b[0mresponse\u001b[0m\u001b[1;33m:\u001b[0m\u001b[1;33m\u001b[0m\u001b[0m\n\u001b[1;32m--> 320\u001b[1;33m             \u001b[0mself\u001b[0m\u001b[1;33m.\u001b[0m\u001b[0merror_handler\u001b[0m\u001b[1;33m.\u001b[0m\u001b[0mcheck_response\u001b[0m\u001b[1;33m(\u001b[0m\u001b[0mresponse\u001b[0m\u001b[1;33m)\u001b[0m\u001b[1;33m\u001b[0m\u001b[0m\n\u001b[0m\u001b[0;32m    321\u001b[0m             response['value'] = self._unwrap_value(\n\u001b[0;32m    322\u001b[0m                 response.get('value', None))\n",
      "\u001b[1;32m~\\Anaconda3\\lib\\site-packages\\selenium\\webdriver\\remote\\errorhandler.py\u001b[0m in \u001b[0;36mcheck_response\u001b[1;34m(self, response)\u001b[0m\n\u001b[0;32m    240\u001b[0m                 \u001b[0malert_text\u001b[0m \u001b[1;33m=\u001b[0m \u001b[0mvalue\u001b[0m\u001b[1;33m[\u001b[0m\u001b[1;34m'alert'\u001b[0m\u001b[1;33m]\u001b[0m\u001b[1;33m.\u001b[0m\u001b[0mget\u001b[0m\u001b[1;33m(\u001b[0m\u001b[1;34m'text'\u001b[0m\u001b[1;33m)\u001b[0m\u001b[1;33m\u001b[0m\u001b[0m\n\u001b[0;32m    241\u001b[0m             \u001b[1;32mraise\u001b[0m \u001b[0mexception_class\u001b[0m\u001b[1;33m(\u001b[0m\u001b[0mmessage\u001b[0m\u001b[1;33m,\u001b[0m \u001b[0mscreen\u001b[0m\u001b[1;33m,\u001b[0m \u001b[0mstacktrace\u001b[0m\u001b[1;33m,\u001b[0m \u001b[0malert_text\u001b[0m\u001b[1;33m)\u001b[0m\u001b[1;33m\u001b[0m\u001b[0m\n\u001b[1;32m--> 242\u001b[1;33m         \u001b[1;32mraise\u001b[0m \u001b[0mexception_class\u001b[0m\u001b[1;33m(\u001b[0m\u001b[0mmessage\u001b[0m\u001b[1;33m,\u001b[0m \u001b[0mscreen\u001b[0m\u001b[1;33m,\u001b[0m \u001b[0mstacktrace\u001b[0m\u001b[1;33m)\u001b[0m\u001b[1;33m\u001b[0m\u001b[0m\n\u001b[0m\u001b[0;32m    243\u001b[0m \u001b[1;33m\u001b[0m\u001b[0m\n\u001b[0;32m    244\u001b[0m     \u001b[1;32mdef\u001b[0m \u001b[0m_value_or_default\u001b[0m\u001b[1;33m(\u001b[0m\u001b[0mself\u001b[0m\u001b[1;33m,\u001b[0m \u001b[0mobj\u001b[0m\u001b[1;33m,\u001b[0m \u001b[0mkey\u001b[0m\u001b[1;33m,\u001b[0m \u001b[0mdefault\u001b[0m\u001b[1;33m)\u001b[0m\u001b[1;33m:\u001b[0m\u001b[1;33m\u001b[0m\u001b[0m\n",
      "\u001b[1;31mNoSuchElementException\u001b[0m: Message: no such element: Unable to locate element: {\"method\":\"id\",\"selector\":\"search_term\"}\n  (Session info: chrome=67.0.3396.99)\n  (Driver info: chromedriver=2.40.565498 (ea082db3280dd6843ebfb08a625e3eb905c4f5ab),platform=Windows NT 10.0.17134 x86_64)\n"
     ]
    }
   ],
   "source": [
    "from selenium import webdriver\n",
    "from selenium.common.exceptions import NoSuchElementException\n",
    "from bs4 import BeautifulSoup\n",
    "\n",
    "driver = webdriver.Chrome(\"C:/chromedriver\") #웹드라이버 객체를 만들어준다.\n",
    "\n",
    "driver.get('https://www1.president.go.kr/petitions')\n",
    "#셀레늄 크롬 드라이버에서 해당 주소를 get해준다.\n",
    "driver.find_element_by_id(\"search_term\").send_keys(\"korea\") \n",
    "#search_term이라는 요소를 찾아서 \"korea\"를 보낸다.\n",
    "driver.find_element_by_id(\"search\").click()\n",
    "#'search'요소를 찾아서 클릭한다.\n",
    "\n",
    "\n",
    "peti_list = driver.find_elements_by_css_selector('.bl_body')\n",
    "peti_list[1].find_element_by_css_selector('.bl_subject')"
   ]
  },
  {
   "cell_type": "code",
   "execution_count": null,
   "metadata": {},
   "outputs": [],
   "source": []
  }
 ],
 "metadata": {
  "kernelspec": {
   "display_name": "Python 3",
   "language": "python",
   "name": "python3"
  },
  "language_info": {
   "codemirror_mode": {
    "name": "ipython",
    "version": 3
   },
   "file_extension": ".py",
   "mimetype": "text/x-python",
   "name": "python",
   "nbconvert_exporter": "python",
   "pygments_lexer": "ipython3",
   "version": "3.6.5"
  }
 },
 "nbformat": 4,
 "nbformat_minor": 2
}
